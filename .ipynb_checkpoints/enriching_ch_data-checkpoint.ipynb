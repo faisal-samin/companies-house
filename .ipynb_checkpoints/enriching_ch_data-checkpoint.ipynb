{
 "cells": [
  {
   "cell_type": "markdown",
   "metadata": {},
   "source": [
    "# Enriching Companies House data"
   ]
  },
  {
   "cell_type": "markdown",
   "metadata": {},
   "source": [
    "![title](Images/ch_screenshot.png)"
   ]
  },
  {
   "cell_type": "markdown",
   "metadata": {},
   "source": [
    "This notebook gives an overview on how business data from Companies House is imported, formatting and then enriched by exploiting various APIs and websites. Examples of applications include:\n",
    "-  Retrieving official company websites using Google Places API\n",
    "-  Scraping websites to get keywords to classify the industry of businesses.\n",
    "-  Obtaining social media accounts and handles for companies and then use these to get a proxy for their web presence (number of followers, likes etc.)"
   ]
  },
  {
   "cell_type": "markdown",
   "metadata": {},
   "source": [
    "## Importing data"
   ]
  },
  {
   "cell_type": "markdown",
   "metadata": {},
   "source": [
    "The Free Company Data Product is a downloadable data snapshot containing basic company data of live companies on the Companies House register, and is the principal dataset for this project. This is updated monthly and needs to be downloaded before importing as a pandas dataframe. First, we need to import some modules..."
   ]
  },
  {
   "cell_type": "markdown",
   "metadata": {},
   "source": [
    "### Modules"
   ]
  },
  {
   "cell_type": "markdown",
   "metadata": {},
   "source": [
    "-  Pandas: provide easy-to-use data structures in Python\n",
    "-  Numpy: provides fast and efficient multidimensional arrays, in addition to linear algebra and mathematical operations.\n",
    "-  Matplotlib: provides plot to visualise data"
   ]
  },
  {
   "cell_type": "code",
   "execution_count": null,
   "metadata": {
    "collapsed": true
   },
   "outputs": [],
   "source": [
    "import pandas as pd\n",
    "from pandas import DataFrame, Series\n",
    "import numpy as np\n",
    "\n",
    "import matplotlib.pyplot as plt\n",
    "# Increase figure and font sizes for easier viewing\n",
    "plt.rcParams['figure.figsize'] = (8, 6)\n",
    "plt.rcParams['font.size'] = 14"
   ]
  },
  {
   "cell_type": "markdown",
   "metadata": {},
   "source": [
    "### Loading and formatting Companies House dataset"
   ]
  },
  {
   "cell_type": "markdown",
   "metadata": {},
   "source": [
    "The latest version of the Free Company Data Product can be downloaded here. http://download.companieshouse.gov.uk/en_output.html. The zip file that is downloaded is approximately 300MB, and the raw CSV file around 2GB. Once downloaded, ensure that the data is saved in the root folder of this notebook (or amend directory as required)."
   ]
  },
  {
   "cell_type": "code",
   "execution_count": null,
   "metadata": {},
   "outputs": [],
   "source": [
    "# to-do: investigate warning on mixed data types\n",
    "# ch_raw = pd.read_csv('/Users/dataexploitationmac1/Desktop/Faisal/Datasets/BasicCompanyDataAsOneFile-2018-02-01.csv')\n",
    "ch_raw = pd.read_csv('/Users/fasamin/Desktop/DS/Datasets/BasicCompanyDataAsOneFile-2018-02-01.csv')"
   ]
  },
  {
   "cell_type": "code",
   "execution_count": null,
   "metadata": {
    "collapsed": true
   },
   "outputs": [],
   "source": [
    "# preview the data\n",
    "ch_raw.head(10) # first 10 rows "
   ]
  },
  {
   "cell_type": "code",
   "execution_count": null,
   "metadata": {
    "collapsed": true
   },
   "outputs": [],
   "source": [
    "# fields available\n",
    "ch_raw.columns"
   ]
  },
  {
   "cell_type": "code",
   "execution_count": null,
   "metadata": {
    "collapsed": true
   },
   "outputs": [],
   "source": [
    "# remove unnecessary columns for this project\n",
    "# why is copy() used? See explanation at link below:\n",
    "# https://stackoverflow.com/questions/27673231/why-should-i-make-a-copy-of-a-data-frame-in-pandas\n",
    "ch = ch_raw.iloc[:,[0,1,4,5,6,7,8,9,10,11,12,18,19,21,26,27,28,29]].copy()\n",
    "\n",
    "# rename columns\n",
    "ch.columns = ['name','crn','address1','address2','postTown','county','country', \\\n",
    "            'postcode','category','status','origin','accounts_lastMadeUpDate','accountCategory',\\\n",
    "            'returns_lastMadeUpDate','sic1','sic2','sic3','sic4']"
   ]
  },
  {
   "cell_type": "code",
   "execution_count": null,
   "metadata": {
    "collapsed": true
   },
   "outputs": [],
   "source": [
    "# format missing values\n",
    "ch.sic1.replace('None Supplied', np.NaN, inplace=True)\n",
    "ch = ch.dropna(subset=['name']) # delete rows with null business names (usually only a few values)"
   ]
  },
  {
   "cell_type": "code",
   "execution_count": null,
   "metadata": {
    "code_folding": [
     0
    ]
   },
   "outputs": [],
   "source": [
    "# Produce a range of key stats \n",
    "# Key stats\n",
    "print('---------')\n",
    "print('Number of businesses: %s' %len(ch))\n",
    "print('Missing SIC codes: %s' %ch.sic1.isnull().sum())\n",
    "sic_comp = (1.0 - (float(ch.sic1.isnull().sum())/len(ch)))*100\n",
    "print('SIC code completion: %.2f' %sic_comp + '%')\n",
    "post_comp = (1.0 - (float(ch.postcode.isnull().sum())/len(ch)))*100\n",
    "print('Postcode completion: %.2f' %post_comp + '%')\n",
    "print('---------')\n",
    "print('Category breakdown (top 5)')\n",
    "print('')\n",
    "print(ch.category.value_counts().head())\n",
    "print('---------')\n",
    "print('Account category (top 5)')\n",
    "print('')\n",
    "print(ch.accountCategory.value_counts().head())\n",
    "print('---------')\n",
    "print('Geographical breakdown (top 5)')\n",
    "print('')\n",
    "print(ch.origin.value_counts().head())\n",
    "print('---------')\n",
    "print('SIC code breakdown (top 5)')\n",
    "print('')\n",
    "print(ch.sic1.value_counts().head())"
   ]
  },
  {
   "cell_type": "markdown",
   "metadata": {
    "collapsed": true
   },
   "source": [
    "### Data exploration"
   ]
  },
  {
   "cell_type": "markdown",
   "metadata": {},
   "source": [
    "Some pandas commands to explore the dataset, including setting up a function to find companies."
   ]
  },
  {
   "cell_type": "code",
   "execution_count": null,
   "metadata": {
    "collapsed": true
   },
   "outputs": [],
   "source": [
    "ch.dtypes # types of each column - all objects"
   ]
  },
  {
   "cell_type": "code",
   "execution_count": null,
   "metadata": {
    "collapsed": true
   },
   "outputs": [],
   "source": [
    "def find_company(name):\n",
    "    '''\n",
    "    Searches companies house dataset for company name which include the given input which must be a string.\n",
    "    '''\n",
    "    name = name.lower()\n",
    "    n = ch.name.str.lower().str.contains(name)\n",
    "    x = input(str(n.sum()) + ' companies found. See list of companies? Y or N? ')\n",
    "    if x.lower() == 'y':\n",
    "        return ch[n]\n",
    "    else:\n",
    "        return True"
   ]
  },
  {
   "cell_type": "code",
   "execution_count": null,
   "metadata": {
    "collapsed": true
   },
   "outputs": [],
   "source": [
    "find_company('Burberry') # testing function on a few cases "
   ]
  },
  {
   "cell_type": "code",
   "execution_count": null,
   "metadata": {
    "collapsed": true
   },
   "outputs": [],
   "source": [
    "find_company('Dyson')"
   ]
  },
  {
   "cell_type": "markdown",
   "metadata": {},
   "source": [
    "Exploring SIC codes..."
   ]
  },
  {
   "cell_type": "code",
   "execution_count": null,
   "metadata": {
    "collapsed": true
   },
   "outputs": [],
   "source": [
    "ch.sic1.describe() # counts occurences and unique values"
   ]
  },
  {
   "cell_type": "markdown",
   "metadata": {},
   "source": [
    "Sorting by the top 20 SIC codes shows that some of these are not very descriptive. Top of the list is 'Other business support service activities n.e.c'. Third is 'Dormant Company' and this is followed by 'Other service activities n.e.c'."
   ]
  },
  {
   "cell_type": "code",
   "execution_count": null,
   "metadata": {
    "collapsed": true,
    "scrolled": true
   },
   "outputs": [],
   "source": [
    "ch.sic1.value_counts().head(20) # sort by top 20 sic codes"
   ]
  },
  {
   "cell_type": "code",
   "execution_count": null,
   "metadata": {
    "collapsed": true
   },
   "outputs": [],
   "source": [
    "ch.sic1.value_counts().head(30).plot() # shows skew of top categories\n",
    "plt.show()"
   ]
  },
  {
   "cell_type": "markdown",
   "metadata": {},
   "source": [
    "Checking if company reference numbers are unique"
   ]
  },
  {
   "cell_type": "code",
   "execution_count": null,
   "metadata": {
    "collapsed": true
   },
   "outputs": [],
   "source": [
    "ch.crn.describe() # all crns are unique"
   ]
  },
  {
   "cell_type": "code",
   "execution_count": null,
   "metadata": {
    "collapsed": true
   },
   "outputs": [],
   "source": [
    "ch.crn.isnull().sum() # 0"
   ]
  },
  {
   "cell_type": "markdown",
   "metadata": {},
   "source": [
    "Exploring the address data"
   ]
  },
  {
   "cell_type": "code",
   "execution_count": null,
   "metadata": {
    "collapsed": true
   },
   "outputs": [],
   "source": [
    "ch.head() # reminder of the address fields"
   ]
  },
  {
   "cell_type": "code",
   "execution_count": null,
   "metadata": {
    "collapsed": true
   },
   "outputs": [],
   "source": [
    "ch.address1.describe() # 1.6 million unique address"
   ]
  },
  {
   "cell_type": "code",
   "execution_count": null,
   "metadata": {
    "collapsed": true
   },
   "outputs": [],
   "source": [
    "ch.address1.isnull().sum() # 27K null addresses"
   ]
  },
  {
   "cell_type": "code",
   "execution_count": null,
   "metadata": {
    "collapsed": true
   },
   "outputs": [],
   "source": [
    "ch.postTown.isnull().sum() # 93K missing town names"
   ]
  },
  {
   "cell_type": "code",
   "execution_count": null,
   "metadata": {
    "collapsed": true
   },
   "outputs": [],
   "source": [
    "ch.postcode.isnull().sum() # 52K missing post codes"
   ]
  },
  {
   "cell_type": "markdown",
   "metadata": {},
   "source": [
    "### Export formatted dataset"
   ]
  },
  {
   "cell_type": "code",
   "execution_count": null,
   "metadata": {
    "collapsed": true
   },
   "outputs": [],
   "source": [
    "# Export dataset, named after MMYY of ch data\n",
    "ch.to_csv('ch_2018-02.csv',index=False)"
   ]
  },
  {
   "cell_type": "markdown",
   "metadata": {},
   "source": [
    "Optional: remove non-UK companies "
   ]
  },
  {
   "cell_type": "code",
   "execution_count": null,
   "metadata": {
    "collapsed": true
   },
   "outputs": [],
   "source": [
    "ch_uk = ch[ch['origin'].isin(['United Kingdom','Great Britain','UNITED KINGDOM','GREAT BRITAIN','ENGLAND & WALES','UK'])]\n",
    "ch_uk.reset_index(inplace=True)\n",
    "ch_uk.to_csv('ch_2018-02_uk.csv',index=False)"
   ]
  },
  {
   "cell_type": "markdown",
   "metadata": {},
   "source": [
    "## Scraping data from Google Search Results"
   ]
  },
  {
   "cell_type": "markdown",
   "metadata": {},
   "source": [
    "This section goes through the process of running google searches of business names in Companies House, scraping text from the results, and then returning a wordcloud of text from the first page of results.\n",
    "\n",
    "The code below builds up the code for functions that run searches and produce\n",
    "worldclouds as follows:\n",
    "\n",
    "cloud(keyWords(search('Company Name')))\n",
    "\n",
    "- search(string): returns a list of URLs from Google for the given term\n",
    "- keyWords(list): screen-scrapes all visible text from the given list of URLs, and cleans\n",
    "- cloud(string): after removing a given list of stopwords, produces a wordcloud"
   ]
  },
  {
   "cell_type": "markdown",
   "metadata": {},
   "source": [
    "### Importing further modules and data"
   ]
  },
  {
   "cell_type": "code",
   "execution_count": null,
   "metadata": {
    "collapsed": true
   },
   "outputs": [],
   "source": [
    "import webbrowser # to open web links\n",
    "import nltk # natural language toolkit\n",
    "from nltk.corpus import stopwords # Import the stop word list, may require download\n",
    "# WordCloud modules\n",
    "from wordcloud import WordCloud, STOPWORDS\n",
    "\n",
    "import re # regular expressions \n",
    "from time import sleep # to pause web-scraper\n",
    "import requests # allows you to send HTTP requests via Python\n",
    "from bs4 import BeautifulSoup # beautiful soup for parsing of HTML"
   ]
  },
  {
   "cell_type": "markdown",
   "metadata": {},
   "source": [
    "Read in formatted CH dataset if starting a new session. We'll refer to this at the end of the section after we've built up our tools to scrape and clean website text."
   ]
  },
  {
   "cell_type": "code",
   "execution_count": null,
   "metadata": {
    "collapsed": true
   },
   "outputs": [],
   "source": [
    "ch = pd.read_csv('ch_2018-02.csv')"
   ]
  },
  {
   "cell_type": "markdown",
   "metadata": {},
   "source": [
    "### Returning links for a Google Search term"
   ]
  },
  {
   "cell_type": "markdown",
   "metadata": {},
   "source": [
    "First, we need to build some functionality to scrape the search results returned by Google."
   ]
  },
  {
   "cell_type": "code",
   "execution_count": null,
   "metadata": {
    "collapsed": true
   },
   "outputs": [],
   "source": [
    "# Set business search term as an example\n",
    "biz = 'DYSON LIMITED'"
   ]
  },
  {
   "cell_type": "code",
   "execution_count": null,
   "metadata": {
    "collapsed": true
   },
   "outputs": [],
   "source": [
    "# Read HTML\n",
    "html = requests.get('https://www.google.co.uk/search?q='+ biz)\n",
    "# Parse HTML into a BeautifulSoup object\n",
    "soup = BeautifulSoup(html.content, 'html5lib')"
   ]
  },
  {
   "cell_type": "code",
   "execution_count": null,
   "metadata": {
    "collapsed": true
   },
   "outputs": [],
   "source": [
    "# Get all links and put into list\n",
    "list_of_links = []\n",
    "for link in soup.find_all('a'):\n",
    "    list_of_links.append(link.get('href'))"
   ]
  },
  {
   "cell_type": "code",
   "execution_count": null,
   "metadata": {
    "collapsed": true,
    "scrolled": true
   },
   "outputs": [],
   "source": [
    "print(list_of_links) # needs cleaning up "
   ]
  },
  {
   "cell_type": "code",
   "execution_count": null,
   "metadata": {
    "collapsed": true
   },
   "outputs": [],
   "source": [
    "# Cleaning up results\n",
    "links = DataFrame({'urls':list_of_links}) #turn list into DF\n",
    "links = links[links.urls.str.contains('/url?')] #Only search results"
   ]
  },
  {
   "cell_type": "code",
   "execution_count": null,
   "metadata": {
    "collapsed": true
   },
   "outputs": [],
   "source": [
    "# remove cached sites\n",
    "links = links[links.urls.str.contains('webcache.googleusercontent') == False]"
   ]
  },
  {
   "cell_type": "code",
   "execution_count": null,
   "metadata": {
    "collapsed": true
   },
   "outputs": [],
   "source": [
    "# remove opening url?q= string\n",
    "links = links.urls.str.replace('/url\\?q=',\"\")\n",
    "# after this, you don't need to call list anymore on the column"
   ]
  },
  {
   "cell_type": "code",
   "execution_count": null,
   "metadata": {
    "collapsed": true
   },
   "outputs": [],
   "source": [
    "# remove suffixed &sa bit by splitting and drop index\n",
    "links = links.str.split('&sa',1).reset_index().drop('index',1)\n",
    "# this is now a dataframe"
   ]
  },
  {
   "cell_type": "code",
   "execution_count": null,
   "metadata": {
    "collapsed": true
   },
   "outputs": [],
   "source": [
    "# use iterrows to grab first entry in each list which should be the working url\n",
    "links_cleaned = []\n",
    "for row in links.iterrows():\n",
    "    links_cleaned.append(row[1][0][0])"
   ]
  },
  {
   "cell_type": "code",
   "execution_count": null,
   "metadata": {
    "collapsed": true
   },
   "outputs": [],
   "source": [
    "# convert to dataframe\n",
    "links_cleaned = DataFrame(links_cleaned)"
   ]
  },
  {
   "cell_type": "markdown",
   "metadata": {},
   "source": [
    "We can now bring this together in one function. Note that we're screen-scraping from Google Search results so we'll need to be careful to not overload Google with search requests in quick succession (and potentially get our IP blocked)."
   ]
  },
  {
   "cell_type": "code",
   "execution_count": null,
   "metadata": {
    "code_folding": [
     0
    ],
    "collapsed": true
   },
   "outputs": [],
   "source": [
    "def search_google(business_name):\n",
    "    '''\n",
    "    Takes in a business name and returns the links returned in the first page of Google Search results\n",
    "    '''\n",
    "    # Read HTML\n",
    "    html = requests.get('https://www.google.co.uk/search?q='+business_name)\n",
    "    # Parse HTML into a BeautifulSoup object\n",
    "    soup = BeautifulSoup(html.content, 'html5lib')\n",
    "\n",
    "    # Get all links and put into list\n",
    "    list_of_links = []\n",
    "    for link in soup.find_all('a'):\n",
    "        list_of_links.append(link.get('href'))\n",
    "\n",
    "    # Cleaning up results\n",
    "    links = DataFrame({'urls':list_of_links}) #turn list into DF\n",
    "    links = links[links.urls.str.contains('/url?')] #Only search results\n",
    "    \n",
    "    # remove cached sites\n",
    "    links = links[links.urls.str.contains('webcache.googleusercontent') == False]\n",
    "\n",
    "    # remove opening url?q= string\n",
    "    links = links.urls.str.replace('/url\\?q=',\"\")\n",
    "    # after this, you don't need to call list anymore on the column\n",
    "\n",
    "    # remove suffixed &sa bit by splitting and drop index\n",
    "    links = links.str.split('&sa',1).reset_index().drop('index',1)\n",
    "    # this is now a dataframe\n",
    "\n",
    "    # use iterrows to grab first entry in each list which should be the working url\n",
    "    links_cleaned = []\n",
    "    for row in links.iterrows():\n",
    "        links_cleaned.append(row[1][0][0])\n",
    "        \n",
    "    # convert to dataframe\n",
    "    links_cleaned = DataFrame(links_cleaned)\n",
    "\n",
    "    return links_cleaned[0]"
   ]
  },
  {
   "cell_type": "code",
   "execution_count": null,
   "metadata": {
    "collapsed": true,
    "scrolled": true
   },
   "outputs": [],
   "source": [
    "burberry_links = search_google('burberry limited')"
   ]
  },
  {
   "cell_type": "code",
   "execution_count": null,
   "metadata": {
    "collapsed": true
   },
   "outputs": [],
   "source": [
    "# use webbrowser library to open all links in browser (if needed)\n",
    "for link in burberry_links:\n",
    "    webbrowser.open(link)"
   ]
  },
  {
   "cell_type": "markdown",
   "metadata": {},
   "source": [
    "### Extract key text from company websites "
   ]
  },
  {
   "cell_type": "markdown",
   "metadata": {},
   "source": [
    "Now that we've got the functionality to return links from Google search results, we want to navigate to each link, scrape and format the text to find words with explanatory value after removing stopwords and other standard website text. Let's use the Dyson website as an example. "
   ]
  },
  {
   "cell_type": "code",
   "execution_count": null,
   "metadata": {
    "collapsed": true
   },
   "outputs": [],
   "source": [
    "dyson_links = search_google('Dyson Limited')"
   ]
  },
  {
   "cell_type": "code",
   "execution_count": null,
   "metadata": {
    "collapsed": true
   },
   "outputs": [],
   "source": [
    "# Inspecting the first search result\n",
    "# Read HTML\n",
    "html = requests.get(dyson_links[0])\n",
    "# Parse HTML into a BeautifulSoup object\n",
    "soup = BeautifulSoup(html.content, 'html5lib')"
   ]
  },
  {
   "cell_type": "code",
   "execution_count": null,
   "metadata": {
    "collapsed": true
   },
   "outputs": [],
   "source": [
    "# Extracting text from key html sections\n",
    "[s.extract() for s in soup(['style', 'script', '[document]', 'head', 'title'])]"
   ]
  },
  {
   "cell_type": "code",
   "execution_count": null,
   "metadata": {
    "collapsed": true
   },
   "outputs": [],
   "source": [
    "# Get all visible text\n",
    "text = soup.getText().encode('ascii','ignore')"
   ]
  },
  {
   "cell_type": "markdown",
   "metadata": {},
   "source": [
    "We want to clean up this text by removing HTML tags and new line indicators. "
   ]
  },
  {
   "cell_type": "code",
   "execution_count": null,
   "metadata": {
    "collapsed": true
   },
   "outputs": [],
   "source": [
    "text_r = str(text).replace('\\\\n','').replace('\\\\t','').replace('\\\\r','')\n",
    "print(text_r)"
   ]
  },
  {
   "cell_type": "code",
   "execution_count": null,
   "metadata": {
    "code_folding": [],
    "collapsed": true
   },
   "outputs": [],
   "source": [
    "def stripsymbols(text):\n",
    "    '''\n",
    "    Use regular expressions to do a find-and-replace of HTML text.\n",
    "    Function found online\n",
    "    '''\n",
    "    text = str(text)\n",
    "    x = re.sub(\"(@[A-Za-z0-9]+)|([^0-9A-Za-z \\t])|(\\w+:\\/\\/\\S+)\",\" \",text)\n",
    "    x = re.sub('/(^|\\b)@\\S*($|\\b)/',\" \",x)\n",
    "    x = re.sub('/(^|\\b)#\\S*($|\\b)/',\" \",x)\n",
    "    x = re.sub(\"[^a-zA-Z]\",\" \",x)\n",
    "    x = re.sub(r\"(?:\\@|https?\\://)\\S+\", \" \",x)\n",
    "    return x"
   ]
  },
  {
   "cell_type": "code",
   "execution_count": null,
   "metadata": {
    "collapsed": true
   },
   "outputs": [],
   "source": [
    "text_stripped = stripsymbols(text_r)\n",
    "print(text_stripped)"
   ]
  },
  {
   "cell_type": "markdown",
   "metadata": {},
   "source": [
    "Getting better! The final step is remove stop words by invoking the Natural Language Toolkit Library we imported earlier. Let's see what kind of stop words are classified in the library. "
   ]
  },
  {
   "cell_type": "code",
   "execution_count": null,
   "metadata": {
    "collapsed": true
   },
   "outputs": [],
   "source": [
    "print(stopwords.words('English'))"
   ]
  },
  {
   "cell_type": "markdown",
   "metadata": {},
   "source": [
    "We can create a function to remove stopwords from website text."
   ]
  },
  {
   "cell_type": "code",
   "execution_count": null,
   "metadata": {
    "collapsed": true
   },
   "outputs": [],
   "source": [
    "def removeStopWords(text):\n",
    "    '''\n",
    "    Remove stopwords from given text string\n",
    "    '''\n",
    "    words = [w for w in text if not w in stopwords.words(\"english\")]\n",
    "    return words"
   ]
  },
  {
   "cell_type": "code",
   "execution_count": null,
   "metadata": {
    "collapsed": true
   },
   "outputs": [],
   "source": [
    "# Prepare text for function by (a) changing to lowercase (2) remove whitespace from beginning and end \n",
    "# (3) splitting the text to create a list of individual wordsvisible_text_stripped.lower().strip().split() \n",
    "text_stripped_split = text_stripped.lower().strip().split()\n",
    "text_stripped_split"
   ]
  },
  {
   "cell_type": "markdown",
   "metadata": {},
   "source": [
    "Finally, running this through the removeStopWords function gives us something in a much better shape than the original text. "
   ]
  },
  {
   "cell_type": "code",
   "execution_count": null,
   "metadata": {
    "collapsed": true
   },
   "outputs": [],
   "source": [
    "text_cleaned = removeStopWords(text_stripped_split)\n",
    "text_cleaned"
   ]
  },
  {
   "cell_type": "markdown",
   "metadata": {},
   "source": [
    "Wrapping this all up into a function..."
   ]
  },
  {
   "cell_type": "code",
   "execution_count": null,
   "metadata": {
    "collapsed": true
   },
   "outputs": [],
   "source": [
    "def cleantext(text):\n",
    "    text_r = str(text).replace('\\\\n','').replace('\\\\t','').replace('\\\\r','')\n",
    "    text_stripped = stripsymbols(text_r)\n",
    "    text_stripped_split = text_stripped.lower().strip().split()\n",
    "    text_cleaned = removeStopWords(text_stripped_split)\n",
    "    return ' '.join(text_cleaned) # returns a joined list of the remaining words "
   ]
  },
  {
   "cell_type": "code",
   "execution_count": null,
   "metadata": {
    "collapsed": true
   },
   "outputs": [],
   "source": [
    "dyson_cleaned = cleantext(text) # example of a function\n",
    "dyson_cleaned"
   ]
  },
  {
   "cell_type": "markdown",
   "metadata": {},
   "source": [
    "### Using the Natural Language Toolkit to tokenise and tag words"
   ]
  },
  {
   "cell_type": "markdown",
   "metadata": {},
   "source": [
    "Another feature of the Natural Language Toolkit we can exploit is the ability to tag words and categorise them into their 'parts of speech' (i.e. nouns, verbs, adverbs). Perhaps this can be used to tag words from the scraped text, and retrieve nouns under the assumption that they provide the greatest explanatory power.\n",
    "\n",
    "Let's test this with the scraped text from the previous section."
   ]
  },
  {
   "cell_type": "code",
   "execution_count": null,
   "metadata": {
    "collapsed": true
   },
   "outputs": [],
   "source": [
    "dyson_cleaned"
   ]
  },
  {
   "cell_type": "code",
   "execution_count": null,
   "metadata": {
    "collapsed": true
   },
   "outputs": [],
   "source": [
    "tokens = nltk.word_tokenize(dyson_cleaned) # tokenize (split) the string\n",
    "print(tokens)"
   ]
  },
  {
   "cell_type": "markdown",
   "metadata": {},
   "source": [
    "The tags bellow are given according to the Penn Treebank Project here: https://www.ling.upenn.edu/courses/Fall_2003/ling001/penn_treebank_pos.html\n",
    "\n",
    "The results are quite interesting. Words like 'vacuums', 'cylinders', 'robot' and 'dryers' are correctly given as nouns. However, some words are double-tagged. For instance, 'dyson' is given as a verb as well as a noun. 'Airblade' is given as a past-tense verb. \n",
    "\n",
    "From this example alone, filtering on nouns would yield the best results."
   ]
  },
  {
   "cell_type": "code",
   "execution_count": null,
   "metadata": {
    "collapsed": true
   },
   "outputs": [],
   "source": [
    "tagged = nltk.pos_tag(tokens) # categorise words according to their parts of speech\n",
    "print(tagged)"
   ]
  },
  {
   "cell_type": "code",
   "execution_count": null,
   "metadata": {
    "collapsed": true
   },
   "outputs": [],
   "source": [
    "# Keep nouns only\n",
    "tagged_nouns = \" \".join([word[0] for word in tagged if word[1] in ['NNS','NN']])\n",
    "tagged_nouns"
   ]
  },
  {
   "cell_type": "code",
   "execution_count": null,
   "metadata": {
    "collapsed": true
   },
   "outputs": [],
   "source": [
    "# Difference in list sizes - 1,352 removed words (out of 3,767)\n",
    "len(dyson_cleaned) - len(tagged_nouns)"
   ]
  },
  {
   "cell_type": "markdown",
   "metadata": {},
   "source": [
    "### Master function and wordclouds"
   ]
  },
  {
   "cell_type": "markdown",
   "metadata": {},
   "source": [
    "Let's collect everything we've built in Section 2 and build our final master functions."
   ]
  },
  {
   "cell_type": "code",
   "execution_count": null,
   "metadata": {
    "collapsed": true
   },
   "outputs": [],
   "source": [
    "def key_words(list_of_urls):\n",
    "    '''\n",
    "    From the given list of urls, this function scrapes, cleans (removing symbols and non-nouns)\n",
    "    and gathers all text into a single string\n",
    "    '''\n",
    "    \n",
    "    words_cleaned = '' # Set up empty string\n",
    "    \n",
    "    for website in list_of_urls:\n",
    "        # try / except for troublesome websites\n",
    "        try:\n",
    "            html = requests.get(website)\n",
    "            soup = BeautifulSoup(html.content, 'html5lib')\n",
    "            [s.extract() for s in soup(['style', 'script', '[document]', 'head', 'title'])]\n",
    "            visibleText = soup.getText().encode('ascii','ignore')\n",
    "            words_cleaned += cleantext(visibleText) # Calling the function we built earlier \n",
    "        except:\n",
    "            continue\n",
    "            \n",
    "    # Tokenize and tag words\n",
    "    tokens = nltk.word_tokenize(words_cleaned)\n",
    "    tagged = nltk.pos_tag(tokens)\n",
    "\n",
    "    # Keep nouns only\n",
    "    keywords = \" \".join([word[0] for word in tagged if word[1] in ['NNS','NN']])\n",
    "    return keywords"
   ]
  },
  {
   "cell_type": "code",
   "execution_count": null,
   "metadata": {
    "collapsed": true
   },
   "outputs": [],
   "source": [
    "key_words(search_google('Dyson Limited')) # testing on an example - takes a few seconds to run"
   ]
  },
  {
   "cell_type": "markdown",
   "metadata": {},
   "source": [
    "This is best visualised in a word cloud..."
   ]
  },
  {
   "cell_type": "code",
   "execution_count": null,
   "metadata": {
    "collapsed": true
   },
   "outputs": [],
   "source": [
    "def cloud(words):\n",
    "    '''\n",
    "    Function that takes in a string and produces a word cloud\n",
    "    '''\n",
    "    wordcloud = WordCloud(stopwords=STOPWORDS,\n",
    "                          background_color='black',\n",
    "                          width=1800,\n",
    "                          height=1400\n",
    "                         ).generate(words)\n",
    "\n",
    "    plt.imshow(wordcloud)\n",
    "    plt.axis('off')\n",
    "    plt.show()\n",
    "    return wordcloud"
   ]
  },
  {
   "cell_type": "code",
   "execution_count": null,
   "metadata": {
    "collapsed": true
   },
   "outputs": [],
   "source": [
    "cloud(key_words(search_google('Royal Dutch Shell'))) # can take upto a minute to run"
   ]
  },
  {
   "cell_type": "code",
   "execution_count": null,
   "metadata": {
    "collapsed": true
   },
   "outputs": [],
   "source": [
    "cloud(key_words(search_google('BT Group PLC')))"
   ]
  },
  {
   "cell_type": "markdown",
   "metadata": {},
   "source": [
    "There is a lot of scope to improve this. Certain terms from websites that commonly re-occur can be filtered out by updating the stopwords set as follows."
   ]
  },
  {
   "cell_type": "code",
   "execution_count": null,
   "metadata": {
    "collapsed": true
   },
   "outputs": [],
   "source": [
    "# ways to improve this: list of common names, weights and quantities, months and dates,\n",
    "\n",
    "custom_words = ['sun','new','showbiz','tv','uk','john','lewis','partnership','offers','store',\n",
    "'business','company','stores','shop','department','partner','street','london','partners','peter',\n",
    "'jones','duration', 'views', 'minutes', 'month', 'version', 'system','tesco','september','privacy',\n",
    "'policy','customer','service','home', 'company', 'london', 'price', 'offer', 'customer',\n",
    "'service', 'home', 'year', 'london', 'day', 'march', 'business', 'shop','item','level','logo','menu',\n",
    "'account','co','road','centre']\n",
    "\n",
    "\n",
    "#STOPWORDS is a set, so need to use update method\n",
    "STOPWORDS.update(custom_words)"
   ]
  },
  {
   "cell_type": "markdown",
   "metadata": {},
   "source": [
    "## Connecting to Google Places API"
   ]
  },
  {
   "cell_type": "markdown",
   "metadata": {},
   "source": [
    "We've relied on Google Search results to hopefully get websites that relate to a company term. However, the Google Places API can be linked to with a company's name and postcode and used to retrieve the company website and other details. \n",
    "\n",
    "Information from Google Places is displayed for certain businesses and places of interest as shown below."
   ]
  },
  {
   "cell_type": "markdown",
   "metadata": {},
   "source": [
    "![title](Images/google_places_screenshot.png)"
   ]
  },
  {
   "cell_type": "markdown",
   "metadata": {},
   "source": [
    "### Modules and setup"
   ]
  },
  {
   "cell_type": "markdown",
   "metadata": {},
   "source": [
    "We begin as usual by importing the required modules"
   ]
  },
  {
   "cell_type": "code",
   "execution_count": null,
   "metadata": {},
   "outputs": [],
   "source": [
    "import pandas as pd\n",
    "import numpy as np\n",
    "from lib import PostCodeClient # pip install postcode.io\n",
    "import requests\n",
    "from time import sleep # to pause requests when web-scraping"
   ]
  },
  {
   "cell_type": "markdown",
   "metadata": {},
   "source": [
    "Google Places API requests can be called with the requests package. By default, you'll be able to send 1,000 requests per day but this can be increased free of charge, up to 150,000 requests per 24 hour period, by enabling billing on the Google API Console to verify your identity. Check quota here (after registering): http://code.google.com/apis/console"
   ]
  },
  {
   "cell_type": "code",
   "execution_count": null,
   "metadata": {},
   "outputs": [],
   "source": [
    "YOUR_API_KEY = '' # enter API key which you'll receive from Google "
   ]
  },
  {
   "cell_type": "markdown",
   "metadata": {},
   "source": [
    "Check documentation here for info on the various Google Places APIs: https://developers.google.com/places/web-service/"
   ]
  },
  {
   "cell_type": "markdown",
   "metadata": {},
   "source": [
    "Let's use the postcode for London Eye as an example: SE1 7PB. We'll need to input the longitude and latitude for this"
   ]
  },
  {
   "cell_type": "code",
   "execution_count": null,
   "metadata": {
    "collapsed": true
   },
   "outputs": [],
   "source": [
    "postcode = 'SE1 7PB'"
   ]
  },
  {
   "cell_type": "code",
   "execution_count": null,
   "metadata": {
    "collapsed": true
   },
   "outputs": [],
   "source": [
    "html = requests.get(\"http://api.postcodes.io/postcodes/\" + postcode)\n",
    "html.json()"
   ]
  },
  {
   "cell_type": "code",
   "execution_count": null,
   "metadata": {},
   "outputs": [],
   "source": [
    "lat = html.json()['result']['latitude']\n",
    "lon = html.json()['result']['longitude']\n",
    "lat, lon"
   ]
  },
  {
   "cell_type": "markdown",
   "metadata": {},
   "source": [
    "### Nearby search"
   ]
  },
  {
   "cell_type": "markdown",
   "metadata": {},
   "source": [
    "A Nearby Search lets you search for places within a specified area. You can refine your search request by supplying keywords or specifying the type of place you are searching for. A nearby search request is an HTML URL of the following form:"
   ]
  },
  {
   "cell_type": "markdown",
   "metadata": {},
   "source": [
    "https://maps.googleapis.com/maps/api/place/nearbysearch/json?location=-33.8670522,151.1957362&radius=500&type=restaurant&keyword=cruise&key=YOUR_API_KEY"
   ]
  },
  {
   "cell_type": "markdown",
   "metadata": {},
   "source": [
    "Using the London Eye as an example:"
   ]
  },
  {
   "cell_type": "code",
   "execution_count": null,
   "metadata": {
    "collapsed": true
   },
   "outputs": [],
   "source": [
    "london_eye = requests.get('https://maps.googleapis.com/maps/api/place/nearbysearch/json?location=' + \\\n",
    "                          str(lat) + ',' + str(lon)  + '&' + 'keyword=London+Eye' + '&' + \\\n",
    "                          'rankby=distance' + '&' + \\\n",
    "                          'key=' + str(YOUR_API_KEY))\n",
    "london_eye.json()"
   ]
  },
  {
   "cell_type": "markdown",
   "metadata": {},
   "source": [
    "Exploring the json() file..."
   ]
  },
  {
   "cell_type": "code",
   "execution_count": null,
   "metadata": {
    "collapsed": true
   },
   "outputs": [],
   "source": [
    "london_eye.json()['results'] # list of results\n"
   ]
  },
  {
   "cell_type": "code",
   "execution_count": null,
   "metadata": {
    "scrolled": true
   },
   "outputs": [],
   "source": [
    "london_eye.json()['results'][0]['name'] # name of place"
   ]
  },
  {
   "cell_type": "code",
   "execution_count": null,
   "metadata": {},
   "outputs": [],
   "source": [
    "le_id = london_eye.json()['results'][0]['place_id'] # id of location \n",
    "le_id"
   ]
  },
  {
   "cell_type": "markdown",
   "metadata": {},
   "source": [
    "Now that we've got the id, we can get the website from the text search API."
   ]
  },
  {
   "cell_type": "markdown",
   "metadata": {},
   "source": [
    "Before leaving this section, let's build a helper function that returns the location id from a given set of parameters. We'll need to call upon this function later."
   ]
  },
  {
   "cell_type": "code",
   "execution_count": null,
   "metadata": {
    "collapsed": true
   },
   "outputs": [],
   "source": [
    "def nearby_search(lat,lon,keyword,api_key):\n",
    "    '''\n",
    "    input: latitude and longitude (floats), api_key for Google Places (string)\n",
    "    output: location_id of place closest to co-ordinates and that matches the keyword\n",
    "    if the company is not found, then a message will be given\n",
    "    '''\n",
    "    \n",
    "    # feed parameters to html \n",
    "    html = requests.get('https://maps.googleapis.com/maps/api/place/nearbysearch/json?location=' + \\\n",
    "                        str(lat) + ',' + str(lon)  + '&' + 'keyword=' + keyword + '&' + \\\n",
    "                        'rankby=distance' + '&' + 'key=' + str(api_key))\n",
    "        \n",
    "    # Error message if location not found\n",
    "    try: \n",
    "        place_id = html.json()['results'][0]['place_id']\n",
    "    \n",
    "    except:\n",
    "        return 'Location not found'\n",
    "    \n",
    "    # return entire json for testing\n",
    "    # return html.json()\n",
    "    \n",
    "    return place_id"
   ]
  },
  {
   "cell_type": "code",
   "execution_count": null,
   "metadata": {},
   "outputs": [],
   "source": [
    "# testing the function\n",
    "nearby_search(51.5028202620979,-0.119252376858172,'London Eye',YOUR_API_KEY) # correct"
   ]
  },
  {
   "cell_type": "code",
   "execution_count": null,
   "metadata": {
    "scrolled": true
   },
   "outputs": [],
   "source": [
    "# Returns a KFC about 1 mile from the London Eye. Since we can't restrict radius with the rankby parameter, \n",
    "# depending on how strict the business name matching is, we run the risk of mismatches\n",
    "nearby_search(51.5028202620979,-0.119252376858172,'KFC',YOUR_API_KEY)"
   ]
  },
  {
   "cell_type": "code",
   "execution_count": null,
   "metadata": {},
   "outputs": [],
   "source": [
    "nearby_search(51.5028202620979,-0.119252376858172,'London',YOUR_API_KEY) # returns 'London' - the entire city?"
   ]
  },
  {
   "cell_type": "code",
   "execution_count": null,
   "metadata": {},
   "outputs": [],
   "source": [
    "nearby_search(51.5028202620979,-0.119252376858172,'Eye',YOUR_API_KEY) # Specsavers in the Strand"
   ]
  },
  {
   "cell_type": "code",
   "execution_count": null,
   "metadata": {},
   "outputs": [],
   "source": [
    "nearby_search(51.5028202620979,-0.119252376858172,'Wheel',YOUR_API_KEY) # Kwik-fit in Elephant & Castle"
   ]
  },
  {
   "cell_type": "code",
   "execution_count": null,
   "metadata": {
    "scrolled": true
   },
   "outputs": [],
   "source": [
    "nearby_search(51.5028202620979,-0.119252376858172,'Ferris Wheel',YOUR_API_KEY) # Correct - London Eye"
   ]
  },
  {
   "cell_type": "code",
   "execution_count": null,
   "metadata": {},
   "outputs": [],
   "source": [
    "nearby_search(50.547036619931,-3.49639521511686,'R.B.W. DEVELOPMENTS LTD.',YOUR_API_KEY) # Testing sample"
   ]
  },
  {
   "cell_type": "markdown",
   "metadata": {},
   "source": [
    "### Place search"
   ]
  },
  {
   "cell_type": "markdown",
   "metadata": {},
   "source": [
    "Link here: https://developers.google.com/places/web-service/details"
   ]
  },
  {
   "cell_type": "markdown",
   "metadata": {},
   "source": [
    "Once you have a place_id from a Place Search, you can request more details about a particular establishment or point of interest by initiating a Place Details request. A Place Details request returns more comprehensive information about the indicated place such as its complete address, phone number, user rating and reviews. A Place Details request is an HTTP URL of the following form:"
   ]
  },
  {
   "cell_type": "code",
   "execution_count": null,
   "metadata": {
    "collapsed": true
   },
   "outputs": [],
   "source": [
    "https://maps.googleapis.com/maps/api/place/details/output?parameters"
   ]
  },
  {
   "cell_type": "markdown",
   "metadata": {},
   "source": [
    "Calling this on the London Eye place id.."
   ]
  },
  {
   "cell_type": "code",
   "execution_count": null,
   "metadata": {
    "collapsed": true
   },
   "outputs": [],
   "source": [
    "london_eye_website = requests.get('https://maps.googleapis.com/maps/api/place/details/json?' + \\\n",
    "                    'placeid=' + le_id + '&' + 'key=' + str(YOUR_API_KEY))"
   ]
  },
  {
   "cell_type": "code",
   "execution_count": null,
   "metadata": {
    "collapsed": true
   },
   "outputs": [],
   "source": [
    "london_eye_website.json()['result'] # list of results"
   ]
  },
  {
   "cell_type": "code",
   "execution_count": null,
   "metadata": {},
   "outputs": [],
   "source": [
    "london_eye_website.json()['result']['formatted_address']"
   ]
  },
  {
   "cell_type": "code",
   "execution_count": null,
   "metadata": {},
   "outputs": [],
   "source": [
    "london_eye_website.json()['result']['international_phone_number']"
   ]
  },
  {
   "cell_type": "code",
   "execution_count": null,
   "metadata": {
    "collapsed": true
   },
   "outputs": [],
   "source": [
    "london_eye_website.json()['result']['opening_hours'] # dictionary of opening hours"
   ]
  },
  {
   "cell_type": "code",
   "execution_count": null,
   "metadata": {
    "collapsed": true
   },
   "outputs": [],
   "source": [
    "london_eye_website.json()['result']['reviews'] # reviews"
   ]
  },
  {
   "cell_type": "code",
   "execution_count": null,
   "metadata": {},
   "outputs": [],
   "source": [
    "london_eye_website.json()['result']['reviews'][0]['text'] # example of a review - NLP potential"
   ]
  },
  {
   "cell_type": "code",
   "execution_count": null,
   "metadata": {},
   "outputs": [],
   "source": [
    "london_eye_website.json()['result']['website'] # place website"
   ]
  },
  {
   "cell_type": "markdown",
   "metadata": {},
   "source": [
    "As before, let's build a helper function for convenience in the following section"
   ]
  },
  {
   "cell_type": "code",
   "execution_count": null,
   "metadata": {
    "collapsed": true
   },
   "outputs": [],
   "source": [
    "def place_search(place_id):\n",
    "    '''\n",
    "    input: place_id from Nearby Search API (string)\n",
    "    output: company website (if found)\n",
    "    If a website is not found, then an error message will be given\n",
    "    '''\n",
    "    \n",
    "    # exception in case place_id doesn't yield results in Place Search\n",
    "    try:\n",
    "        html = requests.get('https://maps.googleapis.com/maps/api/place/details/json?' + \\\n",
    "                    'placeid=' + place_id + '&' + 'key=' + str(YOUR_API_KEY))\n",
    "    except:\n",
    "        return 'No results in Place Search'\n",
    "    \n",
    "    # exception if website is not found\n",
    "    try:\n",
    "        website = html.json()['result']['website']\n",
    "    except:\n",
    "        return 'Website not found'\n",
    "    \n",
    "    return website"
   ]
  },
  {
   "cell_type": "code",
   "execution_count": null,
   "metadata": {},
   "outputs": [],
   "source": [
    "# Testing function with London Eye ID\n",
    "place_search('ChIJc2nSALkEdkgRkuoJJBfzkUI')"
   ]
  },
  {
   "cell_type": "code",
   "execution_count": null,
   "metadata": {},
   "outputs": [],
   "source": [
    "# Testing function with other IDs\n",
    "place_search('ChIJmbKqQlgDdkgRfkx7-tWdNU4') # KFC in Lambeth - not branch-specific"
   ]
  },
  {
   "cell_type": "code",
   "execution_count": null,
   "metadata": {},
   "outputs": [],
   "source": [
    "place_search('ChIJdd4hrwug2EcRmSrV3Vo6llI') # for London - website not avaiable"
   ]
  },
  {
   "cell_type": "code",
   "execution_count": null,
   "metadata": {},
   "outputs": [],
   "source": [
    "place_search('ChIJDYZYNsoEdkgRHCQ30Uysy_M') # Specsavers - branch-specific"
   ]
  },
  {
   "cell_type": "code",
   "execution_count": null,
   "metadata": {},
   "outputs": [],
   "source": [
    "place_search('ChIJWwBL554EdkgRluPLRtvCKek') # Kwik-fit - branch specific"
   ]
  },
  {
   "cell_type": "markdown",
   "metadata": {},
   "source": [
    "### Function to return website from given companies house details"
   ]
  },
  {
   "cell_type": "markdown",
   "metadata": {},
   "source": [
    "Let's bring some of the pieces in the previous sections together to build a function that returns the company website (if found) from details found in the publicly-available Companies House dataset."
   ]
  },
  {
   "cell_type": "markdown",
   "metadata": {},
   "source": [
    "In Section 1.4, we exported a cleaned-up dataset of Companies House to a local directly. Let's import this now."
   ]
  },
  {
   "cell_type": "code",
   "execution_count": null,
   "metadata": {
    "collapsed": true
   },
   "outputs": [],
   "source": [
    "ch = pd.read_csv('ch_2018-02.csv')"
   ]
  },
  {
   "cell_type": "code",
   "execution_count": null,
   "metadata": {},
   "outputs": [],
   "source": [
    "ch.shape"
   ]
  },
  {
   "cell_type": "markdown",
   "metadata": {},
   "source": [
    "We'll be running the business name and the postcode through the Google Places API. The business name should be given but we'll need to exclude those records where the postcode is not given."
   ]
  },
  {
   "cell_type": "code",
   "execution_count": null,
   "metadata": {},
   "outputs": [],
   "source": [
    "ch_w_pc = ch[ch.postcode.notnull()].copy()\n",
    "ch_w_pc.shape"
   ]
  },
  {
   "cell_type": "markdown",
   "metadata": {},
   "source": [
    "Ok, so we've got our dataset. Let's now put our function together."
   ]
  },
  {
   "cell_type": "code",
   "execution_count": null,
   "metadata": {
    "collapsed": true
   },
   "outputs": [],
   "source": [
    "def return_website(company_name,postcode):\n",
    "    '''\n",
    "    Input: company name and postcode (both strings)\n",
    "    Output: Company website\n",
    "    '''\n",
    "    \n",
    "    # Step 1: Convert postcodes to latitude and longitude using postcodes.io\n",
    "    # Some companies may give invalid postcodes in Companies House so build exception\n",
    "    \n",
    "    try: \n",
    "        html = requests.get(\"http://api.postcodes.io/postcodes/\" + postcode)\n",
    "        lat = html.json()['result']['latitude']\n",
    "        lon = html.json()['result']['longitude']\n",
    "    except:\n",
    "        print('Postcode not found')\n",
    "    \n",
    "    # Step 2: Get place_id by calling upon a Nearby Search (see Section 3.2)\n",
    "    place_id = nearby_search(lat,lon,company_name,YOUR_API_KEY)\n",
    "    \n",
    "    # Step 3: Return website by feeding place_id into Place Search\n",
    "    website = place_search(place_id)\n",
    "    \n",
    "    return website    "
   ]
  },
  {
   "cell_type": "markdown",
   "metadata": {},
   "source": [
    "### Testing function on Companies House"
   ]
  },
  {
   "cell_type": "markdown",
   "metadata": {},
   "source": [
    "Now for the fun stuff: let's test this function on a sample of companies in Companies House and see how many companies we get websites for."
   ]
  },
  {
   "cell_type": "code",
   "execution_count": null,
   "metadata": {},
   "outputs": [],
   "source": [
    "# Random sample of a 100 companies from those entries with a postcode, only return name and postcode\n",
    "ch_random_100 = ch_w_pc.sample(100)[['name','postcode']].copy()"
   ]
  },
  {
   "cell_type": "code",
   "execution_count": null,
   "metadata": {},
   "outputs": [],
   "source": [
    "ch_random_100.loc['website'] = np.NAN # set up blank column\n",
    "ch_random_100"
   ]
  },
  {
   "cell_type": "code",
   "execution_count": null,
   "metadata": {},
   "outputs": [],
   "source": [
    "# Retrieve websites for each company with a for loop\n",
    "i = 1\n",
    "for index, row in ch_random_100.iterrows():\n",
    "    ch_random_100.loc[index,'website'] = return_website(row[0],row[1])\n",
    "    print(str(i) + ' - ' + row[0] + ' - ' + row[1] + ' - ' + row[2])\n",
    "    i += 1\n",
    "    sleep(0.5)"
   ]
  },
  {
   "cell_type": "code",
   "execution_count": null,
   "metadata": {
    "scrolled": false
   },
   "outputs": [],
   "source": [
    "ch_random_100['website'].value_counts().head() # 17 websites out of 100 "
   ]
  },
  {
   "cell_type": "code",
   "execution_count": null,
   "metadata": {},
   "outputs": [],
   "source": [
    "ch_random_100.to_csv('sample_of_100_websites.csv') # save results"
   ]
  },
  {
   "cell_type": "markdown",
   "metadata": {},
   "source": [
    "Let's see if we can improve the match-rate by removing 'LTD. and 'LIMITED' from the end of the name"
   ]
  },
  {
   "cell_type": "code",
   "execution_count": 243,
   "metadata": {
    "collapsed": true
   },
   "outputs": [
    {
     "data": {
      "text/html": [
       "<div>\n",
       "<style>\n",
       "    .dataframe thead tr:only-child th {\n",
       "        text-align: right;\n",
       "    }\n",
       "\n",
       "    .dataframe thead th {\n",
       "        text-align: left;\n",
       "    }\n",
       "\n",
       "    .dataframe tbody tr th {\n",
       "        vertical-align: top;\n",
       "    }\n",
       "</style>\n",
       "<table border=\"1\" class=\"dataframe\">\n",
       "  <thead>\n",
       "    <tr style=\"text-align: right;\">\n",
       "      <th></th>\n",
       "      <th>name</th>\n",
       "      <th>postcode</th>\n",
       "      <th>website</th>\n",
       "      <th>website_2</th>\n",
       "    </tr>\n",
       "  </thead>\n",
       "  <tbody>\n",
       "    <tr>\n",
       "      <th>3029309</th>\n",
       "      <td>R.B.W. DEVELOPMENTS LTD.</td>\n",
       "      <td>TQ14 8DP</td>\n",
       "      <td>Website not found</td>\n",
       "      <td>NaN</td>\n",
       "    </tr>\n",
       "    <tr>\n",
       "      <th>2670409</th>\n",
       "      <td>NOUVEAU'RA APPAREL LIMITED</td>\n",
       "      <td>UB4 0RA</td>\n",
       "      <td>Website not found</td>\n",
       "      <td>NaN</td>\n",
       "    </tr>\n",
       "    <tr>\n",
       "      <th>2475224</th>\n",
       "      <td>MIMI PARIS HOPPE LIMITED</td>\n",
       "      <td>RG27 9NN</td>\n",
       "      <td>Website not found</td>\n",
       "      <td>NaN</td>\n",
       "    </tr>\n",
       "    <tr>\n",
       "      <th>3008042</th>\n",
       "      <td>QUATRO HQ LIMITED</td>\n",
       "      <td>NG18 4FY</td>\n",
       "      <td>Website not found</td>\n",
       "      <td>NaN</td>\n",
       "    </tr>\n",
       "    <tr>\n",
       "      <th>965152</th>\n",
       "      <td>CW 10 PARK DRIVE LIMITED</td>\n",
       "      <td>E14 5AB</td>\n",
       "      <td>Website not found</td>\n",
       "      <td>NaN</td>\n",
       "    </tr>\n",
       "    <tr>\n",
       "      <th>2269669</th>\n",
       "      <td>LRW SUPPLIES LIMITED</td>\n",
       "      <td>LS12 3SS</td>\n",
       "      <td>Website not found</td>\n",
       "      <td>NaN</td>\n",
       "    </tr>\n",
       "    <tr>\n",
       "      <th>2968399</th>\n",
       "      <td>PROLOGUE MEDIA LIMITED</td>\n",
       "      <td>RG29 1PD</td>\n",
       "      <td>Website not found</td>\n",
       "      <td>NaN</td>\n",
       "    </tr>\n",
       "    <tr>\n",
       "      <th>976549</th>\n",
       "      <td>D J PALFREY SERVICES LTD</td>\n",
       "      <td>RM7 8AU</td>\n",
       "      <td>Website not found</td>\n",
       "      <td>NaN</td>\n",
       "    </tr>\n",
       "    <tr>\n",
       "      <th>3036941</th>\n",
       "      <td>RADIANT CLINICS LIMITED</td>\n",
       "      <td>L40 0SD</td>\n",
       "      <td>http://www.radiantskinclinic.co.uk/</td>\n",
       "      <td>NaN</td>\n",
       "    </tr>\n",
       "    <tr>\n",
       "      <th>977514</th>\n",
       "      <td>D M D BUILDING &amp; ROOFING SERVICES LTD</td>\n",
       "      <td>NR2 4TW</td>\n",
       "      <td>Website not found</td>\n",
       "      <td>NaN</td>\n",
       "    </tr>\n",
       "    <tr>\n",
       "      <th>472531</th>\n",
       "      <td>BERKUT IMPEX LP</td>\n",
       "      <td>ML11 0QW</td>\n",
       "      <td>Website not found</td>\n",
       "      <td>NaN</td>\n",
       "    </tr>\n",
       "    <tr>\n",
       "      <th>1884158</th>\n",
       "      <td>IT PROJECTIONS LIMITED</td>\n",
       "      <td>LS3 1BQ</td>\n",
       "      <td>Website not found</td>\n",
       "      <td>NaN</td>\n",
       "    </tr>\n",
       "    <tr>\n",
       "      <th>839892</th>\n",
       "      <td>CNK CONSULTANCY LIMITED</td>\n",
       "      <td>KT3 6DQ</td>\n",
       "      <td>Website not found</td>\n",
       "      <td>NaN</td>\n",
       "    </tr>\n",
       "    <tr>\n",
       "      <th>420351</th>\n",
       "      <td>BARKLEY ADVISORY LIMITED</td>\n",
       "      <td>SG4 0TW</td>\n",
       "      <td>Website not found</td>\n",
       "      <td>NaN</td>\n",
       "    </tr>\n",
       "    <tr>\n",
       "      <th>621585</th>\n",
       "      <td>BUILDVALE LIMITED</td>\n",
       "      <td>FK6 6QY</td>\n",
       "      <td>http://www.buildvale.co.uk/</td>\n",
       "      <td>NaN</td>\n",
       "    </tr>\n",
       "    <tr>\n",
       "      <th>1696836</th>\n",
       "      <td>HENNIE PENNY'S CHICKEN (CLECKHEATON) LIMITED</td>\n",
       "      <td>BD19 3TT</td>\n",
       "      <td>http://www.henniepennyschicken.co.uk/?utm_sour...</td>\n",
       "      <td>NaN</td>\n",
       "    </tr>\n",
       "    <tr>\n",
       "      <th>2481191</th>\n",
       "      <td>MIR POINT LIMITED</td>\n",
       "      <td>SE2 9PJ</td>\n",
       "      <td>Website not found</td>\n",
       "      <td>NaN</td>\n",
       "    </tr>\n",
       "    <tr>\n",
       "      <th>3628014</th>\n",
       "      <td>TEH INTERNETS LIMITED</td>\n",
       "      <td>IV2 5GJ</td>\n",
       "      <td>Website not found</td>\n",
       "      <td>NaN</td>\n",
       "    </tr>\n",
       "    <tr>\n",
       "      <th>3361946</th>\n",
       "      <td>SINA UZ LTD</td>\n",
       "      <td>M4 6AG</td>\n",
       "      <td>Website not found</td>\n",
       "      <td>NaN</td>\n",
       "    </tr>\n",
       "    <tr>\n",
       "      <th>2169399</th>\n",
       "      <td>LEAMORE HOLDINGS LIMITED</td>\n",
       "      <td>WS2 7QZ</td>\n",
       "      <td>Website not found</td>\n",
       "      <td>NaN</td>\n",
       "    </tr>\n",
       "    <tr>\n",
       "      <th>743458</th>\n",
       "      <td>CFHX LIMITED</td>\n",
       "      <td>LE15 6QQ</td>\n",
       "      <td>Website not found</td>\n",
       "      <td>NaN</td>\n",
       "    </tr>\n",
       "    <tr>\n",
       "      <th>1995280</th>\n",
       "      <td>JOYINFOTECH LIMITED</td>\n",
       "      <td>HA2 9EU</td>\n",
       "      <td>Website not found</td>\n",
       "      <td>NaN</td>\n",
       "    </tr>\n",
       "    <tr>\n",
       "      <th>373706</th>\n",
       "      <td>AVERY ACCIDENT REPAIR SPECIALISTS LTD</td>\n",
       "      <td>SO40 2NA</td>\n",
       "      <td>http://www.woopzavery.com/</td>\n",
       "      <td>NaN</td>\n",
       "    </tr>\n",
       "    <tr>\n",
       "      <th>3828825</th>\n",
       "      <td>TRIGGERBUDDY LTD</td>\n",
       "      <td>SW19 2RR</td>\n",
       "      <td>Website not found</td>\n",
       "      <td>NaN</td>\n",
       "    </tr>\n",
       "    <tr>\n",
       "      <th>1729455</th>\n",
       "      <td>HN FOODS LIMITED</td>\n",
       "      <td>AL1 3RD</td>\n",
       "      <td>Website not found</td>\n",
       "      <td>NaN</td>\n",
       "    </tr>\n",
       "    <tr>\n",
       "      <th>3027783</th>\n",
       "      <td>R. BROCKIE (CONTRACTING) LIMITED</td>\n",
       "      <td>EH45 8PP</td>\n",
       "      <td>Website not found</td>\n",
       "      <td>NaN</td>\n",
       "    </tr>\n",
       "    <tr>\n",
       "      <th>3977745</th>\n",
       "      <td>WALTON PARK SPORTS CENTRE LIMITED</td>\n",
       "      <td>M33 4AG</td>\n",
       "      <td>http://www.wpifc.org.uk/</td>\n",
       "      <td>NaN</td>\n",
       "    </tr>\n",
       "    <tr>\n",
       "      <th>737880</th>\n",
       "      <td>CENTRALIS LIMITED</td>\n",
       "      <td>EC4N 6EU</td>\n",
       "      <td>Website not found</td>\n",
       "      <td>NaN</td>\n",
       "    </tr>\n",
       "    <tr>\n",
       "      <th>3135206</th>\n",
       "      <td>RIVERPLACE HOMES LIMITED</td>\n",
       "      <td>HA1 1BQ</td>\n",
       "      <td>Website not found</td>\n",
       "      <td>NaN</td>\n",
       "    </tr>\n",
       "    <tr>\n",
       "      <th>3203400</th>\n",
       "      <td>S &amp; I PROPERTIES LIMITED</td>\n",
       "      <td>BT70 1SS</td>\n",
       "      <td>Website not found</td>\n",
       "      <td>NaN</td>\n",
       "    </tr>\n",
       "    <tr>\n",
       "      <th>...</th>\n",
       "      <td>...</td>\n",
       "      <td>...</td>\n",
       "      <td>...</td>\n",
       "      <td>...</td>\n",
       "    </tr>\n",
       "    <tr>\n",
       "      <th>1798731</th>\n",
       "      <td>ICONIC TRADE EVENTS LTD</td>\n",
       "      <td>WC1B 3QJ</td>\n",
       "      <td>Website not found</td>\n",
       "      <td>NaN</td>\n",
       "    </tr>\n",
       "    <tr>\n",
       "      <th>3628389</th>\n",
       "      <td>TEJASVI TECHNOLOGIES LTD</td>\n",
       "      <td>TW13 4FD</td>\n",
       "      <td>Website not found</td>\n",
       "      <td>NaN</td>\n",
       "    </tr>\n",
       "    <tr>\n",
       "      <th>471164</th>\n",
       "      <td>BERKELEY BURKE SHELDON MONK LIMITED</td>\n",
       "      <td>LE1 7BR</td>\n",
       "      <td>http://www.berkeleyburke.com/</td>\n",
       "      <td>NaN</td>\n",
       "    </tr>\n",
       "    <tr>\n",
       "      <th>2199546</th>\n",
       "      <td>LIFE SHAPES LTD</td>\n",
       "      <td>SE17 1JE</td>\n",
       "      <td>http://www.lifeshapes.co.uk/</td>\n",
       "      <td>NaN</td>\n",
       "    </tr>\n",
       "    <tr>\n",
       "      <th>204512</th>\n",
       "      <td>ALI PARVIZI LIMITED</td>\n",
       "      <td>GL52 2BD</td>\n",
       "      <td>Website not found</td>\n",
       "      <td>NaN</td>\n",
       "    </tr>\n",
       "    <tr>\n",
       "      <th>3572147</th>\n",
       "      <td>SYDNEY ANALYSTS LIMITED</td>\n",
       "      <td>WA14 4RW</td>\n",
       "      <td>Website not found</td>\n",
       "      <td>NaN</td>\n",
       "    </tr>\n",
       "    <tr>\n",
       "      <th>3205344</th>\n",
       "      <td>S A HOLMES LIMITED</td>\n",
       "      <td>PR2 3AQ</td>\n",
       "      <td>Website not found</td>\n",
       "      <td>NaN</td>\n",
       "    </tr>\n",
       "    <tr>\n",
       "      <th>3062905</th>\n",
       "      <td>RDB PROJECTS LIMITED</td>\n",
       "      <td>BB4 7TU</td>\n",
       "      <td>Website not found</td>\n",
       "      <td>NaN</td>\n",
       "    </tr>\n",
       "    <tr>\n",
       "      <th>1196026</th>\n",
       "      <td>EDUC8 LEARNING LIMITED</td>\n",
       "      <td>SK6 2SR</td>\n",
       "      <td>Website not found</td>\n",
       "      <td>NaN</td>\n",
       "    </tr>\n",
       "    <tr>\n",
       "      <th>1915541</th>\n",
       "      <td>J.T. &amp; E. CASTINGS LIMITED</td>\n",
       "      <td>WN1 2SA</td>\n",
       "      <td>http://www.jte-castings.co.uk/</td>\n",
       "      <td>NaN</td>\n",
       "    </tr>\n",
       "    <tr>\n",
       "      <th>1794185</th>\n",
       "      <td>IBIS BUDGET LEEDS CENTRE LIMITED</td>\n",
       "      <td>W6 7AP</td>\n",
       "      <td>Website not found</td>\n",
       "      <td>NaN</td>\n",
       "    </tr>\n",
       "    <tr>\n",
       "      <th>911178</th>\n",
       "      <td>COUNTRY HOMES UK LIMITED</td>\n",
       "      <td>CM16 5BD</td>\n",
       "      <td>Website not found</td>\n",
       "      <td>NaN</td>\n",
       "    </tr>\n",
       "    <tr>\n",
       "      <th>2892475</th>\n",
       "      <td>PLANNING &amp; PARTY WALL SERVICES LIMITED</td>\n",
       "      <td>E12 5EL</td>\n",
       "      <td>http://www.nathanbuildingconsultants.co.uk/</td>\n",
       "      <td>NaN</td>\n",
       "    </tr>\n",
       "    <tr>\n",
       "      <th>151195</th>\n",
       "      <td>ADVENT WELFARE LIMITED</td>\n",
       "      <td>RH12 3JJ</td>\n",
       "      <td>Website not found</td>\n",
       "      <td>NaN</td>\n",
       "    </tr>\n",
       "    <tr>\n",
       "      <th>121660</th>\n",
       "      <td>ACE TYRES 4U LIMITED</td>\n",
       "      <td>HA1 2QD</td>\n",
       "      <td>Website not found</td>\n",
       "      <td>NaN</td>\n",
       "    </tr>\n",
       "    <tr>\n",
       "      <th>3811972</th>\n",
       "      <td>TRAFALGAR HOLDCO LIMITED</td>\n",
       "      <td>SE10 9NL</td>\n",
       "      <td>Website not found</td>\n",
       "      <td>NaN</td>\n",
       "    </tr>\n",
       "    <tr>\n",
       "      <th>745290</th>\n",
       "      <td>CH ENERGY LTD.</td>\n",
       "      <td>CM2 0AP</td>\n",
       "      <td>Website not found</td>\n",
       "      <td>NaN</td>\n",
       "    </tr>\n",
       "    <tr>\n",
       "      <th>2604931</th>\n",
       "      <td>NESTED FOX LIMITED</td>\n",
       "      <td>EH6 5AY</td>\n",
       "      <td>Website not found</td>\n",
       "      <td>NaN</td>\n",
       "    </tr>\n",
       "    <tr>\n",
       "      <th>894020</th>\n",
       "      <td>COOPERS RECOVERY LTD</td>\n",
       "      <td>HP19 8DB</td>\n",
       "      <td>Website not found</td>\n",
       "      <td>NaN</td>\n",
       "    </tr>\n",
       "    <tr>\n",
       "      <th>2220238</th>\n",
       "      <td>LITT UP LTD</td>\n",
       "      <td>W1B 3HH</td>\n",
       "      <td>Website not found</td>\n",
       "      <td>NaN</td>\n",
       "    </tr>\n",
       "    <tr>\n",
       "      <th>617106</th>\n",
       "      <td>BUCKINGHAM PUBS LIMITED</td>\n",
       "      <td>PO5 3HU</td>\n",
       "      <td>Website not found</td>\n",
       "      <td>NaN</td>\n",
       "    </tr>\n",
       "    <tr>\n",
       "      <th>3614909</th>\n",
       "      <td>TC DISTRIBUTION LIMITED</td>\n",
       "      <td>GU1 2ST</td>\n",
       "      <td>Website not found</td>\n",
       "      <td>NaN</td>\n",
       "    </tr>\n",
       "    <tr>\n",
       "      <th>817476</th>\n",
       "      <td>CLC EVENTS LTD</td>\n",
       "      <td>SP4 0AB</td>\n",
       "      <td>Website not found</td>\n",
       "      <td>NaN</td>\n",
       "    </tr>\n",
       "    <tr>\n",
       "      <th>1498450</th>\n",
       "      <td>GENTSA LIMITED</td>\n",
       "      <td>CO6 3PX</td>\n",
       "      <td>Website not found</td>\n",
       "      <td>NaN</td>\n",
       "    </tr>\n",
       "    <tr>\n",
       "      <th>1442909</th>\n",
       "      <td>FULLSPEED SERVICES LP</td>\n",
       "      <td>EH5 1BN</td>\n",
       "      <td>Website not found</td>\n",
       "      <td>NaN</td>\n",
       "    </tr>\n",
       "    <tr>\n",
       "      <th>132642</th>\n",
       "      <td>ACUMU IT LIMITED</td>\n",
       "      <td>E3 3AY</td>\n",
       "      <td>Website not found</td>\n",
       "      <td>NaN</td>\n",
       "    </tr>\n",
       "    <tr>\n",
       "      <th>1598473</th>\n",
       "      <td>GRILL N GRILL LIMITED</td>\n",
       "      <td>EC1Y 0UJ</td>\n",
       "      <td>http://grillnpizza.com/</td>\n",
       "      <td>NaN</td>\n",
       "    </tr>\n",
       "    <tr>\n",
       "      <th>1980353</th>\n",
       "      <td>JOHN FAUSSET LIMITED</td>\n",
       "      <td>FY6 0HE</td>\n",
       "      <td>http://johnfausset.co.uk/</td>\n",
       "      <td>NaN</td>\n",
       "    </tr>\n",
       "    <tr>\n",
       "      <th>2952842</th>\n",
       "      <td>PRISENGINEERING LTD</td>\n",
       "      <td>WV4 5AP</td>\n",
       "      <td>Website not found</td>\n",
       "      <td>NaN</td>\n",
       "    </tr>\n",
       "    <tr>\n",
       "      <th>841492</th>\n",
       "      <td>COAL FACE DEVELOPMENT LIMITED</td>\n",
       "      <td>NE2 4PQ</td>\n",
       "      <td>Website not found</td>\n",
       "      <td>NaN</td>\n",
       "    </tr>\n",
       "  </tbody>\n",
       "</table>\n",
       "<p>100 rows × 4 columns</p>\n",
       "</div>"
      ],
      "text/plain": [
       "                                                 name  postcode  \\\n",
       "3029309                      R.B.W. DEVELOPMENTS LTD.  TQ14 8DP   \n",
       "2670409                    NOUVEAU'RA APPAREL LIMITED   UB4 0RA   \n",
       "2475224                      MIMI PARIS HOPPE LIMITED  RG27 9NN   \n",
       "3008042                             QUATRO HQ LIMITED  NG18 4FY   \n",
       "965152                       CW 10 PARK DRIVE LIMITED   E14 5AB   \n",
       "2269669                          LRW SUPPLIES LIMITED  LS12 3SS   \n",
       "2968399                        PROLOGUE MEDIA LIMITED  RG29 1PD   \n",
       "976549                       D J PALFREY SERVICES LTD   RM7 8AU   \n",
       "3036941                       RADIANT CLINICS LIMITED   L40 0SD   \n",
       "977514          D M D BUILDING & ROOFING SERVICES LTD   NR2 4TW   \n",
       "472531                                BERKUT IMPEX LP  ML11 0QW   \n",
       "1884158                        IT PROJECTIONS LIMITED   LS3 1BQ   \n",
       "839892                        CNK CONSULTANCY LIMITED   KT3 6DQ   \n",
       "420351                       BARKLEY ADVISORY LIMITED   SG4 0TW   \n",
       "621585                              BUILDVALE LIMITED   FK6 6QY   \n",
       "1696836  HENNIE PENNY'S CHICKEN (CLECKHEATON) LIMITED  BD19 3TT   \n",
       "2481191                             MIR POINT LIMITED   SE2 9PJ   \n",
       "3628014                         TEH INTERNETS LIMITED   IV2 5GJ   \n",
       "3361946                                   SINA UZ LTD    M4 6AG   \n",
       "2169399                      LEAMORE HOLDINGS LIMITED   WS2 7QZ   \n",
       "743458                                   CFHX LIMITED  LE15 6QQ   \n",
       "1995280                           JOYINFOTECH LIMITED   HA2 9EU   \n",
       "373706          AVERY ACCIDENT REPAIR SPECIALISTS LTD  SO40 2NA   \n",
       "3828825                              TRIGGERBUDDY LTD  SW19 2RR   \n",
       "1729455                              HN FOODS LIMITED   AL1 3RD   \n",
       "3027783              R. BROCKIE (CONTRACTING) LIMITED  EH45 8PP   \n",
       "3977745             WALTON PARK SPORTS CENTRE LIMITED   M33 4AG   \n",
       "737880                              CENTRALIS LIMITED  EC4N 6EU   \n",
       "3135206                      RIVERPLACE HOMES LIMITED   HA1 1BQ   \n",
       "3203400                      S & I PROPERTIES LIMITED  BT70 1SS   \n",
       "...                                               ...       ...   \n",
       "1798731                       ICONIC TRADE EVENTS LTD  WC1B 3QJ   \n",
       "3628389                      TEJASVI TECHNOLOGIES LTD  TW13 4FD   \n",
       "471164            BERKELEY BURKE SHELDON MONK LIMITED   LE1 7BR   \n",
       "2199546                               LIFE SHAPES LTD  SE17 1JE   \n",
       "204512                            ALI PARVIZI LIMITED  GL52 2BD   \n",
       "3572147                       SYDNEY ANALYSTS LIMITED  WA14 4RW   \n",
       "3205344                            S A HOLMES LIMITED   PR2 3AQ   \n",
       "3062905                          RDB PROJECTS LIMITED   BB4 7TU   \n",
       "1196026                        EDUC8 LEARNING LIMITED   SK6 2SR   \n",
       "1915541                    J.T. & E. CASTINGS LIMITED   WN1 2SA   \n",
       "1794185              IBIS BUDGET LEEDS CENTRE LIMITED    W6 7AP   \n",
       "911178                       COUNTRY HOMES UK LIMITED  CM16 5BD   \n",
       "2892475        PLANNING & PARTY WALL SERVICES LIMITED   E12 5EL   \n",
       "151195                         ADVENT WELFARE LIMITED  RH12 3JJ   \n",
       "121660                           ACE TYRES 4U LIMITED   HA1 2QD   \n",
       "3811972                      TRAFALGAR HOLDCO LIMITED  SE10 9NL   \n",
       "745290                                 CH ENERGY LTD.   CM2 0AP   \n",
       "2604931                            NESTED FOX LIMITED   EH6 5AY   \n",
       "894020                           COOPERS RECOVERY LTD  HP19 8DB   \n",
       "2220238                                   LITT UP LTD   W1B 3HH   \n",
       "617106                        BUCKINGHAM PUBS LIMITED   PO5 3HU   \n",
       "3614909                       TC DISTRIBUTION LIMITED   GU1 2ST   \n",
       "817476                                 CLC EVENTS LTD   SP4 0AB   \n",
       "1498450                                GENTSA LIMITED   CO6 3PX   \n",
       "1442909                         FULLSPEED SERVICES LP   EH5 1BN   \n",
       "132642                               ACUMU IT LIMITED    E3 3AY   \n",
       "1598473                         GRILL N GRILL LIMITED  EC1Y 0UJ   \n",
       "1980353                          JOHN FAUSSET LIMITED   FY6 0HE   \n",
       "2952842                           PRISENGINEERING LTD   WV4 5AP   \n",
       "841492                  COAL FACE DEVELOPMENT LIMITED   NE2 4PQ   \n",
       "\n",
       "                                                   website  website_2  \n",
       "3029309                                  Website not found        NaN  \n",
       "2670409                                  Website not found        NaN  \n",
       "2475224                                  Website not found        NaN  \n",
       "3008042                                  Website not found        NaN  \n",
       "965152                                   Website not found        NaN  \n",
       "2269669                                  Website not found        NaN  \n",
       "2968399                                  Website not found        NaN  \n",
       "976549                                   Website not found        NaN  \n",
       "3036941                http://www.radiantskinclinic.co.uk/        NaN  \n",
       "977514                                   Website not found        NaN  \n",
       "472531                                   Website not found        NaN  \n",
       "1884158                                  Website not found        NaN  \n",
       "839892                                   Website not found        NaN  \n",
       "420351                                   Website not found        NaN  \n",
       "621585                         http://www.buildvale.co.uk/        NaN  \n",
       "1696836  http://www.henniepennyschicken.co.uk/?utm_sour...        NaN  \n",
       "2481191                                  Website not found        NaN  \n",
       "3628014                                  Website not found        NaN  \n",
       "3361946                                  Website not found        NaN  \n",
       "2169399                                  Website not found        NaN  \n",
       "743458                                   Website not found        NaN  \n",
       "1995280                                  Website not found        NaN  \n",
       "373706                          http://www.woopzavery.com/        NaN  \n",
       "3828825                                  Website not found        NaN  \n",
       "1729455                                  Website not found        NaN  \n",
       "3027783                                  Website not found        NaN  \n",
       "3977745                           http://www.wpifc.org.uk/        NaN  \n",
       "737880                                   Website not found        NaN  \n",
       "3135206                                  Website not found        NaN  \n",
       "3203400                                  Website not found        NaN  \n",
       "...                                                    ...        ...  \n",
       "1798731                                  Website not found        NaN  \n",
       "3628389                                  Website not found        NaN  \n",
       "471164                       http://www.berkeleyburke.com/        NaN  \n",
       "2199546                       http://www.lifeshapes.co.uk/        NaN  \n",
       "204512                                   Website not found        NaN  \n",
       "3572147                                  Website not found        NaN  \n",
       "3205344                                  Website not found        NaN  \n",
       "3062905                                  Website not found        NaN  \n",
       "1196026                                  Website not found        NaN  \n",
       "1915541                     http://www.jte-castings.co.uk/        NaN  \n",
       "1794185                                  Website not found        NaN  \n",
       "911178                                   Website not found        NaN  \n",
       "2892475        http://www.nathanbuildingconsultants.co.uk/        NaN  \n",
       "151195                                   Website not found        NaN  \n",
       "121660                                   Website not found        NaN  \n",
       "3811972                                  Website not found        NaN  \n",
       "745290                                   Website not found        NaN  \n",
       "2604931                                  Website not found        NaN  \n",
       "894020                                   Website not found        NaN  \n",
       "2220238                                  Website not found        NaN  \n",
       "617106                                   Website not found        NaN  \n",
       "3614909                                  Website not found        NaN  \n",
       "817476                                   Website not found        NaN  \n",
       "1498450                                  Website not found        NaN  \n",
       "1442909                                  Website not found        NaN  \n",
       "132642                                   Website not found        NaN  \n",
       "1598473                            http://grillnpizza.com/        NaN  \n",
       "1980353                          http://johnfausset.co.uk/        NaN  \n",
       "2952842                                  Website not found        NaN  \n",
       "841492                                   Website not found        NaN  \n",
       "\n",
       "[100 rows x 4 columns]"
      ]
     },
     "execution_count": 243,
     "metadata": {},
     "output_type": "execute_result"
    }
   ],
   "source": [
    "ch_random_100.loc[:,'website_2'] = np.NAN # set up blank column\n",
    "ch_random_100"
   ]
  },
  {
   "cell_type": "code",
   "execution_count": 239,
   "metadata": {
    "collapsed": true
   },
   "outputs": [],
   "source": [
    "ch_random_100 = pd.read_csv('sample_of_100_websites.csv',index_col=0)"
   ]
  },
  {
   "cell_type": "code",
   "execution_count": 240,
   "metadata": {
    "scrolled": false
   },
   "outputs": [],
   "source": [
    "ch_random_100 = ch_random_100.head(100).copy()"
   ]
  },
  {
   "cell_type": "code",
   "execution_count": 246,
   "metadata": {
    "collapsed": true
   },
   "outputs": [
    {
     "data": {
      "text/html": [
       "<div>\n",
       "<style>\n",
       "    .dataframe thead tr:only-child th {\n",
       "        text-align: right;\n",
       "    }\n",
       "\n",
       "    .dataframe thead th {\n",
       "        text-align: left;\n",
       "    }\n",
       "\n",
       "    .dataframe tbody tr th {\n",
       "        vertical-align: top;\n",
       "    }\n",
       "</style>\n",
       "<table border=\"1\" class=\"dataframe\">\n",
       "  <thead>\n",
       "    <tr style=\"text-align: right;\">\n",
       "      <th></th>\n",
       "      <th>name</th>\n",
       "      <th>postcode</th>\n",
       "      <th>website</th>\n",
       "      <th>website_2</th>\n",
       "    </tr>\n",
       "  </thead>\n",
       "  <tbody>\n",
       "    <tr>\n",
       "      <th>3029309</th>\n",
       "      <td>R.B.W. DEVELOPMENTS LTD.</td>\n",
       "      <td>TQ14 8DP</td>\n",
       "      <td>Website not found</td>\n",
       "      <td>NaN</td>\n",
       "    </tr>\n",
       "    <tr>\n",
       "      <th>2670409</th>\n",
       "      <td>NOUVEAU'RA APPAREL LIMITED</td>\n",
       "      <td>UB4 0RA</td>\n",
       "      <td>Website not found</td>\n",
       "      <td>NaN</td>\n",
       "    </tr>\n",
       "    <tr>\n",
       "      <th>2475224</th>\n",
       "      <td>MIMI PARIS HOPPE LIMITED</td>\n",
       "      <td>RG27 9NN</td>\n",
       "      <td>Website not found</td>\n",
       "      <td>NaN</td>\n",
       "    </tr>\n",
       "    <tr>\n",
       "      <th>3008042</th>\n",
       "      <td>QUATRO HQ LIMITED</td>\n",
       "      <td>NG18 4FY</td>\n",
       "      <td>Website not found</td>\n",
       "      <td>NaN</td>\n",
       "    </tr>\n",
       "    <tr>\n",
       "      <th>965152</th>\n",
       "      <td>CW 10 PARK DRIVE LIMITED</td>\n",
       "      <td>E14 5AB</td>\n",
       "      <td>Website not found</td>\n",
       "      <td>NaN</td>\n",
       "    </tr>\n",
       "    <tr>\n",
       "      <th>2269669</th>\n",
       "      <td>LRW SUPPLIES LIMITED</td>\n",
       "      <td>LS12 3SS</td>\n",
       "      <td>Website not found</td>\n",
       "      <td>NaN</td>\n",
       "    </tr>\n",
       "    <tr>\n",
       "      <th>2968399</th>\n",
       "      <td>PROLOGUE MEDIA LIMITED</td>\n",
       "      <td>RG29 1PD</td>\n",
       "      <td>Website not found</td>\n",
       "      <td>NaN</td>\n",
       "    </tr>\n",
       "    <tr>\n",
       "      <th>976549</th>\n",
       "      <td>D J PALFREY SERVICES LTD</td>\n",
       "      <td>RM7 8AU</td>\n",
       "      <td>Website not found</td>\n",
       "      <td>NaN</td>\n",
       "    </tr>\n",
       "    <tr>\n",
       "      <th>3036941</th>\n",
       "      <td>RADIANT CLINICS LIMITED</td>\n",
       "      <td>L40 0SD</td>\n",
       "      <td>http://www.radiantskinclinic.co.uk/</td>\n",
       "      <td>NaN</td>\n",
       "    </tr>\n",
       "    <tr>\n",
       "      <th>977514</th>\n",
       "      <td>D M D BUILDING &amp; ROOFING SERVICES LTD</td>\n",
       "      <td>NR2 4TW</td>\n",
       "      <td>Website not found</td>\n",
       "      <td>NaN</td>\n",
       "    </tr>\n",
       "    <tr>\n",
       "      <th>472531</th>\n",
       "      <td>BERKUT IMPEX LP</td>\n",
       "      <td>ML11 0QW</td>\n",
       "      <td>Website not found</td>\n",
       "      <td>NaN</td>\n",
       "    </tr>\n",
       "    <tr>\n",
       "      <th>1884158</th>\n",
       "      <td>IT PROJECTIONS LIMITED</td>\n",
       "      <td>LS3 1BQ</td>\n",
       "      <td>Website not found</td>\n",
       "      <td>NaN</td>\n",
       "    </tr>\n",
       "    <tr>\n",
       "      <th>839892</th>\n",
       "      <td>CNK CONSULTANCY LIMITED</td>\n",
       "      <td>KT3 6DQ</td>\n",
       "      <td>Website not found</td>\n",
       "      <td>NaN</td>\n",
       "    </tr>\n",
       "    <tr>\n",
       "      <th>420351</th>\n",
       "      <td>BARKLEY ADVISORY LIMITED</td>\n",
       "      <td>SG4 0TW</td>\n",
       "      <td>Website not found</td>\n",
       "      <td>NaN</td>\n",
       "    </tr>\n",
       "    <tr>\n",
       "      <th>621585</th>\n",
       "      <td>BUILDVALE LIMITED</td>\n",
       "      <td>FK6 6QY</td>\n",
       "      <td>http://www.buildvale.co.uk/</td>\n",
       "      <td>NaN</td>\n",
       "    </tr>\n",
       "    <tr>\n",
       "      <th>1696836</th>\n",
       "      <td>HENNIE PENNY'S CHICKEN (CLECKHEATON) LIMITED</td>\n",
       "      <td>BD19 3TT</td>\n",
       "      <td>http://www.henniepennyschicken.co.uk/?utm_sour...</td>\n",
       "      <td>NaN</td>\n",
       "    </tr>\n",
       "    <tr>\n",
       "      <th>2481191</th>\n",
       "      <td>MIR POINT LIMITED</td>\n",
       "      <td>SE2 9PJ</td>\n",
       "      <td>Website not found</td>\n",
       "      <td>NaN</td>\n",
       "    </tr>\n",
       "    <tr>\n",
       "      <th>3628014</th>\n",
       "      <td>TEH INTERNETS LIMITED</td>\n",
       "      <td>IV2 5GJ</td>\n",
       "      <td>Website not found</td>\n",
       "      <td>NaN</td>\n",
       "    </tr>\n",
       "    <tr>\n",
       "      <th>3361946</th>\n",
       "      <td>SINA UZ LTD</td>\n",
       "      <td>M4 6AG</td>\n",
       "      <td>Website not found</td>\n",
       "      <td>NaN</td>\n",
       "    </tr>\n",
       "    <tr>\n",
       "      <th>2169399</th>\n",
       "      <td>LEAMORE HOLDINGS LIMITED</td>\n",
       "      <td>WS2 7QZ</td>\n",
       "      <td>Website not found</td>\n",
       "      <td>NaN</td>\n",
       "    </tr>\n",
       "    <tr>\n",
       "      <th>743458</th>\n",
       "      <td>CFHX LIMITED</td>\n",
       "      <td>LE15 6QQ</td>\n",
       "      <td>Website not found</td>\n",
       "      <td>NaN</td>\n",
       "    </tr>\n",
       "    <tr>\n",
       "      <th>1995280</th>\n",
       "      <td>JOYINFOTECH LIMITED</td>\n",
       "      <td>HA2 9EU</td>\n",
       "      <td>Website not found</td>\n",
       "      <td>NaN</td>\n",
       "    </tr>\n",
       "    <tr>\n",
       "      <th>373706</th>\n",
       "      <td>AVERY ACCIDENT REPAIR SPECIALISTS LTD</td>\n",
       "      <td>SO40 2NA</td>\n",
       "      <td>http://www.woopzavery.com/</td>\n",
       "      <td>NaN</td>\n",
       "    </tr>\n",
       "    <tr>\n",
       "      <th>3828825</th>\n",
       "      <td>TRIGGERBUDDY LTD</td>\n",
       "      <td>SW19 2RR</td>\n",
       "      <td>Website not found</td>\n",
       "      <td>NaN</td>\n",
       "    </tr>\n",
       "    <tr>\n",
       "      <th>1729455</th>\n",
       "      <td>HN FOODS LIMITED</td>\n",
       "      <td>AL1 3RD</td>\n",
       "      <td>Website not found</td>\n",
       "      <td>NaN</td>\n",
       "    </tr>\n",
       "    <tr>\n",
       "      <th>3027783</th>\n",
       "      <td>R. BROCKIE (CONTRACTING) LIMITED</td>\n",
       "      <td>EH45 8PP</td>\n",
       "      <td>Website not found</td>\n",
       "      <td>NaN</td>\n",
       "    </tr>\n",
       "    <tr>\n",
       "      <th>3977745</th>\n",
       "      <td>WALTON PARK SPORTS CENTRE LIMITED</td>\n",
       "      <td>M33 4AG</td>\n",
       "      <td>http://www.wpifc.org.uk/</td>\n",
       "      <td>NaN</td>\n",
       "    </tr>\n",
       "    <tr>\n",
       "      <th>737880</th>\n",
       "      <td>CENTRALIS LIMITED</td>\n",
       "      <td>EC4N 6EU</td>\n",
       "      <td>Website not found</td>\n",
       "      <td>NaN</td>\n",
       "    </tr>\n",
       "    <tr>\n",
       "      <th>3135206</th>\n",
       "      <td>RIVERPLACE HOMES LIMITED</td>\n",
       "      <td>HA1 1BQ</td>\n",
       "      <td>Website not found</td>\n",
       "      <td>NaN</td>\n",
       "    </tr>\n",
       "    <tr>\n",
       "      <th>3203400</th>\n",
       "      <td>S &amp; I PROPERTIES LIMITED</td>\n",
       "      <td>BT70 1SS</td>\n",
       "      <td>Website not found</td>\n",
       "      <td>NaN</td>\n",
       "    </tr>\n",
       "    <tr>\n",
       "      <th>...</th>\n",
       "      <td>...</td>\n",
       "      <td>...</td>\n",
       "      <td>...</td>\n",
       "      <td>...</td>\n",
       "    </tr>\n",
       "    <tr>\n",
       "      <th>1798731</th>\n",
       "      <td>ICONIC TRADE EVENTS LTD</td>\n",
       "      <td>WC1B 3QJ</td>\n",
       "      <td>Website not found</td>\n",
       "      <td>NaN</td>\n",
       "    </tr>\n",
       "    <tr>\n",
       "      <th>3628389</th>\n",
       "      <td>TEJASVI TECHNOLOGIES LTD</td>\n",
       "      <td>TW13 4FD</td>\n",
       "      <td>Website not found</td>\n",
       "      <td>NaN</td>\n",
       "    </tr>\n",
       "    <tr>\n",
       "      <th>471164</th>\n",
       "      <td>BERKELEY BURKE SHELDON MONK LIMITED</td>\n",
       "      <td>LE1 7BR</td>\n",
       "      <td>http://www.berkeleyburke.com/</td>\n",
       "      <td>NaN</td>\n",
       "    </tr>\n",
       "    <tr>\n",
       "      <th>2199546</th>\n",
       "      <td>LIFE SHAPES LTD</td>\n",
       "      <td>SE17 1JE</td>\n",
       "      <td>http://www.lifeshapes.co.uk/</td>\n",
       "      <td>NaN</td>\n",
       "    </tr>\n",
       "    <tr>\n",
       "      <th>204512</th>\n",
       "      <td>ALI PARVIZI LIMITED</td>\n",
       "      <td>GL52 2BD</td>\n",
       "      <td>Website not found</td>\n",
       "      <td>NaN</td>\n",
       "    </tr>\n",
       "    <tr>\n",
       "      <th>3572147</th>\n",
       "      <td>SYDNEY ANALYSTS LIMITED</td>\n",
       "      <td>WA14 4RW</td>\n",
       "      <td>Website not found</td>\n",
       "      <td>NaN</td>\n",
       "    </tr>\n",
       "    <tr>\n",
       "      <th>3205344</th>\n",
       "      <td>S A HOLMES LIMITED</td>\n",
       "      <td>PR2 3AQ</td>\n",
       "      <td>Website not found</td>\n",
       "      <td>NaN</td>\n",
       "    </tr>\n",
       "    <tr>\n",
       "      <th>3062905</th>\n",
       "      <td>RDB PROJECTS LIMITED</td>\n",
       "      <td>BB4 7TU</td>\n",
       "      <td>Website not found</td>\n",
       "      <td>NaN</td>\n",
       "    </tr>\n",
       "    <tr>\n",
       "      <th>1196026</th>\n",
       "      <td>EDUC8 LEARNING LIMITED</td>\n",
       "      <td>SK6 2SR</td>\n",
       "      <td>Website not found</td>\n",
       "      <td>NaN</td>\n",
       "    </tr>\n",
       "    <tr>\n",
       "      <th>1915541</th>\n",
       "      <td>J.T. &amp; E. CASTINGS LIMITED</td>\n",
       "      <td>WN1 2SA</td>\n",
       "      <td>http://www.jte-castings.co.uk/</td>\n",
       "      <td>NaN</td>\n",
       "    </tr>\n",
       "    <tr>\n",
       "      <th>1794185</th>\n",
       "      <td>IBIS BUDGET LEEDS CENTRE LIMITED</td>\n",
       "      <td>W6 7AP</td>\n",
       "      <td>Website not found</td>\n",
       "      <td>NaN</td>\n",
       "    </tr>\n",
       "    <tr>\n",
       "      <th>911178</th>\n",
       "      <td>COUNTRY HOMES UK LIMITED</td>\n",
       "      <td>CM16 5BD</td>\n",
       "      <td>Website not found</td>\n",
       "      <td>NaN</td>\n",
       "    </tr>\n",
       "    <tr>\n",
       "      <th>2892475</th>\n",
       "      <td>PLANNING &amp; PARTY WALL SERVICES LIMITED</td>\n",
       "      <td>E12 5EL</td>\n",
       "      <td>http://www.nathanbuildingconsultants.co.uk/</td>\n",
       "      <td>NaN</td>\n",
       "    </tr>\n",
       "    <tr>\n",
       "      <th>151195</th>\n",
       "      <td>ADVENT WELFARE LIMITED</td>\n",
       "      <td>RH12 3JJ</td>\n",
       "      <td>Website not found</td>\n",
       "      <td>NaN</td>\n",
       "    </tr>\n",
       "    <tr>\n",
       "      <th>121660</th>\n",
       "      <td>ACE TYRES 4U LIMITED</td>\n",
       "      <td>HA1 2QD</td>\n",
       "      <td>Website not found</td>\n",
       "      <td>NaN</td>\n",
       "    </tr>\n",
       "    <tr>\n",
       "      <th>3811972</th>\n",
       "      <td>TRAFALGAR HOLDCO LIMITED</td>\n",
       "      <td>SE10 9NL</td>\n",
       "      <td>Website not found</td>\n",
       "      <td>NaN</td>\n",
       "    </tr>\n",
       "    <tr>\n",
       "      <th>745290</th>\n",
       "      <td>CH ENERGY LTD.</td>\n",
       "      <td>CM2 0AP</td>\n",
       "      <td>Website not found</td>\n",
       "      <td>NaN</td>\n",
       "    </tr>\n",
       "    <tr>\n",
       "      <th>2604931</th>\n",
       "      <td>NESTED FOX LIMITED</td>\n",
       "      <td>EH6 5AY</td>\n",
       "      <td>Website not found</td>\n",
       "      <td>NaN</td>\n",
       "    </tr>\n",
       "    <tr>\n",
       "      <th>894020</th>\n",
       "      <td>COOPERS RECOVERY LTD</td>\n",
       "      <td>HP19 8DB</td>\n",
       "      <td>Website not found</td>\n",
       "      <td>NaN</td>\n",
       "    </tr>\n",
       "    <tr>\n",
       "      <th>2220238</th>\n",
       "      <td>LITT UP LTD</td>\n",
       "      <td>W1B 3HH</td>\n",
       "      <td>Website not found</td>\n",
       "      <td>NaN</td>\n",
       "    </tr>\n",
       "    <tr>\n",
       "      <th>617106</th>\n",
       "      <td>BUCKINGHAM PUBS LIMITED</td>\n",
       "      <td>PO5 3HU</td>\n",
       "      <td>Website not found</td>\n",
       "      <td>NaN</td>\n",
       "    </tr>\n",
       "    <tr>\n",
       "      <th>3614909</th>\n",
       "      <td>TC DISTRIBUTION LIMITED</td>\n",
       "      <td>GU1 2ST</td>\n",
       "      <td>Website not found</td>\n",
       "      <td>NaN</td>\n",
       "    </tr>\n",
       "    <tr>\n",
       "      <th>817476</th>\n",
       "      <td>CLC EVENTS LTD</td>\n",
       "      <td>SP4 0AB</td>\n",
       "      <td>Website not found</td>\n",
       "      <td>NaN</td>\n",
       "    </tr>\n",
       "    <tr>\n",
       "      <th>1498450</th>\n",
       "      <td>GENTSA LIMITED</td>\n",
       "      <td>CO6 3PX</td>\n",
       "      <td>Website not found</td>\n",
       "      <td>NaN</td>\n",
       "    </tr>\n",
       "    <tr>\n",
       "      <th>1442909</th>\n",
       "      <td>FULLSPEED SERVICES LP</td>\n",
       "      <td>EH5 1BN</td>\n",
       "      <td>Website not found</td>\n",
       "      <td>NaN</td>\n",
       "    </tr>\n",
       "    <tr>\n",
       "      <th>132642</th>\n",
       "      <td>ACUMU IT LIMITED</td>\n",
       "      <td>E3 3AY</td>\n",
       "      <td>Website not found</td>\n",
       "      <td>NaN</td>\n",
       "    </tr>\n",
       "    <tr>\n",
       "      <th>1598473</th>\n",
       "      <td>GRILL N GRILL LIMITED</td>\n",
       "      <td>EC1Y 0UJ</td>\n",
       "      <td>http://grillnpizza.com/</td>\n",
       "      <td>NaN</td>\n",
       "    </tr>\n",
       "    <tr>\n",
       "      <th>1980353</th>\n",
       "      <td>JOHN FAUSSET LIMITED</td>\n",
       "      <td>FY6 0HE</td>\n",
       "      <td>http://johnfausset.co.uk/</td>\n",
       "      <td>NaN</td>\n",
       "    </tr>\n",
       "    <tr>\n",
       "      <th>2952842</th>\n",
       "      <td>PRISENGINEERING LTD</td>\n",
       "      <td>WV4 5AP</td>\n",
       "      <td>Website not found</td>\n",
       "      <td>NaN</td>\n",
       "    </tr>\n",
       "    <tr>\n",
       "      <th>841492</th>\n",
       "      <td>COAL FACE DEVELOPMENT LIMITED</td>\n",
       "      <td>NE2 4PQ</td>\n",
       "      <td>Website not found</td>\n",
       "      <td>NaN</td>\n",
       "    </tr>\n",
       "  </tbody>\n",
       "</table>\n",
       "<p>100 rows × 4 columns</p>\n",
       "</div>"
      ],
      "text/plain": [
       "                                                 name  postcode  \\\n",
       "3029309                      R.B.W. DEVELOPMENTS LTD.  TQ14 8DP   \n",
       "2670409                    NOUVEAU'RA APPAREL LIMITED   UB4 0RA   \n",
       "2475224                      MIMI PARIS HOPPE LIMITED  RG27 9NN   \n",
       "3008042                             QUATRO HQ LIMITED  NG18 4FY   \n",
       "965152                       CW 10 PARK DRIVE LIMITED   E14 5AB   \n",
       "2269669                          LRW SUPPLIES LIMITED  LS12 3SS   \n",
       "2968399                        PROLOGUE MEDIA LIMITED  RG29 1PD   \n",
       "976549                       D J PALFREY SERVICES LTD   RM7 8AU   \n",
       "3036941                       RADIANT CLINICS LIMITED   L40 0SD   \n",
       "977514          D M D BUILDING & ROOFING SERVICES LTD   NR2 4TW   \n",
       "472531                                BERKUT IMPEX LP  ML11 0QW   \n",
       "1884158                        IT PROJECTIONS LIMITED   LS3 1BQ   \n",
       "839892                        CNK CONSULTANCY LIMITED   KT3 6DQ   \n",
       "420351                       BARKLEY ADVISORY LIMITED   SG4 0TW   \n",
       "621585                              BUILDVALE LIMITED   FK6 6QY   \n",
       "1696836  HENNIE PENNY'S CHICKEN (CLECKHEATON) LIMITED  BD19 3TT   \n",
       "2481191                             MIR POINT LIMITED   SE2 9PJ   \n",
       "3628014                         TEH INTERNETS LIMITED   IV2 5GJ   \n",
       "3361946                                   SINA UZ LTD    M4 6AG   \n",
       "2169399                      LEAMORE HOLDINGS LIMITED   WS2 7QZ   \n",
       "743458                                   CFHX LIMITED  LE15 6QQ   \n",
       "1995280                           JOYINFOTECH LIMITED   HA2 9EU   \n",
       "373706          AVERY ACCIDENT REPAIR SPECIALISTS LTD  SO40 2NA   \n",
       "3828825                              TRIGGERBUDDY LTD  SW19 2RR   \n",
       "1729455                              HN FOODS LIMITED   AL1 3RD   \n",
       "3027783              R. BROCKIE (CONTRACTING) LIMITED  EH45 8PP   \n",
       "3977745             WALTON PARK SPORTS CENTRE LIMITED   M33 4AG   \n",
       "737880                              CENTRALIS LIMITED  EC4N 6EU   \n",
       "3135206                      RIVERPLACE HOMES LIMITED   HA1 1BQ   \n",
       "3203400                      S & I PROPERTIES LIMITED  BT70 1SS   \n",
       "...                                               ...       ...   \n",
       "1798731                       ICONIC TRADE EVENTS LTD  WC1B 3QJ   \n",
       "3628389                      TEJASVI TECHNOLOGIES LTD  TW13 4FD   \n",
       "471164            BERKELEY BURKE SHELDON MONK LIMITED   LE1 7BR   \n",
       "2199546                               LIFE SHAPES LTD  SE17 1JE   \n",
       "204512                            ALI PARVIZI LIMITED  GL52 2BD   \n",
       "3572147                       SYDNEY ANALYSTS LIMITED  WA14 4RW   \n",
       "3205344                            S A HOLMES LIMITED   PR2 3AQ   \n",
       "3062905                          RDB PROJECTS LIMITED   BB4 7TU   \n",
       "1196026                        EDUC8 LEARNING LIMITED   SK6 2SR   \n",
       "1915541                    J.T. & E. CASTINGS LIMITED   WN1 2SA   \n",
       "1794185              IBIS BUDGET LEEDS CENTRE LIMITED    W6 7AP   \n",
       "911178                       COUNTRY HOMES UK LIMITED  CM16 5BD   \n",
       "2892475        PLANNING & PARTY WALL SERVICES LIMITED   E12 5EL   \n",
       "151195                         ADVENT WELFARE LIMITED  RH12 3JJ   \n",
       "121660                           ACE TYRES 4U LIMITED   HA1 2QD   \n",
       "3811972                      TRAFALGAR HOLDCO LIMITED  SE10 9NL   \n",
       "745290                                 CH ENERGY LTD.   CM2 0AP   \n",
       "2604931                            NESTED FOX LIMITED   EH6 5AY   \n",
       "894020                           COOPERS RECOVERY LTD  HP19 8DB   \n",
       "2220238                                   LITT UP LTD   W1B 3HH   \n",
       "617106                        BUCKINGHAM PUBS LIMITED   PO5 3HU   \n",
       "3614909                       TC DISTRIBUTION LIMITED   GU1 2ST   \n",
       "817476                                 CLC EVENTS LTD   SP4 0AB   \n",
       "1498450                                GENTSA LIMITED   CO6 3PX   \n",
       "1442909                         FULLSPEED SERVICES LP   EH5 1BN   \n",
       "132642                               ACUMU IT LIMITED    E3 3AY   \n",
       "1598473                         GRILL N GRILL LIMITED  EC1Y 0UJ   \n",
       "1980353                          JOHN FAUSSET LIMITED   FY6 0HE   \n",
       "2952842                           PRISENGINEERING LTD   WV4 5AP   \n",
       "841492                  COAL FACE DEVELOPMENT LIMITED   NE2 4PQ   \n",
       "\n",
       "                                                   website  website_2  \n",
       "3029309                                  Website not found        NaN  \n",
       "2670409                                  Website not found        NaN  \n",
       "2475224                                  Website not found        NaN  \n",
       "3008042                                  Website not found        NaN  \n",
       "965152                                   Website not found        NaN  \n",
       "2269669                                  Website not found        NaN  \n",
       "2968399                                  Website not found        NaN  \n",
       "976549                                   Website not found        NaN  \n",
       "3036941                http://www.radiantskinclinic.co.uk/        NaN  \n",
       "977514                                   Website not found        NaN  \n",
       "472531                                   Website not found        NaN  \n",
       "1884158                                  Website not found        NaN  \n",
       "839892                                   Website not found        NaN  \n",
       "420351                                   Website not found        NaN  \n",
       "621585                         http://www.buildvale.co.uk/        NaN  \n",
       "1696836  http://www.henniepennyschicken.co.uk/?utm_sour...        NaN  \n",
       "2481191                                  Website not found        NaN  \n",
       "3628014                                  Website not found        NaN  \n",
       "3361946                                  Website not found        NaN  \n",
       "2169399                                  Website not found        NaN  \n",
       "743458                                   Website not found        NaN  \n",
       "1995280                                  Website not found        NaN  \n",
       "373706                          http://www.woopzavery.com/        NaN  \n",
       "3828825                                  Website not found        NaN  \n",
       "1729455                                  Website not found        NaN  \n",
       "3027783                                  Website not found        NaN  \n",
       "3977745                           http://www.wpifc.org.uk/        NaN  \n",
       "737880                                   Website not found        NaN  \n",
       "3135206                                  Website not found        NaN  \n",
       "3203400                                  Website not found        NaN  \n",
       "...                                                    ...        ...  \n",
       "1798731                                  Website not found        NaN  \n",
       "3628389                                  Website not found        NaN  \n",
       "471164                       http://www.berkeleyburke.com/        NaN  \n",
       "2199546                       http://www.lifeshapes.co.uk/        NaN  \n",
       "204512                                   Website not found        NaN  \n",
       "3572147                                  Website not found        NaN  \n",
       "3205344                                  Website not found        NaN  \n",
       "3062905                                  Website not found        NaN  \n",
       "1196026                                  Website not found        NaN  \n",
       "1915541                     http://www.jte-castings.co.uk/        NaN  \n",
       "1794185                                  Website not found        NaN  \n",
       "911178                                   Website not found        NaN  \n",
       "2892475        http://www.nathanbuildingconsultants.co.uk/        NaN  \n",
       "151195                                   Website not found        NaN  \n",
       "121660                                   Website not found        NaN  \n",
       "3811972                                  Website not found        NaN  \n",
       "745290                                   Website not found        NaN  \n",
       "2604931                                  Website not found        NaN  \n",
       "894020                                   Website not found        NaN  \n",
       "2220238                                  Website not found        NaN  \n",
       "617106                                   Website not found        NaN  \n",
       "3614909                                  Website not found        NaN  \n",
       "817476                                   Website not found        NaN  \n",
       "1498450                                  Website not found        NaN  \n",
       "1442909                                  Website not found        NaN  \n",
       "132642                                   Website not found        NaN  \n",
       "1598473                            http://grillnpizza.com/        NaN  \n",
       "1980353                          http://johnfausset.co.uk/        NaN  \n",
       "2952842                                  Website not found        NaN  \n",
       "841492                                   Website not found        NaN  \n",
       "\n",
       "[100 rows x 4 columns]"
      ]
     },
     "execution_count": 246,
     "metadata": {},
     "output_type": "execute_result"
    }
   ],
   "source": [
    "ch_random_100"
   ]
  },
  {
   "cell_type": "code",
   "execution_count": 244,
   "metadata": {
    "collapsed": true
   },
   "outputs": [],
   "source": [
    "def standardise(company_name):\n",
    "    stopwords = ['limited','ltd','ltd.','lp']\n",
    "    querywords = str(company_name).split()\n",
    "    resultwords  = [word for word in querywords if word.lower() not in stopwords]\n",
    "    result = ' '.join(resultwords)\n",
    "    return result"
   ]
  },
  {
   "cell_type": "code",
   "execution_count": 248,
   "metadata": {
    "scrolled": true
   },
   "outputs": [],
   "source": [
    "ch_random_100['name_stripped'] = ch_random_100['name'].apply(standardise)"
   ]
  },
  {
   "cell_type": "code",
   "execution_count": 249,
   "metadata": {
    "collapsed": true
   },
   "outputs": [
    {
     "data": {
      "text/html": [
       "<div>\n",
       "<style>\n",
       "    .dataframe thead tr:only-child th {\n",
       "        text-align: right;\n",
       "    }\n",
       "\n",
       "    .dataframe thead th {\n",
       "        text-align: left;\n",
       "    }\n",
       "\n",
       "    .dataframe tbody tr th {\n",
       "        vertical-align: top;\n",
       "    }\n",
       "</style>\n",
       "<table border=\"1\" class=\"dataframe\">\n",
       "  <thead>\n",
       "    <tr style=\"text-align: right;\">\n",
       "      <th></th>\n",
       "      <th>name</th>\n",
       "      <th>postcode</th>\n",
       "      <th>website</th>\n",
       "      <th>website_2</th>\n",
       "      <th>name_stripped</th>\n",
       "    </tr>\n",
       "  </thead>\n",
       "  <tbody>\n",
       "    <tr>\n",
       "      <th>3029309</th>\n",
       "      <td>R.B.W. DEVELOPMENTS LTD.</td>\n",
       "      <td>TQ14 8DP</td>\n",
       "      <td>Website not found</td>\n",
       "      <td>NaN</td>\n",
       "      <td>R.B.W. DEVELOPMENTS</td>\n",
       "    </tr>\n",
       "    <tr>\n",
       "      <th>2670409</th>\n",
       "      <td>NOUVEAU'RA APPAREL LIMITED</td>\n",
       "      <td>UB4 0RA</td>\n",
       "      <td>Website not found</td>\n",
       "      <td>NaN</td>\n",
       "      <td>NOUVEAU'RA APPAREL</td>\n",
       "    </tr>\n",
       "    <tr>\n",
       "      <th>2475224</th>\n",
       "      <td>MIMI PARIS HOPPE LIMITED</td>\n",
       "      <td>RG27 9NN</td>\n",
       "      <td>Website not found</td>\n",
       "      <td>NaN</td>\n",
       "      <td>MIMI PARIS HOPPE</td>\n",
       "    </tr>\n",
       "    <tr>\n",
       "      <th>3008042</th>\n",
       "      <td>QUATRO HQ LIMITED</td>\n",
       "      <td>NG18 4FY</td>\n",
       "      <td>Website not found</td>\n",
       "      <td>NaN</td>\n",
       "      <td>QUATRO HQ</td>\n",
       "    </tr>\n",
       "    <tr>\n",
       "      <th>965152</th>\n",
       "      <td>CW 10 PARK DRIVE LIMITED</td>\n",
       "      <td>E14 5AB</td>\n",
       "      <td>Website not found</td>\n",
       "      <td>NaN</td>\n",
       "      <td>CW 10 PARK DRIVE</td>\n",
       "    </tr>\n",
       "    <tr>\n",
       "      <th>2269669</th>\n",
       "      <td>LRW SUPPLIES LIMITED</td>\n",
       "      <td>LS12 3SS</td>\n",
       "      <td>Website not found</td>\n",
       "      <td>NaN</td>\n",
       "      <td>LRW SUPPLIES</td>\n",
       "    </tr>\n",
       "    <tr>\n",
       "      <th>2968399</th>\n",
       "      <td>PROLOGUE MEDIA LIMITED</td>\n",
       "      <td>RG29 1PD</td>\n",
       "      <td>Website not found</td>\n",
       "      <td>NaN</td>\n",
       "      <td>PROLOGUE MEDIA</td>\n",
       "    </tr>\n",
       "    <tr>\n",
       "      <th>976549</th>\n",
       "      <td>D J PALFREY SERVICES LTD</td>\n",
       "      <td>RM7 8AU</td>\n",
       "      <td>Website not found</td>\n",
       "      <td>NaN</td>\n",
       "      <td>D J PALFREY SERVICES</td>\n",
       "    </tr>\n",
       "    <tr>\n",
       "      <th>3036941</th>\n",
       "      <td>RADIANT CLINICS LIMITED</td>\n",
       "      <td>L40 0SD</td>\n",
       "      <td>http://www.radiantskinclinic.co.uk/</td>\n",
       "      <td>NaN</td>\n",
       "      <td>RADIANT CLINICS</td>\n",
       "    </tr>\n",
       "    <tr>\n",
       "      <th>977514</th>\n",
       "      <td>D M D BUILDING &amp; ROOFING SERVICES LTD</td>\n",
       "      <td>NR2 4TW</td>\n",
       "      <td>Website not found</td>\n",
       "      <td>NaN</td>\n",
       "      <td>D M D BUILDING &amp; ROOFING SERVICES</td>\n",
       "    </tr>\n",
       "    <tr>\n",
       "      <th>472531</th>\n",
       "      <td>BERKUT IMPEX LP</td>\n",
       "      <td>ML11 0QW</td>\n",
       "      <td>Website not found</td>\n",
       "      <td>NaN</td>\n",
       "      <td>BERKUT IMPEX</td>\n",
       "    </tr>\n",
       "    <tr>\n",
       "      <th>1884158</th>\n",
       "      <td>IT PROJECTIONS LIMITED</td>\n",
       "      <td>LS3 1BQ</td>\n",
       "      <td>Website not found</td>\n",
       "      <td>NaN</td>\n",
       "      <td>IT PROJECTIONS</td>\n",
       "    </tr>\n",
       "    <tr>\n",
       "      <th>839892</th>\n",
       "      <td>CNK CONSULTANCY LIMITED</td>\n",
       "      <td>KT3 6DQ</td>\n",
       "      <td>Website not found</td>\n",
       "      <td>NaN</td>\n",
       "      <td>CNK CONSULTANCY</td>\n",
       "    </tr>\n",
       "    <tr>\n",
       "      <th>420351</th>\n",
       "      <td>BARKLEY ADVISORY LIMITED</td>\n",
       "      <td>SG4 0TW</td>\n",
       "      <td>Website not found</td>\n",
       "      <td>NaN</td>\n",
       "      <td>BARKLEY ADVISORY</td>\n",
       "    </tr>\n",
       "    <tr>\n",
       "      <th>621585</th>\n",
       "      <td>BUILDVALE LIMITED</td>\n",
       "      <td>FK6 6QY</td>\n",
       "      <td>http://www.buildvale.co.uk/</td>\n",
       "      <td>NaN</td>\n",
       "      <td>BUILDVALE</td>\n",
       "    </tr>\n",
       "    <tr>\n",
       "      <th>1696836</th>\n",
       "      <td>HENNIE PENNY'S CHICKEN (CLECKHEATON) LIMITED</td>\n",
       "      <td>BD19 3TT</td>\n",
       "      <td>http://www.henniepennyschicken.co.uk/?utm_sour...</td>\n",
       "      <td>NaN</td>\n",
       "      <td>HENNIE PENNY'S CHICKEN (CLECKHEATON)</td>\n",
       "    </tr>\n",
       "    <tr>\n",
       "      <th>2481191</th>\n",
       "      <td>MIR POINT LIMITED</td>\n",
       "      <td>SE2 9PJ</td>\n",
       "      <td>Website not found</td>\n",
       "      <td>NaN</td>\n",
       "      <td>MIR POINT</td>\n",
       "    </tr>\n",
       "    <tr>\n",
       "      <th>3628014</th>\n",
       "      <td>TEH INTERNETS LIMITED</td>\n",
       "      <td>IV2 5GJ</td>\n",
       "      <td>Website not found</td>\n",
       "      <td>NaN</td>\n",
       "      <td>TEH INTERNETS</td>\n",
       "    </tr>\n",
       "    <tr>\n",
       "      <th>3361946</th>\n",
       "      <td>SINA UZ LTD</td>\n",
       "      <td>M4 6AG</td>\n",
       "      <td>Website not found</td>\n",
       "      <td>NaN</td>\n",
       "      <td>SINA UZ</td>\n",
       "    </tr>\n",
       "    <tr>\n",
       "      <th>2169399</th>\n",
       "      <td>LEAMORE HOLDINGS LIMITED</td>\n",
       "      <td>WS2 7QZ</td>\n",
       "      <td>Website not found</td>\n",
       "      <td>NaN</td>\n",
       "      <td>LEAMORE HOLDINGS</td>\n",
       "    </tr>\n",
       "    <tr>\n",
       "      <th>743458</th>\n",
       "      <td>CFHX LIMITED</td>\n",
       "      <td>LE15 6QQ</td>\n",
       "      <td>Website not found</td>\n",
       "      <td>NaN</td>\n",
       "      <td>CFHX</td>\n",
       "    </tr>\n",
       "    <tr>\n",
       "      <th>1995280</th>\n",
       "      <td>JOYINFOTECH LIMITED</td>\n",
       "      <td>HA2 9EU</td>\n",
       "      <td>Website not found</td>\n",
       "      <td>NaN</td>\n",
       "      <td>JOYINFOTECH</td>\n",
       "    </tr>\n",
       "    <tr>\n",
       "      <th>373706</th>\n",
       "      <td>AVERY ACCIDENT REPAIR SPECIALISTS LTD</td>\n",
       "      <td>SO40 2NA</td>\n",
       "      <td>http://www.woopzavery.com/</td>\n",
       "      <td>NaN</td>\n",
       "      <td>AVERY ACCIDENT REPAIR SPECIALISTS</td>\n",
       "    </tr>\n",
       "    <tr>\n",
       "      <th>3828825</th>\n",
       "      <td>TRIGGERBUDDY LTD</td>\n",
       "      <td>SW19 2RR</td>\n",
       "      <td>Website not found</td>\n",
       "      <td>NaN</td>\n",
       "      <td>TRIGGERBUDDY</td>\n",
       "    </tr>\n",
       "    <tr>\n",
       "      <th>1729455</th>\n",
       "      <td>HN FOODS LIMITED</td>\n",
       "      <td>AL1 3RD</td>\n",
       "      <td>Website not found</td>\n",
       "      <td>NaN</td>\n",
       "      <td>HN FOODS</td>\n",
       "    </tr>\n",
       "    <tr>\n",
       "      <th>3027783</th>\n",
       "      <td>R. BROCKIE (CONTRACTING) LIMITED</td>\n",
       "      <td>EH45 8PP</td>\n",
       "      <td>Website not found</td>\n",
       "      <td>NaN</td>\n",
       "      <td>R. BROCKIE (CONTRACTING)</td>\n",
       "    </tr>\n",
       "    <tr>\n",
       "      <th>3977745</th>\n",
       "      <td>WALTON PARK SPORTS CENTRE LIMITED</td>\n",
       "      <td>M33 4AG</td>\n",
       "      <td>http://www.wpifc.org.uk/</td>\n",
       "      <td>NaN</td>\n",
       "      <td>WALTON PARK SPORTS CENTRE</td>\n",
       "    </tr>\n",
       "    <tr>\n",
       "      <th>737880</th>\n",
       "      <td>CENTRALIS LIMITED</td>\n",
       "      <td>EC4N 6EU</td>\n",
       "      <td>Website not found</td>\n",
       "      <td>NaN</td>\n",
       "      <td>CENTRALIS</td>\n",
       "    </tr>\n",
       "    <tr>\n",
       "      <th>3135206</th>\n",
       "      <td>RIVERPLACE HOMES LIMITED</td>\n",
       "      <td>HA1 1BQ</td>\n",
       "      <td>Website not found</td>\n",
       "      <td>NaN</td>\n",
       "      <td>RIVERPLACE HOMES</td>\n",
       "    </tr>\n",
       "    <tr>\n",
       "      <th>3203400</th>\n",
       "      <td>S &amp; I PROPERTIES LIMITED</td>\n",
       "      <td>BT70 1SS</td>\n",
       "      <td>Website not found</td>\n",
       "      <td>NaN</td>\n",
       "      <td>S &amp; I PROPERTIES</td>\n",
       "    </tr>\n",
       "    <tr>\n",
       "      <th>...</th>\n",
       "      <td>...</td>\n",
       "      <td>...</td>\n",
       "      <td>...</td>\n",
       "      <td>...</td>\n",
       "      <td>...</td>\n",
       "    </tr>\n",
       "    <tr>\n",
       "      <th>1798731</th>\n",
       "      <td>ICONIC TRADE EVENTS LTD</td>\n",
       "      <td>WC1B 3QJ</td>\n",
       "      <td>Website not found</td>\n",
       "      <td>NaN</td>\n",
       "      <td>ICONIC TRADE EVENTS</td>\n",
       "    </tr>\n",
       "    <tr>\n",
       "      <th>3628389</th>\n",
       "      <td>TEJASVI TECHNOLOGIES LTD</td>\n",
       "      <td>TW13 4FD</td>\n",
       "      <td>Website not found</td>\n",
       "      <td>NaN</td>\n",
       "      <td>TEJASVI TECHNOLOGIES</td>\n",
       "    </tr>\n",
       "    <tr>\n",
       "      <th>471164</th>\n",
       "      <td>BERKELEY BURKE SHELDON MONK LIMITED</td>\n",
       "      <td>LE1 7BR</td>\n",
       "      <td>http://www.berkeleyburke.com/</td>\n",
       "      <td>NaN</td>\n",
       "      <td>BERKELEY BURKE SHELDON MONK</td>\n",
       "    </tr>\n",
       "    <tr>\n",
       "      <th>2199546</th>\n",
       "      <td>LIFE SHAPES LTD</td>\n",
       "      <td>SE17 1JE</td>\n",
       "      <td>http://www.lifeshapes.co.uk/</td>\n",
       "      <td>NaN</td>\n",
       "      <td>LIFE SHAPES</td>\n",
       "    </tr>\n",
       "    <tr>\n",
       "      <th>204512</th>\n",
       "      <td>ALI PARVIZI LIMITED</td>\n",
       "      <td>GL52 2BD</td>\n",
       "      <td>Website not found</td>\n",
       "      <td>NaN</td>\n",
       "      <td>ALI PARVIZI</td>\n",
       "    </tr>\n",
       "    <tr>\n",
       "      <th>3572147</th>\n",
       "      <td>SYDNEY ANALYSTS LIMITED</td>\n",
       "      <td>WA14 4RW</td>\n",
       "      <td>Website not found</td>\n",
       "      <td>NaN</td>\n",
       "      <td>SYDNEY ANALYSTS</td>\n",
       "    </tr>\n",
       "    <tr>\n",
       "      <th>3205344</th>\n",
       "      <td>S A HOLMES LIMITED</td>\n",
       "      <td>PR2 3AQ</td>\n",
       "      <td>Website not found</td>\n",
       "      <td>NaN</td>\n",
       "      <td>S A HOLMES</td>\n",
       "    </tr>\n",
       "    <tr>\n",
       "      <th>3062905</th>\n",
       "      <td>RDB PROJECTS LIMITED</td>\n",
       "      <td>BB4 7TU</td>\n",
       "      <td>Website not found</td>\n",
       "      <td>NaN</td>\n",
       "      <td>RDB PROJECTS</td>\n",
       "    </tr>\n",
       "    <tr>\n",
       "      <th>1196026</th>\n",
       "      <td>EDUC8 LEARNING LIMITED</td>\n",
       "      <td>SK6 2SR</td>\n",
       "      <td>Website not found</td>\n",
       "      <td>NaN</td>\n",
       "      <td>EDUC8 LEARNING</td>\n",
       "    </tr>\n",
       "    <tr>\n",
       "      <th>1915541</th>\n",
       "      <td>J.T. &amp; E. CASTINGS LIMITED</td>\n",
       "      <td>WN1 2SA</td>\n",
       "      <td>http://www.jte-castings.co.uk/</td>\n",
       "      <td>NaN</td>\n",
       "      <td>J.T. &amp; E. CASTINGS</td>\n",
       "    </tr>\n",
       "    <tr>\n",
       "      <th>1794185</th>\n",
       "      <td>IBIS BUDGET LEEDS CENTRE LIMITED</td>\n",
       "      <td>W6 7AP</td>\n",
       "      <td>Website not found</td>\n",
       "      <td>NaN</td>\n",
       "      <td>IBIS BUDGET LEEDS CENTRE</td>\n",
       "    </tr>\n",
       "    <tr>\n",
       "      <th>911178</th>\n",
       "      <td>COUNTRY HOMES UK LIMITED</td>\n",
       "      <td>CM16 5BD</td>\n",
       "      <td>Website not found</td>\n",
       "      <td>NaN</td>\n",
       "      <td>COUNTRY HOMES UK</td>\n",
       "    </tr>\n",
       "    <tr>\n",
       "      <th>2892475</th>\n",
       "      <td>PLANNING &amp; PARTY WALL SERVICES LIMITED</td>\n",
       "      <td>E12 5EL</td>\n",
       "      <td>http://www.nathanbuildingconsultants.co.uk/</td>\n",
       "      <td>NaN</td>\n",
       "      <td>PLANNING &amp; PARTY WALL SERVICES</td>\n",
       "    </tr>\n",
       "    <tr>\n",
       "      <th>151195</th>\n",
       "      <td>ADVENT WELFARE LIMITED</td>\n",
       "      <td>RH12 3JJ</td>\n",
       "      <td>Website not found</td>\n",
       "      <td>NaN</td>\n",
       "      <td>ADVENT WELFARE</td>\n",
       "    </tr>\n",
       "    <tr>\n",
       "      <th>121660</th>\n",
       "      <td>ACE TYRES 4U LIMITED</td>\n",
       "      <td>HA1 2QD</td>\n",
       "      <td>Website not found</td>\n",
       "      <td>NaN</td>\n",
       "      <td>ACE TYRES 4U</td>\n",
       "    </tr>\n",
       "    <tr>\n",
       "      <th>3811972</th>\n",
       "      <td>TRAFALGAR HOLDCO LIMITED</td>\n",
       "      <td>SE10 9NL</td>\n",
       "      <td>Website not found</td>\n",
       "      <td>NaN</td>\n",
       "      <td>TRAFALGAR HOLDCO</td>\n",
       "    </tr>\n",
       "    <tr>\n",
       "      <th>745290</th>\n",
       "      <td>CH ENERGY LTD.</td>\n",
       "      <td>CM2 0AP</td>\n",
       "      <td>Website not found</td>\n",
       "      <td>NaN</td>\n",
       "      <td>CH ENERGY</td>\n",
       "    </tr>\n",
       "    <tr>\n",
       "      <th>2604931</th>\n",
       "      <td>NESTED FOX LIMITED</td>\n",
       "      <td>EH6 5AY</td>\n",
       "      <td>Website not found</td>\n",
       "      <td>NaN</td>\n",
       "      <td>NESTED FOX</td>\n",
       "    </tr>\n",
       "    <tr>\n",
       "      <th>894020</th>\n",
       "      <td>COOPERS RECOVERY LTD</td>\n",
       "      <td>HP19 8DB</td>\n",
       "      <td>Website not found</td>\n",
       "      <td>NaN</td>\n",
       "      <td>COOPERS RECOVERY</td>\n",
       "    </tr>\n",
       "    <tr>\n",
       "      <th>2220238</th>\n",
       "      <td>LITT UP LTD</td>\n",
       "      <td>W1B 3HH</td>\n",
       "      <td>Website not found</td>\n",
       "      <td>NaN</td>\n",
       "      <td>LITT UP</td>\n",
       "    </tr>\n",
       "    <tr>\n",
       "      <th>617106</th>\n",
       "      <td>BUCKINGHAM PUBS LIMITED</td>\n",
       "      <td>PO5 3HU</td>\n",
       "      <td>Website not found</td>\n",
       "      <td>NaN</td>\n",
       "      <td>BUCKINGHAM PUBS</td>\n",
       "    </tr>\n",
       "    <tr>\n",
       "      <th>3614909</th>\n",
       "      <td>TC DISTRIBUTION LIMITED</td>\n",
       "      <td>GU1 2ST</td>\n",
       "      <td>Website not found</td>\n",
       "      <td>NaN</td>\n",
       "      <td>TC DISTRIBUTION</td>\n",
       "    </tr>\n",
       "    <tr>\n",
       "      <th>817476</th>\n",
       "      <td>CLC EVENTS LTD</td>\n",
       "      <td>SP4 0AB</td>\n",
       "      <td>Website not found</td>\n",
       "      <td>NaN</td>\n",
       "      <td>CLC EVENTS</td>\n",
       "    </tr>\n",
       "    <tr>\n",
       "      <th>1498450</th>\n",
       "      <td>GENTSA LIMITED</td>\n",
       "      <td>CO6 3PX</td>\n",
       "      <td>Website not found</td>\n",
       "      <td>NaN</td>\n",
       "      <td>GENTSA</td>\n",
       "    </tr>\n",
       "    <tr>\n",
       "      <th>1442909</th>\n",
       "      <td>FULLSPEED SERVICES LP</td>\n",
       "      <td>EH5 1BN</td>\n",
       "      <td>Website not found</td>\n",
       "      <td>NaN</td>\n",
       "      <td>FULLSPEED SERVICES</td>\n",
       "    </tr>\n",
       "    <tr>\n",
       "      <th>132642</th>\n",
       "      <td>ACUMU IT LIMITED</td>\n",
       "      <td>E3 3AY</td>\n",
       "      <td>Website not found</td>\n",
       "      <td>NaN</td>\n",
       "      <td>ACUMU IT</td>\n",
       "    </tr>\n",
       "    <tr>\n",
       "      <th>1598473</th>\n",
       "      <td>GRILL N GRILL LIMITED</td>\n",
       "      <td>EC1Y 0UJ</td>\n",
       "      <td>http://grillnpizza.com/</td>\n",
       "      <td>NaN</td>\n",
       "      <td>GRILL N GRILL</td>\n",
       "    </tr>\n",
       "    <tr>\n",
       "      <th>1980353</th>\n",
       "      <td>JOHN FAUSSET LIMITED</td>\n",
       "      <td>FY6 0HE</td>\n",
       "      <td>http://johnfausset.co.uk/</td>\n",
       "      <td>NaN</td>\n",
       "      <td>JOHN FAUSSET</td>\n",
       "    </tr>\n",
       "    <tr>\n",
       "      <th>2952842</th>\n",
       "      <td>PRISENGINEERING LTD</td>\n",
       "      <td>WV4 5AP</td>\n",
       "      <td>Website not found</td>\n",
       "      <td>NaN</td>\n",
       "      <td>PRISENGINEERING</td>\n",
       "    </tr>\n",
       "    <tr>\n",
       "      <th>841492</th>\n",
       "      <td>COAL FACE DEVELOPMENT LIMITED</td>\n",
       "      <td>NE2 4PQ</td>\n",
       "      <td>Website not found</td>\n",
       "      <td>NaN</td>\n",
       "      <td>COAL FACE DEVELOPMENT</td>\n",
       "    </tr>\n",
       "  </tbody>\n",
       "</table>\n",
       "<p>100 rows × 5 columns</p>\n",
       "</div>"
      ],
      "text/plain": [
       "                                                 name  postcode  \\\n",
       "3029309                      R.B.W. DEVELOPMENTS LTD.  TQ14 8DP   \n",
       "2670409                    NOUVEAU'RA APPAREL LIMITED   UB4 0RA   \n",
       "2475224                      MIMI PARIS HOPPE LIMITED  RG27 9NN   \n",
       "3008042                             QUATRO HQ LIMITED  NG18 4FY   \n",
       "965152                       CW 10 PARK DRIVE LIMITED   E14 5AB   \n",
       "2269669                          LRW SUPPLIES LIMITED  LS12 3SS   \n",
       "2968399                        PROLOGUE MEDIA LIMITED  RG29 1PD   \n",
       "976549                       D J PALFREY SERVICES LTD   RM7 8AU   \n",
       "3036941                       RADIANT CLINICS LIMITED   L40 0SD   \n",
       "977514          D M D BUILDING & ROOFING SERVICES LTD   NR2 4TW   \n",
       "472531                                BERKUT IMPEX LP  ML11 0QW   \n",
       "1884158                        IT PROJECTIONS LIMITED   LS3 1BQ   \n",
       "839892                        CNK CONSULTANCY LIMITED   KT3 6DQ   \n",
       "420351                       BARKLEY ADVISORY LIMITED   SG4 0TW   \n",
       "621585                              BUILDVALE LIMITED   FK6 6QY   \n",
       "1696836  HENNIE PENNY'S CHICKEN (CLECKHEATON) LIMITED  BD19 3TT   \n",
       "2481191                             MIR POINT LIMITED   SE2 9PJ   \n",
       "3628014                         TEH INTERNETS LIMITED   IV2 5GJ   \n",
       "3361946                                   SINA UZ LTD    M4 6AG   \n",
       "2169399                      LEAMORE HOLDINGS LIMITED   WS2 7QZ   \n",
       "743458                                   CFHX LIMITED  LE15 6QQ   \n",
       "1995280                           JOYINFOTECH LIMITED   HA2 9EU   \n",
       "373706          AVERY ACCIDENT REPAIR SPECIALISTS LTD  SO40 2NA   \n",
       "3828825                              TRIGGERBUDDY LTD  SW19 2RR   \n",
       "1729455                              HN FOODS LIMITED   AL1 3RD   \n",
       "3027783              R. BROCKIE (CONTRACTING) LIMITED  EH45 8PP   \n",
       "3977745             WALTON PARK SPORTS CENTRE LIMITED   M33 4AG   \n",
       "737880                              CENTRALIS LIMITED  EC4N 6EU   \n",
       "3135206                      RIVERPLACE HOMES LIMITED   HA1 1BQ   \n",
       "3203400                      S & I PROPERTIES LIMITED  BT70 1SS   \n",
       "...                                               ...       ...   \n",
       "1798731                       ICONIC TRADE EVENTS LTD  WC1B 3QJ   \n",
       "3628389                      TEJASVI TECHNOLOGIES LTD  TW13 4FD   \n",
       "471164            BERKELEY BURKE SHELDON MONK LIMITED   LE1 7BR   \n",
       "2199546                               LIFE SHAPES LTD  SE17 1JE   \n",
       "204512                            ALI PARVIZI LIMITED  GL52 2BD   \n",
       "3572147                       SYDNEY ANALYSTS LIMITED  WA14 4RW   \n",
       "3205344                            S A HOLMES LIMITED   PR2 3AQ   \n",
       "3062905                          RDB PROJECTS LIMITED   BB4 7TU   \n",
       "1196026                        EDUC8 LEARNING LIMITED   SK6 2SR   \n",
       "1915541                    J.T. & E. CASTINGS LIMITED   WN1 2SA   \n",
       "1794185              IBIS BUDGET LEEDS CENTRE LIMITED    W6 7AP   \n",
       "911178                       COUNTRY HOMES UK LIMITED  CM16 5BD   \n",
       "2892475        PLANNING & PARTY WALL SERVICES LIMITED   E12 5EL   \n",
       "151195                         ADVENT WELFARE LIMITED  RH12 3JJ   \n",
       "121660                           ACE TYRES 4U LIMITED   HA1 2QD   \n",
       "3811972                      TRAFALGAR HOLDCO LIMITED  SE10 9NL   \n",
       "745290                                 CH ENERGY LTD.   CM2 0AP   \n",
       "2604931                            NESTED FOX LIMITED   EH6 5AY   \n",
       "894020                           COOPERS RECOVERY LTD  HP19 8DB   \n",
       "2220238                                   LITT UP LTD   W1B 3HH   \n",
       "617106                        BUCKINGHAM PUBS LIMITED   PO5 3HU   \n",
       "3614909                       TC DISTRIBUTION LIMITED   GU1 2ST   \n",
       "817476                                 CLC EVENTS LTD   SP4 0AB   \n",
       "1498450                                GENTSA LIMITED   CO6 3PX   \n",
       "1442909                         FULLSPEED SERVICES LP   EH5 1BN   \n",
       "132642                               ACUMU IT LIMITED    E3 3AY   \n",
       "1598473                         GRILL N GRILL LIMITED  EC1Y 0UJ   \n",
       "1980353                          JOHN FAUSSET LIMITED   FY6 0HE   \n",
       "2952842                           PRISENGINEERING LTD   WV4 5AP   \n",
       "841492                  COAL FACE DEVELOPMENT LIMITED   NE2 4PQ   \n",
       "\n",
       "                                                   website  website_2  \\\n",
       "3029309                                  Website not found        NaN   \n",
       "2670409                                  Website not found        NaN   \n",
       "2475224                                  Website not found        NaN   \n",
       "3008042                                  Website not found        NaN   \n",
       "965152                                   Website not found        NaN   \n",
       "2269669                                  Website not found        NaN   \n",
       "2968399                                  Website not found        NaN   \n",
       "976549                                   Website not found        NaN   \n",
       "3036941                http://www.radiantskinclinic.co.uk/        NaN   \n",
       "977514                                   Website not found        NaN   \n",
       "472531                                   Website not found        NaN   \n",
       "1884158                                  Website not found        NaN   \n",
       "839892                                   Website not found        NaN   \n",
       "420351                                   Website not found        NaN   \n",
       "621585                         http://www.buildvale.co.uk/        NaN   \n",
       "1696836  http://www.henniepennyschicken.co.uk/?utm_sour...        NaN   \n",
       "2481191                                  Website not found        NaN   \n",
       "3628014                                  Website not found        NaN   \n",
       "3361946                                  Website not found        NaN   \n",
       "2169399                                  Website not found        NaN   \n",
       "743458                                   Website not found        NaN   \n",
       "1995280                                  Website not found        NaN   \n",
       "373706                          http://www.woopzavery.com/        NaN   \n",
       "3828825                                  Website not found        NaN   \n",
       "1729455                                  Website not found        NaN   \n",
       "3027783                                  Website not found        NaN   \n",
       "3977745                           http://www.wpifc.org.uk/        NaN   \n",
       "737880                                   Website not found        NaN   \n",
       "3135206                                  Website not found        NaN   \n",
       "3203400                                  Website not found        NaN   \n",
       "...                                                    ...        ...   \n",
       "1798731                                  Website not found        NaN   \n",
       "3628389                                  Website not found        NaN   \n",
       "471164                       http://www.berkeleyburke.com/        NaN   \n",
       "2199546                       http://www.lifeshapes.co.uk/        NaN   \n",
       "204512                                   Website not found        NaN   \n",
       "3572147                                  Website not found        NaN   \n",
       "3205344                                  Website not found        NaN   \n",
       "3062905                                  Website not found        NaN   \n",
       "1196026                                  Website not found        NaN   \n",
       "1915541                     http://www.jte-castings.co.uk/        NaN   \n",
       "1794185                                  Website not found        NaN   \n",
       "911178                                   Website not found        NaN   \n",
       "2892475        http://www.nathanbuildingconsultants.co.uk/        NaN   \n",
       "151195                                   Website not found        NaN   \n",
       "121660                                   Website not found        NaN   \n",
       "3811972                                  Website not found        NaN   \n",
       "745290                                   Website not found        NaN   \n",
       "2604931                                  Website not found        NaN   \n",
       "894020                                   Website not found        NaN   \n",
       "2220238                                  Website not found        NaN   \n",
       "617106                                   Website not found        NaN   \n",
       "3614909                                  Website not found        NaN   \n",
       "817476                                   Website not found        NaN   \n",
       "1498450                                  Website not found        NaN   \n",
       "1442909                                  Website not found        NaN   \n",
       "132642                                   Website not found        NaN   \n",
       "1598473                            http://grillnpizza.com/        NaN   \n",
       "1980353                          http://johnfausset.co.uk/        NaN   \n",
       "2952842                                  Website not found        NaN   \n",
       "841492                                   Website not found        NaN   \n",
       "\n",
       "                                name_stripped  \n",
       "3029309                   R.B.W. DEVELOPMENTS  \n",
       "2670409                    NOUVEAU'RA APPAREL  \n",
       "2475224                      MIMI PARIS HOPPE  \n",
       "3008042                             QUATRO HQ  \n",
       "965152                       CW 10 PARK DRIVE  \n",
       "2269669                          LRW SUPPLIES  \n",
       "2968399                        PROLOGUE MEDIA  \n",
       "976549                   D J PALFREY SERVICES  \n",
       "3036941                       RADIANT CLINICS  \n",
       "977514      D M D BUILDING & ROOFING SERVICES  \n",
       "472531                           BERKUT IMPEX  \n",
       "1884158                        IT PROJECTIONS  \n",
       "839892                        CNK CONSULTANCY  \n",
       "420351                       BARKLEY ADVISORY  \n",
       "621585                              BUILDVALE  \n",
       "1696836  HENNIE PENNY'S CHICKEN (CLECKHEATON)  \n",
       "2481191                             MIR POINT  \n",
       "3628014                         TEH INTERNETS  \n",
       "3361946                               SINA UZ  \n",
       "2169399                      LEAMORE HOLDINGS  \n",
       "743458                                   CFHX  \n",
       "1995280                           JOYINFOTECH  \n",
       "373706      AVERY ACCIDENT REPAIR SPECIALISTS  \n",
       "3828825                          TRIGGERBUDDY  \n",
       "1729455                              HN FOODS  \n",
       "3027783              R. BROCKIE (CONTRACTING)  \n",
       "3977745             WALTON PARK SPORTS CENTRE  \n",
       "737880                              CENTRALIS  \n",
       "3135206                      RIVERPLACE HOMES  \n",
       "3203400                      S & I PROPERTIES  \n",
       "...                                       ...  \n",
       "1798731                   ICONIC TRADE EVENTS  \n",
       "3628389                  TEJASVI TECHNOLOGIES  \n",
       "471164            BERKELEY BURKE SHELDON MONK  \n",
       "2199546                           LIFE SHAPES  \n",
       "204512                            ALI PARVIZI  \n",
       "3572147                       SYDNEY ANALYSTS  \n",
       "3205344                            S A HOLMES  \n",
       "3062905                          RDB PROJECTS  \n",
       "1196026                        EDUC8 LEARNING  \n",
       "1915541                    J.T. & E. CASTINGS  \n",
       "1794185              IBIS BUDGET LEEDS CENTRE  \n",
       "911178                       COUNTRY HOMES UK  \n",
       "2892475        PLANNING & PARTY WALL SERVICES  \n",
       "151195                         ADVENT WELFARE  \n",
       "121660                           ACE TYRES 4U  \n",
       "3811972                      TRAFALGAR HOLDCO  \n",
       "745290                              CH ENERGY  \n",
       "2604931                            NESTED FOX  \n",
       "894020                       COOPERS RECOVERY  \n",
       "2220238                               LITT UP  \n",
       "617106                        BUCKINGHAM PUBS  \n",
       "3614909                       TC DISTRIBUTION  \n",
       "817476                             CLC EVENTS  \n",
       "1498450                                GENTSA  \n",
       "1442909                    FULLSPEED SERVICES  \n",
       "132642                               ACUMU IT  \n",
       "1598473                         GRILL N GRILL  \n",
       "1980353                          JOHN FAUSSET  \n",
       "2952842                       PRISENGINEERING  \n",
       "841492                  COAL FACE DEVELOPMENT  \n",
       "\n",
       "[100 rows x 5 columns]"
      ]
     },
     "execution_count": 249,
     "metadata": {},
     "output_type": "execute_result"
    }
   ],
   "source": [
    "ch_random_100"
   ]
  },
  {
   "cell_type": "code",
   "execution_count": 259,
   "metadata": {
    "collapsed": true
   },
   "outputs": [
    {
     "name": "stdout",
     "output_type": "stream",
     "text": [
      "1 - R.B.W. DEVELOPMENTS - TQ14 8DP - Website not found\n",
      "1 - NOUVEAU'RA APPAREL - UB4 0RA - Website not found\n",
      "1 - MIMI PARIS HOPPE - RG27 9NN - Website not found\n",
      "1 - QUATRO HQ - NG18 4FY - Website not found\n",
      "1 - CW 10 PARK DRIVE - E14 5AB - Website not found\n",
      "1 - LRW SUPPLIES - LS12 3SS - Website not found\n",
      "1 - PROLOGUE MEDIA - RG29 1PD - Website not found\n",
      "1 - D J PALFREY SERVICES - RM7 8AU - Website not found\n",
      "1 - RADIANT CLINICS - L40 0SD - http://www.radiantliving.co.uk/\n",
      "1 - D M D BUILDING & ROOFING SERVICES - NR2 4TW - Website not found\n",
      "1 - BERKUT IMPEX - ML11 0QW - Website not found\n",
      "1 - IT PROJECTIONS - LS3 1BQ - Website not found\n",
      "1 - CNK CONSULTANCY - KT3 6DQ - Website not found\n",
      "1 - BARKLEY ADVISORY - SG4 0TW - Website not found\n",
      "1 - BUILDVALE - FK6 6QY - http://www.buildvale.co.uk/\n",
      "1 - HENNIE PENNY'S CHICKEN (CLECKHEATON) - BD19 3TT - http://www.henniepennyschicken.co.uk/?utm_source=google&utm_medium=organic&utm_campaign=google%20places\n",
      "1 - MIR POINT - SE2 9PJ - Website not found\n",
      "1 - TEH INTERNETS - IV2 5GJ - Website not found\n",
      "1 - SINA UZ - M4 6AG - Website not found\n",
      "1 - LEAMORE HOLDINGS - WS2 7QZ - Website not found\n",
      "1 - CFHX - LE15 6QQ - Website not found\n",
      "1 - JOYINFOTECH - HA2 9EU - Website not found\n",
      "1 - AVERY ACCIDENT REPAIR SPECIALISTS - SO40 2NA - http://www.woopzavery.com/\n",
      "1 - TRIGGERBUDDY - SW19 2RR - Website not found\n",
      "1 - HN FOODS - AL1 3RD - Website not found\n",
      "1 - R. BROCKIE (CONTRACTING) - EH45 8PP - Website not found\n",
      "1 - WALTON PARK SPORTS CENTRE - M33 4AG - http://www.wpifc.org.uk/\n",
      "1 - CENTRALIS - EC4N 6EU - http://www.centralis.co.uk/\n",
      "1 - RIVERPLACE HOMES - HA1 1BQ - Website not found\n",
      "1 - S & I PROPERTIES - BT70 1SS - Website not found\n",
      "1 - TURNAIR SERVICES - LU5 6LZ - http://www.turnairservices.org.uk/\n",
      "1 - BOYLEMAN & CO. - N1 9LQ - Website not found\n",
      "1 - INHERTS DESIGN - AL9 7NZ - Website not found\n",
      "1 - BEACON FINANCIAL MANAGEMENT - N18 2UL - Website not found\n",
      "1 - TUMBLE TOWN PLAY CENTRE - NG5 7DS - http://tumbletownplaycentre.co.uk/\n",
      "1 - MARINER COMMUNICATIONS - BN1 6SB - Website not found\n",
      "1 - GRANITE BUILDING COMPANY - LE12 7TZ - Website not found\n",
      "1 - NII NOI CREATIVE SOLUTIONS - RM12 5AJ - Website not found\n",
      "1 - CLARA'S SHOP - YO21 3NR - Website not found\n",
      "1 - L&K MEDI-REC COLLATIVE SERVICES - CW8 4TE - Website not found\n",
      "1 - UTTA TRADING - N1 7GU - Website not found\n",
      "1 - HOXTON VENTURES II, C.V. L.P. - EH3 9WJ - Website not found\n",
      "1 - SOVEREIGN LOANS - SE5 8RS - Website not found\n",
      "1 - SOFTWARE TESTING CONSULTANTS - DH9 8TQ - Website not found\n",
      "1 - BANDA SPORTSWEAR - NR16 1EY - Website not found\n",
      "1 - D-CIPHER SOFTWARE - PR2 9LY - Website not found\n",
      "1 - AC GARDEN MACHINERY - RM15 5BF - Website not found\n",
      "1 - LEVELCOMP - EN11 0QN - Website not found\n",
      "1 - ONE TEN GLOBAL - IG1 1LL - Website not found\n",
      "1 - PANTA EDIL LONDON - W5 3UJ - Website not found\n",
      "1 - ENTRUST ENGAGE INTERNATIONAL - EC1V 3QJ - Website not found\n",
      "1 - ONESPACEMAN - KY7 5NA - Website not found\n",
      "1 - GULAHMAD FASHIONS - OL16 1PN - Website not found\n",
      "1 - PC CLINICAL SERVICES - SL6 4UY - Website not found\n",
      "1 - KTIMAGING - SO14 2AA - Website not found\n",
      "1 - R & C WILLIAMS - B24 8NP - http://www.randcwilliams.ltd.uk/\n",
      "1 - DANNY PIG - LS28 5JA - Website not found\n",
      "1 - HANDCODED SOFTWARE - RG6 4AZ - Website not found\n",
      "1 - G&M DIRECT CARS - W5 1DT - https://www.g-star.com/?utm_source=googlemybusiness&utm_medium=organic&utm_campaign=GB_G-StarRAWStore_LondonWhiteCity&utm_content=listing\n",
      "1 - BROCKENHURST RESIDENTS ASSOCIATION - RH14 0JG - Website not found\n",
      "1 - GOOD ENERGY TIDAL - SN15 1EE - Website not found\n",
      "1 - CRAM ELECTRICAL - ML3 0QQ - Website not found\n",
      "1 - THE OLD CO-OP CAFE BAR (CONSETT) - DH8 5LQ - Website not found\n",
      "1 - PAUL HUGHES ENGINEERING - BT34 4XF - Website not found\n",
      "1 - DIVERS IT - G77 6GN - Website not found\n",
      "1 - 1200 PLUS - SE22 8TP - Website not found\n",
      "1 - ELSA CONTRACTS - FK6 6DJ - Website not found\n",
      "1 - BENSON DENTAL PRACTICE - B15 2LD - http://www.sabensondental.co.uk/\n",
      "1 - NEWPARK FARMS - BT78 3JY - Website not found\n",
      "1 - DESKS INTERNATIONAL - BT2 7JD - http://www.desksinternational.com/\n",
      "1 - ICONIC TRADE EVENTS - WC1B 3QJ - Website not found\n",
      "1 - TEJASVI TECHNOLOGIES - TW13 4FD - Website not found\n",
      "1 - BERKELEY BURKE SHELDON MONK - LE1 7BR - http://www.berkeleyburke.com/\n",
      "1 - LIFE SHAPES - SE17 1JE - http://www.lifeshapes.co.uk/\n",
      "1 - ALI PARVIZI - GL52 2BD - Website not found\n",
      "1 - SYDNEY ANALYSTS - WA14 4RW - Website not found\n",
      "1 - S A HOLMES - PR2 3AQ - Website not found\n",
      "1 - RDB PROJECTS - BB4 7TU - Website not found\n",
      "1 - EDUC8 LEARNING - SK6 2SR - Website not found\n",
      "1 - J.T. & E. CASTINGS - WN1 2SA - http://www.jte-castings.co.uk/\n",
      "1 - IBIS BUDGET LEEDS CENTRE - W6 7AP - Website not found\n",
      "1 - COUNTRY HOMES UK - CM16 5BD - http://www.fineandcountry.com/\n",
      "1 - PLANNING & PARTY WALL SERVICES - E12 5EL - http://www.nathanbuildingconsultants.co.uk/\n",
      "1 - ADVENT WELFARE - RH12 3JJ - Website not found\n",
      "1 - ACE TYRES 4U - HA1 2QD - Website not found\n",
      "1 - TRAFALGAR HOLDCO - SE10 9NL - Website not found\n",
      "1 - CH ENERGY - CM2 0AP - Website not found\n",
      "1 - NESTED FOX - EH6 5AY - Website not found\n",
      "1 - COOPERS RECOVERY - HP19 8DB - Website not found\n",
      "1 - LITT UP - W1B 3HH - Website not found\n",
      "1 - BUCKINGHAM PUBS - PO5 3HU - Website not found\n",
      "1 - TC DISTRIBUTION - GU1 2ST - Website not found\n",
      "1 - CLC EVENTS - SP4 0AB - Website not found\n",
      "1 - GENTSA - CO6 3PX - Website not found\n",
      "1 - FULLSPEED SERVICES - EH5 1BN - Website not found\n",
      "1 - ACUMU IT - E3 3AY - Website not found\n",
      "1 - GRILL N GRILL - EC1Y 0UJ - Website not found\n",
      "1 - JOHN FAUSSET - FY6 0HE - http://johnfausset.co.uk/\n",
      "1 - PRISENGINEERING - WV4 5AP - Website not found\n",
      "1 - COAL FACE DEVELOPMENT - NE2 4PQ - Website not found\n"
     ]
    }
   ],
   "source": [
    "# Retrieve websites for each company with a for loop\n",
    "i = 1\n",
    "for index, row in ch_random_100.iterrows():\n",
    "    ch_random_100.loc[index,'website_2'] = return_website(row[4],row[1])\n",
    "    print(str(i) + ' - ' + str(row[4]) + ' - ' + str(row[1]) + ' - ' + str(row[3]))\n",
    "    i += 1\n",
    "    sleep(0.5)"
   ]
  },
  {
   "cell_type": "code",
   "execution_count": 262,
   "metadata": {},
   "outputs": [
    {
     "data": {
      "text/plain": [
       "Website not found                 82\n",
       "http://www.jte-castings.co.uk/     1\n",
       "http://www.centralis.co.uk/        1\n",
       "http://www.buildvale.co.uk/        1\n",
       "http://johnfausset.co.uk/          1\n",
       "Name: website_2, dtype: int64"
      ]
     },
     "execution_count": 262,
     "metadata": {},
     "output_type": "execute_result"
    }
   ],
   "source": [
    "ch_random_100['website_2'].value_counts().head() # 18 websites out of 100, lose some cases, gain others"
   ]
  },
  {
   "cell_type": "code",
   "execution_count": 261,
   "metadata": {
    "collapsed": true
   },
   "outputs": [],
   "source": [
    "ch_random_100.to_csv('sample_of_100_websites_2.csv') # save results"
   ]
  }
 ],
 "metadata": {
  "kernelspec": {
   "display_name": "Python 3",
   "language": "python",
   "name": "python3"
  },
  "language_info": {
   "codemirror_mode": {
    "name": "ipython",
    "version": 3
   },
   "file_extension": ".py",
   "mimetype": "text/x-python",
   "name": "python",
   "nbconvert_exporter": "python",
   "pygments_lexer": "ipython3",
   "version": "3.6.4"
  },
  "toc": {
   "nav_menu": {},
   "number_sections": true,
   "sideBar": false,
   "skip_h1_title": true,
   "title_cell": "Table of Contents",
   "title_sidebar": "Contents",
   "toc_cell": false,
   "toc_position": {
    "height": "830px",
    "left": "1103px",
    "top": "674.5px",
    "width": "233px"
   },
   "toc_section_display": true,
   "toc_window_display": true
  }
 },
 "nbformat": 4,
 "nbformat_minor": 2
}
