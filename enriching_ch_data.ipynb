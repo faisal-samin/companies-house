{
 "cells": [
  {
   "cell_type": "markdown",
   "metadata": {},
   "source": [
    "# Enriching Companies House data"
   ]
  },
  {
   "cell_type": "markdown",
   "metadata": {},
   "source": [
    "![title](Images/ch_screenshot.png)"
   ]
  },
  {
   "cell_type": "markdown",
   "metadata": {},
   "source": [
    "This notebook gives an overview on how business data from Companies House is imported, formatting and then enriched by exploiting various APIs and websites. Examples of applications include:\n",
    "-  Retrieving official company websites using Google Places API\n",
    "-  Scraping websites to get keywords to classify the industry of businesses.\n",
    "-  Obtaining social media accounts and handles for companies and then use these to get a proxy for their web presence (number of followers, likes etc.)"
   ]
  },
  {
   "cell_type": "markdown",
   "metadata": {},
   "source": [
    "## Importing data"
   ]
  },
  {
   "cell_type": "markdown",
   "metadata": {},
   "source": [
    "The Free Company Data Product is a downloadable data snapshot containing basic company data of live companies on the Companies House register, and is the principal dataset for this project. This is updated monthly and needs to be downloaded before importing as a pandas dataframe. First, we need to import some modules..."
   ]
  },
  {
   "cell_type": "markdown",
   "metadata": {},
   "source": [
    "### Modules"
   ]
  },
  {
   "cell_type": "markdown",
   "metadata": {},
   "source": [
    "-  Pandas: provide easy-to-use data structures in Python\n",
    "-  Numpy: provides fast and efficient multidimensional arrays, in addition to linear algebra and mathematical operations.\n",
    "-  Matplotlib: provides plot to visualise data"
   ]
  },
  {
   "cell_type": "code",
   "execution_count": 1,
   "metadata": {},
   "outputs": [],
   "source": [
    "import pandas as pd\n",
    "from pandas import DataFrame, Series\n",
    "import numpy as np\n",
    "\n",
    "import matplotlib.pyplot as plt\n",
    "# Increase figure and font sizes for easier viewing\n",
    "plt.rcParams['figure.figsize'] = (8, 6)\n",
    "plt.rcParams['font.size'] = 14"
   ]
  },
  {
   "cell_type": "markdown",
   "metadata": {},
   "source": [
    "### Loading and formatting Companies House dataset"
   ]
  },
  {
   "cell_type": "markdown",
   "metadata": {},
   "source": [
    "The latest version of the Free Company Data Product can be downloaded here. http://download.companieshouse.gov.uk/en_output.html. The zip file that is downloaded is approximately 300MB, and the raw CSV file around 2GB. Once downloaded, ensure that the data is saved in the root folder of this notebook (or amend directory as required)."
   ]
  },
  {
   "cell_type": "code",
   "execution_count": 2,
   "metadata": {},
   "outputs": [
    {
     "name": "stderr",
     "output_type": "stream",
     "text": [
      "/Library/Frameworks/Python.framework/Versions/3.6/lib/python3.6/site-packages/IPython/core/interactiveshell.py:2728: DtypeWarning: Columns (41,42,43,44,45,46,47,48,49,50,51,52) have mixed types. Specify dtype option on import or set low_memory=False.\n",
      "  interactivity=interactivity, compiler=compiler, result=result)\n"
     ]
    }
   ],
   "source": [
    "# to-do: investigate warning on mixed data types\n",
    "ch_raw = pd.read_csv('/Users/dataexploitationmac1/Desktop/Faisal/Datasets/BasicCompanyDataAsOneFile-2018-02-01.csv')"
   ]
  },
  {
   "cell_type": "code",
   "execution_count": 3,
   "metadata": {
    "scrolled": true
   },
   "outputs": [
    {
     "data": {
      "text/html": [
       "<div>\n",
       "<style scoped>\n",
       "    .dataframe tbody tr th:only-of-type {\n",
       "        vertical-align: middle;\n",
       "    }\n",
       "\n",
       "    .dataframe tbody tr th {\n",
       "        vertical-align: top;\n",
       "    }\n",
       "\n",
       "    .dataframe thead th {\n",
       "        text-align: right;\n",
       "    }\n",
       "</style>\n",
       "<table border=\"1\" class=\"dataframe\">\n",
       "  <thead>\n",
       "    <tr style=\"text-align: right;\">\n",
       "      <th></th>\n",
       "      <th>CompanyName</th>\n",
       "      <th>CompanyNumber</th>\n",
       "      <th>RegAddress.CareOf</th>\n",
       "      <th>RegAddress.POBox</th>\n",
       "      <th>RegAddress.AddressLine1</th>\n",
       "      <th>RegAddress.AddressLine2</th>\n",
       "      <th>RegAddress.PostTown</th>\n",
       "      <th>RegAddress.County</th>\n",
       "      <th>RegAddress.Country</th>\n",
       "      <th>RegAddress.PostCode</th>\n",
       "      <th>...</th>\n",
       "      <th>PreviousName_7.CONDATE</th>\n",
       "      <th>PreviousName_7.CompanyName</th>\n",
       "      <th>PreviousName_8.CONDATE</th>\n",
       "      <th>PreviousName_8.CompanyName</th>\n",
       "      <th>PreviousName_9.CONDATE</th>\n",
       "      <th>PreviousName_9.CompanyName</th>\n",
       "      <th>PreviousName_10.CONDATE</th>\n",
       "      <th>PreviousName_10.CompanyName</th>\n",
       "      <th>ConfStmtNextDueDate</th>\n",
       "      <th>ConfStmtLastMadeUpDate</th>\n",
       "    </tr>\n",
       "  </thead>\n",
       "  <tbody>\n",
       "    <tr>\n",
       "      <th>0</th>\n",
       "      <td>! LTD</td>\n",
       "      <td>08209948</td>\n",
       "      <td>NaN</td>\n",
       "      <td>NaN</td>\n",
       "      <td>METROHOUSE 57 PEPPER ROAD</td>\n",
       "      <td>HUNSLET</td>\n",
       "      <td>LEEDS</td>\n",
       "      <td>YORKSHIRE</td>\n",
       "      <td>NaN</td>\n",
       "      <td>LS10 2RU</td>\n",
       "      <td>...</td>\n",
       "      <td>NaN</td>\n",
       "      <td>NaN</td>\n",
       "      <td>NaN</td>\n",
       "      <td>NaN</td>\n",
       "      <td>NaN</td>\n",
       "      <td>NaN</td>\n",
       "      <td>NaN</td>\n",
       "      <td>NaN</td>\n",
       "      <td>25/09/2019</td>\n",
       "      <td>11/09/2017</td>\n",
       "    </tr>\n",
       "    <tr>\n",
       "      <th>1</th>\n",
       "      <td>!BIG IMPACT GRAPHICS LIMITED</td>\n",
       "      <td>07382019</td>\n",
       "      <td>NaN</td>\n",
       "      <td>NaN</td>\n",
       "      <td>335 ROSDEN HOUSE</td>\n",
       "      <td>372 OLD STREET</td>\n",
       "      <td>LONDON</td>\n",
       "      <td>NaN</td>\n",
       "      <td>NaN</td>\n",
       "      <td>EC1V 9AV</td>\n",
       "      <td>...</td>\n",
       "      <td>NaN</td>\n",
       "      <td>NaN</td>\n",
       "      <td>NaN</td>\n",
       "      <td>NaN</td>\n",
       "      <td>NaN</td>\n",
       "      <td>NaN</td>\n",
       "      <td>NaN</td>\n",
       "      <td>NaN</td>\n",
       "      <td>05/10/2019</td>\n",
       "      <td>21/09/2016</td>\n",
       "    </tr>\n",
       "    <tr>\n",
       "      <th>2</th>\n",
       "      <td>!NNOV8 LIMITED</td>\n",
       "      <td>11006939</td>\n",
       "      <td>NaN</td>\n",
       "      <td>NaN</td>\n",
       "      <td>C/O FRANK HIRTH 1ST FLOOR</td>\n",
       "      <td>236 GRAY'S INN ROAD</td>\n",
       "      <td>LONDON</td>\n",
       "      <td>NaN</td>\n",
       "      <td>UNITED KINGDOM</td>\n",
       "      <td>WC1X 8HB</td>\n",
       "      <td>...</td>\n",
       "      <td>NaN</td>\n",
       "      <td>NaN</td>\n",
       "      <td>NaN</td>\n",
       "      <td>NaN</td>\n",
       "      <td>NaN</td>\n",
       "      <td>NaN</td>\n",
       "      <td>NaN</td>\n",
       "      <td>NaN</td>\n",
       "      <td>24/10/2019</td>\n",
       "      <td>NaN</td>\n",
       "    </tr>\n",
       "    <tr>\n",
       "      <th>3</th>\n",
       "      <td>!NSPIRED LTD</td>\n",
       "      <td>SC421617</td>\n",
       "      <td>NaN</td>\n",
       "      <td>NaN</td>\n",
       "      <td>26 POLMUIR ROAD</td>\n",
       "      <td>NaN</td>\n",
       "      <td>ABERDEEN</td>\n",
       "      <td>NaN</td>\n",
       "      <td>UNITED KINGDOM</td>\n",
       "      <td>AB11 7SY</td>\n",
       "      <td>...</td>\n",
       "      <td>NaN</td>\n",
       "      <td>NaN</td>\n",
       "      <td>NaN</td>\n",
       "      <td>NaN</td>\n",
       "      <td>NaN</td>\n",
       "      <td>NaN</td>\n",
       "      <td>NaN</td>\n",
       "      <td>NaN</td>\n",
       "      <td>25/04/2020</td>\n",
       "      <td>11/04/2017</td>\n",
       "    </tr>\n",
       "    <tr>\n",
       "      <th>4</th>\n",
       "      <td>!NVERTD DESIGNS LIMITED</td>\n",
       "      <td>09152972</td>\n",
       "      <td>NaN</td>\n",
       "      <td>NaN</td>\n",
       "      <td>55A HIGH STREET</td>\n",
       "      <td>NaN</td>\n",
       "      <td>SILSOE</td>\n",
       "      <td>BEDFORDSHIRE</td>\n",
       "      <td>NaN</td>\n",
       "      <td>MK45 4EW</td>\n",
       "      <td>...</td>\n",
       "      <td>NaN</td>\n",
       "      <td>NaN</td>\n",
       "      <td>NaN</td>\n",
       "      <td>NaN</td>\n",
       "      <td>NaN</td>\n",
       "      <td>NaN</td>\n",
       "      <td>NaN</td>\n",
       "      <td>NaN</td>\n",
       "      <td>13/08/2020</td>\n",
       "      <td>30/07/2017</td>\n",
       "    </tr>\n",
       "    <tr>\n",
       "      <th>5</th>\n",
       "      <td>!OBAC LIMITED</td>\n",
       "      <td>FC031362</td>\n",
       "      <td>NaN</td>\n",
       "      <td>NaN</td>\n",
       "      <td>1ST AND 2ND FLOORS ELIZABETH HOUSE</td>\n",
       "      <td>LES RUETIES BRAYES</td>\n",
       "      <td>ST PETER PORT</td>\n",
       "      <td>GUERNSEY</td>\n",
       "      <td>GUERNSEY</td>\n",
       "      <td>GY1 1EW</td>\n",
       "      <td>...</td>\n",
       "      <td>NaN</td>\n",
       "      <td>NaN</td>\n",
       "      <td>NaN</td>\n",
       "      <td>NaN</td>\n",
       "      <td>NaN</td>\n",
       "      <td>NaN</td>\n",
       "      <td>NaN</td>\n",
       "      <td>NaN</td>\n",
       "      <td>NaN</td>\n",
       "      <td>NaN</td>\n",
       "    </tr>\n",
       "    <tr>\n",
       "      <th>6</th>\n",
       "      <td>!OBAC UK LIMITED</td>\n",
       "      <td>07687209</td>\n",
       "      <td>NaN</td>\n",
       "      <td>NaN</td>\n",
       "      <td>ENDEAVOUR HOUSE</td>\n",
       "      <td>COOPERS END ROAD</td>\n",
       "      <td>STANSTED AIRPORT</td>\n",
       "      <td>NaN</td>\n",
       "      <td>NaN</td>\n",
       "      <td>CM24 1SJ</td>\n",
       "      <td>...</td>\n",
       "      <td>NaN</td>\n",
       "      <td>NaN</td>\n",
       "      <td>NaN</td>\n",
       "      <td>NaN</td>\n",
       "      <td>NaN</td>\n",
       "      <td>NaN</td>\n",
       "      <td>NaN</td>\n",
       "      <td>NaN</td>\n",
       "      <td>13/07/2020</td>\n",
       "      <td>29/06/2017</td>\n",
       "    </tr>\n",
       "    <tr>\n",
       "      <th>7</th>\n",
       "      <td>!YOZO FASS LIMITED</td>\n",
       "      <td>02714021</td>\n",
       "      <td>NaN</td>\n",
       "      <td>NaN</td>\n",
       "      <td>1 VERONICA HOUSE</td>\n",
       "      <td>WICKHAM ROAD</td>\n",
       "      <td>BROCKLEY</td>\n",
       "      <td>NaN</td>\n",
       "      <td>NaN</td>\n",
       "      <td>SE4 1NQ</td>\n",
       "      <td>...</td>\n",
       "      <td>NaN</td>\n",
       "      <td>NaN</td>\n",
       "      <td>NaN</td>\n",
       "      <td>NaN</td>\n",
       "      <td>NaN</td>\n",
       "      <td>NaN</td>\n",
       "      <td>NaN</td>\n",
       "      <td>NaN</td>\n",
       "      <td>26/05/2020</td>\n",
       "      <td>12/05/2017</td>\n",
       "    </tr>\n",
       "    <tr>\n",
       "      <th>8</th>\n",
       "      <td>\" BROOK VIEW \"MECHANICAL AND ELECTRICAL ENGINE...</td>\n",
       "      <td>10275228</td>\n",
       "      <td>NaN</td>\n",
       "      <td>NaN</td>\n",
       "      <td>62 STAKES ROAD</td>\n",
       "      <td>PURBROOK</td>\n",
       "      <td>WATERLOOVILLE</td>\n",
       "      <td>HAMPSHIRE</td>\n",
       "      <td>ENGLAND</td>\n",
       "      <td>PO7 5NT</td>\n",
       "      <td>...</td>\n",
       "      <td>NaN</td>\n",
       "      <td>NaN</td>\n",
       "      <td>NaN</td>\n",
       "      <td>NaN</td>\n",
       "      <td>NaN</td>\n",
       "      <td>NaN</td>\n",
       "      <td>NaN</td>\n",
       "      <td>NaN</td>\n",
       "      <td>25/07/2020</td>\n",
       "      <td>11/07/2017</td>\n",
       "    </tr>\n",
       "    <tr>\n",
       "      <th>9</th>\n",
       "      <td>\"1 C O LIMITED\"</td>\n",
       "      <td>03811958</td>\n",
       "      <td>NaN</td>\n",
       "      <td>NaN</td>\n",
       "      <td>FANE COURT</td>\n",
       "      <td>GREEN ROAD SHIPBOURNE</td>\n",
       "      <td>TONBRIDGE</td>\n",
       "      <td>KENT</td>\n",
       "      <td>NaN</td>\n",
       "      <td>TN11 9PL</td>\n",
       "      <td>...</td>\n",
       "      <td>NaN</td>\n",
       "      <td>NaN</td>\n",
       "      <td>NaN</td>\n",
       "      <td>NaN</td>\n",
       "      <td>NaN</td>\n",
       "      <td>NaN</td>\n",
       "      <td>NaN</td>\n",
       "      <td>NaN</td>\n",
       "      <td>05/08/2020</td>\n",
       "      <td>22/07/2017</td>\n",
       "    </tr>\n",
       "  </tbody>\n",
       "</table>\n",
       "<p>10 rows × 55 columns</p>\n",
       "</div>"
      ],
      "text/plain": [
       "                                         CompanyName  CompanyNumber  \\\n",
       "0                                              ! LTD       08209948   \n",
       "1                       !BIG IMPACT GRAPHICS LIMITED       07382019   \n",
       "2                                     !NNOV8 LIMITED       11006939   \n",
       "3                                       !NSPIRED LTD       SC421617   \n",
       "4                            !NVERTD DESIGNS LIMITED       09152972   \n",
       "5                                      !OBAC LIMITED       FC031362   \n",
       "6                                   !OBAC UK LIMITED       07687209   \n",
       "7                                 !YOZO FASS LIMITED       02714021   \n",
       "8  \" BROOK VIEW \"MECHANICAL AND ELECTRICAL ENGINE...       10275228   \n",
       "9                                    \"1 C O LIMITED\"       03811958   \n",
       "\n",
       "  RegAddress.CareOf RegAddress.POBox             RegAddress.AddressLine1  \\\n",
       "0               NaN              NaN           METROHOUSE 57 PEPPER ROAD   \n",
       "1               NaN              NaN                    335 ROSDEN HOUSE   \n",
       "2               NaN              NaN           C/O FRANK HIRTH 1ST FLOOR   \n",
       "3               NaN              NaN                     26 POLMUIR ROAD   \n",
       "4               NaN              NaN                     55A HIGH STREET   \n",
       "5               NaN              NaN  1ST AND 2ND FLOORS ELIZABETH HOUSE   \n",
       "6               NaN              NaN                     ENDEAVOUR HOUSE   \n",
       "7               NaN              NaN                    1 VERONICA HOUSE   \n",
       "8               NaN              NaN                      62 STAKES ROAD   \n",
       "9               NaN              NaN                          FANE COURT   \n",
       "\n",
       "   RegAddress.AddressLine2 RegAddress.PostTown RegAddress.County  \\\n",
       "0                  HUNSLET               LEEDS         YORKSHIRE   \n",
       "1           372 OLD STREET              LONDON               NaN   \n",
       "2      236 GRAY'S INN ROAD              LONDON               NaN   \n",
       "3                      NaN            ABERDEEN               NaN   \n",
       "4                      NaN              SILSOE      BEDFORDSHIRE   \n",
       "5       LES RUETIES BRAYES       ST PETER PORT          GUERNSEY   \n",
       "6         COOPERS END ROAD    STANSTED AIRPORT               NaN   \n",
       "7             WICKHAM ROAD            BROCKLEY               NaN   \n",
       "8                 PURBROOK       WATERLOOVILLE         HAMPSHIRE   \n",
       "9    GREEN ROAD SHIPBOURNE           TONBRIDGE              KENT   \n",
       "\n",
       "  RegAddress.Country RegAddress.PostCode           ...            \\\n",
       "0                NaN            LS10 2RU           ...             \n",
       "1                NaN            EC1V 9AV           ...             \n",
       "2     UNITED KINGDOM            WC1X 8HB           ...             \n",
       "3     UNITED KINGDOM            AB11 7SY           ...             \n",
       "4                NaN            MK45 4EW           ...             \n",
       "5           GUERNSEY             GY1 1EW           ...             \n",
       "6                NaN            CM24 1SJ           ...             \n",
       "7                NaN             SE4 1NQ           ...             \n",
       "8            ENGLAND             PO7 5NT           ...             \n",
       "9                NaN            TN11 9PL           ...             \n",
       "\n",
       "  PreviousName_7.CONDATE  PreviousName_7.CompanyName PreviousName_8.CONDATE  \\\n",
       "0                    NaN                         NaN                    NaN   \n",
       "1                    NaN                         NaN                    NaN   \n",
       "2                    NaN                         NaN                    NaN   \n",
       "3                    NaN                         NaN                    NaN   \n",
       "4                    NaN                         NaN                    NaN   \n",
       "5                    NaN                         NaN                    NaN   \n",
       "6                    NaN                         NaN                    NaN   \n",
       "7                    NaN                         NaN                    NaN   \n",
       "8                    NaN                         NaN                    NaN   \n",
       "9                    NaN                         NaN                    NaN   \n",
       "\n",
       "    PreviousName_8.CompanyName PreviousName_9.CONDATE  \\\n",
       "0                          NaN                    NaN   \n",
       "1                          NaN                    NaN   \n",
       "2                          NaN                    NaN   \n",
       "3                          NaN                    NaN   \n",
       "4                          NaN                    NaN   \n",
       "5                          NaN                    NaN   \n",
       "6                          NaN                    NaN   \n",
       "7                          NaN                    NaN   \n",
       "8                          NaN                    NaN   \n",
       "9                          NaN                    NaN   \n",
       "\n",
       "    PreviousName_9.CompanyName  PreviousName_10.CONDATE  \\\n",
       "0                          NaN                      NaN   \n",
       "1                          NaN                      NaN   \n",
       "2                          NaN                      NaN   \n",
       "3                          NaN                      NaN   \n",
       "4                          NaN                      NaN   \n",
       "5                          NaN                      NaN   \n",
       "6                          NaN                      NaN   \n",
       "7                          NaN                      NaN   \n",
       "8                          NaN                      NaN   \n",
       "9                          NaN                      NaN   \n",
       "\n",
       "   PreviousName_10.CompanyName ConfStmtNextDueDate  ConfStmtLastMadeUpDate  \n",
       "0                          NaN          25/09/2019              11/09/2017  \n",
       "1                          NaN          05/10/2019              21/09/2016  \n",
       "2                          NaN          24/10/2019                     NaN  \n",
       "3                          NaN          25/04/2020              11/04/2017  \n",
       "4                          NaN          13/08/2020              30/07/2017  \n",
       "5                          NaN                 NaN                     NaN  \n",
       "6                          NaN          13/07/2020              29/06/2017  \n",
       "7                          NaN          26/05/2020              12/05/2017  \n",
       "8                          NaN          25/07/2020              11/07/2017  \n",
       "9                          NaN          05/08/2020              22/07/2017  \n",
       "\n",
       "[10 rows x 55 columns]"
      ]
     },
     "execution_count": 3,
     "metadata": {},
     "output_type": "execute_result"
    }
   ],
   "source": [
    "# preview the data\n",
    "ch_raw.head(10) # first 10 rows "
   ]
  },
  {
   "cell_type": "code",
   "execution_count": 4,
   "metadata": {},
   "outputs": [
    {
     "data": {
      "text/plain": [
       "Index(['CompanyName', ' CompanyNumber', 'RegAddress.CareOf',\n",
       "       'RegAddress.POBox', 'RegAddress.AddressLine1',\n",
       "       ' RegAddress.AddressLine2', 'RegAddress.PostTown', 'RegAddress.County',\n",
       "       'RegAddress.Country', 'RegAddress.PostCode', 'CompanyCategory',\n",
       "       'CompanyStatus', 'CountryOfOrigin', 'DissolutionDate',\n",
       "       'IncorporationDate', 'Accounts.AccountRefDay',\n",
       "       'Accounts.AccountRefMonth', 'Accounts.NextDueDate',\n",
       "       'Accounts.LastMadeUpDate', 'Accounts.AccountCategory',\n",
       "       'Returns.NextDueDate', 'Returns.LastMadeUpDate',\n",
       "       'Mortgages.NumMortCharges', 'Mortgages.NumMortOutstanding',\n",
       "       'Mortgages.NumMortPartSatisfied', 'Mortgages.NumMortSatisfied',\n",
       "       'SICCode.SicText_1', 'SICCode.SicText_2', 'SICCode.SicText_3',\n",
       "       'SICCode.SicText_4', 'LimitedPartnerships.NumGenPartners',\n",
       "       'LimitedPartnerships.NumLimPartners', 'URI', 'PreviousName_1.CONDATE',\n",
       "       ' PreviousName_1.CompanyName', ' PreviousName_2.CONDATE',\n",
       "       ' PreviousName_2.CompanyName', 'PreviousName_3.CONDATE',\n",
       "       ' PreviousName_3.CompanyName', 'PreviousName_4.CONDATE',\n",
       "       ' PreviousName_4.CompanyName', 'PreviousName_5.CONDATE',\n",
       "       ' PreviousName_5.CompanyName', 'PreviousName_6.CONDATE',\n",
       "       ' PreviousName_6.CompanyName', 'PreviousName_7.CONDATE',\n",
       "       ' PreviousName_7.CompanyName', 'PreviousName_8.CONDATE',\n",
       "       ' PreviousName_8.CompanyName', 'PreviousName_9.CONDATE',\n",
       "       ' PreviousName_9.CompanyName', 'PreviousName_10.CONDATE',\n",
       "       ' PreviousName_10.CompanyName', 'ConfStmtNextDueDate',\n",
       "       ' ConfStmtLastMadeUpDate'],\n",
       "      dtype='object')"
      ]
     },
     "execution_count": 4,
     "metadata": {},
     "output_type": "execute_result"
    }
   ],
   "source": [
    "# fields available\n",
    "ch_raw.columns"
   ]
  },
  {
   "cell_type": "code",
   "execution_count": null,
   "metadata": {
    "collapsed": true
   },
   "outputs": [],
   "source": [
    "# remove unnecessary columns for this project\n",
    "# why is copy() used? See explanation at link below:\n",
    "# https://stackoverflow.com/questions/27673231/why-should-i-make-a-copy-of-a-data-frame-in-pandas\n",
    "ch = ch_raw.iloc[:,[0,1,4,5,6,7,8,9,10,11,12,18,19,21,26,27,28,29]].copy()\n",
    "\n",
    "# rename columns\n",
    "ch.columns = ['name','crn','address1','address2','postTown','county','country', \\\n",
    "            'postcode','category','status','origin','accounts_lastMadeUpDate','accountCategory',\\\n",
    "            'returns_lastMadeUpDate','sic1','sic2','sic3','sic4']"
   ]
  },
  {
   "cell_type": "code",
   "execution_count": null,
   "metadata": {
    "collapsed": true
   },
   "outputs": [],
   "source": [
    "# format missing values\n",
    "ch.sic1.replace('None Supplied', np.NaN, inplace=True)\n",
    "ch = ch.dropna(subset=['name']) # delete rows with null business names (usually only a few values)"
   ]
  },
  {
   "cell_type": "code",
   "execution_count": null,
   "metadata": {
    "code_folding": [
     0
    ],
    "collapsed": true
   },
   "outputs": [],
   "source": [
    "# Produce a range of key stats \n",
    "# Key stats\n",
    "print('---------')\n",
    "print('Number of businesses: %s' %len(ch))\n",
    "print('Missing SIC codes: %s' %ch.sic1.isnull().sum())\n",
    "sic_comp = (1.0 - (float(ch.sic1.isnull().sum())/len(ch)))*100\n",
    "print('SIC code completion: %.2f' %sic_comp + '%')\n",
    "post_comp = (1.0 - (float(ch.postcode.isnull().sum())/len(ch)))*100\n",
    "print('Postcode completion: %.2f' %post_comp + '%')\n",
    "print('---------')\n",
    "print('Category breakdown (top 5)')\n",
    "print('')\n",
    "print(ch.category.value_counts().head())\n",
    "print('---------')\n",
    "print('Account category (top 5)')\n",
    "print('')\n",
    "print(ch.accountCategory.value_counts().head())\n",
    "print('---------')\n",
    "print('Geographical breakdown (top 5)')\n",
    "print('')\n",
    "print(ch.origin.value_counts().head())\n",
    "print('---------')\n",
    "print('SIC code breakdown (top 5)')\n",
    "print('')\n",
    "print(ch.sic1.value_counts().head())"
   ]
  },
  {
   "cell_type": "markdown",
   "metadata": {
    "collapsed": true
   },
   "source": [
    "### Data exploration"
   ]
  },
  {
   "cell_type": "markdown",
   "metadata": {},
   "source": [
    "Some pandas commands to explore the dataset, including setting up a function to find companies."
   ]
  },
  {
   "cell_type": "code",
   "execution_count": null,
   "metadata": {
    "collapsed": true
   },
   "outputs": [],
   "source": [
    "ch.dtypes # types of each column - all objects"
   ]
  },
  {
   "cell_type": "code",
   "execution_count": null,
   "metadata": {
    "collapsed": true
   },
   "outputs": [],
   "source": [
    "def find_company(name):\n",
    "    '''\n",
    "    Searches companies house dataset for company name which include the given input which must be a string.\n",
    "    '''\n",
    "    name = name.lower()\n",
    "    n = ch.name.str.lower().str.contains(name)\n",
    "    x = input(str(n.sum()) + ' companies found. See list of companies? Y or N? ')\n",
    "    if x.lower() == 'y':\n",
    "        return ch[n]\n",
    "    else:\n",
    "        return True"
   ]
  },
  {
   "cell_type": "code",
   "execution_count": null,
   "metadata": {
    "collapsed": true
   },
   "outputs": [],
   "source": [
    "find_company('Burberry') # testing function on a few cases "
   ]
  },
  {
   "cell_type": "code",
   "execution_count": null,
   "metadata": {
    "collapsed": true
   },
   "outputs": [],
   "source": [
    "find_company('Dyson')"
   ]
  },
  {
   "cell_type": "markdown",
   "metadata": {},
   "source": [
    "Exploring SIC codes..."
   ]
  },
  {
   "cell_type": "code",
   "execution_count": null,
   "metadata": {
    "collapsed": true
   },
   "outputs": [],
   "source": [
    "ch.sic1.describe() # counts occurences and unique values"
   ]
  },
  {
   "cell_type": "markdown",
   "metadata": {},
   "source": [
    "Sorting by the top 20 SIC codes shows that some of these are not very descriptive. Top of the list is 'Other business support service activities n.e.c'. Third is 'Dormant Company' and this is followed by 'Other service activities n.e.c'."
   ]
  },
  {
   "cell_type": "code",
   "execution_count": null,
   "metadata": {
    "collapsed": true,
    "scrolled": true
   },
   "outputs": [],
   "source": [
    "ch.sic1.value_counts().head(20) # sort by top 20 sic codes"
   ]
  },
  {
   "cell_type": "code",
   "execution_count": null,
   "metadata": {
    "collapsed": true
   },
   "outputs": [],
   "source": [
    "ch.sic1.value_counts().head(30).plot() # shows skew of top categories\n",
    "plt.show()"
   ]
  },
  {
   "cell_type": "markdown",
   "metadata": {},
   "source": [
    "Checking if company reference numbers are unique"
   ]
  },
  {
   "cell_type": "code",
   "execution_count": null,
   "metadata": {
    "collapsed": true
   },
   "outputs": [],
   "source": [
    "ch.crn.describe() # all crns are unique"
   ]
  },
  {
   "cell_type": "code",
   "execution_count": null,
   "metadata": {
    "collapsed": true
   },
   "outputs": [],
   "source": [
    "ch.crn.isnull().sum() # 0"
   ]
  },
  {
   "cell_type": "markdown",
   "metadata": {},
   "source": [
    "Exploring the address data"
   ]
  },
  {
   "cell_type": "code",
   "execution_count": null,
   "metadata": {
    "collapsed": true
   },
   "outputs": [],
   "source": [
    "ch.head() # reminder of the address fields"
   ]
  },
  {
   "cell_type": "code",
   "execution_count": null,
   "metadata": {
    "collapsed": true
   },
   "outputs": [],
   "source": [
    "ch.address1.describe() # 1.6 million unique addresses"
   ]
  },
  {
   "cell_type": "code",
   "execution_count": null,
   "metadata": {
    "collapsed": true
   },
   "outputs": [],
   "source": [
    "ch.address1.isnull().sum() # 27K null addresses"
   ]
  },
  {
   "cell_type": "code",
   "execution_count": null,
   "metadata": {
    "collapsed": true
   },
   "outputs": [],
   "source": [
    "ch.postTown.isnull().sum() # 93K missing town names"
   ]
  },
  {
   "cell_type": "code",
   "execution_count": null,
   "metadata": {
    "collapsed": true
   },
   "outputs": [],
   "source": [
    "ch.postcode.isnull().sum() # 52K missing post codes"
   ]
  },
  {
   "cell_type": "markdown",
   "metadata": {},
   "source": [
    "### Export formatted dataset"
   ]
  },
  {
   "cell_type": "code",
   "execution_count": null,
   "metadata": {
    "collapsed": true
   },
   "outputs": [],
   "source": [
    "# Export dataset, named after MMYY of ch data\n",
    "ch.to_csv('ch_2018-02.csv',index=False)"
   ]
  },
  {
   "cell_type": "markdown",
   "metadata": {},
   "source": [
    "Optional: remove non-UK companies "
   ]
  },
  {
   "cell_type": "code",
   "execution_count": null,
   "metadata": {
    "collapsed": true
   },
   "outputs": [],
   "source": [
    "ch_uk = ch[ch['origin'].isin(['United Kingdom','Great Britain','UNITED KINGDOM','GREAT BRITAIN','ENGLAND & WALES','UK'])]\n",
    "ch_uk.reset_index(inplace=True)\n",
    "ch_uk.to_csv('ch_2018-02.csv',index=False)"
   ]
  },
  {
   "cell_type": "markdown",
   "metadata": {},
   "source": [
    "## Scraping data from Google Search Results"
   ]
  },
  {
   "cell_type": "markdown",
   "metadata": {},
   "source": [
    "This section goes through the process of running google searches of business names in Companies House, scraping text from the results, and then returning a wordcloud of text from the first page of results.\n",
    "\n",
    "The code below builds up the code for functions that run searches and produce\n",
    "worldclouds as follows:\n",
    "\n",
    "cloud(keyWords(search('Company Name')))\n",
    "\n",
    "- search(string): returns a list of URLs from Google for the given term\n",
    "- keyWords(list): screen-scrapes all visible text from the given list of URLs, and cleans\n",
    "- cloud(string): after removing a given list of stopwords, produces a wordcloud"
   ]
  },
  {
   "cell_type": "markdown",
   "metadata": {},
   "source": [
    "### Importing further modules and data"
   ]
  },
  {
   "cell_type": "code",
   "execution_count": 3,
   "metadata": {},
   "outputs": [],
   "source": [
    "import webbrowser # to open web links\n",
    "import nltk # natural language toolkit\n",
    "from nltk.corpus import stopwords # Import the stop word list, may require download\n",
    "# WordCloud modules\n",
    "from wordcloud import WordCloud, STOPWORDS\n",
    "\n",
    "import re # regular expressions \n",
    "from time import sleep # to pause web-scraper\n",
    "import requests # allows you to send HTTP requests via Python\n",
    "from bs4 import BeautifulSoup # beautiful soup for parsing of HTML"
   ]
  },
  {
   "cell_type": "markdown",
   "metadata": {},
   "source": [
    "Read in formatted CH dataset if starting a new session. We'll refer to this at the end of the section after we've built up our tools to scrape and clean website text."
   ]
  },
  {
   "cell_type": "code",
   "execution_count": null,
   "metadata": {
    "collapsed": true
   },
   "outputs": [],
   "source": [
    "ch = pd.read_csv('ch_2018-02.csv')"
   ]
  },
  {
   "cell_type": "markdown",
   "metadata": {},
   "source": [
    "### Returning links for a Google Search term"
   ]
  },
  {
   "cell_type": "markdown",
   "metadata": {},
   "source": [
    "First, we need to build some functionality to scrape the search results returned by Google."
   ]
  },
  {
   "cell_type": "code",
   "execution_count": 4,
   "metadata": {},
   "outputs": [],
   "source": [
    "# Set business search term as an example\n",
    "biz = 'DYSON LIMITED'"
   ]
  },
  {
   "cell_type": "code",
   "execution_count": 8,
   "metadata": {},
   "outputs": [],
   "source": [
    "# Read HTML\n",
    "html = requests.get('https://www.google.co.uk/search?q='+ biz)\n",
    "# Parse HTML into a BeautifulSoup object\n",
    "soup = BeautifulSoup(html.content, 'html5lib')"
   ]
  },
  {
   "cell_type": "code",
   "execution_count": 9,
   "metadata": {},
   "outputs": [],
   "source": [
    "# Get all links and put into list\n",
    "list_of_links = []\n",
    "for link in soup.find_all('a'):\n",
    "    list_of_links.append(link.get('href'))"
   ]
  },
  {
   "cell_type": "code",
   "execution_count": 28,
   "metadata": {
    "scrolled": true
   },
   "outputs": [
    {
     "name": "stdout",
     "output_type": "stream",
     "text": [
      "['https://www.google.co.uk/search?hl=en&tbm=isch&source=og&tab=wi', 'https://maps.google.co.uk/maps?hl=en&tab=wl', 'https://play.google.com/?hl=en&tab=w8', 'https://www.youtube.com/results?gl=GB&tab=w1', 'https://news.google.co.uk/nwshp?hl=en&tab=wn', 'https://mail.google.com/mail/?tab=wm', 'https://drive.google.com/?tab=wo', 'https://www.google.co.uk/intl/en/options/', 'http://www.google.co.uk/history/optout?hl=en', '/preferences?hl=en', 'https://accounts.google.com/ServiceLogin?hl=en&passive=true&continue=https://www.google.co.uk/search%3Fq%3DDYSON%2BLIMITED', '/webhp?hl=en-GB', '/search?q=DYSON+LIMITED&ie=UTF-8&prmd=ivnsp&source=lnms&tbm=isch&sa=X&ved=0ahUKEwjcrt3ci7XZAhUoKcAKHRIHBpUQ_AUIBQ', '/search?q=DYSON+LIMITED&ie=UTF-8&prmd=ivnsp&source=lnms&tbm=vid&sa=X&ved=0ahUKEwjcrt3ci7XZAhUoKcAKHRIHBpUQ_AUIBg', '/search?q=DYSON+LIMITED&ie=UTF-8&prmd=ivnsp&source=lnms&tbm=nws&sa=X&ved=0ahUKEwjcrt3ci7XZAhUoKcAKHRIHBpUQ_AUIBw', '/search?q=DYSON+LIMITED&ie=UTF-8&prmd=ivnsp&source=lnms&tbm=shop&sa=X&ved=0ahUKEwjcrt3ci7XZAhUoKcAKHRIHBpUQ_AUICA', 'https://maps.google.co.uk/maps?q=DYSON+LIMITED&um=1&ie=UTF-8&sa=X&ved=0ahUKEwjcrt3ci7XZAhUoKcAKHRIHBpUQ_AUICQ', '/search?q=DYSON+LIMITED&ie=UTF-8&prmd=ivnsp&source=lnms&tbm=bks&sa=X&ved=0ahUKEwjcrt3ci7XZAhUoKcAKHRIHBpUQ_AUICg', '/search?q=DYSON+LIMITED&ie=UTF-8&prmd=ivnsp&source=lnt&tbs=ctr:countryUK%7CcountryGB&cr=countryUK%7CcountryGB&sa=X&ved=0ahUKEwjcrt3ci7XZAhUoKcAKHRIHBpUQpwUIDw', '/search?q=DYSON+LIMITED&ie=UTF-8&prmd=ivnsp&source=lnt&tbs=qdr:h&sa=X&ved=0ahUKEwjcrt3ci7XZAhUoKcAKHRIHBpUQpwUIDw', '/search?q=DYSON+LIMITED&ie=UTF-8&prmd=ivnsp&source=lnt&tbs=qdr:d&sa=X&ved=0ahUKEwjcrt3ci7XZAhUoKcAKHRIHBpUQpwUIDw', '/search?q=DYSON+LIMITED&ie=UTF-8&prmd=ivnsp&source=lnt&tbs=qdr:w&sa=X&ved=0ahUKEwjcrt3ci7XZAhUoKcAKHRIHBpUQpwUIDw', '/search?q=DYSON+LIMITED&ie=UTF-8&prmd=ivnsp&source=lnt&tbs=qdr:m&sa=X&ved=0ahUKEwjcrt3ci7XZAhUoKcAKHRIHBpUQpwUIDw', '/search?q=DYSON+LIMITED&ie=UTF-8&prmd=ivnsp&source=lnt&tbs=qdr:y&sa=X&ved=0ahUKEwjcrt3ci7XZAhUoKcAKHRIHBpUQpwUIDw', '/search?q=DYSON+LIMITED&ie=UTF-8&prmd=ivnsp&source=lnt&tbs=li:1&sa=X&ved=0ahUKEwjcrt3ci7XZAhUoKcAKHRIHBpUQpwUIDw', '/url?q=https://www.dyson.co.uk/en.html&sa=U&ved=0ahUKEwjcrt3ci7XZAhUoKcAKHRIHBpUQFggUMAA&usg=AOvVaw2zilYsTjjfvljNX-1ullJv', '/url?q=http://webcache.googleusercontent.com/search%3Fq%3Dcache:5M_SYO7_-7wJ:https://www.dyson.co.uk/en.html%252BDYSON%2BLIMITED%26hl%3Den%26ct%3Dclnk&sa=U&ved=0ahUKEwjcrt3ci7XZAhUoKcAKHRIHBpUQIAgXMAA&usg=AOvVaw2_vMoNp77DPuMJuHSngvl-', '/url?q=https://www.dyson.co.uk/support/journey/overview.html&sa=U&ved=0ahUKEwjcrt3ci7XZAhUoKcAKHRIHBpUQ0gIIGSgAMAA&usg=AOvVaw1yM57mASuxSY3m5esiHq6X', '/url?q=https://www.dyson.co.uk/support/quick-links/contact-us.html&sa=U&ved=0ahUKEwjcrt3ci7XZAhUoKcAKHRIHBpUQ0gIIGigBMAA&usg=AOvVaw1r7bWQneYsjcD90mgNw5Nc', '/url?q=https://www.dyson.co.uk/inside-dyson/dyson-demo.html&sa=U&ved=0ahUKEwjcrt3ci7XZAhUoKcAKHRIHBpUQ0gIIGygCMAA&usg=AOvVaw2QBCI-vsvQmwnTNksNsSNT', '/url?q=https://www.dyson.co.uk/inside-dyson/terms/company-information.html&sa=U&ved=0ahUKEwjcrt3ci7XZAhUoKcAKHRIHBpUQ0gIIHCgDMAA&usg=AOvVaw3LmziuxmZmi0Y26x9hvr8a', '/url?q=https://www.dyson.co.uk/support/quick-links/contact-us.html&sa=U&ved=0ahUKEwjcrt3ci7XZAhUoKcAKHRIHBpUQFggeMAE&usg=AOvVaw3lN529NRQvuufxXntdM5Fk', '/url?q=http://webcache.googleusercontent.com/search%3Fq%3Dcache:iK7G8-D20isJ:https://www.dyson.co.uk/support/quick-links/contact-us.html%252BDYSON%2BLIMITED%26hl%3Den%26ct%3Dclnk&sa=U&ved=0ahUKEwjcrt3ci7XZAhUoKcAKHRIHBpUQIAghMAE&usg=AOvVaw1siHO0Lkbaov_QRinjpGCY', '/url?q=https://beta.companieshouse.gov.uk/company/02627406&sa=U&ved=0ahUKEwjcrt3ci7XZAhUoKcAKHRIHBpUQFggjMAI&usg=AOvVaw2zpw60OmDZvBwx4Qhw5XJt', '/url?q=http://webcache.googleusercontent.com/search%3Fq%3Dcache:oqGD-523uP8J:https://beta.companieshouse.gov.uk/company/02627406%252BDYSON%2BLIMITED%26hl%3Den%26ct%3Dclnk&sa=U&ved=0ahUKEwjcrt3ci7XZAhUoKcAKHRIHBpUQIAgmMAI&usg=AOvVaw0n33p6r5cxeNVPvondcVs6', '/search?ie=UTF-8&q=related:https://beta.companieshouse.gov.uk/company/02627406+DYSON+LIMITED&tbo=1&sa=X&ved=0ahUKEwjcrt3ci7XZAhUoKcAKHRIHBpUQHwgnMAI', '/url?q=https://beta.companieshouse.gov.uk/company/10214343&sa=U&ved=0ahUKEwjcrt3ci7XZAhUoKcAKHRIHBpUQFggpMAM&usg=AOvVaw3mHRDRypxMD0OJn-qwCDJR', '/url?q=http://webcache.googleusercontent.com/search%3Fq%3Dcache:XifOxPycDVUJ:https://beta.companieshouse.gov.uk/company/10214343%252BDYSON%2BLIMITED%26hl%3Den%26ct%3Dclnk&sa=U&ved=0ahUKEwjcrt3ci7XZAhUoKcAKHRIHBpUQIAgsMAM&usg=AOvVaw1RnFTAmgv6NBEK4hm3Crlk', '/url?q=https://en.wikipedia.org/wiki/Dyson_(company)&sa=U&ved=0ahUKEwjcrt3ci7XZAhUoKcAKHRIHBpUQFgguMAQ&usg=AOvVaw1Hjae4OvyVgCoNfNwsFZmq', '/url?q=http://webcache.googleusercontent.com/search%3Fq%3Dcache:id056n069lYJ:https://en.wikipedia.org/wiki/Dyson_(company)%252BDYSON%2BLIMITED%26hl%3Den%26ct%3Dclnk&sa=U&ved=0ahUKEwjcrt3ci7XZAhUoKcAKHRIHBpUQIAgxMAQ&usg=AOvVaw1svZ68AxjRIM9Q_1B3BwSJ', '/search?ie=UTF-8&q=related:https://en.wikipedia.org/wiki/Dyson_(company)+DYSON+LIMITED&tbo=1&sa=X&ved=0ahUKEwjcrt3ci7XZAhUoKcAKHRIHBpUQHwgyMAQ', '/url?q=https://en.wikipedia.org/wiki/Dyson_(company)%23History&sa=U&ved=0ahUKEwjcrt3ci7XZAhUoKcAKHRIHBpUQ0gIINCgAMAQ&usg=AOvVaw2fc0F8TgfHoheAOhuXgKW-', '/url?q=https://en.wikipedia.org/wiki/Dyson_(company)%23James_Dyson_Award_and_James_Dyson_Foundation&sa=U&ved=0ahUKEwjcrt3ci7XZAhUoKcAKHRIHBpUQ0gIINSgBMAQ&usg=AOvVaw18H6fCUtiq7cLmS5vluDvk', '/url?q=https://en.wikipedia.org/wiki/Dyson_(company)%23Production_moves_to_Malaysia_and_Singapore&sa=U&ved=0ahUKEwjcrt3ci7XZAhUoKcAKHRIHBpUQ0gIINigCMAQ&usg=AOvVaw3jg40YGsROn9Sm-IcZGnqx', '/url?q=https://en.wikipedia.org/wiki/Dyson_(company)%23Controversies&sa=U&ved=0ahUKEwjcrt3ci7XZAhUoKcAKHRIHBpUQ0gIINygDMAQ&usg=AOvVaw2URG-ASINIV1DnS0mWzgkQ', 'https://maps.google.co.uk/maps?um=1&ie=UTF-8&fb=1&gl=uk&sa=X&sll=51.511482,-0.103795&sspn=0.0410254,0.0878938&q=DYSON+LIMITED&ved=0ahUKEwjcrt3ci7XZAhUoKcAKHRIHBpUQtgMIPQ', '/search?ie=UTF-8&q=Oryx+International+Growth+Fund+Ltd+London&ludocid=8802781441900708609&sa=X&ved=0ahUKEwjcrt3ci7XZAhUoKcAKHRIHBpUQvS4IQDAF', '/search?ie=UTF-8&q=Oryx+International+Growth+Fund+Ltd+London&ludocid=8802781441900708609&sa=X&ved=0ahUKEwjcrt3ci7XZAhUoKcAKHRIHBpUQ_pABCEMwBQ', '/search?ie=UTF-8&q=Chris+Dyson+Architects+London+London&ludocid=11676196549218432871&sa=X&ved=0ahUKEwjcrt3ci7XZAhUoKcAKHRIHBpUQvS4IRTAG', '/search?ie=UTF-8&q=Chris+Dyson+Architects+London+London&ludocid=11676196549218432871&sa=X&ved=0ahUKEwjcrt3ci7XZAhUoKcAKHRIHBpUQ_pABCEgwBg', '/search?ie=UTF-8&q=Jake+Dyson+Light+London&ludocid=5826111303670721170&sa=X&ved=0ahUKEwjcrt3ci7XZAhUoKcAKHRIHBpUQvS4ISjAH', '/search?ie=UTF-8&q=Jake+Dyson+Light+London&ludocid=5826111303670721170&sa=X&ved=0ahUKEwjcrt3ci7XZAhUoKcAKHRIHBpUQ_pABCE8wBw', '/search?ie=UTF-8&q=DYSON+LIMITED&npsic=0&rlst=f&rlha=0&rllag=51511482,-103795,2420&sa=X&ved=0ahUKEwjcrt3ci7XZAhUoKcAKHRIHBpUQjGoIUA', '/url?q=https://companycheck.co.uk/company/02627406/DYSON-LIMITED/companies-house-data&sa=U&ved=0ahUKEwjcrt3ci7XZAhUoKcAKHRIHBpUQFghSMAg&usg=AOvVaw00bKOb64oEi1ERelsudLBJ', '/search?ie=UTF-8&q=related:https://companycheck.co.uk/company/02627406/DYSON-LIMITED/companies-house-data+DYSON+LIMITED&tbo=1&sa=X&ved=0ahUKEwjcrt3ci7XZAhUoKcAKHRIHBpUQHwhVMAg', '/url?q=https://companycheck.co.uk/company/06434803/ROGER-DYSON-LIMITED/companies-house-data&sa=U&ved=0ahUKEwjcrt3ci7XZAhUoKcAKHRIHBpUQFghXMAk&usg=AOvVaw1DUftdlu4fULGVAeWhgw_H', '/search?ie=UTF-8&q=related:https://companycheck.co.uk/company/06434803/ROGER-DYSON-LIMITED/companies-house-data+DYSON+LIMITED&tbo=1&sa=X&ved=0ahUKEwjcrt3ci7XZAhUoKcAKHRIHBpUQHwhaMAk', '/url?q=https://www.duedil.com/company/gb/02627406/dyson-limited&sa=U&ved=0ahUKEwjcrt3ci7XZAhUoKcAKHRIHBpUQFghcMAo&usg=AOvVaw1WHBBUy-PugV8BIXQlBaAR', '/url?q=http://webcache.googleusercontent.com/search%3Fq%3Dcache:PM5Xupjl0G0J:https://www.duedil.com/company/gb/02627406/dyson-limited%252BDYSON%2BLIMITED%26hl%3Den%26ct%3Dclnk&sa=U&ved=0ahUKEwjcrt3ci7XZAhUoKcAKHRIHBpUQIAhfMAo&usg=AOvVaw3hp2JT8LyvfQTv2PjpcZic', '/url?q=https://www.theguardian.com/technology/dyson-ltd&sa=U&ved=0ahUKEwjcrt3ci7XZAhUoKcAKHRIHBpUQFghhMAs&usg=AOvVaw2Osjf7wsLTBOrbyYtFj3gt', '/url?q=http://webcache.googleusercontent.com/search%3Fq%3Dcache:Y6hyRll_UQsJ:https://www.theguardian.com/technology/dyson-ltd%252BDYSON%2BLIMITED%26hl%3Den%26ct%3Dclnk&sa=U&ved=0ahUKEwjcrt3ci7XZAhUoKcAKHRIHBpUQIAhkMAs&usg=AOvVaw2_rfPmBlCb1CjDXJ4NMdsk', '/search?ie=UTF-8&q=related:https://www.theguardian.com/technology/dyson-ltd+DYSON+LIMITED&tbo=1&sa=X&ved=0ahUKEwjcrt3ci7XZAhUoKcAKHRIHBpUQHwhlMAs', '/url?q=http://www.bloomberg.com/profiles/companies/1630778Z:LN-dyson-ltd&sa=U&ved=0ahUKEwjcrt3ci7XZAhUoKcAKHRIHBpUQFghnMAw&usg=AOvVaw2GKIFWzQbk4JxOEU94ZEJa', '/url?q=http://webcache.googleusercontent.com/search%3Fq%3Dcache:em2KRS4fMmMJ:http://www.bloomberg.com/profiles/companies/1630778Z:LN-dyson-ltd%252BDYSON%2BLIMITED%26hl%3Den%26ct%3Dclnk&sa=U&ved=0ahUKEwjcrt3ci7XZAhUoKcAKHRIHBpUQIAhqMAw&usg=AOvVaw2VC53MRBswMcv_bzaKY3yu', '/search?ie=UTF-8&q=related:www.bloomberg.com/profiles/companies/1630778Z:LN-dyson-ltd+DYSON+LIMITED&tbo=1&sa=X&ved=0ahUKEwjcrt3ci7XZAhUoKcAKHRIHBpUQHwhrMAw', '/search?ie=UTF-8&q=dyson+head+office&sa=X&ved=0ahUKEwjcrt3ci7XZAhUoKcAKHRIHBpUQ1QIIbigA', '/search?ie=UTF-8&q=dyson+register&sa=X&ved=0ahUKEwjcrt3ci7XZAhUoKcAKHRIHBpUQ1QIIbygB', '/search?ie=UTF-8&q=dyson+guarantee&sa=X&ved=0ahUKEwjcrt3ci7XZAhUoKcAKHRIHBpUQ1QIIcCgC', '/search?ie=UTF-8&q=james+dyson&sa=X&ved=0ahUKEwjcrt3ci7XZAhUoKcAKHRIHBpUQ1QIIcSgD', '/search?ie=UTF-8&q=dyson+customer+service+warranty&sa=X&ved=0ahUKEwjcrt3ci7XZAhUoKcAKHRIHBpUQ1QIIcigE', '/search?ie=UTF-8&q=dyson+malmesbury&sa=X&ved=0ahUKEwjcrt3ci7XZAhUoKcAKHRIHBpUQ1QIIcygF', '/search?ie=UTF-8&q=dyson+uk&sa=X&ved=0ahUKEwjcrt3ci7XZAhUoKcAKHRIHBpUQ1QIIdCgG', '/search?ie=UTF-8&q=is+my+dyson+registered&sa=X&ved=0ahUKEwjcrt3ci7XZAhUoKcAKHRIHBpUQ1QIIdSgH', '/search?q=DYSON+LIMITED&ie=UTF-8&prmd=ivnsp&ei=s2SMWpyJLKjSgAaSjpioCQ&start=10&sa=N', '/search?q=DYSON+LIMITED&ie=UTF-8&prmd=ivnsp&ei=s2SMWpyJLKjSgAaSjpioCQ&start=20&sa=N', '/search?q=DYSON+LIMITED&ie=UTF-8&prmd=ivnsp&ei=s2SMWpyJLKjSgAaSjpioCQ&start=30&sa=N', '/search?q=DYSON+LIMITED&ie=UTF-8&prmd=ivnsp&ei=s2SMWpyJLKjSgAaSjpioCQ&start=40&sa=N', '/search?q=DYSON+LIMITED&ie=UTF-8&prmd=ivnsp&ei=s2SMWpyJLKjSgAaSjpioCQ&start=50&sa=N', '/search?q=DYSON+LIMITED&ie=UTF-8&prmd=ivnsp&ei=s2SMWpyJLKjSgAaSjpioCQ&start=60&sa=N', '/search?q=DYSON+LIMITED&ie=UTF-8&prmd=ivnsp&ei=s2SMWpyJLKjSgAaSjpioCQ&start=70&sa=N', '/search?q=DYSON+LIMITED&ie=UTF-8&prmd=ivnsp&ei=s2SMWpyJLKjSgAaSjpioCQ&start=80&sa=N', '/search?q=DYSON+LIMITED&ie=UTF-8&prmd=ivnsp&ei=s2SMWpyJLKjSgAaSjpioCQ&start=90&sa=N', '/search?q=DYSON+LIMITED&ie=UTF-8&prmd=ivnsp&ei=s2SMWpyJLKjSgAaSjpioCQ&start=10&sa=N', '/advanced_search?q=DYSON+LIMITED&ie=UTF-8&prmd=ivnsp', '/support/websearch/bin/answer.py?answer=134479&hl=en-GB', '/tools/feedback/survey/html?productId=196&query=DYSON+LIMITED&hl=en-GB', '/', '/intl/en/ads', '/services', '/intl/en/policies/privacy/', '/intl/en/policies/terms/', '/intl/en/about.html', '/url?q=https://www.dyson.co.uk/en.html&sa=U&ved=0ahUKEwjcrt3ci7XZAhUoKcAKHRIHBpUQndQBCH8wDQ&usg=AOvVaw2pdb5HV3gw3a1dQrJBtYh3', '/url?q=https://en.wikipedia.org/wiki/Dyson_(company)&sa=U&ved=0ahUKEwjcrt3ci7XZAhUoKcAKHRIHBpUQmhMIhQEoADAP&usg=AOvVaw3BSLeCYmdgh07rIHpYzJRn', '/search?ie=UTF-8&q=Malmesbury+United+Kingdom&stick=H4sIAAAAAAAAAOPgE-LUz9U3ME0uzk5XAjMNi02NLbW0spOt9POL0hPzMqsSSzLz81A4VhmpiSmFpYlFJalFxQBzzs45RAAAAA&sa=X&ved=0ahUKEwjcrt3ci7XZAhUoKcAKHRIHBpUQmxMIjwEoADAT', '/search?ie=UTF-8&q=Rowan+Jim&stick=H4sIAAAAAAAAAOPgE-LUz9U3ME0uzk5X4tVP1zc0TDNONyk2K0vRUsxOttLPL0pPzMusSizJzM9D4Vglp-YDALVSlUs_AAAA&sa=X&ved=0ahUKEwjcrt3ci7XZAhUoKcAKHRIHBpUQmxMIkgEoADAU', '/search?ie=UTF-8&q=James+Dyson&stick=H4sIAAAAAAAAAOPgE-LUz9U3ME0uzk5XAjONDCzLcrXUs5Ot9JNKizPzUouL4Yz4_ILUosSSzPw8q7T80ryU1CIAoTIjWUEAAAA&sa=X&ved=0ahUKEwjcrt3ci7XZAhUoKcAKHRIHBpUQmxMIlQEoADAV', '/search?ie=UTF-8&q=Wiltshire&stick=H4sIAAAAAAAAAOPgE-LUz9U3ME0uzk5X4gAxU7IMKrRUs5Ot9POL0hPzMqsSSzLz81A4Vmn5pXkpqSkA2zmQgD4AAAA&sa=X&ved=0ahUKEwjcrt3ci7XZAhUoKcAKHRIHBpUQmxMImAEoADAW', '/search?ie=UTF-8&q=Hoover&stick=H4sIAAAAAAAAAONgFuLUz9U3ME0uzk5XAjONM7KSjLT4nPNzc_PzgjNTUssTK4sBjyIp4ygAAAA&sa=X&ved=0ahUKEwjcrt3ci7XZAhUoKcAKHRIHBpUQsQ4InAEwFw', '/search?ie=UTF-8&q=Hoover&stick=H4sIAAAAAAAAAONgFuLUz9U3ME0uzk5XAjONM7KSjLT4nPNzc_PzgjNTUssTK4sBjyIp4ygAAAA&sa=X&ved=0ahUKEwjcrt3ci7XZAhUoKcAKHRIHBpUQxA0InQEwFw', '/search?ie=UTF-8&q=Electrolux&stick=H4sIAAAAAAAAAONgFuLUz9U3ME0uzk5XAjONMgziK7X4nPNzc_PzgjNTUssTK4sBajcuNygAAAA&sa=X&ved=0ahUKEwjcrt3ci7XZAhUoKcAKHRIHBpUQsQ4InwEwFw', '/search?ie=UTF-8&q=Electrolux&stick=H4sIAAAAAAAAAONgFuLUz9U3ME0uzk5XAjONMgziK7X4nPNzc_PzgjNTUssTK4sBajcuNygAAAA&sa=X&ved=0ahUKEwjcrt3ci7XZAhUoKcAKHRIHBpUQxA0IoAEwFw', '/search?ie=UTF-8&q=Japanet+Takata&stick=H4sIAAAAAAAAAONgFuLUz9U3ME0uzk5X4tZP1zc0MjIpSTMu0uJzzs_Nzc8LzkxJLU-sLAYAsYqa9yoAAAA&sa=X&ved=0ahUKEwjcrt3ci7XZAhUoKcAKHRIHBpUQsQ4IogEwFw', '/search?ie=UTF-8&q=Japanet+Takata&stick=H4sIAAAAAAAAAONgFuLUz9U3ME0uzk5X4tZP1zc0MjIpSTMu0uJzzs_Nzc8LzkxJLU-sLAYAsYqa9yoAAAA&sa=X&ved=0ahUKEwjcrt3ci7XZAhUoKcAKHRIHBpUQxA0IowEwFw', '/search?ie=UTF-8&q=Miele&stick=H4sIAAAAAAAAAONgFuLUz9U3ME0uzk5XAjNNKpOT0rX4nPNzc_PzgjNTUssTK4sBbLmVbygAAAA&sa=X&ved=0ahUKEwjcrt3ci7XZAhUoKcAKHRIHBpUQsQ4IpQEwFw', '/search?ie=UTF-8&q=Miele&stick=H4sIAAAAAAAAAONgFuLUz9U3ME0uzk5XAjNNKpOT0rX4nPNzc_PzgjNTUssTK4sBbLmVbygAAAA&sa=X&ved=0ahUKEwjcrt3ci7XZAhUoKcAKHRIHBpUQxA0IpgEwFw', '/search?ie=UTF-8&q=Argos&stick=H4sIAAAAAAAAAONgFuLUz9U3ME0uzk5XgjDzsnLTtPic83Nz8_OCM1NSyxMriwGyxVdeKAAAAA&sa=X&ved=0ahUKEwjcrt3ci7XZAhUoKcAKHRIHBpUQsQ4IqAEwFw', '/search?ie=UTF-8&q=Argos&stick=H4sIAAAAAAAAAONgFuLUz9U3ME0uzk5XgjDzsnLTtPic83Nz8_OCM1NSyxMriwGyxVdeKAAAAA&sa=X&ved=0ahUKEwjcrt3ci7XZAhUoKcAKHRIHBpUQxA0IqQEwFw', '/search?ie=UTF-8&q=iRobot&stick=H4sIAAAAAAAAAONgFuLUz9U3ME0uzk5XAjONK3NLDLT4nPNzc_PzgjNTUssTK4sB_UlV2CgAAAA&sa=X&ved=0ahUKEwjcrt3ci7XZAhUoKcAKHRIHBpUQsQ4IqwEwFw', '/search?ie=UTF-8&q=iRobot&stick=H4sIAAAAAAAAAONgFuLUz9U3ME0uzk5XAjONK3NLDLT4nPNzc_PzgjNTUssTK4sB_UlV2CgAAAA&sa=X&ved=0ahUKEwjcrt3ci7XZAhUoKcAKHRIHBpUQxA0IrAEwFw']\n"
     ]
    }
   ],
   "source": [
    "print(list_of_links) # needs cleaning up "
   ]
  },
  {
   "cell_type": "code",
   "execution_count": 29,
   "metadata": {},
   "outputs": [],
   "source": [
    "# Cleaning up results\n",
    "links = DataFrame({'urls':list_of_links}) #turn list into DF\n",
    "links = links[links.urls.str.contains('/url?')] #Only search results"
   ]
  },
  {
   "cell_type": "code",
   "execution_count": 30,
   "metadata": {},
   "outputs": [],
   "source": [
    "# remove cached sites\n",
    "links = links[links.urls.str.contains('webcache.googleusercontent') == False]"
   ]
  },
  {
   "cell_type": "code",
   "execution_count": 31,
   "metadata": {},
   "outputs": [],
   "source": [
    "# remove opening url?q= string\n",
    "links = links.urls.str.replace('/url\\?q=',\"\")\n",
    "# after this, you don't need to call list anymore on the column"
   ]
  },
  {
   "cell_type": "code",
   "execution_count": 32,
   "metadata": {},
   "outputs": [],
   "source": [
    "# remove suffixed &sa bit by splitting and drop index\n",
    "links = links.str.split('&sa',1).reset_index().drop('index',1)\n",
    "# this is now a dataframe"
   ]
  },
  {
   "cell_type": "code",
   "execution_count": 33,
   "metadata": {},
   "outputs": [],
   "source": [
    "# use iterrows to grab first entry in each list which should be the working url\n",
    "links_cleaned = []\n",
    "for row in links.iterrows():\n",
    "    links_cleaned.append(row[1][0][0])"
   ]
  },
  {
   "cell_type": "code",
   "execution_count": 34,
   "metadata": {},
   "outputs": [],
   "source": [
    "# convert to dataframe\n",
    "links_cleaned = DataFrame(links_cleaned)"
   ]
  },
  {
   "cell_type": "markdown",
   "metadata": {},
   "source": [
    "We can now bring this together in one function. Note that we're screen-scraping from Google Search results so we'll need to be careful to not overload Google with search requests in quick succession (and potentially get our IP blocked)."
   ]
  },
  {
   "cell_type": "code",
   "execution_count": 36,
   "metadata": {
    "code_folding": [
     0
    ]
   },
   "outputs": [],
   "source": [
    "def search_google(business_name):\n",
    "    '''\n",
    "    Takes in a business name and returns the links returned in the first page of Google Search results\n",
    "    '''\n",
    "    # Read HTML\n",
    "    html = requests.get('https://www.google.co.uk/search?q='+business_name)\n",
    "    # Parse HTML into a BeautifulSoup object\n",
    "    soup = BeautifulSoup(html.content, 'html5lib')\n",
    "\n",
    "    # Get all links and put into list\n",
    "    list_of_links = []\n",
    "    for link in soup.find_all('a'):\n",
    "        list_of_links.append(link.get('href'))\n",
    "\n",
    "    # Cleaning up results\n",
    "    links = DataFrame({'urls':list_of_links}) #turn list into DF\n",
    "    links = links[links.urls.str.contains('/url?')] #Only search results\n",
    "    \n",
    "    # remove cached sites\n",
    "    links = links[links.urls.str.contains('webcache.googleusercontent') == False]\n",
    "\n",
    "    # remove opening url?q= string\n",
    "    links = links.urls.str.replace('/url\\?q=',\"\")\n",
    "    # after this, you don't need to call list anymore on the column\n",
    "\n",
    "    # remove suffixed &sa bit by splitting and drop index\n",
    "    links = links.str.split('&sa',1).reset_index().drop('index',1)\n",
    "    # this is now a dataframe\n",
    "\n",
    "    # use iterrows to grab first entry in each list which should be the working url\n",
    "    links_cleaned = []\n",
    "    for row in links.iterrows():\n",
    "        links_cleaned.append(row[1][0][0])\n",
    "        \n",
    "    # convert to dataframe\n",
    "    links_cleaned = DataFrame(links_cleaned)\n",
    "\n",
    "    return links_cleaned[0]"
   ]
  },
  {
   "cell_type": "code",
   "execution_count": 38,
   "metadata": {
    "scrolled": true
   },
   "outputs": [
    {
     "name": "stdout",
     "output_type": "stream",
     "text": [
      "0                /settings/ads/preferences%3Fhl%3Den-GB\n",
      "1                              https://uk.burberry.com/\n",
      "2                          https://uk.burberry.com/men/\n",
      "3                  https://uk.burberry.com/womens-bags/\n",
      "4                     https://uk.burberry.com/children/\n",
      "5           https://uk.burberry.com/mens-coats-jackets/\n",
      "6             https://www.burberryplc.com/en/index.html\n",
      "7     https://www.burberryplc.com/en/news-and-media/...\n",
      "8     https://www.burberryplc.com/en/company/brand.html\n",
      "9         https://www.burberryplc.com/en/investors.html\n",
      "10          https://www.burberryplc.com/en/company.html\n",
      "11    https://beta.companieshouse.gov.uk/company/001...\n",
      "12    https://www.bloomberg.com/research/stocks/priv...\n",
      "13                         https://burberrycareers.com/\n",
      "14                  https://burberrycareers.com/search/\n",
      "15            https://www.linkedin.com/company/burberry\n",
      "16    https://uk.burberry.com/my-burberry-limited-ed...\n",
      "17    https://uk.burberry.com/my-burberry-limited-ed...\n",
      "18    https://uk.burberry.com/london-with-love-palet...\n",
      "19    https://uk.burberry.com/my-burberry-limited-ed...\n",
      "20    https://uk.burberry.com/burberry-london-eau-de...\n",
      "21    https://uk.burberry.com/burberry-london-eau-de...\n",
      "22    http://www.debenhams.com/webapp/wcs/stores/ser...\n",
      "23    https://www.indeed.co.uk/Burberry-jobs-in-Brad...\n",
      "24                  http://1000logos.net/burberry-logo/\n",
      "25               https://en.wikipedia.org/wiki/Burberry\n",
      "Name: 0, dtype: object\n"
     ]
    }
   ],
   "source": [
    "burberry_links = search_google('burberry limited')"
   ]
  },
  {
   "cell_type": "code",
   "execution_count": null,
   "metadata": {
    "collapsed": true
   },
   "outputs": [],
   "source": [
    "# use webbrowser library to open all links in browser (if needed)\n",
    "for link in burberry_links:\n",
    "    webbrowser.open(link)"
   ]
  },
  {
   "cell_type": "markdown",
   "metadata": {},
   "source": [
    "### Extract key text from company websites "
   ]
  },
  {
   "cell_type": "markdown",
   "metadata": {},
   "source": [
    "Now that we've got the functionality to return links from Google search results, we want to navigate to each link, scrape and format the text to find words with explanatory value after removing stopwords and other standard website text. Let's use the Dyson website as an example. "
   ]
  },
  {
   "cell_type": "code",
   "execution_count": 39,
   "metadata": {},
   "outputs": [],
   "source": [
    "dyson_links = search_google('Dyson Limited')"
   ]
  },
  {
   "cell_type": "code",
   "execution_count": 41,
   "metadata": {},
   "outputs": [],
   "source": [
    "# Inspecting the first search result\n",
    "# Read HTML\n",
    "html = requests.get(dyson_links[0])\n",
    "# Parse HTML into a BeautifulSoup object\n",
    "soup = BeautifulSoup(html.content, 'html5lib')"
   ]
  },
  {
   "cell_type": "code",
   "execution_count": 42,
   "metadata": {},
   "outputs": [
    {
     "data": {
      "text/plain": [
       "[<head>\n",
       "         \n",
       "     <meta content=\"text/html; charset=utf-8\" http-equiv=\"content-type\"/>\n",
       "     \n",
       "     \n",
       " \t<meta content=\"Explore and shop our range of Vacuum cleaners, Hair care, Air treatment, Fans and Heaters, Lighting, Hand dryers.\" name=\"description\"/>\n",
       " \t<meta content=\"Explore and shop our range of Vacuum cleaners, Hair care, Air treatment, Fans and Heaters, Lighting, Hand dryers.\" property=\"og:description\"/>\n",
       "     \n",
       " \t<meta content=\"/en.html\" property=\"og:url\"/>\n",
       " \t<meta content=\"en_GB\" property=\"og:locale\"/>\n",
       " \t\n",
       " \t\n",
       "     \n",
       "     \n",
       " \t<link href=\"/etc/designs/default/dyson-fav.ico\" rel=\"icon\" type=\"image/vnd.microsoft.icon\"/>\n",
       " \t<link href=\"/etc/designs/default/dyson-fav.ico\" rel=\"shortcut icon\" type=\"image/vnd.microsoft.icon\"/>\n",
       "     \n",
       "     \n",
       "     <link href=\"/en.html\" rel=\"canonical\"/>\n",
       " \n",
       "     \n",
       "     \n",
       " \n",
       "     \n",
       " \t<meta content=\"Dyson UK | Official Site\" property=\"og:title\"/>\n",
       " \t\n",
       "     \n",
       "     <meta content=\"initial-scale=1, maximum-scale=1\" name=\"viewport\"/>\n",
       "     <meta content=\"telephone=no\" name=\"format-detection\"/>\n",
       "         \n",
       " \n",
       " \n",
       " \n",
       " \n",
       " \t\n",
       " \n",
       " \n",
       " \n",
       " \n",
       "     \n",
       " <link href=\"/etc/clientlibs/dyson/clientlib-head.min.7cb234282c9db6cf713591f3eaf8c172.css\" rel=\"stylesheet\" type=\"text/css\"/>\n",
       " \n",
       " \n",
       " \n",
       " \n",
       "     \n",
       " \n",
       " \n",
       " \n",
       " \n",
       " \n",
       " \n",
       " \n",
       "     \n",
       " \t\n",
       " \n",
       " \n",
       " \n",
       " \n",
       " \n",
       " \n",
       " \n",
       " \n",
       " \n",
       " \n",
       " \n",
       " \n",
       " \n",
       " \t\n",
       " \t<noscript>\n",
       " \t    </noscript></head>,\n",
       " <title>Dyson UK | Official Site</title>,\n",
       " <script type=\"text/javascript\">\n",
       " \t\twindow.NREUM||(NREUM={}),__nr_require=function(t,n,e){function r(e){if(!n[e]){var o=n[e]={exports:{}};t[e][0].call(o.exports,function(n){var o=t[e][1][n];return r(o||n)},o,o.exports)}return n[e].exports}if(\"function\"==typeof __nr_require)return __nr_require;for(var o=0;o<e.length;o++)r(e[o]);return r}({1:[function(t,n,e){function r(t){try{s.console&&console.log(t)}catch(n){}}var o,i=t(\"ee\"),a=t(15),s={};try{o=localStorage.getItem(\"__nr_flags\").split(\",\"),console&&\"function\"==typeof console.log&&(s.console=!0,o.indexOf(\"dev\")!==-1&&(s.dev=!0),o.indexOf(\"nr_dev\")!==-1&&(s.nrDev=!0))}catch(c){}s.nrDev&&i.on(\"internal-error\",function(t){r(t.stack)}),s.dev&&i.on(\"fn-err\",function(t,n,e){r(e.stack)}),s.dev&&(r(\"NR AGENT IN DEVELOPMENT MODE\"),r(\"flags: \"+a(s,function(t,n){return t}).join(\", \")))},{}],2:[function(t,n,e){function r(t,n,e,r,o){try{d?d-=1:i(\"err\",[o||new UncaughtException(t,n,e)])}catch(s){try{i(\"ierr\",[s,c.now(),!0])}catch(u){}}return\"function\"==typeof f&&f.apply(this,a(arguments))}function UncaughtException(t,n,e){this.message=t||\"Uncaught error with no additional information\",this.sourceURL=n,this.line=e}function o(t){i(\"err\",[t,c.now()])}var i=t(\"handle\"),a=t(16),s=t(\"ee\"),c=t(\"loader\"),f=window.onerror,u=!1,d=0;c.features.err=!0,t(1),window.onerror=r;try{throw new Error}catch(l){\"stack\"in l&&(t(8),t(7),\"addEventListener\"in window&&t(5),c.xhrWrappable&&t(9),u=!0)}s.on(\"fn-start\",function(t,n,e){u&&(d+=1)}),s.on(\"fn-err\",function(t,n,e){u&&(this.thrown=!0,o(e))}),s.on(\"fn-end\",function(){u&&!this.thrown&&d>0&&(d-=1)}),s.on(\"internal-error\",function(t){i(\"ierr\",[t,c.now(),!0])})},{}],3:[function(t,n,e){t(\"loader\").features.ins=!0},{}],4:[function(t,n,e){function r(t){}if(window.performance&&window.performance.timing&&window.performance.getEntriesByType){var o=t(\"ee\"),i=t(\"handle\"),a=t(8),s=t(7),c=\"learResourceTimings\",f=\"addEventListener\",u=\"resourcetimingbufferfull\",d=\"bstResource\",l=\"resource\",p=\"-start\",h=\"-end\",m=\"fn\"+p,w=\"fn\"+h,v=\"bstTimer\",y=\"pushState\",g=t(\"loader\");g.features.stn=!0,t(6);var b=NREUM.o.EV;o.on(m,function(t,n){var e=t[0];e instanceof b&&(this.bstStart=g.now())}),o.on(w,function(t,n){var e=t[0];e instanceof b&&i(\"bst\",[e,n,this.bstStart,g.now()])}),a.on(m,function(t,n,e){this.bstStart=g.now(),this.bstType=e}),a.on(w,function(t,n){i(v,[n,this.bstStart,g.now(),this.bstType])}),s.on(m,function(){this.bstStart=g.now()}),s.on(w,function(t,n){i(v,[n,this.bstStart,g.now(),\"requestAnimationFrame\"])}),o.on(y+p,function(t){this.time=g.now(),this.startPath=location.pathname+location.hash}),o.on(y+h,function(t){i(\"bstHist\",[location.pathname+location.hash,this.startPath,this.time])}),f in window.performance&&(window.performance[\"c\"+c]?window.performance[f](u,function(t){i(d,[window.performance.getEntriesByType(l)]),window.performance[\"c\"+c]()},!1):window.performance[f](\"webkit\"+u,function(t){i(d,[window.performance.getEntriesByType(l)]),window.performance[\"webkitC\"+c]()},!1)),document[f](\"scroll\",r,{passive:!0}),document[f](\"keypress\",r,!1),document[f](\"click\",r,!1)}},{}],5:[function(t,n,e){function r(t){for(var n=t;n&&!n.hasOwnProperty(u);)n=Object.getPrototypeOf(n);n&&o(n)}function o(t){s.inPlace(t,[u,d],\"-\",i)}function i(t,n){return t[1]}var a=t(\"ee\").get(\"events\"),s=t(18)(a,!0),c=t(\"gos\"),f=XMLHttpRequest,u=\"addEventListener\",d=\"removeEventListener\";n.exports=a,\"getPrototypeOf\"in Object?(r(document),r(window),r(f.prototype)):f.prototype.hasOwnProperty(u)&&(o(window),o(f.prototype)),a.on(u+\"-start\",function(t,n){var e=t[1],r=c(e,\"nr@wrapped\",function(){function t(){if(\"function\"==typeof e.handleEvent)return e.handleEvent.apply(e,arguments)}var n={object:t,\"function\":e}[typeof e];return n?s(n,\"fn-\",null,n.name||\"anonymous\"):e});this.wrapped=t[1]=r}),a.on(d+\"-start\",function(t){t[1]=this.wrapped||t[1]})},{}],6:[function(t,n,e){var r=t(\"ee\").get(\"history\"),o=t(18)(r);n.exports=r,o.inPlace(window.history,[\"pushState\",\"replaceState\"],\"-\")},{}],7:[function(t,n,e){var r=t(\"ee\").get(\"raf\"),o=t(18)(r),i=\"equestAnimationFrame\";n.exports=r,o.inPlace(window,[\"r\"+i,\"mozR\"+i,\"webkitR\"+i,\"msR\"+i],\"raf-\"),r.on(\"raf-start\",function(t){t[0]=o(t[0],\"fn-\")})},{}],8:[function(t,n,e){function r(t,n,e){t[0]=a(t[0],\"fn-\",null,e)}function o(t,n,e){this.method=e,this.timerDuration=isNaN(t[1])?0:+t[1],t[0]=a(t[0],\"fn-\",this,e)}var i=t(\"ee\").get(\"timer\"),a=t(18)(i),s=\"setTimeout\",c=\"setInterval\",f=\"clearTimeout\",u=\"-start\",d=\"-\";n.exports=i,a.inPlace(window,[s,\"setImmediate\"],s+d),a.inPlace(window,[c],c+d),a.inPlace(window,[f,\"clearImmediate\"],f+d),i.on(c+u,r),i.on(s+u,o)},{}],9:[function(t,n,e){function r(t,n){d.inPlace(n,[\"onreadystatechange\"],\"fn-\",s)}function o(){var t=this,n=u.context(t);t.readyState>3&&!n.resolved&&(n.resolved=!0,u.emit(\"xhr-resolved\",[],t)),d.inPlace(t,y,\"fn-\",s)}function i(t){g.push(t),h&&(x?x.then(a):w?w(a):(E=-E,O.data=E))}function a(){for(var t=0;t<g.length;t++)r([],g[t]);g.length&&(g=[])}function s(t,n){return n}function c(t,n){for(var e in t)n[e]=t[e];return n}t(5);var f=t(\"ee\"),u=f.get(\"xhr\"),d=t(18)(u),l=NREUM.o,p=l.XHR,h=l.MO,m=l.PR,w=l.SI,v=\"readystatechange\",y=[\"onload\",\"onerror\",\"onabort\",\"onloadstart\",\"onloadend\",\"onprogress\",\"ontimeout\"],g=[];n.exports=u;var b=window.XMLHttpRequest=function(t){var n=new p(t);try{u.emit(\"new-xhr\",[n],n),n.addEventListener(v,o,!1)}catch(e){try{u.emit(\"internal-error\",[e])}catch(r){}}return n};if(c(p,b),b.prototype=p.prototype,d.inPlace(b.prototype,[\"open\",\"send\"],\"-xhr-\",s),u.on(\"send-xhr-start\",function(t,n){r(t,n),i(n)}),u.on(\"open-xhr-start\",r),h){var x=m&&m.resolve();if(!w&&!m){var E=1,O=document.createTextNode(E);new h(a).observe(O,{characterData:!0})}}else f.on(\"fn-end\",function(t){t[0]&&t[0].type===v||a()})},{}],10:[function(t,n,e){function r(t){var n=this.params,e=this.metrics;if(!this.ended){this.ended=!0;for(var r=0;r<d;r++)t.removeEventListener(u[r],this.listener,!1);if(!n.aborted){if(e.duration=a.now()-this.startTime,4===t.readyState){n.status=t.status;var i=o(t,this.lastSize);if(i&&(e.rxSize=i),this.sameOrigin){var c=t.getResponseHeader(\"X-NewRelic-App-Data\");c&&(n.cat=c.split(\", \").pop())}}else n.status=0;e.cbTime=this.cbTime,f.emit(\"xhr-done\",[t],t),s(\"xhr\",[n,e,this.startTime])}}}function o(t,n){var e=t.responseType;if(\"json\"===e&&null!==n)return n;var r=\"arraybuffer\"===e||\"blob\"===e||\"json\"===e?t.response:t.responseText;return h(r)}function i(t,n){var e=c(n),r=t.params;r.host=e.hostname+\":\"+e.port,r.pathname=e.pathname,t.sameOrigin=e.sameOrigin}var a=t(\"loader\");if(a.xhrWrappable){var s=t(\"handle\"),c=t(11),f=t(\"ee\"),u=[\"load\",\"error\",\"abort\",\"timeout\"],d=u.length,l=t(\"id\"),p=t(14),h=t(13),m=window.XMLHttpRequest;a.features.xhr=!0,t(9),f.on(\"new-xhr\",function(t){var n=this;n.totalCbs=0,n.called=0,n.cbTime=0,n.end=r,n.ended=!1,n.xhrGuids={},n.lastSize=null,p&&(p>34||p<10)||window.opera||t.addEventListener(\"progress\",function(t){n.lastSize=t.loaded},!1)}),f.on(\"open-xhr-start\",function(t){this.params={method:t[0]},i(this,t[1]),this.metrics={}}),f.on(\"open-xhr-end\",function(t,n){\"loader_config\"in NREUM&&\"xpid\"in NREUM.loader_config&&this.sameOrigin&&n.setRequestHeader(\"X-NewRelic-ID\",NREUM.loader_config.xpid)}),f.on(\"send-xhr-start\",function(t,n){var e=this.metrics,r=t[0],o=this;if(e&&r){var i=h(r);i&&(e.txSize=i)}this.startTime=a.now(),this.listener=function(t){try{\"abort\"===t.type&&(o.params.aborted=!0),(\"load\"!==t.type||o.called===o.totalCbs&&(o.onloadCalled||\"function\"!=typeof n.onload))&&o.end(n)}catch(e){try{f.emit(\"internal-error\",[e])}catch(r){}}};for(var s=0;s<d;s++)n.addEventListener(u[s],this.listener,!1)}),f.on(\"xhr-cb-time\",function(t,n,e){this.cbTime+=t,n?this.onloadCalled=!0:this.called+=1,this.called!==this.totalCbs||!this.onloadCalled&&\"function\"==typeof e.onload||this.end(e)}),f.on(\"xhr-load-added\",function(t,n){var e=\"\"+l(t)+!!n;this.xhrGuids&&!this.xhrGuids[e]&&(this.xhrGuids[e]=!0,this.totalCbs+=1)}),f.on(\"xhr-load-removed\",function(t,n){var e=\"\"+l(t)+!!n;this.xhrGuids&&this.xhrGuids[e]&&(delete this.xhrGuids[e],this.totalCbs-=1)}),f.on(\"addEventListener-end\",function(t,n){n instanceof m&&\"load\"===t[0]&&f.emit(\"xhr-load-added\",[t[1],t[2]],n)}),f.on(\"removeEventListener-end\",function(t,n){n instanceof m&&\"load\"===t[0]&&f.emit(\"xhr-load-removed\",[t[1],t[2]],n)}),f.on(\"fn-start\",function(t,n,e){n instanceof m&&(\"onload\"===e&&(this.onload=!0),(\"load\"===(t[0]&&t[0].type)||this.onload)&&(this.xhrCbStart=a.now()))}),f.on(\"fn-end\",function(t,n){this.xhrCbStart&&f.emit(\"xhr-cb-time\",[a.now()-this.xhrCbStart,this.onload,n],n)})}},{}],11:[function(t,n,e){n.exports=function(t){var n=document.createElement(\"a\"),e=window.location,r={};n.href=t,r.port=n.port;var o=n.href.split(\"://\");!r.port&&o[1]&&(r.port=o[1].split(\"/\")[0].split(\"@\").pop().split(\":\")[1]),r.port&&\"0\"!==r.port||(r.port=\"https\"===o[0]?\"443\":\"80\"),r.hostname=n.hostname||e.hostname,r.pathname=n.pathname,r.protocol=o[0],\"/\"!==r.pathname.charAt(0)&&(r.pathname=\"/\"+r.pathname);var i=!n.protocol||\":\"===n.protocol||n.protocol===e.protocol,a=n.hostname===document.domain&&n.port===e.port;return r.sameOrigin=i&&(!n.hostname||a),r}},{}],12:[function(t,n,e){function r(){}function o(t,n,e){return function(){return i(t,[f.now()].concat(s(arguments)),n?null:this,e),n?void 0:this}}var i=t(\"handle\"),a=t(15),s=t(16),c=t(\"ee\").get(\"tracer\"),f=t(\"loader\"),u=NREUM;\"undefined\"==typeof window.newrelic&&(newrelic=u);var d=[\"setPageViewName\",\"setCustomAttribute\",\"setErrorHandler\",\"finished\",\"addToTrace\",\"inlineHit\",\"addRelease\"],l=\"api-\",p=l+\"ixn-\";a(d,function(t,n){u[n]=o(l+n,!0,\"api\")}),u.addPageAction=o(l+\"addPageAction\",!0),u.setCurrentRouteName=o(l+\"routeName\",!0),n.exports=newrelic,u.interaction=function(){return(new r).get()};var h=r.prototype={createTracer:function(t,n){var e={},r=this,o=\"function\"==typeof n;return i(p+\"tracer\",[f.now(),t,e],r),function(){if(c.emit((o?\"\":\"no-\")+\"fn-start\",[f.now(),r,o],e),o)try{return n.apply(this,arguments)}finally{c.emit(\"fn-end\",[f.now()],e)}}}};a(\"setName,setAttribute,save,ignore,onEnd,getContext,end,get\".split(\",\"),function(t,n){h[n]=o(p+n)}),newrelic.noticeError=function(t){\"string\"==typeof t&&(t=new Error(t)),i(\"err\",[t,f.now()])}},{}],13:[function(t,n,e){n.exports=function(t){if(\"string\"==typeof t&&t.length)return t.length;if(\"object\"==typeof t){if(\"undefined\"!=typeof ArrayBuffer&&t instanceof ArrayBuffer&&t.byteLength)return t.byteLength;if(\"undefined\"!=typeof Blob&&t instanceof Blob&&t.size)return t.size;if(!(\"undefined\"!=typeof FormData&&t instanceof FormData))try{return JSON.stringify(t).length}catch(n){return}}}},{}],14:[function(t,n,e){var r=0,o=navigator.userAgent.match(/Firefox[/s](d+.d+)/);o&&(r=+o[1]),n.exports=r},{}],15:[function(t,n,e){function r(t,n){var e=[],r=\"\",i=0;for(r in t)o.call(t,r)&&(e[i]=n(r,t[r]),i+=1);return e}var o=Object.prototype.hasOwnProperty;n.exports=r},{}],16:[function(t,n,e){function r(t,n,e){n||(n=0),\"undefined\"==typeof e&&(e=t?t.length:0);for(var r=-1,o=e-n||0,i=Array(o<0?0:o);++r<o;)i[r]=t[n+r];return i}n.exports=r},{}],17:[function(t,n,e){n.exports={exists:\"undefined\"!=typeof window.performance&&window.performance.timing&&\"undefined\"!=typeof window.performance.timing.navigationStart}},{}],18:[function(t,n,e){function r(t){return!(t&&t instanceof Function&&t.apply&&!t[a])}var o=t(\"ee\"),i=t(16),a=\"nr@original\",s=Object.prototype.hasOwnProperty,c=!1;n.exports=function(t,n){function e(t,n,e,o){function nrWrapper(){var r,a,s,c;try{a=this,r=i(arguments),s=\"function\"==typeof e?e(r,a):e||{}}catch(f){l([f,\"\",[r,a,o],s])}u(n+\"start\",[r,a,o],s);try{return c=t.apply(a,r)}catch(d){throw u(n+\"err\",[r,a,d],s),d}finally{u(n+\"end\",[r,a,c],s)}}return r(t)?t:(n||(n=\"\"),nrWrapper[a]=t,d(t,nrWrapper),nrWrapper)}function f(t,n,o,i){o||(o=\"\");var a,s,c,f=\"-\"===o.charAt(0);for(c=0;c<n.length;c++)s=n[c],a=t[s],r(a)||(t[s]=e(a,f?s+o:o,i,s))}function u(e,r,o){if(!c||n){var i=c;c=!0;try{t.emit(e,r,o,n)}catch(a){l([a,e,r,o])}c=i}}function d(t,n){if(Object.defineProperty&&Object.keys)try{var e=Object.keys(t);return e.forEach(function(e){Object.defineProperty(n,e,{get:function(){return t[e]},set:function(n){return t[e]=n,n}})}),n}catch(r){l([r])}for(var o in t)s.call(t,o)&&(n[o]=t[o]);return n}function l(n){try{t.emit(\"internal-error\",n)}catch(e){}}return t||(t=o),e.inPlace=f,e.flag=a,e}},{}],ee:[function(t,n,e){function r(){}function o(t){function n(t){return t&&t instanceof r?t:t?c(t,s,i):i()}function e(e,r,o,i){if(!l.aborted||i){t&&t(e,r,o);for(var a=n(o),s=h(e),c=s.length,f=0;f<c;f++)s[f].apply(a,r);var d=u[y[e]];return d&&d.push([g,e,r,a]),a}}function p(t,n){v[t]=h(t).concat(n)}function h(t){return v[t]||[]}function m(t){return d[t]=d[t]||o(e)}function w(t,n){f(t,function(t,e){n=n||\"feature\",y[e]=n,n in u||(u[n]=[])})}var v={},y={},g={on:p,emit:e,get:m,listeners:h,context:n,buffer:w,abort:a,aborted:!1};return g}function i(){return new r}function a(){(u.api||u.feature)&&(l.aborted=!0,u=l.backlog={})}var s=\"nr@context\",c=t(\"gos\"),f=t(15),u={},d={},l=n.exports=o();l.backlog=u},{}],gos:[function(t,n,e){function r(t,n,e){if(o.call(t,n))return t[n];var r=e();if(Object.defineProperty&&Object.keys)try{return Object.defineProperty(t,n,{value:r,writable:!0,enumerable:!1}),r}catch(i){}return t[n]=r,r}var o=Object.prototype.hasOwnProperty;n.exports=r},{}],handle:[function(t,n,e){function r(t,n,e,r){o.buffer([t],r),o.emit(t,n,e)}var o=t(\"ee\").get(\"handle\");n.exports=r,r.ee=o},{}],id:[function(t,n,e){function r(t){var n=typeof t;return!t||\"object\"!==n&&\"function\"!==n?-1:t===window?0:a(t,i,function(){return o++})}var o=1,i=\"nr@id\",a=t(\"gos\");n.exports=r},{}],loader:[function(t,n,e){function r(){if(!x++){var t=b.info=NREUM.info,n=l.getElementsByTagName(\"script\")[0];if(setTimeout(u.abort,3e4),!(t&&t.licenseKey&&t.applicationID&&n))return u.abort();f(y,function(n,e){t[n]||(t[n]=e)}),c(\"mark\",[\"onload\",a()+b.offset],null,\"api\");var e=l.createElement(\"script\");e.src=\"https://\"+t.agent,n.parentNode.insertBefore(e,n)}}function o(){\"complete\"===l.readyState&&i()}function i(){c(\"mark\",[\"domContent\",a()+b.offset],null,\"api\")}function a(){return E.exists&&performance.now?Math.round(performance.now()):(s=Math.max((new Date).getTime(),s))-b.offset}var s=(new Date).getTime(),c=t(\"handle\"),f=t(15),u=t(\"ee\"),d=window,l=d.document,p=\"addEventListener\",h=\"attachEvent\",m=d.XMLHttpRequest,w=m&&m.prototype;NREUM.o={ST:setTimeout,SI:d.setImmediate,CT:clearTimeout,XHR:m,REQ:d.Request,EV:d.Event,PR:d.Promise,MO:d.MutationObserver};var v=\"\"+location,y={beacon:\"bam.nr-data.net\",errorBeacon:\"bam.nr-data.net\",agent:\"js-agent.newrelic.com/nr-1044.min.js\"},g=m&&w&&w[p]&&!/CriOS/.test(navigator.userAgent),b=n.exports={offset:s,now:a,origin:v,features:{},xhrWrappable:g};t(12),l[p]?(l[p](\"DOMContentLoaded\",i,!1),d[p](\"load\",r,!1)):(l[h](\"onreadystatechange\",o),d[h](\"onload\",r)),c(\"mark\",[\"firstbyte\",s],null,\"api\");var x=0,E=t(17)},{}]},{},[\"loader\",2,10,4,3]);\n",
       " ;NREUM.info={beacon:\"bam.nr-data.net\",errorBeacon:\"bam.nr-data.net\",licenseKey:\"e2c0d87a48\",applicationID:\"59739247\",sa:1}\n",
       " \t</script>,\n",
       " <script src=\"/etc/clientlibs/dyson/clientlib-head.min.e2c290f07a6d8bfa17b54376444217a0.js\" type=\"text/javascript\"></script>,\n",
       " <script type=\"text/javascript\">\n",
       "         var dataLayer = {\n",
       "             \"pageInfo\": {\n",
       "                 \"pageType\": \"\\/apps\\/dyson\\/templates\\/page\\u002Dlanding\",\n",
       "                 \"pagePath\": \"/content/dyson/gb/en\",\n",
       "             }\n",
       "         }\n",
       "     </script>,\n",
       " <script src=\"//assets.adobedtm.com/aa1fd1325badd215cea74b478713697670f63d10/satelliteLib-df8b9838e6b5c343e8a8e2ad1d35f26a7b3db087.js\" type=\"text/javascript\"></script>,\n",
       " <script type=\"text/javascript\">\n",
       " \t  window._bcvma = window._bcvma || [];\n",
       " \t  _bcvma.push([\"setAccountID\", \"304403661577848281\"]);\n",
       " \t  _bcvma.push([\"setParameter\", \"WebsiteID\", \"2890173374036807540\"]);\n",
       " \t  _bcvma.push([\"setParameter\", \"InvitationID\", \"1568267914314385055\"]);\n",
       " \t  _bcvma.push([\"setParameter\", \"VisitName\", \"\"]);\n",
       " \t  _bcvma.push([\"setParameter\", \"VisitPhone\", \"\"]);\n",
       " \t  _bcvma.push([\"setParameter\", \"VisitEmail\", \"\"]);\n",
       " \t  _bcvma.push([\"setParameter\", \"VisitRef\", \"\"]);\n",
       " \t  _bcvma.push([\"setParameter\", \"VisitInfo\", \"\"]);\n",
       " \t  _bcvma.push([\"setParameter\", \"CustomUrl\", \"\"]);\n",
       " \t  _bcvma.push([\"setParameter\", \"WindowParameters\", \"\"]);\n",
       " \t  _bcvma.push([\"pageViewed\"]);\n",
       " \t  var bcLoad = function(){\n",
       " \t    if(window.bcLoaded) return; window.bcLoaded = true;\n",
       " \t    var vms = document.createElement(\"script\"); vms.type = \"text/javascript\"; vms.async = true;\n",
       " \t    vms.src = ('https:'==document.location.protocol?'https://':'http://') + \"vmss.boldchat.com/aid/304403661577848281/bc.vms4/vms.js\";\n",
       " \t    var s = document.getElementsByTagName('script')[0]; s.parentNode.insertBefore(vms, s);\n",
       " \t  };\n",
       " \t  if(window.pageViewer && pageViewer.load) pageViewer.load();\n",
       " \t  else if(document.readyState==\"complete\") bcLoad();\n",
       " \t  else if(window.addEventListener) window.addEventListener('load', bcLoad, false);\n",
       " \t  else window.attachEvent('onload', bcLoad);\n",
       " \t</script>,\n",
       " <script src=\"/etc/dam/viewers/s7viewers/html5/js/VideoViewer.js\" type=\"text/javascript\"></script>,\n",
       " <script type=\"text/javascript\">\n",
       "     (function() {\n",
       "         var bvapiUrl = \"//dyson.ugc.bazaarvoice.com/static/8787-en_GB/bvapi.js\";\n",
       " \n",
       "         function getScript(url, callback) {\n",
       "             var head = document.getElementsByTagName(\"head\")[0] ||\n",
       "                             document.documentElement,\n",
       "                     script = document.createElement(\"script\");\n",
       "             script.src = url;\n",
       "             script.type = \"text/javascript\";\n",
       "             script.charset = \"utf-8\";\n",
       "             script.setAttribute(\"async\", \"async\");\n",
       "             script.onload = script.onreadystatechange = function () {\n",
       "                 if (!this.readyState || this.readyState === \"loaded\" ||\n",
       "                         this.readyState === \"complete\") {\n",
       "                     script.onload = script.onreadystatechange = null;\n",
       "                     callback();\n",
       "                 }\n",
       "             };\n",
       "             head.insertBefore(script, head.firstChild);\n",
       "         }\n",
       " \n",
       "         window.loadBazaarvoiceApi = function(callback) {\n",
       "             if (window.$BV) {\n",
       "                 callback();\n",
       "             } else {\n",
       "                 getScript(bvapiUrl, function() {\n",
       "                     callback();\n",
       "                 });\n",
       "             }\n",
       "         };\n",
       "     })();\n",
       " </script>,\n",
       " <script type=\"text/javascript\">var user ={\"uid\":null,\"name\":null,\"defaultAddress\":null,\"titleCode\":null,\"title\":null,\"firstName\":null,\"lastName\":null,\"currency\":null,\"language\":null,\"displayUid\":null,\"preferredName\":null,\"email\":null,\"phone\":null,\"byEmail\":null,\"byPhone\":null,\"byPost\":null,\"bySMS\":null,\"bySupport\":null,\"keepMeUpdated\":null,\"needMachineSupport\":null,\"defaultContactAddress\":null,\"password\":null,\"credentialID\":\"anonymous\",\"sapConsumerID\":null,\"status\":\"success\",\"reason\":null,\"message\":null,\"machines\":null,\"hashedEmail\":null,\"locale\":null,\"optIn\":null}</script>,\n",
       " <script type=\"text/javascript\">\n",
       " \t\t\t\t\t\n",
       " \t\t\t\t\t\n",
       " \t\t\t\t</script>,\n",
       " <script id=\"js-search-suggestions-template\" type=\"text/x-handlebars-template\"><ul class=\"search-nav__overlay-items\">\n",
       "         {{#each this}}\n",
       "             <li class=\"search-nav__overlay-item\"> \n",
       "                 <a role=\"button\" href=\"javascript:void(0)\" class=\"js-suggested-link search-nav__overlay-item-link\">{{this.value}}</a>\n",
       "             </li>\n",
       "         {{/each}}\n",
       " </ul>\n",
       " <scr{{!}}ipt class=\"js-search-endpoints-object\" type=\"application/json\">\n",
       " {\"searchPage\":\"/content/dyson/gb/en/search-results.html\",\n",
       " \"searchEndpoint\":\"https://api.dyson.co.uk/apiman-gateway/dyson/search/1.0/gb/?query={%query%}::documentType:range:documentType:ACCESSORIES&currentPage=0&pageSize=20&fields=DEFAULT&lang=en\"}\n",
       " </scr{{!}}ipt></script>,\n",
       " <title id=\"minibasket-sr\">Click to view the basket</title>,\n",
       " <script data-image-dimensions='{\"mobile\":{\"width\":\"320\",\"height\":\"570\"},\"tablet\":{\"width\":\"1025\",\"height\":\"1141\"},\"desktop\":{\"width\":\"1920\",\"height\":\"1292\"}}' type=\"text/javascript\">\n",
       "         new ImageLoader(document.getElementById(\"fallback-image-oneca709b8042bb4b1b80c2ef7a7884dda6\"), \"{\\x22mobile\\x22:{\\x22width\\x22:\\x22320\\x22,\\x22height\\x22:\\x22570\\x22},\\x22tablet\\x22:{\\x22width\\x22:\\x221025\\x22,\\x22height\\x22:\\x221141\\x22},\\x22desktop\\x22:{\\x22width\\x22:\\x221920\\x22,\\x22height\\x22:\\x221292\\x22}}\");\n",
       "     </script>,\n",
       " <script type=\"text/javascript\">\n",
       "                                     new ResponsiveImagePlaceholder(document.getElementById(\"fallback-image-one1ffd8fe9907142bebc5173f683bacd3d\"));\n",
       "                                 </script>,\n",
       " <script type=\"text/javascript\">\n",
       "       new ResponsiveImagePlaceholder(document.getElementById(\"dm_en_id__content_dyson_gb_en_jcr_content_par_column_control_1910693427_par_col_1_33_partial_widthimage_c_dynamic_media\"));\n",
       "       </script>,\n",
       " <script type=\"text/javascript\">\n",
       "       new ResponsiveImagePlaceholder(document.getElementById(\"dm_en_id__content_dyson_gb_en_jcr_content_par_column_control_1910693427_par_col_2_33_partial_widthimage_c_dynamic_media\"));\n",
       "       </script>,\n",
       " <script type=\"text/javascript\">\n",
       "       new ResponsiveImagePlaceholder(document.getElementById(\"dm_en_id__content_dyson_gb_en_jcr_content_par_column_control_1910693427_par_col_3_33_partial_widthimage_c_dynamic_media\"));\n",
       "       </script>,\n",
       " <script type=\"text/javascript\">\n",
       " \t\t       var bccbId = Math.random(); document.write(unescape('%3Cdiv id=' + bccbId + '%3E%3C/div%3E'));\n",
       " \t\t       window._bcvma = window._bcvma || [];\n",
       " \t\t      _bcvma.push([\"setAccountID\", \"304403661577848281\"]);\n",
       " \t\t      _bcvma.push([\"setParameter\", \"WebsiteID\", \"2890173374036807540\"]);\n",
       " \t\t      _bcvma.push([\"addStatic\", {type: \"chat\", bdid: \"4530382820016223813\", id: bccbId}]);\n",
       " \t\t       var bcLoad = function(){\n",
       " \t\t        if(window.bcLoaded) return; window.bcLoaded = true;\n",
       " \t\t        var vms = document.createElement(\"script\"); vms.type = \"text/javascript\"; vms.async = true;\n",
       " \t\t        vms.src = ('https:'==document.location.protocol?'https://':'http://') + \"vmss.boldchat.com/aid/304403661577848281/bc.vms4/vms.js\";\n",
       " \t\t        var s = document.getElementsByTagName('script')[0]; s.parentNode.insertBefore(vms, s);\n",
       " \t\t      };\n",
       " \t\t   if(window.pageViewer && pageViewer.load) pageViewer.load();\n",
       " \t\t   else if(document.readyState==\"complete\") bcLoad();\n",
       " \t\t   else if(window.addEventListener) window.addEventListener('load', bcLoad, false);\n",
       " \t\t   else window.attachEvent('onload', bcLoad);\n",
       " \t\t</script>,\n",
       " <script src=\"/etc/clientlibs/dyson/clientlib-vendor.min.be9b701adc6b0d1acca93d61e45a8529.js\" type=\"text/javascript\"></script>,\n",
       " <script src=\"/etc/clientlibs/dyson/clientlib-all.min.9dedd46bcaab63dcee03bf46687f196b.js\" type=\"text/javascript\"></script>,\n",
       " <script src=\"/etc/clientlibs/dyson/clientlib-common.min.1d651c24a1ac7dc0e401cadca7b9bc76.js\" type=\"text/javascript\"></script>,\n",
       " <script src=\"/etc/clientlibs/dyson/clientlib-main.min.fa2e7e2490da5702887ebb99f1deede2.js\" type=\"text/javascript\"></script>,\n",
       " <script type=\"text/javascript\">\n",
       "                 _satellite.pageBottom();\n",
       "             </script>]"
      ]
     },
     "execution_count": 42,
     "metadata": {},
     "output_type": "execute_result"
    }
   ],
   "source": [
    "# Extracting text from key html sections\n",
    "[s.extract() for s in soup(['style', 'script', '[document]', 'head', 'title'])]"
   ]
  },
  {
   "cell_type": "code",
   "execution_count": 44,
   "metadata": {
    "collapsed": true
   },
   "outputs": [
    {
     "name": "stdout",
     "output_type": "stream",
     "text": [
      "b\"\\n\\t\\n\\n\\n\\n\\n\\n\\n\\n\\n\\n\\n\\t\\n\\t\\t\\n\\t\\t\\t\\t\\n\\t\\t\\t\\t\\t\\n\\t\\t\\t\\t\\t\\t\\n\\t\\t\\t\\t\\t\\t\\t\\n\\t\\t\\t\\t\\t\\n\\t\\t\\t\\n\\n\\t\\t\\n\\t\\t\\t\\n\\t\\t\\t\\t\\n\\t\\t\\t\\t\\n\\t\\t\\t\\n\\t\\n\\n\\n\\n    \\n    \\n        \\n\\tSkip navigation\\n\\n\\n\\n\\n   \\n        \\n        \\n    \\n    \\n        \\n            \\n\\n            \\n    \\n        \\n            Cookie Settings\\n            Dyson websites use cookies. By continuing to use our websites, you accept that cookies may be stored on your device, as outlined in our cookie policy.\\n        \\n        \\n            \\n                \\n                   \\n                \\n            \\n        \\n    \\n\\n\\n            \\n\\t\\n\\t\\tThanks. We've saved your preferences.\\n\\t\\tYou can update your contact preferences at any time in the Keep in touch section of Your Dyson.\\n\\t\\tIf you have a Your Dyson account, you can log in below to manage your contact options. \\n\\t\\t\\n\\t\\t\\t\\n\\t\\t\\t\\tChange your contact preferences.\\n\\t\\t\\t\\n\\t\\t\\n\\t\\n\\n\\t\\n\\t\\t\\n\\t\\t\\tChange your contact preferences.\\n\\t\\t\\n\\t\\n\\n\\t\\n\\t\\t\\n\\t\\t\\t\\n               \\t\\n            \\n\\t\\t\\n\\t\\n\\n\\n        \\n    \\n\\n\\n\\n        \\n        \\n\\n            \\n\\n                \\n                \\n\\n                    \\n                    \\n                        \\n                    \\n\\n                    \\n                    \\n                        \\n                            \\n                            \\n                        \\n                    \\n\\n                    \\n                    \\n\\n\\n    \\n    \\n\\n        \\n        \\n            Products\\n            \\n                \\n            \\n        \\n\\n        \\n        \\n\\n            \\n            \\n\\n                \\n                \\n\\n                    \\n                    \\n\\n                        \\n                        \\n                            \\n                                \\n                                    \\n                                    \\n                                \\n                            \\n                            Cord-free vacuums\\n                        \\n\\n                        \\n                        \\n\\n                            \\n                            \\n\\n                                \\n                                 Sticks \\n                            \\n                        \\n\\n                            \\n                            \\n\\n                                \\n                                 Handhelds \\n                            \\n                        \\n\\n                            \\n                            \\n\\n                                \\n                                 Latest Offers \\n                            \\n                        \\n                    \\n                \\n\\n                    \\n                    \\n\\n                        \\n                        \\n                            \\n                                \\n                                    \\n                                    \\n                                \\n                            \\n                            Corded vacuums\\n                        \\n\\n                        \\n                        \\n\\n                            \\n                            \\n\\n                                \\n                                 Uprights \\n                            \\n                        \\n\\n                            \\n                            \\n\\n                                \\n                                 Cylinders \\n                            \\n                        \\n\\n                            \\n                            \\n\\n                                \\n                                 Latest Offers \\n                            \\n                        \\n                    \\n                \\n\\n                    \\n                    \\n\\n                        \\n                        \\n                            \\n                                \\n                                    \\n                                    \\n                                \\n                            \\n                            Robot vacuums\\n                        \\n\\n                        \\n                        \\n\\n                            \\n                            \\n\\n                                \\n                                 Dyson 360 Eye robot \\n                            \\n                        \\n                    \\n                \\n\\n                    \\n                    \\n\\n                        \\n                        \\n                            \\n                                \\n                                    \\n                                    \\n                                \\n                            \\n                            Hair care\\n                        \\n\\n                        \\n                        \\n\\n                            \\n                            \\n\\n                                \\n                                 Dyson Supersonic hair dryer \\n                            \\n                        \\n                    \\n                \\n\\n                    \\n                    \\n\\n                        \\n                        \\n                            \\n                                \\n                                    \\n                                    \\n                                \\n                            \\n                            Air treatment\\n                        \\n\\n                        \\n                        \\n\\n                            \\n                            \\n\\n                                \\n                                 Purifiers \\n                            \\n                        \\n\\n                            \\n                            \\n\\n                                \\n                                 Humidifiers \\n                            \\n                        \\n                    \\n                \\n\\n                    \\n                    \\n\\n                        \\n                        \\n                            \\n                                \\n                                    \\n                                    \\n                                \\n                            \\n                            Fans and heaters\\n                        \\n\\n                        \\n                        \\n\\n                            \\n                            \\n\\n                                \\n                                 Dyson Cool fans \\n                            \\n                        \\n\\n                            \\n                            \\n\\n                                \\n                                 Dyson Hot+Cool fan heaters \\n                            \\n                        \\n                    \\n                \\n\\n                    \\n                    \\n\\n                        \\n                        \\n                            \\n                                \\n                                    \\n                                    \\n                                \\n                            \\n                            Lighting\\n                        \\n\\n                        \\n                        \\n\\n                            \\n                            \\n\\n                                \\n                                 CSYS task lights \\n                            \\n                        \\n\\n                            \\n                            \\n\\n                                \\n                                 Cu-Beam suspended lights \\n                            \\n                        \\n                    \\n                \\n\\n                    \\n                    \\n\\n                        \\n                        \\n                            \\n                                \\n                                    \\n                                    \\n                                \\n                            \\n                            Hand dryers\\n                        \\n\\n                        \\n                        \\n\\n                            \\n                            \\n\\n                                \\n                                 Dyson Airblade V hand dryer \\n                            \\n                        \\n\\n                            \\n                            \\n\\n                                \\n                                 Dyson Airblade dB hand dryer \\n                            \\n                        \\n\\n                            \\n                            \\n\\n                                \\n                                 Dyson Airblade Tap hand dryer \\n                            \\n                        \\n                    \\n                \\n            \\n        \\n    \\n\\n\\n    \\n    \\n\\n        \\n        \\n            For business\\n            \\n                \\n            \\n        \\n\\n        \\n        \\n\\n            \\n            \\n\\n                \\n                \\n\\n                    \\n                    \\n\\n                        \\n                        \\n                            \\n                            Dyson for Business\\n                        \\n\\n                        \\n                        \\n\\n                            \\n                            \\n\\n                                \\n                                 Overview \\n                            \\n                        \\n\\n                            \\n                            \\n\\n                                \\n                                 Lighting for Business \\n                            \\n                        \\n\\n                            \\n                            \\n\\n                                \\n                                 Hand dryers for Business \\n                            \\n                        \\n\\n                            \\n                            \\n\\n                                \\n                                 Air treatment for Business \\n                            \\n                        \\n\\n                            \\n                            \\n\\n                                \\n                                 Hair care for Business \\n                            \\n                        \\n\\n                            \\n                            \\n\\n                                \\n                                 Resource Library \\n                            \\n                        \\n\\n                            \\n                            \\n\\n                                \\n                                 Case Studies \\n                            \\n                        \\n                    \\n                \\n\\n                    \\n                    \\n\\n                        \\n                        \\n                            \\n                            Sectors\\n                        \\n\\n                        \\n                        \\n\\n                            \\n                            \\n\\n                                \\n                                 Offices \\n                            \\n                        \\n\\n                            \\n                            \\n\\n                                \\n                                 Hotels \\n                            \\n                        \\n\\n                            \\n                            \\n\\n                                \\n                                 Education \\n                            \\n                        \\n\\n                            \\n                            \\n\\n                                \\n                                 Hospitality \\n                            \\n                        \\n                    \\n                \\n            \\n        \\n    \\n\\n\\n    \\n    \\n\\n        \\n        \\n            Support\\n            \\n                \\n            \\n        \\n\\n        \\n        \\n\\n            \\n            \\n\\n                \\n                \\n\\n                    \\n                    \\n\\n                        \\n                        \\n                            \\n                            Get the most out of your machine\\n                        \\n\\n                        \\n                        \\n\\n                            \\n                            \\n\\n                                \\n                                 Support  \\n                            \\n                        \\n\\n                            \\n                            \\n\\n                                \\n                                 Guides \\n                            \\n                        \\n\\n                            \\n                            \\n\\n                                \\n                                 Troubleshooting \\n                            \\n                        \\n\\n                            \\n                            \\n\\n                                \\n                                 Tools \\n                            \\n                        \\n\\n                            \\n                            \\n\\n                                \\n                                 Replacement parts \\n                            \\n                        \\n\\n                            \\n                            \\n\\n                                \\n                                 Repairs and servicing information \\n                            \\n                        \\n                    \\n                \\n\\n                    \\n                    \\n\\n                        \\n                        \\n                            \\n                            Quick links\\n                        \\n\\n                        \\n                        \\n\\n                            \\n                            \\n\\n                                \\n                                 Find your serial number  \\n                            \\n                        \\n\\n                            \\n                            \\n\\n                                \\n                                 Find my machine \\n                            \\n                        \\n\\n                            \\n                            \\n\\n                                \\n                                 Contact Us \\n                            \\n                        \\n\\n                            \\n                            \\n\\n                                \\n                                 Activate your guarantee \\n                            \\n                        \\n\\n                            \\n                            \\n\\n                                \\n                                 Common fixes \\n                            \\n                        \\n                    \\n                \\n            \\n        \\n    \\n\\n\\n    \\n    \\n\\n        \\n        \\n            Your Dyson\\n            \\n                \\n            \\n        \\n\\n        \\n        \\n\\n            \\n            \\n\\n                \\n                \\n            \\n        \\n    \\n\\n\\n    \\n    \\n\\n        \\n        \\n            \\n            \\n                \\n            \\n        \\n\\n        \\n        \\n\\n            \\n            \\n\\n                \\n                \\n\\n                    \\n                    \\n\\n                        \\n                        \\n                            \\n                            \\n                        \\n\\n                        \\n                        \\n                    \\n                \\n            \\n        \\n    \\n\\n\\n\\n                    \\n                    \\n\\t\\n\\t\\t\\n\\t\\t\\tdyson.co.uk\\n\\t\\t\\t\\n            Search\\n\\t\\t\\t\\n\\t\\t    \\n\\t\\t        \\n\\t\\t    \\n\\t\\t\\n\\t\\t\\n\\t\\t\\n\\t\\t\\n\\t\\t\\t\\n\\t\\t\\t\\t\\n\\t\\t\\t\\t\\t\\n\\t\\t\\t\\t\\t\\tdyson.co.uk\\n\\t\\t\\t\\t\\t\\t\\n\\t\\t\\t\\t\\t\\t\\n\\t\\t\\t\\t\\t\\t\\n\\t\\t\\t\\t\\t\\t\\t\\n\\t\\t\\t\\t\\t\\t        \\n\\t\\t\\t\\t\\t\\t    \\n\\t\\t\\t\\t\\t\\t\\n\\t\\t\\t\\t\\t\\t\\n                            Search\\n                            \\n                                \\n                            \\n\\t\\t\\t\\t\\t\\t\\n\\t\\t\\t\\t\\t\\n\\t\\t\\t\\t\\t\\n\\t\\t\\t\\t\\t\\t\\n\\t\\t\\t                \\n\\t\\t\\t            \\n\\t\\t\\t\\t\\t\\n\\t\\t\\t\\t\\n\\t\\t    \\n\\t\\t\\t\\n\\t\\t\\t\\n\\t\\t\\t\\t\\n\\t\\t\\t\\t\\n\\t\\t\\t\\n\\t\\t\\t\\n\\t    \\t\\n\\t\\t\\n\\t\\n\\n\\n                    \\n                    \\n    Your basket is empty.\\n    dyson_sr_basket_has-items\\n    \\n        \\n        \\n    \\n\\n\\n\\n                \\n            \\n        \\n    \\n\\n    \\n    \\n\\n\\n\\n\\n\\n\\n\\n\\t\\n\\n    \\n    \\n    \\n\\n\\n\\n\\n    \\n    \\n    \\n\\n\\n\\n\\n    \\n    \\n    \\n\\n\\n\\n\\n    \\n    \\n    \\n\\n\\n\\n\\n    \\n    \\n    \\n\\n\\n\\n\\n    \\n    \\n    \\n\\n\\n\\n    \\n    \\n    \\n    \\n\\n    \\n\\n        \\n\\n            \\n            \\n\\n                \\n                \\n                    \\n                        \\n                            \\n                            \\n                                \\n    \\n        \\n        \\n        \\n        \\n    \\n    \\n\\n                            \\n                            \\n                        \\n                    \\n                \\n\\n                \\n                \\n                \\n            \\n\\n            \\n            \\n                \\n                    \\n                        \\n                            \\n                                \\n                            \\n                            \\n                                \\n                                \\n                                \\n                                    Time to shine.\\n                                \\n\\n                                \\n                                \\n                                    \\n                                \\n                                \\n                                \\n                                \\n                            \\n                            \\n                                \\n                                    \\n                                        \\n                                            \\n                                                \\n                                                    \\n                                                \\n                                            \\n                                            \\n                                        \\n                                        \\n                                            Shop Mother's Day gift edition\\n                                        \\n                                    \\n                                \\n                               \\n                            \\n                        \\n                    \\n                \\n            \\n\\n            \\n            \\n        \\n    \\n\\n\\n\\n\\n\\n    \\n    \\n    \\n\\n\\n\\n    \\n    \\n    \\n    \\n\\n    \\n\\n        \\n\\n            \\n            \\n\\n                \\n                \\n                    \\n                        \\n                            \\n                            \\n                            \\n                                \\n                                \\n                            \\n                        \\n                    \\n                \\n\\n                \\n                \\n                \\n            \\n\\n            \\n            \\n                \\n                    \\n                        \\n                            \\n                                \\n                            \\n                            \\n                                \\n                                \\n                                \\n                                    Powerful and lightweight. Floor-to-ceiling cleaning.\\n                                \\n\\n                                \\n                                \\n                                    Dyson technology from 199.00\\n                                \\n                                \\n                                \\n                                \\n                            \\n                            \\n                                \\n                                    \\n                                        \\n                                            \\n                                            \\n                                                \\n                                                    \\n                                                \\n                                            \\n                                        \\n                                        \\n                                            Shop now\\n                                        \\n                                    \\n                                \\n                               \\n                            \\n                        \\n                    \\n                \\n            \\n\\n            \\n            \\n        \\n    \\n\\n\\n\\n\\n\\n    \\n    \\n    \\n\\n  \\n      \\n    \\t\\n\\t\\t\\tDivider line\\n        \\n      \\n  \\n\\n\\n\\n    \\n    \\n    \\n      \\n            \\n            \\n                  \\n\\n    \\n    \\n    \\n    \\n    \\n\\n\\n    \\n    \\n    \\n        \\n        \\n            \\n                \\n                    \\n                        \\n                            \\n                            \\n                            \\n                            \\n                                \\n                                    \\n                                    \\n                                        \\n\\n\\t\\n\\n\\t\\n\\n    \\n      \\n  \\n    \\n    \\n    \\n      \\n    \\n  \\n\\n    \\n    \\n\\t\\n\\n\\t\\n\\n\\n                                        \\n                                        \\n                                        \\n                                        \\n                                    \\n                                \\n                                \\n                                \\n                                    \\n                                        \\n                                            \\n                                                \\n                                                \\n                                                \\n                                                    \\n                                                \\n                                                \\n                                                \\n                                                    \\n                                                        \\n                                                    \\n                                                \\n                                            \\n                                        \\n                                    \\n                                \\n                                \\n                                \\n                                    \\n                                \\n                            \\n                        \\n                        \\n                        \\n                        \\n                    \\n                \\n                \\n                \\n            \\n        \\n    \\n\\n\\n\\n\\n    \\n    \\n    \\n\\n\\n\\t\\n\\t\\t\\n\\t\\t\\t\\n\\t\\t\\t\\n\\t\\t\\t\\n\\t\\t\\t\\t Dyson Institute \\n\\t\\t\\t\\tImmersive engineering degrees for the next generation.\\n\\n\\n\\t\\t\\t\\n\\t\\t\\n\\t\\n\\n\\n\\n\\n\\n            \\n      \\n            \\n            \\n                  \\n\\n    \\n    \\n    \\n    \\n    \\n\\n\\n    \\n    \\n    \\n        \\n        \\n            \\n                \\n                    \\n                        \\n                            \\n                            \\n                            \\n                            \\n                                \\n                                    \\n                                    \\n                                        \\n\\n\\t\\n\\n\\t\\n\\n    \\n      \\n  \\n    \\n    \\n    \\n      \\n    \\n  \\n\\n    \\n    \\n\\t\\n\\n\\t\\n\\n\\n                                        \\n                                        \\n                                        \\n                                        \\n                                    \\n                                \\n                                \\n                                \\n                                    \\n                                        \\n                                            \\n                                                \\n                                                \\n                                                \\n                                                    \\n                                                \\n                                                \\n                                                \\n                                                    \\n                                                        \\n                                                    \\n                                                \\n                                            \\n                                        \\n                                    \\n                                \\n                                \\n                                \\n                                    \\n                                \\n                            \\n                        \\n                        \\n                        \\n                        \\n                    \\n                \\n                \\n                \\n            \\n        \\n    \\n\\n\\n\\n\\n    \\n    \\n    \\n\\n\\n\\t\\n\\t\\t\\n\\t\\t\\t\\n\\t\\t\\t\\n\\t\\t\\t\\n\\t\\t\\t\\t James Dyson Award \\n\\t\\t\\t\\tDo you have an idea that solves a problem?\\n\\n\\n\\t\\t\\t\\n\\t\\t\\n\\t\\n\\n\\n\\n\\n\\n            \\n      \\n            \\n            \\n                  \\n\\n    \\n    \\n    \\n    \\n    \\n\\n\\n    \\n    \\n    \\n        \\n        \\n            \\n                \\n                    \\n                        \\n                            \\n                            \\n                            \\n                            \\n                                \\n                                    \\n                                    \\n                                        \\n\\n\\t\\n\\n\\t\\n\\n    \\n      \\n  \\n    \\n    \\n    \\n      \\n    \\n  \\n\\n    \\n    \\n\\t\\n\\n\\t\\n\\n\\n                                        \\n                                        \\n                                        \\n                                        \\n                                    \\n                                \\n                                \\n                                \\n                                    \\n                                        \\n                                            \\n                                                \\n                                                \\n                                                \\n                                                    \\n                                                \\n                                                \\n                                                \\n                                                    \\n                                                        \\n                                                    \\n                                                \\n                                            \\n                                        \\n                                    \\n                                \\n                                \\n                                \\n                                    \\n                                \\n                            \\n                        \\n                        \\n                        \\n                        \\n                    \\n                \\n                \\n                \\n            \\n        \\n    \\n\\n\\n\\n\\n    \\n    \\n    \\n\\n\\n\\t\\n\\t\\t\\n\\t\\t\\t\\n\\t\\t\\t\\n\\t\\t\\t\\n\\t\\t\\t\\t Dyson Demo \\n\\t\\t\\t\\tExperience Dyson technology.\\n\\n\\n\\t\\t\\t\\n\\t\\t\\n\\t\\n\\n\\n\\n\\n\\n            \\n      \\n\\n\\n\\n\\n    \\n    \\n    \\n\\n\\n\\t\\n\\t\\t\\n\\t\\t\\t\\n\\t\\t\\t\\n\\t\\t\\t\\n\\t\\t\\t\\t\\n\\t\\t\\t\\tParticles as small as 0.1 microns. Tested to EN1822. Gaseous capture rates vary.\\n\\n\\n\\t\\t\\t\\n\\t\\t\\n\\t\\n\\n\\n\\n\\n\\n\\n\\n\\n\\n\\n\\n\\n    \\n        \\n            \\n                \\n                    \\n                \\n            \\n        \\n    \\n\\n\\n\\n\\n    \\n        \\n        \\n    \\n\\n    \\n        \\n            \\n                \\n                    \\n                    Talking to us is easy\\n                \\n                \\n                    \\n                        \\n                            \\n                                \\n                                    \\n                                        \\n                                    \\n                                \\n                                \\n                                    You can call us on 0800 298 0298\\n                                    You can call us \\n                                    0800-298-0298\\n                                \\n                            \\n                            \\n                        \\n                    \\n                    \\n                    \\n                        \\n                        \\n                            \\n\\t\\n\\t\\t\\n\\t\\n\\t\\n                        \\n                        \\n                    \\n                \\n            \\n        \\n    \\n\\n    \\n\\n\\n\\n    \\n        \\n            \\n                \\n                    \\n                    \\n                \\n                United Kingdom\\n            \\n        \\n        \\n            \\n                \\n                    \\n                        Vacuum Cleaners\\n                    \\n                \\n                    \\n                        Hair Dryers\\n                    \\n                \\n                    \\n                        Guarantee terms\\n                    \\n                \\n                    \\n                        Delivery details\\n                    \\n                \\n                    \\n                        Repairs and servicing\\n                    \\n                \\n                    \\n                        Careers\\n                    \\n                \\n                    \\n                        Press\\n                    \\n                \\n                    \\n                        Compliance data\\n                    \\n                \\n                    \\n                        Company Information\\n                    \\n                \\n                    \\n                        AM04/AM05 safety recall\\n                    \\n                \\n                    \\n                        Corporate Social Responsibility\\n                    \\n                \\n                    \\n                        UK Modern Slavery Act Statement\\n                    \\n                \\n            \\n            \\n                \\n                    \\n                        Privacy Policy\\n                    \\n                \\n                    \\n                        Terms and Conditions\\n                    \\n                \\n                    \\n                        Terms of website use\\n                    \\n                \\n                    \\n                        Cookies Policy\\n                    \\n                \\n                    \\n                        Your right to cancel\\n                    \\n                \\n                    \\n                        Online dispute resolution\\n                    \\n                \\n                    \\n                        Sitemap\\n                    \\n                \\n                    \\n                        James Dyson Foundation\\n                    \\n                \\n            \\n            \\n                \\n                    \\n                        \\n                    \\n                    \\n                        \\n                    \\n                    \\n                        \\n                    \\n                \\n            \\n            \\n                 Dyson 2018\\n                \\n                **Dyson Limited is authorised and regulated by the Financial Conduct Authority to act as a credit broker.  Dyson Limited is not a lender and operates as a credit broker exclusively for PayPal Credit.  PayPal Credit is a trading name of PayPal (Europe) Sarl et Cie, SCA, 22-24 Boulevard Royal, L2449 Luxembourg.  PayPal Credit is subject to status, terms and conditions apply.\\n            \\n        \\n    \\n    \\n    \\n        \\n            \\n            \\n                Select your location\\n                \\n                    Close country selector\\n                    \\n                        \\n                    \\n                \\n            \\n            \\n            \\n                \\n                    \\n                    \\n                        Europe\\n                    \\n                    \\n                        Asia/Pacific\\n                    \\n                    \\n                        North America\\n                    \\n                    \\n                        South America\\n                    \\n                    \\n                        Middle East\\n                    \\n                    \\n                        Africa\\n                    \\n                    \\n                    \\n                        \\n                            \\n                                \\n                                \\n                                \\n                                    Belgie (Nederlands)\\n                                \\n                                \\n                            \\n                        \\n                            \\n                                \\n                                \\n                                \\n                                    Belgique (Franaise)\\n                                \\n                                \\n                            \\n                        \\n                            \\n                                \\n                                \\n                                \\n                                    Cyprus (English)\\n                                \\n                                \\n                            \\n                        \\n                            \\n                                \\n                                \\n                                \\n                                    Danmark \\n                                \\n                                \\n                            \\n                        \\n                            \\n                                \\n                                \\n                                \\n                                    Deutschland\\n                                \\n                                \\n                            \\n                        \\n                            \\n                                \\n                                \\n                                \\n                                    Espaa\\n                                \\n                                \\n                            \\n                        \\n                            \\n                                \\n                                \\n                                \\n                                    France\\n                                \\n                                \\n                            \\n                        \\n                            \\n                                \\n                                \\n                                \\n                                    Hrvatska \\n                                \\n                                \\n                            \\n                        \\n                            \\n                                \\n                                \\n                                \\n                                    Ireland\\n                                \\n                                \\n                            \\n                        \\n                            \\n                                \\n                                \\n                                \\n                                    Italia\\n                                \\n                                \\n                            \\n                        \\n                            \\n                                \\n                                \\n                                \\n                                    Latvija\\n                                \\n                                \\n                            \\n                        \\n                            \\n                                \\n                                \\n                                \\n                                    Luxembourg (Deutsch)\\n                                \\n                                \\n                            \\n                        \\n                            \\n                                \\n                                \\n                                \\n                                    Luxembourg (Franais)\\n                                \\n                                \\n                            \\n                        \\n                            \\n                                \\n                                \\n                                \\n                                    Magyarorszg\\n                                \\n                                \\n                            \\n                        \\n                            \\n                                \\n                                \\n                                \\n                                    Nederland\\n                                \\n                                \\n                            \\n                        \\n                            \\n                                \\n                                \\n                                \\n                                    Norge\\n                                \\n                                \\n                            \\n                        \\n                            \\n                                \\n                                \\n                                \\n                                    Polska\\n                                \\n                                \\n                            \\n                        \\n                            \\n                                \\n                                \\n                                \\n                                    Portugal\\n                                \\n                                \\n                            \\n                        \\n                            \\n                                \\n                                \\n                                \\n                                    Romnia \\n                                \\n                                \\n                            \\n                        \\n                            \\n                                \\n                                \\n                                \\n                                    Schweiz (Deutsch)\\n                                \\n                                \\n                            \\n                        \\n                            \\n                                \\n                                \\n                                \\n                                    Slovenija\\n                                \\n                                \\n                            \\n                        \\n                            \\n                                \\n                                \\n                                \\n                                    Slovenska Republika\\n                                \\n                                \\n                            \\n                        \\n                            \\n                                \\n                                \\n                                \\n                                    Suisse (Franaise)\\n                                \\n                                \\n                            \\n                        \\n                            \\n                                \\n                                \\n                                \\n                                    Suomi\\n                                \\n                                \\n                            \\n                        \\n                            \\n                                \\n                                \\n                                \\n                                    Sverige\\n                                \\n                                \\n                            \\n                        \\n                            \\n                                \\n                                \\n                                \\n                                    Svizzera (Italiano)\\n                                \\n                                \\n                            \\n                        \\n                            \\n                                \\n                                \\n                                \\n                                    Trke\\n                                \\n                                \\n                            \\n                        \\n                            \\n                                \\n                                \\n                                \\n                                    United Kingdom\\n                                \\n                                \\n                            \\n                        \\n                            \\n                                \\n                                \\n                                \\n                                    sterreich\\n                                \\n                                \\n                            \\n                        \\n                            \\n                                \\n                                \\n                                \\n                                    esk Republika\\n                                \\n                                \\n                            \\n                        \\n                            \\n                                \\n                                \\n                                \\n                                    \\n                                \\n                                \\n                            \\n                        \\n                            \\n                                \\n                                \\n                                \\n                                     () \\n                                \\n                                \\n                            \\n                        \\n                            \\n                                \\n                                \\n                                \\n                                    \\n                                \\n                                \\n                            \\n                        \\n                            \\n                                \\n                                \\n                                \\n                                     ()\\n                                \\n                                \\n                            \\n                        \\n                            \\n                                \\n                                \\n                                \\n                                     \\n                                \\n                                \\n                            \\n                        \\n                    \\n                    \\n                        \\n                            \\n                                \\n                                \\n                                \\n                                    Australia\\n                                \\n                                \\n                            \\n                        \\n                            \\n                                \\n                                \\n                                \\n                                    Hong Kong (English)\\n                                \\n                                \\n                            \\n                        \\n                            \\n                                \\n                                \\n                                \\n                                    India\\n                                \\n                                \\n                            \\n                        \\n                            \\n                                \\n                                \\n                                \\n                                    Indonesia (Bahasa)\\n                                \\n                                \\n                            \\n                        \\n                            \\n                                \\n                                \\n                                \\n                                    Indoseisa (English)\\n                                \\n                                \\n                            \\n                        \\n                            \\n                                \\n                                \\n                                \\n                                    Malaysia\\n                                \\n                                \\n                            \\n                        \\n                            \\n                                \\n                                \\n                                \\n                                    New Zealand\\n                                \\n                                \\n                            \\n                        \\n                            \\n                                \\n                                \\n                                \\n                                    Philippines (English)\\n                                \\n                                \\n                            \\n                        \\n                            \\n                                \\n                                \\n                                \\n                                    Singapore\\n                                \\n                                \\n                            \\n                        \\n                            \\n                                \\n                                \\n                                \\n                                    South Korea\\n                                \\n                                \\n                            \\n                        \\n                            \\n                                \\n                                \\n                                \\n                                    Thailand (English)\\n                                \\n                                \\n                            \\n                        \\n                            \\n                                \\n                                \\n                                \\n                                     ()\\n                                \\n                                \\n                            \\n                        \\n                            \\n                                \\n                                \\n                                \\n                                     ()\\n                                \\n                                \\n                            \\n                        \\n                            \\n                                \\n                                \\n                                \\n                                    \\n                                \\n                                \\n                            \\n                        \\n                            \\n                                \\n                                \\n                                \\n                                    ()\\n                                \\n                                \\n                            \\n                        \\n                    \\n                    \\n                        \\n                            \\n                                \\n                                \\n                                \\n                                    Canada (English)\\n                                \\n                                \\n                            \\n                        \\n                            \\n                                \\n                                \\n                                \\n                                    Canada (Franais)\\n                                \\n                                \\n                            \\n                        \\n                            \\n                                \\n                                \\n                                \\n                                    Costa Rica\\n                                \\n                                \\n                            \\n                        \\n                            \\n                                \\n                                \\n                                \\n                                    El Salvador\\n                                \\n                                \\n                            \\n                        \\n                            \\n                                \\n                                \\n                                \\n                                    Guatemala\\n                                \\n                                \\n                            \\n                        \\n                            \\n                                \\n                                \\n                                \\n                                    Honduras\\n                                \\n                                \\n                            \\n                        \\n                            \\n                                \\n                                \\n                                \\n                                    Mexico\\n                                \\n                                \\n                            \\n                        \\n                            \\n                                \\n                                \\n                                \\n                                    USA\\n                                \\n                                \\n                            \\n                        \\n                    \\n                    \\n                        \\n                            \\n                                \\n                                \\n                                \\n                                    Brazil\\n                                \\n                                \\n                            \\n                        \\n                            \\n                                \\n                                \\n                                \\n                                    Chile\\n                                \\n                                \\n                            \\n                        \\n                            \\n                                \\n                                \\n                                \\n                                    Colombia\\n                                \\n                                \\n                            \\n                        \\n                            \\n                                \\n                                \\n                                \\n                                    Panama\\n                                \\n                                \\n                            \\n                        \\n                            \\n                                \\n                                \\n                                \\n                                    Peru\\n                                \\n                                \\n                            \\n                        \\n                    \\n                    \\n                        \\n                            \\n                                \\n                                \\n                                \\n                                    Israel (English)\\n                                \\n                                \\n                            \\n                        \\n                            \\n                                \\n                                \\n                                \\n                                    Lebanon (English)\\n                                \\n                                \\n                            \\n                        \\n                            \\n                                \\n                                \\n                                \\n                                    Qatar\\n                                \\n                                \\n                            \\n                        \\n                            \\n                                \\n                                \\n                                \\n                                    Saudi Arabia (English)\\n                                \\n                                \\n                            \\n                        \\n                            \\n                                \\n                                \\n                                \\n                                    Trke\\n                                \\n                                \\n                            \\n                        \\n                            \\n                                \\n                                \\n                                \\n                                    UAE (English)\\n                                \\n                                \\n                            \\n                        \\n                            \\n                                \\n                                \\n                                \\n                                     ( ) Yisra'el\\n                                \\n                                \\n                            \\n                        \\n                            \\n                                \\n                                \\n                                \\n                                       \\n                                \\n                                \\n                            \\n                        \\n                            \\n                                \\n                                \\n                                \\n                                       \\n                                \\n                                \\n                            \\n                        \\n                    \\n                    \\n                        \\n                            \\n                                \\n                                \\n                                \\n                                    Morocco\\n                                \\n                                \\n                            \\n                        \\n                            \\n                                \\n                                \\n                                \\n                                    South Africa\\n                                \\n                                \\n                            \\n                        \\n                    \\n                \\n            \\n            \\n            \\n                \\n                    \\n                        \\n                            Europe\\n                            \\n                                \\n                            \\n                        \\n                        \\n                            \\n                                \\n                                    \\n                                    \\n                                    \\n                                        Belgie (Nederlands)\\n                                    \\n                                    \\n                                \\n                            \\n                                \\n                                    \\n                                    \\n                                    \\n                                        Belgique (Franaise)\\n                                    \\n                                    \\n                                \\n                            \\n                                \\n                                    \\n                                    \\n                                    \\n                                        Cyprus (English)\\n                                    \\n                                    \\n                                \\n                            \\n                                \\n                                    \\n                                    \\n                                    \\n                                        Danmark \\n                                    \\n                                    \\n                                \\n                            \\n                                \\n                                    \\n                                    \\n                                    \\n                                        Deutschland\\n                                    \\n                                    \\n                                \\n                            \\n                                \\n                                    \\n                                    \\n                                    \\n                                        Espaa\\n                                    \\n                                    \\n                                \\n                            \\n                                \\n                                    \\n                                    \\n                                    \\n                                        France\\n                                    \\n                                    \\n                                \\n                            \\n                                \\n                                    \\n                                    \\n                                    \\n                                        Hrvatska \\n                                    \\n                                    \\n                                \\n                            \\n                                \\n                                    \\n                                    \\n                                    \\n                                        Ireland\\n                                    \\n                                    \\n                                \\n                            \\n                                \\n                                    \\n                                    \\n                                    \\n                                        Italia\\n                                    \\n                                    \\n                                \\n                            \\n                                \\n                                    \\n                                    \\n                                    \\n                                        Latvija\\n                                    \\n                                    \\n                                \\n                            \\n                                \\n                                    \\n                                    \\n                                    \\n                                        Luxembourg (Deutsch)\\n                                    \\n                                    \\n                                \\n                            \\n                                \\n                                    \\n                                    \\n                                    \\n                                        Luxembourg (Franais)\\n                                    \\n                                    \\n                                \\n                            \\n                                \\n                                    \\n                                    \\n                                    \\n                                        Magyarorszg\\n                                    \\n                                    \\n                                \\n                            \\n                                \\n                                    \\n                                    \\n                                    \\n                                        Nederland\\n                                    \\n                                    \\n                                \\n                            \\n                                \\n                                    \\n                                    \\n                                    \\n                                        Norge\\n                                    \\n                                    \\n                                \\n                            \\n                                \\n                                    \\n                                    \\n                                    \\n                                        Polska\\n                                    \\n                                    \\n                                \\n                            \\n                                \\n                                    \\n                                    \\n                                    \\n                                        Portugal\\n                                    \\n                                    \\n                                \\n                            \\n                                \\n                                    \\n                                    \\n                                    \\n                                        Romnia \\n                                    \\n                                    \\n                                \\n                            \\n                                \\n                                    \\n                                    \\n                                    \\n                                        Schweiz (Deutsch)\\n                                    \\n                                    \\n                                \\n                            \\n                                \\n                                    \\n                                    \\n                                    \\n                                        Slovenija\\n                                    \\n                                    \\n                                \\n                            \\n                                \\n                                    \\n                                    \\n                                    \\n                                        Slovenska Republika\\n                                    \\n                                    \\n                                \\n                            \\n                                \\n                                    \\n                                    \\n                                    \\n                                        Suisse (Franaise)\\n                                    \\n                                    \\n                                \\n                            \\n                                \\n                                    \\n                                    \\n                                    \\n                                        Suomi\\n                                    \\n                                    \\n                                \\n                            \\n                                \\n                                    \\n                                    \\n                                    \\n                                        Sverige\\n                                    \\n                                    \\n                                \\n                            \\n                                \\n                                    \\n                                    \\n                                    \\n                                        Svizzera (Italiano)\\n                                    \\n                                    \\n                                \\n                            \\n                                \\n                                    \\n                                    \\n                                    \\n                                        Trke\\n                                    \\n                                    \\n                                \\n                            \\n                                \\n                                    \\n                                    \\n                                    \\n                                        United Kingdom\\n                                    \\n                                    \\n                                \\n                            \\n                                \\n                                    \\n                                    \\n                                    \\n                                        sterreich\\n                                    \\n                                    \\n                                \\n                            \\n                                \\n                                    \\n                                    \\n                                    \\n                                        esk Republika\\n                                    \\n                                    \\n                                \\n                            \\n                                \\n                                    \\n                                    \\n                                    \\n                                        \\n                                    \\n                                    \\n                                \\n                            \\n                                \\n                                    \\n                                    \\n                                    \\n                                         () \\n                                    \\n                                    \\n                                \\n                            \\n                                \\n                                    \\n                                    \\n                                    \\n                                        \\n                                    \\n                                    \\n                                \\n                            \\n                                \\n                                    \\n                                    \\n                                    \\n                                         ()\\n                                    \\n                                    \\n                                \\n                            \\n                                \\n                                    \\n                                    \\n                                    \\n                                         \\n                                    \\n                                    \\n                                \\n                            \\n                        \\n                    \\n                    \\n                        \\n                            Asia/Pacific\\n                            \\n                                \\n                            \\n                        \\n                        \\n                            \\n                                \\n                                    \\n                                    \\n                                    \\n                                        Australia\\n                                    \\n                                    \\n                                \\n                            \\n                                \\n                                    \\n                                    \\n                                    \\n                                        Hong Kong (English)\\n                                    \\n                                    \\n                                \\n                            \\n                                \\n                                    \\n                                    \\n                                    \\n                                        India\\n                                    \\n                                    \\n                                \\n                            \\n                                \\n                                    \\n                                    \\n                                    \\n                                        Indonesia (Bahasa)\\n                                    \\n                                    \\n                                \\n                            \\n                                \\n                                    \\n                                    \\n                                    \\n                                        Indoseisa (English)\\n                                    \\n                                    \\n                                \\n                            \\n                                \\n                                    \\n                                    \\n                                    \\n                                        Malaysia\\n                                    \\n                                    \\n                                \\n                            \\n                                \\n                                    \\n                                    \\n                                    \\n                                        New Zealand\\n                                    \\n                                    \\n                                \\n                            \\n                                \\n                                    \\n                                    \\n                                    \\n                                        Philippines (English)\\n                                    \\n                                    \\n                                \\n                            \\n                                \\n                                    \\n                                    \\n                                    \\n                                        Singapore\\n                                    \\n                                    \\n                                \\n                            \\n                                \\n                                    \\n                                    \\n                                    \\n                                        South Korea\\n                                    \\n                                    \\n                                \\n                            \\n                                \\n                                    \\n                                    \\n                                    \\n                                        Thailand (English)\\n                                    \\n                                    \\n                                \\n                            \\n                                \\n                                    \\n                                    \\n                                    \\n                                         ()\\n                                    \\n                                    \\n                                \\n                            \\n                                \\n                                    \\n                                    \\n                                    \\n                                         ()\\n                                    \\n                                    \\n                                \\n                            \\n                                \\n                                    \\n                                    \\n                                    \\n                                        \\n                                    \\n                                    \\n                                \\n                            \\n                                \\n                                    \\n                                    \\n                                    \\n                                        ()\\n                                    \\n                                    \\n                                \\n                            \\n                        \\n                    \\n                    \\n                        \\n                            North America\\n                            \\n                                \\n                            \\n                        \\n                        \\n                            \\n                                \\n                                    \\n                                    \\n                                    \\n                                        Canada (English)\\n                                    \\n                                    \\n                                \\n                            \\n                                \\n                                    \\n                                    \\n                                    \\n                                        Canada (Franais)\\n                                    \\n                                    \\n                                \\n                            \\n                                \\n                                    \\n                                    \\n                                    \\n                                        Costa Rica\\n                                    \\n                                    \\n                                \\n                            \\n                                \\n                                    \\n                                    \\n                                    \\n                                        El Salvador\\n                                    \\n                                    \\n                                \\n                            \\n                                \\n                                    \\n                                    \\n                                    \\n                                        Guatemala\\n                                    \\n                                    \\n                                \\n                            \\n                                \\n                                    \\n                                    \\n                                    \\n                                        Honduras\\n                                    \\n                                    \\n                                \\n                            \\n                                \\n                                    \\n                                    \\n                                    \\n                                        Mexico\\n                                    \\n                                    \\n                                \\n                            \\n                                \\n                                    \\n                                    \\n                                    \\n                                        USA\\n                                    \\n                                    \\n                                \\n                            \\n                        \\n                    \\n                    \\n                        \\n                            South America\\n                            \\n                                \\n                            \\n                        \\n                        \\n                            \\n                                \\n                                    \\n                                    \\n                                    \\n                                        Brazil\\n                                    \\n                                    \\n                                \\n                            \\n                                \\n                                    \\n                                    \\n                                    \\n                                        Chile\\n                                    \\n                                    \\n                                \\n                            \\n                                \\n                                    \\n                                    \\n                                    \\n                                        Colombia\\n                                    \\n                                    \\n                                \\n                            \\n                                \\n                                    \\n                                    \\n                                    \\n                                        Panama\\n                                    \\n                                    \\n                                \\n                            \\n                                \\n                                    \\n                                    \\n                                    \\n                                        Peru\\n                                    \\n                                    \\n                                \\n                            \\n                        \\n                    \\n                    \\n                        \\n                            Middle East\\n                            \\n                                \\n                            \\n                        \\n                        \\n                            \\n                                \\n                                    \\n                                    \\n                                    \\n                                        Israel (English)\\n                                    \\n                                    \\n                                \\n                            \\n                                \\n                                    \\n                                    \\n                                    \\n                                        Lebanon (English)\\n                                    \\n                                    \\n                                \\n                            \\n                                \\n                                    \\n                                    \\n                                    \\n                                        Qatar\\n                                    \\n                                    \\n                                \\n                            \\n                                \\n                                    \\n                                    \\n                                    \\n                                        Saudi Arabia (English)\\n                                    \\n                                    \\n                                \\n                            \\n                                \\n                                    \\n                                    \\n                                    \\n                                        Trke\\n                                    \\n                                    \\n                                \\n                            \\n                                \\n                                    \\n                                    \\n                                    \\n                                        UAE (English)\\n                                    \\n                                    \\n                                \\n                            \\n                                \\n                                    \\n                                    \\n                                    \\n                                         ( ) Yisra'el\\n                                    \\n                                    \\n                                \\n                            \\n                                \\n                                    \\n                                    \\n                                    \\n                                           \\n                                    \\n                                    \\n                                \\n                            \\n                                \\n                                    \\n                                    \\n                                    \\n                                           \\n                                    \\n                                    \\n                                \\n                            \\n                        \\n                    \\n                    \\n                        \\n                            Africa\\n                            \\n                                \\n                            \\n                        \\n                        \\n                            \\n                                \\n                                    \\n                                    \\n                                    \\n                                        Morocco\\n                                    \\n                                    \\n                                \\n                            \\n                                \\n                                    \\n                                    \\n                                    \\n                                        South Africa\\n                                    \\n                                    \\n                                \\n                            \\n                        \\n                    \\n                \\n            \\n        \\n    \\n\\n\\n    \\n    \\n        \\n    \\n        \\n                    \\n                \\n                    \\n                    \\n                \\n                \\n                \\n                    \\n                \\n                \\n                    We'll notify you at \\n                \\n                \\n                    We're sorry, but something went wrong. Please try again.\\n                \\n                \\n                    \\n                        \\n                    \\n                \\n            \\n        \\n    \\n\\n    \\n\\n\\n\\n\\n        \\n\\n    \\n\\n\\n\\n\\n\\n        \\n\\n\\n\\n\\n    \\n\\n\\n\\n\\n\\n\\n\\n    \\n\\n\\n\\n\\n        \\n        \\n\\n    \\n\\n\\n\\n\\n\\n        \\n            \\n        \\n    \\n\\n\"\n"
     ]
    }
   ],
   "source": [
    "# Get all visible text\n",
    "text = soup.getText().encode('ascii','ignore')"
   ]
  },
  {
   "cell_type": "markdown",
   "metadata": {},
   "source": [
    "We want to clean up this text by removing HTML tags and new line indicators. "
   ]
  },
  {
   "cell_type": "code",
   "execution_count": 45,
   "metadata": {
    "collapsed": true
   },
   "outputs": [
    {
     "name": "stdout",
     "output_type": "stream",
     "text": [
      "b\"                Skip navigation                                                                                   Cookie Settings            Dyson websites use cookies. By continuing to use our websites, you accept that cookies may be stored on your device, as outlined in our cookie policy.                                                                                                                   Thanks. We've saved your preferences.You can update your contact preferences at any time in the Keep in touch section of Your Dyson.If you have a Your Dyson account, you can log in below to manage your contact options. Change your contact preferences.Change your contact preferences.                                                                                                                                                                                                                                                                                                                                                                                                                                       Products                                                                                                                                                                                                                                                                                                                                                                                                                                            Cord-free vacuums                                                                                                                                                                                                 Sticks                                                                                                                                                                              Handhelds                                                                                                                                                                              Latest Offers                                                                                                                                                                                                                                                                                                                                                                                                             Corded vacuums                                                                                                                                                                                                 Uprights                                                                                                                                                                              Cylinders                                                                                                                                                                              Latest Offers                                                                                                                                                                                                                                                                                                                                                                                                             Robot vacuums                                                                                                                                                                                                 Dyson 360 Eye robot                                                                                                                                                                                                                                                                                                                                                                                                             Hair care                                                                                                                                                                                                 Dyson Supersonic hair dryer                                                                                                                                                                                                                                                                                                                                                                                                             Air treatment                                                                                                                                                                                                 Purifiers                                                                                                                                                                              Humidifiers                                                                                                                                                                                                                                                                                                                                                                                                             Fans and heaters                                                                                                                                                                                                 Dyson Cool fans                                                                                                                                                                              Dyson Hot+Cool fan heaters                                                                                                                                                                                                                                                                                                                                                                                                             Lighting                                                                                                                                                                                                 CSYS task lights                                                                                                                                                                              Cu-Beam suspended lights                                                                                                                                                                                                                                                                                                                                                                                                             Hand dryers                                                                                                                                                                                                 Dyson Airblade V hand dryer                                                                                                                                                                              Dyson Airblade dB hand dryer                                                                                                                                                                              Dyson Airblade Tap hand dryer                                                                                                                                                     For business                                                                                                                                                                                                                                                                        Dyson for Business                                                                                                                                                                                                 Overview                                                                                                                                                                              Lighting for Business                                                                                                                                                                              Hand dryers for Business                                                                                                                                                                              Air treatment for Business                                                                                                                                                                              Hair care for Business                                                                                                                                                                              Resource Library                                                                                                                                                                              Case Studies                                                                                                                                                                                                                                         Sectors                                                                                                                                                                                                 Offices                                                                                                                                                                              Hotels                                                                                                                                                                              Education                                                                                                                                                                              Hospitality                                                                                                                                                     Support                                                                                                                                                                                                                                                                        Get the most out of your machine                                                                                                                                                                                                 Support                                                                                                                                                                               Guides                                                                                                                                                                              Troubleshooting                                                                                                                                                                              Tools                                                                                                                                                                              Replacement parts                                                                                                                                                                              Repairs and servicing information                                                                                                                                                                                                                                         Quick links                                                                                                                                                                                                 Find your serial number                                                                                                                                                                               Find my machine                                                                                                                                                                              Contact Us                                                                                                                                                                              Activate your guarantee                                                                                                                                                                              Common fixes                                                                                                                                                     Your Dyson                                                                                                                                                                                                                                                                                                                                                                                                                                                                                                                                                                                                                                        dyson.co.uk            Search                dyson.co.uk                                        Search                                                                                                                                                                        Your basket is empty.    dyson_sr_basket_has-items                                                                                                                                                                                                                                                                                                                                                                                                                                                                                                                                                                                                                                                                                                                                                                                                                                                                                                                                                Time to shine.                                                                                                                                                                                                                                                                                                                                                                                                                                                                                                                                                                                                                                                                                                                                                                                                                                                            Shop Mother's Day gift edition                                                                                                                                                                                                                                                                                                                                                                                                                                                                                                                                                                                                                                                                                                                                                                                                                                                                                                                                                                                                                                                                                   Powerful and lightweight. Floor-to-ceiling cleaning.                                                                                                                                    Dyson technology from 199.00                                                                                                                                                                                                                                                                                                                                                                                                                                                                                                                                                                                                                                                                                                                        Shop now                                                                                                                                                                                                                                                                                                           Divider line                                                                                                                                                                                                                                                                                                                                                                                                                                                                                                                                                                                                                                                                                                                                                                                                                                                                                                                                                                                                                                                                                                                                                                                                                                                                                                                                                                                                                                                                                                                                                                                                                                                                                                                                                                                                                                                                                                                                                                                                                                                 Dyson Institute Immersive engineering degrees for the next generation.                                                                                                                                                                                                                                                                                                                                                                                                                                                                                                                                                                                                                                                                                                                                                                                                                                                                                                                                                                                                                                                                                                                                                                                                                                                                                                                                                                                                                                                                                                                                                                                                                                                                                                                                                                                                                                                                                                                                                                                                                                 James Dyson Award Do you have an idea that solves a problem?                                                                                                                                                                                                                                                                                                                                                                                                                                                                                                                                                                                                                                                                                                                                                                                                                                                                                                                                                                                                                                                                                                                                                                                                                                                                                                                                                                                                                                                                                                                                                                                                                                                                                                                                                                                                                                                                                                                                                                                                                                 Dyson Demo Experience Dyson technology.                              Particles as small as 0.1 microns. Tested to EN1822. Gaseous capture rates vary.                                                                                                                                                                                                            Talking to us is easy                                                                                                                                                                                                                                                                                                                                                            You can call us on 0800 298 0298                                    You can call us                                     0800-298-0298                                                                                                                                                                                                                                                                                                                                                                                                                                                                                        United Kingdom                                                                                                    Vacuum Cleaners                                                                                Hair Dryers                                                                                Guarantee terms                                                                                Delivery details                                                                                Repairs and servicing                                                                                Careers                                                                                Press                                                                                Compliance data                                                                                Company Information                                                                                AM04/AM05 safety recall                                                                                Corporate Social Responsibility                                                                                UK Modern Slavery Act Statement                                                                                                                        Privacy Policy                                                                                Terms and Conditions                                                                                Terms of website use                                                                                Cookies Policy                                                                                Your right to cancel                                                                                Online dispute resolution                                                                                Sitemap                                                                                James Dyson Foundation                                                                                                                                                                                                                                                                                                                                     Dyson 2018                                **Dyson Limited is authorised and regulated by the Financial Conduct Authority to act as a credit broker.  Dyson Limited is not a lender and operates as a credit broker exclusively for PayPal Credit.  PayPal Credit is a trading name of PayPal (Europe) Sarl et Cie, SCA, 22-24 Boulevard Royal, L2449 Luxembourg.  PayPal Credit is subject to status, terms and conditions apply.                                                                                Select your location                                    Close country selector                                                                                                                                                                                                    Europe                                                                Asia/Pacific                                                                North America                                                                South America                                                                Middle East                                                                Africa                                                                                                                                                                                                                                                    Belgie (Nederlands)                                                                                                                                                                                                                                                                                    Belgique (Franaise)                                                                                                                                                                                                                                                                                    Cyprus (English)                                                                                                                                                                                                                                                                                    Danmark                                                                                                                                                                                                                                                                                     Deutschland                                                                                                                                                                                                                                                                                    Espaa                                                                                                                                                                                                                                                                                    France                                                                                                                                                                                                                                                                                    Hrvatska                                                                                                                                                                                                                                                                                     Ireland                                                                                                                                                                                                                                                                                    Italia                                                                                                                                                                                                                                                                                    Latvija                                                                                                                                                                                                                                                                                    Luxembourg (Deutsch)                                                                                                                                                                                                                                                                                    Luxembourg (Franais)                                                                                                                                                                                                                                                                                    Magyarorszg                                                                                                                                                                                                                                                                                    Nederland                                                                                                                                                                                                                                                                                    Norge                                                                                                                                                                                                                                                                                    Polska                                                                                                                                                                                                                                                                                    Portugal                                                                                                                                                                                                                                                                                    Romnia                                                                                                                                                                                                                                                                                     Schweiz (Deutsch)                                                                                                                                                                                                                                                                                    Slovenija                                                                                                                                                                                                                                                                                    Slovenska Republika                                                                                                                                                                                                                                                                                    Suisse (Franaise)                                                                                                                                                                                                                                                                                    Suomi                                                                                                                                                                                                                                                                                    Sverige                                                                                                                                                                                                                                                                                    Svizzera (Italiano)                                                                                                                                                                                                                                                                                    Trke                                                                                                                                                                                                                                                                                    United Kingdom                                                                                                                                                                                                                                                                                    sterreich                                                                                                                                                                                                                                                                                    esk Republika                                                                                                                                                                                                                                                                                                                                                                                                                                                                                                                                                                         ()                                                                                                                                                                                                                                                                                                                                                                                                                                                                                                                                                                          ()                                                                                                                                                                                                                                                                                                                                                                                                                                                                                                                                                                                                                                         Australia                                                                                                                                                                                                                                                                                    Hong Kong (English)                                                                                                                                                                                                                                                                                    India                                                                                                                                                                                                                                                                                    Indonesia (Bahasa)                                                                                                                                                                                                                                                                                    Indoseisa (English)                                                                                                                                                                                                                                                                                    Malaysia                                                                                                                                                                                                                                                                                    New Zealand                                                                                                                                                                                                                                                                                    Philippines (English)                                                                                                                                                                                                                                                                                    Singapore                                                                                                                                                                                                                                                                                    South Korea                                                                                                                                                                                                                                                                                    Thailand (English)                                                                                                                                                                                                                                                                                     ()                                                                                                                                                                                                                                                                                     ()                                                                                                                                                                                                                                                                                                                                                                                                                                                                                                                                                                        ()                                                                                                                                                                                                                                                                                                                                                    Canada (English)                                                                                                                                                                                                                                                                                    Canada (Franais)                                                                                                                                                                                                                                                                                    Costa Rica                                                                                                                                                                                                                                                                                    El Salvador                                                                                                                                                                                                                                                                                    Guatemala                                                                                                                                                                                                                                                                                    Honduras                                                                                                                                                                                                                                                                                    Mexico                                                                                                                                                                                                                                                                                    USA                                                                                                                                                                                                                                                                                                                                                    Brazil                                                                                                                                                                                                                                                                                    Chile                                                                                                                                                                                                                                                                                    Colombia                                                                                                                                                                                                                                                                                    Panama                                                                                                                                                                                                                                                                                    Peru                                                                                                                                                                                                                                                                                                                                                    Israel (English)                                                                                                                                                                                                                                                                                    Lebanon (English)                                                                                                                                                                                                                                                                                    Qatar                                                                                                                                                                                                                                                                                    Saudi Arabia (English)                                                                                                                                                                                                                                                                                    Trke                                                                                                                                                                                                                                                                                    UAE (English)                                                                                                                                                                                                                                                                                     ( ) Yisra'el                                                                                                                                                                                                                                                                                                                                                                                                                                                                                                                                                                                                                                                                                                                                                                                                                                                                                                                                  Morocco                                                                                                                                                                                                                                                                                    South Africa                                                                                                                                                                                                                                                                                    Europe                                                                                                                                                                                                                                                                                                                                                        Belgie (Nederlands)                                                                                                                                                                                                                                                                                                                        Belgique (Franaise)                                                                                                                                                                                                                                                                                                                        Cyprus (English)                                                                                                                                                                                                                                                                                                                        Danmark                                                                                                                                                                                                                                                                                                                         Deutschland                                                                                                                                                                                                                                                                                                                        Espaa                                                                                                                                                                                                                                                                                                                        France                                                                                                                                                                                                                                                                                                                        Hrvatska                                                                                                                                                                                                                                                                                                                         Ireland                                                                                                                                                                                                                                                                                                                        Italia                                                                                                                                                                                                                                                                                                                        Latvija                                                                                                                                                                                                                                                                                                                        Luxembourg (Deutsch)                                                                                                                                                                                                                                                                                                                        Luxembourg (Franais)                                                                                                                                                                                                                                                                                                                        Magyarorszg                                                                                                                                                                                                                                                                                                                        Nederland                                                                                                                                                                                                                                                                                                                        Norge                                                                                                                                                                                                                                                                                                                        Polska                                                                                                                                                                                                                                                                                                                        Portugal                                                                                                                                                                                                                                                                                                                        Romnia                                                                                                                                                                                                                                                                                                                         Schweiz (Deutsch)                                                                                                                                                                                                                                                                                                                        Slovenija                                                                                                                                                                                                                                                                                                                        Slovenska Republika                                                                                                                                                                                                                                                                                                                        Suisse (Franaise)                                                                                                                                                                                                                                                                                                                        Suomi                                                                                                                                                                                                                                                                                                                        Sverige                                                                                                                                                                                                                                                                                                                        Svizzera (Italiano)                                                                                                                                                                                                                                                                                                                        Trke                                                                                                                                                                                                                                                                                                                        United Kingdom                                                                                                                                                                                                                                                                                                                        sterreich                                                                                                                                                                                                                                                                                                                        esk Republika                                                                                                                                                                                                                                                                                                                                                                                                                                                                                                                                                                                                                                                 ()                                                                                                                                                                                                                                                                                                                                                                                                                                                                                                                                                                                                                                                  ()                                                                                                                                                                                                                                                                                                                                                                                                                                                                                                                                                                                 Asia/Pacific                                                                                                                                                                                                                                                                                                                                                        Australia                                                                                                                                                                                                                                                                                                                        Hong Kong (English)                                                                                                                                                                                                                                                                                                                        India                                                                                                                                                                                                                                                                                                                        Indonesia (Bahasa)                                                                                                                                                                                                                                                                                                                        Indoseisa (English)                                                                                                                                                                                                                                                                                                                        Malaysia                                                                                                                                                                                                                                                                                                                        New Zealand                                                                                                                                                                                                                                                                                                                        Philippines (English)                                                                                                                                                                                                                                                                                                                        Singapore                                                                                                                                                                                                                                                                                                                        South Korea                                                                                                                                                                                                                                                                                                                        Thailand (English)                                                                                                                                                                                                                                                                                                                         ()                                                                                                                                                                                                                                                                                                                         ()                                                                                                                                                                                                                                                                                                                                                                                                                                                                                                                                                                                                                                                ()                                                                                                                                                                                                                                                        North America                                                                                                                                                                                                                                                                                                                                                        Canada (English)                                                                                                                                                                                                                                                                                                                        Canada (Franais)                                                                                                                                                                                                                                                                                                                        Costa Rica                                                                                                                                                                                                                                                                                                                        El Salvador                                                                                                                                                                                                                                                                                                                        Guatemala                                                                                                                                                                                                                                                                                                                        Honduras                                                                                                                                                                                                                                                                                                                        Mexico                                                                                                                                                                                                                                                                                                                        USA                                                                                                                                                                                                                                                        South America                                                                                                                                                                                                                                                                                                                                                        Brazil                                                                                                                                                                                                                                                                                                                        Chile                                                                                                                                                                                                                                                                                                                        Colombia                                                                                                                                                                                                                                                                                                                        Panama                                                                                                                                                                                                                                                                                                                        Peru                                                                                                                                                                                                                                                        Middle East                                                                                                                                                                                                                                                                                                                                                        Israel (English)                                                                                                                                                                                                                                                                                                                        Lebanon (English)                                                                                                                                                                                                                                                                                                                        Qatar                                                                                                                                                                                                                                                                                                                        Saudi Arabia (English)                                                                                                                                                                                                                                                                                                                        Trke                                                                                                                                                                                                                                                                                                                        UAE (English)                                                                                                                                                                                                                                                                                                                         ( ) Yisra'el                                                                                                                                                                                                                                                                                                                                                                                                                                                                                                                                                                                                                                                                                                                                                                                                                                                                                                              Africa                                                                                                                                                                                                                                                                                                                                                        Morocco                                                                                                                                                                                                                                                                                                                        South Africa                                                                                                                                                                                                                                                                                                                                                                                                                                                        We'll notify you at                                                     We're sorry, but something went wrong. Please try again.                                                                                                                                                                                                                            \"\n"
     ]
    }
   ],
   "source": [
    "text_r = str(text).replace('\\\\n','').replace('\\\\t','').replace('\\\\r','')\n",
    "print(text_r)"
   ]
  },
  {
   "cell_type": "code",
   "execution_count": 46,
   "metadata": {
    "code_folding": []
   },
   "outputs": [],
   "source": [
    "def stripsymbols(text):\n",
    "    '''\n",
    "    Use regular expressions to do a find-and-replace of HTML text.\n",
    "    Function found online\n",
    "    '''\n",
    "    text = str(text)\n",
    "    x = re.sub(\"(@[A-Za-z0-9]+)|([^0-9A-Za-z \\t])|(\\w+:\\/\\/\\S+)\",\" \",text)\n",
    "    x = re.sub('/(^|\\b)@\\S*($|\\b)/',\" \",x)\n",
    "    x = re.sub('/(^|\\b)#\\S*($|\\b)/',\" \",x)\n",
    "    x = re.sub(\"[^a-zA-Z]\",\" \",x)\n",
    "    x = re.sub(r\"(?:\\@|https?\\://)\\S+\", \" \",x)\n",
    "    return x"
   ]
  },
  {
   "cell_type": "code",
   "execution_count": 47,
   "metadata": {
    "collapsed": true
   },
   "outputs": [
    {
     "name": "stdout",
     "output_type": "stream",
     "text": [
      "b                 Skip navigation                                                                                   Cookie Settings            Dyson websites use cookies  By continuing to use our websites  you accept that cookies may be stored on your device  as outlined in our cookie policy                                                                                                                    Thanks  We ve saved your preferences You can update your contact preferences at any time in the Keep in touch section of Your Dyson If you have a Your Dyson account  you can log in below to manage your contact options  Change your contact preferences Change your contact preferences                                                                                                                                                                                                                                                                                                                                                                                                                                        Products                                                                                                                                                                                                                                                                                                                                                                                                                                            Cord free vacuums                                                                                                                                                                                                 Sticks                                                                                                                                                                              Handhelds                                                                                                                                                                              Latest Offers                                                                                                                                                                                                                                                                                                                                                                                                             Corded vacuums                                                                                                                                                                                                 Uprights                                                                                                                                                                              Cylinders                                                                                                                                                                              Latest Offers                                                                                                                                                                                                                                                                                                                                                                                                             Robot vacuums                                                                                                                                                                                                 Dyson     Eye robot                                                                                                                                                                                                                                                                                                                                                                                                             Hair care                                                                                                                                                                                                 Dyson Supersonic hair dryer                                                                                                                                                                                                                                                                                                                                                                                                             Air treatment                                                                                                                                                                                                 Purifiers                                                                                                                                                                              Humidifiers                                                                                                                                                                                                                                                                                                                                                                                                             Fans and heaters                                                                                                                                                                                                 Dyson Cool fans                                                                                                                                                                              Dyson Hot Cool fan heaters                                                                                                                                                                                                                                                                                                                                                                                                             Lighting                                                                                                                                                                                                 CSYS task lights                                                                                                                                                                              Cu Beam suspended lights                                                                                                                                                                                                                                                                                                                                                                                                             Hand dryers                                                                                                                                                                                                 Dyson Airblade V hand dryer                                                                                                                                                                              Dyson Airblade dB hand dryer                                                                                                                                                                              Dyson Airblade Tap hand dryer                                                                                                                                                     For business                                                                                                                                                                                                                                                                        Dyson for Business                                                                                                                                                                                                 Overview                                                                                                                                                                              Lighting for Business                                                                                                                                                                              Hand dryers for Business                                                                                                                                                                              Air treatment for Business                                                                                                                                                                              Hair care for Business                                                                                                                                                                              Resource Library                                                                                                                                                                              Case Studies                                                                                                                                                                                                                                         Sectors                                                                                                                                                                                                 Offices                                                                                                                                                                              Hotels                                                                                                                                                                              Education                                                                                                                                                                              Hospitality                                                                                                                                                     Support                                                                                                                                                                                                                                                                        Get the most out of your machine                                                                                                                                                                                                 Support                                                                                                                                                                               Guides                                                                                                                                                                              Troubleshooting                                                                                                                                                                              Tools                                                                                                                                                                              Replacement parts                                                                                                                                                                              Repairs and servicing information                                                                                                                                                                                                                                         Quick links                                                                                                                                                                                                 Find your serial number                                                                                                                                                                               Find my machine                                                                                                                                                                              Contact Us                                                                                                                                                                              Activate your guarantee                                                                                                                                                                              Common fixes                                                                                                                                                     Your Dyson                                                                                                                                                                                                                                                                                                                                                                                                                                                                                                                                                                                                                                        dyson co uk            Search                dyson co uk                                        Search                                                                                                                                                                        Your basket is empty     dyson sr basket has items                                                                                                                                                                                                                                                                                                                                                                                                                                                                                                                                                                                                                                                                                                                                                                                                                                                                                                                                                Time to shine                                                                                                                                                                                                                                                                                                                                                                                                                                                                                                                                                                                                                                                                                                                                                                                                                                                             Shop Mother s Day gift edition                                                                                                                                                                                                                                                                                                                                                                                                                                                                                                                                                                                                                                                                                                                                                                                                                                                                                                                                                                                                                                                                                   Powerful and lightweight  Floor to ceiling cleaning                                                                                                                                     Dyson technology from                                                                                                                                                                                                                                                                                                                                                                                                                                                                                                                                                                                                                                                                                                                               Shop now                                                                                                                                                                                                                                                                                                           Divider line                                                                                                                                                                                                                                                                                                                                                                                                                                                                                                                                                                                                                                                                                                                                                                                                                                                                                                                                                                                                                                                                                                                                                                                                                                                                                                                                                                                                                                                                                                                                                                                                                                                                                                                                                                                                                                                                                                                                                                                                                                                 Dyson Institute Immersive engineering degrees for the next generation                                                                                                                                                                                                                                                                                                                                                                                                                                                                                                                                                                                                                                                                                                                                                                                                                                                                                                                                                                                                                                                                                                                                                                                                                                                                                                                                                                                                                                                                                                                                                                                                                                                                                                                                                                                                                                                                                                                                                                                                                                  James Dyson Award Do you have an idea that solves a problem                                                                                                                                                                                                                                                                                                                                                                                                                                                                                                                                                                                                                                                                                                                                                                                                                                                                                                                                                                                                                                                                                                                                                                                                                                                                                                                                                                                                                                                                                                                                                                                                                                                                                                                                                                                                                                                                                                                                                                                                                                  Dyson Demo Experience Dyson technology                               Particles as small as     microns  Tested to EN      Gaseous capture rates vary                                                                                                                                                                                                             Talking to us is easy                                                                                                                                                                                                                                                                                                                                                            You can call us on                                                  You can call us                                                                                                                                                                                                                                                                                                                                                                                                                                                                                                                                          United Kingdom                                                                                                    Vacuum Cleaners                                                                                Hair Dryers                                                                                Guarantee terms                                                                                Delivery details                                                                                Repairs and servicing                                                                                Careers                                                                                Press                                                                                Compliance data                                                                                Company Information                                                                                AM   AM   safety recall                                                                                Corporate Social Responsibility                                                                                UK Modern Slavery Act Statement                                                                                                                        Privacy Policy                                                                                Terms and Conditions                                                                                Terms of website use                                                                                Cookies Policy                                                                                Your right to cancel                                                                                Online dispute resolution                                                                                Sitemap                                                                                James Dyson Foundation                                                                                                                                                                                                                                                                                                                                     Dyson                                       Dyson Limited is authorised and regulated by the Financial Conduct Authority to act as a credit broker   Dyson Limited is not a lender and operates as a credit broker exclusively for PayPal Credit   PayPal Credit is a trading name of PayPal  Europe  Sarl et Cie  SCA        Boulevard Royal  L     Luxembourg   PayPal Credit is subject to status  terms and conditions apply                                                                                 Select your location                                    Close country selector                                                                                                                                                                                                    Europe                                                                Asia Pacific                                                                North America                                                                South America                                                                Middle East                                                                Africa                                                                                                                                                                                                                                                    Belgie  Nederlands                                                                                                                                                                                                                                                                                     Belgique  Franaise                                                                                                                                                                                                                                                                                     Cyprus  English                                                                                                                                                                                                                                                                                     Danmark                                                                                                                                                                                                                                                                                     Deutschland                                                                                                                                                                                                                                                                                    Espaa                                                                                                                                                                                                                                                                                    France                                                                                                                                                                                                                                                                                    Hrvatska                                                                                                                                                                                                                                                                                     Ireland                                                                                                                                                                                                                                                                                    Italia                                                                                                                                                                                                                                                                                    Latvija                                                                                                                                                                                                                                                                                    Luxembourg  Deutsch                                                                                                                                                                                                                                                                                     Luxembourg  Franais                                                                                                                                                                                                                                                                                     Magyarorszg                                                                                                                                                                                                                                                                                    Nederland                                                                                                                                                                                                                                                                                    Norge                                                                                                                                                                                                                                                                                    Polska                                                                                                                                                                                                                                                                                    Portugal                                                                                                                                                                                                                                                                                    Romnia                                                                                                                                                                                                                                                                                     Schweiz  Deutsch                                                                                                                                                                                                                                                                                     Slovenija                                                                                                                                                                                                                                                                                    Slovenska Republika                                                                                                                                                                                                                                                                                    Suisse  Franaise                                                                                                                                                                                                                                                                                     Suomi                                                                                                                                                                                                                                                                                    Sverige                                                                                                                                                                                                                                                                                    Svizzera  Italiano                                                                                                                                                                                                                                                                                     Trke                                                                                                                                                                                                                                                                                    United Kingdom                                                                                                                                                                                                                                                                                    sterreich                                                                                                                                                                                                                                                                                    esk Republika                                                                                                                                                                                                                                                                                                                                                                                                                                                                                                                                                                                                                                                                                                                                                                                                                                                                                                                                                                                                                                                                                                                                                                                                                                                                                                                                                                                                                                                                                                                                                                                                                                                                                                                                                                                                Australia                                                                                                                                                                                                                                                                                    Hong Kong  English                                                                                                                                                                                                                                                                                     India                                                                                                                                                                                                                                                                                    Indonesia  Bahasa                                                                                                                                                                                                                                                                                     Indoseisa  English                                                                                                                                                                                                                                                                                     Malaysia                                                                                                                                                                                                                                                                                    New Zealand                                                                                                                                                                                                                                                                                    Philippines  English                                                                                                                                                                                                                                                                                     Singapore                                                                                                                                                                                                                                                                                    South Korea                                                                                                                                                                                                                                                                                    Thailand  English                                                                                                                                                                                                                                                                                                                                                                                                                                                                                                                                                                                                                                                                                                                                                                                                                                                                                                                                                                                                                                                                                                                                                                                                                                                                                                                                                                                                                                                                                                             Canada  English                                                                                                                                                                                                                                                                                     Canada  Franais                                                                                                                                                                                                                                                                                     Costa Rica                                                                                                                                                                                                                                                                                    El Salvador                                                                                                                                                                                                                                                                                    Guatemala                                                                                                                                                                                                                                                                                    Honduras                                                                                                                                                                                                                                                                                    Mexico                                                                                                                                                                                                                                                                                    USA                                                                                                                                                                                                                                                                                                                                                    Brazil                                                                                                                                                                                                                                                                                    Chile                                                                                                                                                                                                                                                                                    Colombia                                                                                                                                                                                                                                                                                    Panama                                                                                                                                                                                                                                                                                    Peru                                                                                                                                                                                                                                                                                                                                                    Israel  English                                                                                                                                                                                                                                                                                     Lebanon  English                                                                                                                                                                                                                                                                                     Qatar                                                                                                                                                                                                                                                                                    Saudi Arabia  English                                                                                                                                                                                                                                                                                     Trke                                                                                                                                                                                                                                                                                    UAE  English                                                                                                                                                                                                                                                                                          Yisra el                                                                                                                                                                                                                                                                                                                                                                                                                                                                                                                                                                                                                                                                                                                                                                                                                                                                                                                                  Morocco                                                                                                                                                                                                                                                                                    South Africa                                                                                                                                                                                                                                                                                    Europe                                                                                                                                                                                                                                                                                                                                                        Belgie  Nederlands                                                                                                                                                                                                                                                                                                                         Belgique  Franaise                                                                                                                                                                                                                                                                                                                         Cyprus  English                                                                                                                                                                                                                                                                                                                         Danmark                                                                                                                                                                                                                                                                                                                         Deutschland                                                                                                                                                                                                                                                                                                                        Espaa                                                                                                                                                                                                                                                                                                                        France                                                                                                                                                                                                                                                                                                                        Hrvatska                                                                                                                                                                                                                                                                                                                         Ireland                                                                                                                                                                                                                                                                                                                        Italia                                                                                                                                                                                                                                                                                                                        Latvija                                                                                                                                                                                                                                                                                                                        Luxembourg  Deutsch                                                                                                                                                                                                                                                                                                                         Luxembourg  Franais                                                                                                                                                                                                                                                                                                                         Magyarorszg                                                                                                                                                                                                                                                                                                                        Nederland                                                                                                                                                                                                                                                                                                                        Norge                                                                                                                                                                                                                                                                                                                        Polska                                                                                                                                                                                                                                                                                                                        Portugal                                                                                                                                                                                                                                                                                                                        Romnia                                                                                                                                                                                                                                                                                                                         Schweiz  Deutsch                                                                                                                                                                                                                                                                                                                         Slovenija                                                                                                                                                                                                                                                                                                                        Slovenska Republika                                                                                                                                                                                                                                                                                                                        Suisse  Franaise                                                                                                                                                                                                                                                                                                                         Suomi                                                                                                                                                                                                                                                                                                                        Sverige                                                                                                                                                                                                                                                                                                                        Svizzera  Italiano                                                                                                                                                                                                                                                                                                                         Trke                                                                                                                                                                                                                                                                                                                        United Kingdom                                                                                                                                                                                                                                                                                                                        sterreich                                                                                                                                                                                                                                                                                                                        esk Republika                                                                                                                                                                                                                                                                                                                                                                                                                                                                                                                                                                                                                                                                                                                                                                                                                                                                                                                                                                                                                                                                                                                                                                                                                                                                                                                                                                                                                                                                                                                                                                                                                                                                                                                                                                                                                                                                                        Asia Pacific                                                                                                                                                                                                                                                                                                                                                        Australia                                                                                                                                                                                                                                                                                                                        Hong Kong  English                                                                                                                                                                                                                                                                                                                         India                                                                                                                                                                                                                                                                                                                        Indonesia  Bahasa                                                                                                                                                                                                                                                                                                                         Indoseisa  English                                                                                                                                                                                                                                                                                                                         Malaysia                                                                                                                                                                                                                                                                                                                        New Zealand                                                                                                                                                                                                                                                                                                                        Philippines  English                                                                                                                                                                                                                                                                                                                         Singapore                                                                                                                                                                                                                                                                                                                        South Korea                                                                                                                                                                                                                                                                                                                        Thailand  English                                                                                                                                                                                                                                                                                                                                                                                                                                                                                                                                                                                                                                                                                                                                                                                                                                                                                                                                                                                                                                                                                                                                                                                                                                                                                                                                                                                                                                                                                                                                                                 North America                                                                                                                                                                                                                                                                                                                                                        Canada  English                                                                                                                                                                                                                                                                                                                         Canada  Franais                                                                                                                                                                                                                                                                                                                         Costa Rica                                                                                                                                                                                                                                                                                                                        El Salvador                                                                                                                                                                                                                                                                                                                        Guatemala                                                                                                                                                                                                                                                                                                                        Honduras                                                                                                                                                                                                                                                                                                                        Mexico                                                                                                                                                                                                                                                                                                                        USA                                                                                                                                                                                                                                                        South America                                                                                                                                                                                                                                                                                                                                                        Brazil                                                                                                                                                                                                                                                                                                                        Chile                                                                                                                                                                                                                                                                                                                        Colombia                                                                                                                                                                                                                                                                                                                        Panama                                                                                                                                                                                                                                                                                                                        Peru                                                                                                                                                                                                                                                        Middle East                                                                                                                                                                                                                                                                                                                                                        Israel  English                                                                                                                                                                                                                                                                                                                         Lebanon  English                                                                                                                                                                                                                                                                                                                         Qatar                                                                                                                                                                                                                                                                                                                        Saudi Arabia  English                                                                                                                                                                                                                                                                                                                         Trke                                                                                                                                                                                                                                                                                                                        UAE  English                                                                                                                                                                                                                                                                                                                              Yisra el                                                                                                                                                                                                                                                                                                                                                                                                                                                                                                                                                                                                                                                                                                                                                                                                                                                                                                              Africa                                                                                                                                                                                                                                                                                                                                                        Morocco                                                                                                                                                                                                                                                                                                                        South Africa                                                                                                                                                                                                                                                                                                                                                                                                                                                        We ll notify you at                                                     We re sorry  but something went wrong  Please try again                                                                                                                                                                                                                              \n"
     ]
    }
   ],
   "source": [
    "text_stripped = stripsymbols(text_r)\n",
    "print(text_stripped)"
   ]
  },
  {
   "cell_type": "markdown",
   "metadata": {},
   "source": [
    "Getting better! The final step is remove stop words by invoking the Natural Language Toolkit Library we imported earlier. Let's see what kind of stop words are classified in the library. "
   ]
  },
  {
   "cell_type": "code",
   "execution_count": 48,
   "metadata": {
    "collapsed": true
   },
   "outputs": [
    {
     "name": "stdout",
     "output_type": "stream",
     "text": [
      "['i', 'me', 'my', 'myself', 'we', 'our', 'ours', 'ourselves', 'you', \"you're\", \"you've\", \"you'll\", \"you'd\", 'your', 'yours', 'yourself', 'yourselves', 'he', 'him', 'his', 'himself', 'she', \"she's\", 'her', 'hers', 'herself', 'it', \"it's\", 'its', 'itself', 'they', 'them', 'their', 'theirs', 'themselves', 'what', 'which', 'who', 'whom', 'this', 'that', \"that'll\", 'these', 'those', 'am', 'is', 'are', 'was', 'were', 'be', 'been', 'being', 'have', 'has', 'had', 'having', 'do', 'does', 'did', 'doing', 'a', 'an', 'the', 'and', 'but', 'if', 'or', 'because', 'as', 'until', 'while', 'of', 'at', 'by', 'for', 'with', 'about', 'against', 'between', 'into', 'through', 'during', 'before', 'after', 'above', 'below', 'to', 'from', 'up', 'down', 'in', 'out', 'on', 'off', 'over', 'under', 'again', 'further', 'then', 'once', 'here', 'there', 'when', 'where', 'why', 'how', 'all', 'any', 'both', 'each', 'few', 'more', 'most', 'other', 'some', 'such', 'no', 'nor', 'not', 'only', 'own', 'same', 'so', 'than', 'too', 'very', 's', 't', 'can', 'will', 'just', 'don', \"don't\", 'should', \"should've\", 'now', 'd', 'll', 'm', 'o', 're', 've', 'y', 'ain', 'aren', \"aren't\", 'couldn', \"couldn't\", 'didn', \"didn't\", 'doesn', \"doesn't\", 'hadn', \"hadn't\", 'hasn', \"hasn't\", 'haven', \"haven't\", 'isn', \"isn't\", 'ma', 'mightn', \"mightn't\", 'mustn', \"mustn't\", 'needn', \"needn't\", 'shan', \"shan't\", 'shouldn', \"shouldn't\", 'wasn', \"wasn't\", 'weren', \"weren't\", 'won', \"won't\", 'wouldn', \"wouldn't\"]\n"
     ]
    }
   ],
   "source": [
    "print(stopwords.words('English'))"
   ]
  },
  {
   "cell_type": "markdown",
   "metadata": {},
   "source": [
    "We can create a function to remove stopwords from website text."
   ]
  },
  {
   "cell_type": "code",
   "execution_count": 49,
   "metadata": {},
   "outputs": [],
   "source": [
    "def removeStopWords(text):\n",
    "    '''\n",
    "    Remove stopwords from given text string\n",
    "    '''\n",
    "    words = [w for w in text if not w in stopwords.words(\"english\")]\n",
    "    return words"
   ]
  },
  {
   "cell_type": "code",
   "execution_count": 50,
   "metadata": {
    "collapsed": true
   },
   "outputs": [
    {
     "data": {
      "text/plain": [
       "['b',\n",
       " 'skip',\n",
       " 'navigation',\n",
       " 'cookie',\n",
       " 'settings',\n",
       " 'dyson',\n",
       " 'websites',\n",
       " 'use',\n",
       " 'cookies',\n",
       " 'by',\n",
       " 'continuing',\n",
       " 'to',\n",
       " 'use',\n",
       " 'our',\n",
       " 'websites',\n",
       " 'you',\n",
       " 'accept',\n",
       " 'that',\n",
       " 'cookies',\n",
       " 'may',\n",
       " 'be',\n",
       " 'stored',\n",
       " 'on',\n",
       " 'your',\n",
       " 'device',\n",
       " 'as',\n",
       " 'outlined',\n",
       " 'in',\n",
       " 'our',\n",
       " 'cookie',\n",
       " 'policy',\n",
       " 'thanks',\n",
       " 'we',\n",
       " 've',\n",
       " 'saved',\n",
       " 'your',\n",
       " 'preferences',\n",
       " 'you',\n",
       " 'can',\n",
       " 'update',\n",
       " 'your',\n",
       " 'contact',\n",
       " 'preferences',\n",
       " 'at',\n",
       " 'any',\n",
       " 'time',\n",
       " 'in',\n",
       " 'the',\n",
       " 'keep',\n",
       " 'in',\n",
       " 'touch',\n",
       " 'section',\n",
       " 'of',\n",
       " 'your',\n",
       " 'dyson',\n",
       " 'if',\n",
       " 'you',\n",
       " 'have',\n",
       " 'a',\n",
       " 'your',\n",
       " 'dyson',\n",
       " 'account',\n",
       " 'you',\n",
       " 'can',\n",
       " 'log',\n",
       " 'in',\n",
       " 'below',\n",
       " 'to',\n",
       " 'manage',\n",
       " 'your',\n",
       " 'contact',\n",
       " 'options',\n",
       " 'change',\n",
       " 'your',\n",
       " 'contact',\n",
       " 'preferences',\n",
       " 'change',\n",
       " 'your',\n",
       " 'contact',\n",
       " 'preferences',\n",
       " 'products',\n",
       " 'cord',\n",
       " 'free',\n",
       " 'vacuums',\n",
       " 'sticks',\n",
       " 'handhelds',\n",
       " 'latest',\n",
       " 'offers',\n",
       " 'corded',\n",
       " 'vacuums',\n",
       " 'uprights',\n",
       " 'cylinders',\n",
       " 'latest',\n",
       " 'offers',\n",
       " 'robot',\n",
       " 'vacuums',\n",
       " 'dyson',\n",
       " 'eye',\n",
       " 'robot',\n",
       " 'hair',\n",
       " 'care',\n",
       " 'dyson',\n",
       " 'supersonic',\n",
       " 'hair',\n",
       " 'dryer',\n",
       " 'air',\n",
       " 'treatment',\n",
       " 'purifiers',\n",
       " 'humidifiers',\n",
       " 'fans',\n",
       " 'and',\n",
       " 'heaters',\n",
       " 'dyson',\n",
       " 'cool',\n",
       " 'fans',\n",
       " 'dyson',\n",
       " 'hot',\n",
       " 'cool',\n",
       " 'fan',\n",
       " 'heaters',\n",
       " 'lighting',\n",
       " 'csys',\n",
       " 'task',\n",
       " 'lights',\n",
       " 'cu',\n",
       " 'beam',\n",
       " 'suspended',\n",
       " 'lights',\n",
       " 'hand',\n",
       " 'dryers',\n",
       " 'dyson',\n",
       " 'airblade',\n",
       " 'v',\n",
       " 'hand',\n",
       " 'dryer',\n",
       " 'dyson',\n",
       " 'airblade',\n",
       " 'db',\n",
       " 'hand',\n",
       " 'dryer',\n",
       " 'dyson',\n",
       " 'airblade',\n",
       " 'tap',\n",
       " 'hand',\n",
       " 'dryer',\n",
       " 'for',\n",
       " 'business',\n",
       " 'dyson',\n",
       " 'for',\n",
       " 'business',\n",
       " 'overview',\n",
       " 'lighting',\n",
       " 'for',\n",
       " 'business',\n",
       " 'hand',\n",
       " 'dryers',\n",
       " 'for',\n",
       " 'business',\n",
       " 'air',\n",
       " 'treatment',\n",
       " 'for',\n",
       " 'business',\n",
       " 'hair',\n",
       " 'care',\n",
       " 'for',\n",
       " 'business',\n",
       " 'resource',\n",
       " 'library',\n",
       " 'case',\n",
       " 'studies',\n",
       " 'sectors',\n",
       " 'offices',\n",
       " 'hotels',\n",
       " 'education',\n",
       " 'hospitality',\n",
       " 'support',\n",
       " 'get',\n",
       " 'the',\n",
       " 'most',\n",
       " 'out',\n",
       " 'of',\n",
       " 'your',\n",
       " 'machine',\n",
       " 'support',\n",
       " 'guides',\n",
       " 'troubleshooting',\n",
       " 'tools',\n",
       " 'replacement',\n",
       " 'parts',\n",
       " 'repairs',\n",
       " 'and',\n",
       " 'servicing',\n",
       " 'information',\n",
       " 'quick',\n",
       " 'links',\n",
       " 'find',\n",
       " 'your',\n",
       " 'serial',\n",
       " 'number',\n",
       " 'find',\n",
       " 'my',\n",
       " 'machine',\n",
       " 'contact',\n",
       " 'us',\n",
       " 'activate',\n",
       " 'your',\n",
       " 'guarantee',\n",
       " 'common',\n",
       " 'fixes',\n",
       " 'your',\n",
       " 'dyson',\n",
       " 'dyson',\n",
       " 'co',\n",
       " 'uk',\n",
       " 'search',\n",
       " 'dyson',\n",
       " 'co',\n",
       " 'uk',\n",
       " 'search',\n",
       " 'your',\n",
       " 'basket',\n",
       " 'is',\n",
       " 'empty',\n",
       " 'dyson',\n",
       " 'sr',\n",
       " 'basket',\n",
       " 'has',\n",
       " 'items',\n",
       " 'time',\n",
       " 'to',\n",
       " 'shine',\n",
       " 'shop',\n",
       " 'mother',\n",
       " 's',\n",
       " 'day',\n",
       " 'gift',\n",
       " 'edition',\n",
       " 'powerful',\n",
       " 'and',\n",
       " 'lightweight',\n",
       " 'floor',\n",
       " 'to',\n",
       " 'ceiling',\n",
       " 'cleaning',\n",
       " 'dyson',\n",
       " 'technology',\n",
       " 'from',\n",
       " 'shop',\n",
       " 'now',\n",
       " 'divider',\n",
       " 'line',\n",
       " 'dyson',\n",
       " 'institute',\n",
       " 'immersive',\n",
       " 'engineering',\n",
       " 'degrees',\n",
       " 'for',\n",
       " 'the',\n",
       " 'next',\n",
       " 'generation',\n",
       " 'james',\n",
       " 'dyson',\n",
       " 'award',\n",
       " 'do',\n",
       " 'you',\n",
       " 'have',\n",
       " 'an',\n",
       " 'idea',\n",
       " 'that',\n",
       " 'solves',\n",
       " 'a',\n",
       " 'problem',\n",
       " 'dyson',\n",
       " 'demo',\n",
       " 'experience',\n",
       " 'dyson',\n",
       " 'technology',\n",
       " 'particles',\n",
       " 'as',\n",
       " 'small',\n",
       " 'as',\n",
       " 'microns',\n",
       " 'tested',\n",
       " 'to',\n",
       " 'en',\n",
       " 'gaseous',\n",
       " 'capture',\n",
       " 'rates',\n",
       " 'vary',\n",
       " 'talking',\n",
       " 'to',\n",
       " 'us',\n",
       " 'is',\n",
       " 'easy',\n",
       " 'you',\n",
       " 'can',\n",
       " 'call',\n",
       " 'us',\n",
       " 'on',\n",
       " 'you',\n",
       " 'can',\n",
       " 'call',\n",
       " 'us',\n",
       " 'united',\n",
       " 'kingdom',\n",
       " 'vacuum',\n",
       " 'cleaners',\n",
       " 'hair',\n",
       " 'dryers',\n",
       " 'guarantee',\n",
       " 'terms',\n",
       " 'delivery',\n",
       " 'details',\n",
       " 'repairs',\n",
       " 'and',\n",
       " 'servicing',\n",
       " 'careers',\n",
       " 'press',\n",
       " 'compliance',\n",
       " 'data',\n",
       " 'company',\n",
       " 'information',\n",
       " 'am',\n",
       " 'am',\n",
       " 'safety',\n",
       " 'recall',\n",
       " 'corporate',\n",
       " 'social',\n",
       " 'responsibility',\n",
       " 'uk',\n",
       " 'modern',\n",
       " 'slavery',\n",
       " 'act',\n",
       " 'statement',\n",
       " 'privacy',\n",
       " 'policy',\n",
       " 'terms',\n",
       " 'and',\n",
       " 'conditions',\n",
       " 'terms',\n",
       " 'of',\n",
       " 'website',\n",
       " 'use',\n",
       " 'cookies',\n",
       " 'policy',\n",
       " 'your',\n",
       " 'right',\n",
       " 'to',\n",
       " 'cancel',\n",
       " 'online',\n",
       " 'dispute',\n",
       " 'resolution',\n",
       " 'sitemap',\n",
       " 'james',\n",
       " 'dyson',\n",
       " 'foundation',\n",
       " 'dyson',\n",
       " 'dyson',\n",
       " 'limited',\n",
       " 'is',\n",
       " 'authorised',\n",
       " 'and',\n",
       " 'regulated',\n",
       " 'by',\n",
       " 'the',\n",
       " 'financial',\n",
       " 'conduct',\n",
       " 'authority',\n",
       " 'to',\n",
       " 'act',\n",
       " 'as',\n",
       " 'a',\n",
       " 'credit',\n",
       " 'broker',\n",
       " 'dyson',\n",
       " 'limited',\n",
       " 'is',\n",
       " 'not',\n",
       " 'a',\n",
       " 'lender',\n",
       " 'and',\n",
       " 'operates',\n",
       " 'as',\n",
       " 'a',\n",
       " 'credit',\n",
       " 'broker',\n",
       " 'exclusively',\n",
       " 'for',\n",
       " 'paypal',\n",
       " 'credit',\n",
       " 'paypal',\n",
       " 'credit',\n",
       " 'is',\n",
       " 'a',\n",
       " 'trading',\n",
       " 'name',\n",
       " 'of',\n",
       " 'paypal',\n",
       " 'europe',\n",
       " 'sarl',\n",
       " 'et',\n",
       " 'cie',\n",
       " 'sca',\n",
       " 'boulevard',\n",
       " 'royal',\n",
       " 'l',\n",
       " 'luxembourg',\n",
       " 'paypal',\n",
       " 'credit',\n",
       " 'is',\n",
       " 'subject',\n",
       " 'to',\n",
       " 'status',\n",
       " 'terms',\n",
       " 'and',\n",
       " 'conditions',\n",
       " 'apply',\n",
       " 'select',\n",
       " 'your',\n",
       " 'location',\n",
       " 'close',\n",
       " 'country',\n",
       " 'selector',\n",
       " 'europe',\n",
       " 'asia',\n",
       " 'pacific',\n",
       " 'north',\n",
       " 'america',\n",
       " 'south',\n",
       " 'america',\n",
       " 'middle',\n",
       " 'east',\n",
       " 'africa',\n",
       " 'belgie',\n",
       " 'nederlands',\n",
       " 'belgique',\n",
       " 'franaise',\n",
       " 'cyprus',\n",
       " 'english',\n",
       " 'danmark',\n",
       " 'deutschland',\n",
       " 'espaa',\n",
       " 'france',\n",
       " 'hrvatska',\n",
       " 'ireland',\n",
       " 'italia',\n",
       " 'latvija',\n",
       " 'luxembourg',\n",
       " 'deutsch',\n",
       " 'luxembourg',\n",
       " 'franais',\n",
       " 'magyarorszg',\n",
       " 'nederland',\n",
       " 'norge',\n",
       " 'polska',\n",
       " 'portugal',\n",
       " 'romnia',\n",
       " 'schweiz',\n",
       " 'deutsch',\n",
       " 'slovenija',\n",
       " 'slovenska',\n",
       " 'republika',\n",
       " 'suisse',\n",
       " 'franaise',\n",
       " 'suomi',\n",
       " 'sverige',\n",
       " 'svizzera',\n",
       " 'italiano',\n",
       " 'trke',\n",
       " 'united',\n",
       " 'kingdom',\n",
       " 'sterreich',\n",
       " 'esk',\n",
       " 'republika',\n",
       " 'australia',\n",
       " 'hong',\n",
       " 'kong',\n",
       " 'english',\n",
       " 'india',\n",
       " 'indonesia',\n",
       " 'bahasa',\n",
       " 'indoseisa',\n",
       " 'english',\n",
       " 'malaysia',\n",
       " 'new',\n",
       " 'zealand',\n",
       " 'philippines',\n",
       " 'english',\n",
       " 'singapore',\n",
       " 'south',\n",
       " 'korea',\n",
       " 'thailand',\n",
       " 'english',\n",
       " 'canada',\n",
       " 'english',\n",
       " 'canada',\n",
       " 'franais',\n",
       " 'costa',\n",
       " 'rica',\n",
       " 'el',\n",
       " 'salvador',\n",
       " 'guatemala',\n",
       " 'honduras',\n",
       " 'mexico',\n",
       " 'usa',\n",
       " 'brazil',\n",
       " 'chile',\n",
       " 'colombia',\n",
       " 'panama',\n",
       " 'peru',\n",
       " 'israel',\n",
       " 'english',\n",
       " 'lebanon',\n",
       " 'english',\n",
       " 'qatar',\n",
       " 'saudi',\n",
       " 'arabia',\n",
       " 'english',\n",
       " 'trke',\n",
       " 'uae',\n",
       " 'english',\n",
       " 'yisra',\n",
       " 'el',\n",
       " 'morocco',\n",
       " 'south',\n",
       " 'africa',\n",
       " 'europe',\n",
       " 'belgie',\n",
       " 'nederlands',\n",
       " 'belgique',\n",
       " 'franaise',\n",
       " 'cyprus',\n",
       " 'english',\n",
       " 'danmark',\n",
       " 'deutschland',\n",
       " 'espaa',\n",
       " 'france',\n",
       " 'hrvatska',\n",
       " 'ireland',\n",
       " 'italia',\n",
       " 'latvija',\n",
       " 'luxembourg',\n",
       " 'deutsch',\n",
       " 'luxembourg',\n",
       " 'franais',\n",
       " 'magyarorszg',\n",
       " 'nederland',\n",
       " 'norge',\n",
       " 'polska',\n",
       " 'portugal',\n",
       " 'romnia',\n",
       " 'schweiz',\n",
       " 'deutsch',\n",
       " 'slovenija',\n",
       " 'slovenska',\n",
       " 'republika',\n",
       " 'suisse',\n",
       " 'franaise',\n",
       " 'suomi',\n",
       " 'sverige',\n",
       " 'svizzera',\n",
       " 'italiano',\n",
       " 'trke',\n",
       " 'united',\n",
       " 'kingdom',\n",
       " 'sterreich',\n",
       " 'esk',\n",
       " 'republika',\n",
       " 'asia',\n",
       " 'pacific',\n",
       " 'australia',\n",
       " 'hong',\n",
       " 'kong',\n",
       " 'english',\n",
       " 'india',\n",
       " 'indonesia',\n",
       " 'bahasa',\n",
       " 'indoseisa',\n",
       " 'english',\n",
       " 'malaysia',\n",
       " 'new',\n",
       " 'zealand',\n",
       " 'philippines',\n",
       " 'english',\n",
       " 'singapore',\n",
       " 'south',\n",
       " 'korea',\n",
       " 'thailand',\n",
       " 'english',\n",
       " 'north',\n",
       " 'america',\n",
       " 'canada',\n",
       " 'english',\n",
       " 'canada',\n",
       " 'franais',\n",
       " 'costa',\n",
       " 'rica',\n",
       " 'el',\n",
       " 'salvador',\n",
       " 'guatemala',\n",
       " 'honduras',\n",
       " 'mexico',\n",
       " 'usa',\n",
       " 'south',\n",
       " 'america',\n",
       " 'brazil',\n",
       " 'chile',\n",
       " 'colombia',\n",
       " 'panama',\n",
       " 'peru',\n",
       " 'middle',\n",
       " 'east',\n",
       " 'israel',\n",
       " 'english',\n",
       " 'lebanon',\n",
       " 'english',\n",
       " 'qatar',\n",
       " 'saudi',\n",
       " 'arabia',\n",
       " 'english',\n",
       " 'trke',\n",
       " 'uae',\n",
       " 'english',\n",
       " 'yisra',\n",
       " 'el',\n",
       " 'africa',\n",
       " 'morocco',\n",
       " 'south',\n",
       " 'africa',\n",
       " 'we',\n",
       " 'll',\n",
       " 'notify',\n",
       " 'you',\n",
       " 'at',\n",
       " 'we',\n",
       " 're',\n",
       " 'sorry',\n",
       " 'but',\n",
       " 'something',\n",
       " 'went',\n",
       " 'wrong',\n",
       " 'please',\n",
       " 'try',\n",
       " 'again']"
      ]
     },
     "execution_count": 50,
     "metadata": {},
     "output_type": "execute_result"
    }
   ],
   "source": [
    "# Prepare text for function by (a) changing to lowercase (2) remove whitespace from beginning and end \n",
    "# (3) splitting the text to create a list of individual wordsvisible_text_stripped.lower().strip().split() \n",
    "text_stripped_split = text_stripped.lower().strip().split()\n",
    "text_stripped_split"
   ]
  },
  {
   "cell_type": "markdown",
   "metadata": {},
   "source": [
    "Finally, running this through the removeStopWords function gives us something in a much better shape than the original text. "
   ]
  },
  {
   "cell_type": "code",
   "execution_count": 51,
   "metadata": {
    "collapsed": true
   },
   "outputs": [
    {
     "data": {
      "text/plain": [
       "['b',\n",
       " 'skip',\n",
       " 'navigation',\n",
       " 'cookie',\n",
       " 'settings',\n",
       " 'dyson',\n",
       " 'websites',\n",
       " 'use',\n",
       " 'cookies',\n",
       " 'continuing',\n",
       " 'use',\n",
       " 'websites',\n",
       " 'accept',\n",
       " 'cookies',\n",
       " 'may',\n",
       " 'stored',\n",
       " 'device',\n",
       " 'outlined',\n",
       " 'cookie',\n",
       " 'policy',\n",
       " 'thanks',\n",
       " 'saved',\n",
       " 'preferences',\n",
       " 'update',\n",
       " 'contact',\n",
       " 'preferences',\n",
       " 'time',\n",
       " 'keep',\n",
       " 'touch',\n",
       " 'section',\n",
       " 'dyson',\n",
       " 'dyson',\n",
       " 'account',\n",
       " 'log',\n",
       " 'manage',\n",
       " 'contact',\n",
       " 'options',\n",
       " 'change',\n",
       " 'contact',\n",
       " 'preferences',\n",
       " 'change',\n",
       " 'contact',\n",
       " 'preferences',\n",
       " 'products',\n",
       " 'cord',\n",
       " 'free',\n",
       " 'vacuums',\n",
       " 'sticks',\n",
       " 'handhelds',\n",
       " 'latest',\n",
       " 'offers',\n",
       " 'corded',\n",
       " 'vacuums',\n",
       " 'uprights',\n",
       " 'cylinders',\n",
       " 'latest',\n",
       " 'offers',\n",
       " 'robot',\n",
       " 'vacuums',\n",
       " 'dyson',\n",
       " 'eye',\n",
       " 'robot',\n",
       " 'hair',\n",
       " 'care',\n",
       " 'dyson',\n",
       " 'supersonic',\n",
       " 'hair',\n",
       " 'dryer',\n",
       " 'air',\n",
       " 'treatment',\n",
       " 'purifiers',\n",
       " 'humidifiers',\n",
       " 'fans',\n",
       " 'heaters',\n",
       " 'dyson',\n",
       " 'cool',\n",
       " 'fans',\n",
       " 'dyson',\n",
       " 'hot',\n",
       " 'cool',\n",
       " 'fan',\n",
       " 'heaters',\n",
       " 'lighting',\n",
       " 'csys',\n",
       " 'task',\n",
       " 'lights',\n",
       " 'cu',\n",
       " 'beam',\n",
       " 'suspended',\n",
       " 'lights',\n",
       " 'hand',\n",
       " 'dryers',\n",
       " 'dyson',\n",
       " 'airblade',\n",
       " 'v',\n",
       " 'hand',\n",
       " 'dryer',\n",
       " 'dyson',\n",
       " 'airblade',\n",
       " 'db',\n",
       " 'hand',\n",
       " 'dryer',\n",
       " 'dyson',\n",
       " 'airblade',\n",
       " 'tap',\n",
       " 'hand',\n",
       " 'dryer',\n",
       " 'business',\n",
       " 'dyson',\n",
       " 'business',\n",
       " 'overview',\n",
       " 'lighting',\n",
       " 'business',\n",
       " 'hand',\n",
       " 'dryers',\n",
       " 'business',\n",
       " 'air',\n",
       " 'treatment',\n",
       " 'business',\n",
       " 'hair',\n",
       " 'care',\n",
       " 'business',\n",
       " 'resource',\n",
       " 'library',\n",
       " 'case',\n",
       " 'studies',\n",
       " 'sectors',\n",
       " 'offices',\n",
       " 'hotels',\n",
       " 'education',\n",
       " 'hospitality',\n",
       " 'support',\n",
       " 'get',\n",
       " 'machine',\n",
       " 'support',\n",
       " 'guides',\n",
       " 'troubleshooting',\n",
       " 'tools',\n",
       " 'replacement',\n",
       " 'parts',\n",
       " 'repairs',\n",
       " 'servicing',\n",
       " 'information',\n",
       " 'quick',\n",
       " 'links',\n",
       " 'find',\n",
       " 'serial',\n",
       " 'number',\n",
       " 'find',\n",
       " 'machine',\n",
       " 'contact',\n",
       " 'us',\n",
       " 'activate',\n",
       " 'guarantee',\n",
       " 'common',\n",
       " 'fixes',\n",
       " 'dyson',\n",
       " 'dyson',\n",
       " 'co',\n",
       " 'uk',\n",
       " 'search',\n",
       " 'dyson',\n",
       " 'co',\n",
       " 'uk',\n",
       " 'search',\n",
       " 'basket',\n",
       " 'empty',\n",
       " 'dyson',\n",
       " 'sr',\n",
       " 'basket',\n",
       " 'items',\n",
       " 'time',\n",
       " 'shine',\n",
       " 'shop',\n",
       " 'mother',\n",
       " 'day',\n",
       " 'gift',\n",
       " 'edition',\n",
       " 'powerful',\n",
       " 'lightweight',\n",
       " 'floor',\n",
       " 'ceiling',\n",
       " 'cleaning',\n",
       " 'dyson',\n",
       " 'technology',\n",
       " 'shop',\n",
       " 'divider',\n",
       " 'line',\n",
       " 'dyson',\n",
       " 'institute',\n",
       " 'immersive',\n",
       " 'engineering',\n",
       " 'degrees',\n",
       " 'next',\n",
       " 'generation',\n",
       " 'james',\n",
       " 'dyson',\n",
       " 'award',\n",
       " 'idea',\n",
       " 'solves',\n",
       " 'problem',\n",
       " 'dyson',\n",
       " 'demo',\n",
       " 'experience',\n",
       " 'dyson',\n",
       " 'technology',\n",
       " 'particles',\n",
       " 'small',\n",
       " 'microns',\n",
       " 'tested',\n",
       " 'en',\n",
       " 'gaseous',\n",
       " 'capture',\n",
       " 'rates',\n",
       " 'vary',\n",
       " 'talking',\n",
       " 'us',\n",
       " 'easy',\n",
       " 'call',\n",
       " 'us',\n",
       " 'call',\n",
       " 'us',\n",
       " 'united',\n",
       " 'kingdom',\n",
       " 'vacuum',\n",
       " 'cleaners',\n",
       " 'hair',\n",
       " 'dryers',\n",
       " 'guarantee',\n",
       " 'terms',\n",
       " 'delivery',\n",
       " 'details',\n",
       " 'repairs',\n",
       " 'servicing',\n",
       " 'careers',\n",
       " 'press',\n",
       " 'compliance',\n",
       " 'data',\n",
       " 'company',\n",
       " 'information',\n",
       " 'safety',\n",
       " 'recall',\n",
       " 'corporate',\n",
       " 'social',\n",
       " 'responsibility',\n",
       " 'uk',\n",
       " 'modern',\n",
       " 'slavery',\n",
       " 'act',\n",
       " 'statement',\n",
       " 'privacy',\n",
       " 'policy',\n",
       " 'terms',\n",
       " 'conditions',\n",
       " 'terms',\n",
       " 'website',\n",
       " 'use',\n",
       " 'cookies',\n",
       " 'policy',\n",
       " 'right',\n",
       " 'cancel',\n",
       " 'online',\n",
       " 'dispute',\n",
       " 'resolution',\n",
       " 'sitemap',\n",
       " 'james',\n",
       " 'dyson',\n",
       " 'foundation',\n",
       " 'dyson',\n",
       " 'dyson',\n",
       " 'limited',\n",
       " 'authorised',\n",
       " 'regulated',\n",
       " 'financial',\n",
       " 'conduct',\n",
       " 'authority',\n",
       " 'act',\n",
       " 'credit',\n",
       " 'broker',\n",
       " 'dyson',\n",
       " 'limited',\n",
       " 'lender',\n",
       " 'operates',\n",
       " 'credit',\n",
       " 'broker',\n",
       " 'exclusively',\n",
       " 'paypal',\n",
       " 'credit',\n",
       " 'paypal',\n",
       " 'credit',\n",
       " 'trading',\n",
       " 'name',\n",
       " 'paypal',\n",
       " 'europe',\n",
       " 'sarl',\n",
       " 'et',\n",
       " 'cie',\n",
       " 'sca',\n",
       " 'boulevard',\n",
       " 'royal',\n",
       " 'l',\n",
       " 'luxembourg',\n",
       " 'paypal',\n",
       " 'credit',\n",
       " 'subject',\n",
       " 'status',\n",
       " 'terms',\n",
       " 'conditions',\n",
       " 'apply',\n",
       " 'select',\n",
       " 'location',\n",
       " 'close',\n",
       " 'country',\n",
       " 'selector',\n",
       " 'europe',\n",
       " 'asia',\n",
       " 'pacific',\n",
       " 'north',\n",
       " 'america',\n",
       " 'south',\n",
       " 'america',\n",
       " 'middle',\n",
       " 'east',\n",
       " 'africa',\n",
       " 'belgie',\n",
       " 'nederlands',\n",
       " 'belgique',\n",
       " 'franaise',\n",
       " 'cyprus',\n",
       " 'english',\n",
       " 'danmark',\n",
       " 'deutschland',\n",
       " 'espaa',\n",
       " 'france',\n",
       " 'hrvatska',\n",
       " 'ireland',\n",
       " 'italia',\n",
       " 'latvija',\n",
       " 'luxembourg',\n",
       " 'deutsch',\n",
       " 'luxembourg',\n",
       " 'franais',\n",
       " 'magyarorszg',\n",
       " 'nederland',\n",
       " 'norge',\n",
       " 'polska',\n",
       " 'portugal',\n",
       " 'romnia',\n",
       " 'schweiz',\n",
       " 'deutsch',\n",
       " 'slovenija',\n",
       " 'slovenska',\n",
       " 'republika',\n",
       " 'suisse',\n",
       " 'franaise',\n",
       " 'suomi',\n",
       " 'sverige',\n",
       " 'svizzera',\n",
       " 'italiano',\n",
       " 'trke',\n",
       " 'united',\n",
       " 'kingdom',\n",
       " 'sterreich',\n",
       " 'esk',\n",
       " 'republika',\n",
       " 'australia',\n",
       " 'hong',\n",
       " 'kong',\n",
       " 'english',\n",
       " 'india',\n",
       " 'indonesia',\n",
       " 'bahasa',\n",
       " 'indoseisa',\n",
       " 'english',\n",
       " 'malaysia',\n",
       " 'new',\n",
       " 'zealand',\n",
       " 'philippines',\n",
       " 'english',\n",
       " 'singapore',\n",
       " 'south',\n",
       " 'korea',\n",
       " 'thailand',\n",
       " 'english',\n",
       " 'canada',\n",
       " 'english',\n",
       " 'canada',\n",
       " 'franais',\n",
       " 'costa',\n",
       " 'rica',\n",
       " 'el',\n",
       " 'salvador',\n",
       " 'guatemala',\n",
       " 'honduras',\n",
       " 'mexico',\n",
       " 'usa',\n",
       " 'brazil',\n",
       " 'chile',\n",
       " 'colombia',\n",
       " 'panama',\n",
       " 'peru',\n",
       " 'israel',\n",
       " 'english',\n",
       " 'lebanon',\n",
       " 'english',\n",
       " 'qatar',\n",
       " 'saudi',\n",
       " 'arabia',\n",
       " 'english',\n",
       " 'trke',\n",
       " 'uae',\n",
       " 'english',\n",
       " 'yisra',\n",
       " 'el',\n",
       " 'morocco',\n",
       " 'south',\n",
       " 'africa',\n",
       " 'europe',\n",
       " 'belgie',\n",
       " 'nederlands',\n",
       " 'belgique',\n",
       " 'franaise',\n",
       " 'cyprus',\n",
       " 'english',\n",
       " 'danmark',\n",
       " 'deutschland',\n",
       " 'espaa',\n",
       " 'france',\n",
       " 'hrvatska',\n",
       " 'ireland',\n",
       " 'italia',\n",
       " 'latvija',\n",
       " 'luxembourg',\n",
       " 'deutsch',\n",
       " 'luxembourg',\n",
       " 'franais',\n",
       " 'magyarorszg',\n",
       " 'nederland',\n",
       " 'norge',\n",
       " 'polska',\n",
       " 'portugal',\n",
       " 'romnia',\n",
       " 'schweiz',\n",
       " 'deutsch',\n",
       " 'slovenija',\n",
       " 'slovenska',\n",
       " 'republika',\n",
       " 'suisse',\n",
       " 'franaise',\n",
       " 'suomi',\n",
       " 'sverige',\n",
       " 'svizzera',\n",
       " 'italiano',\n",
       " 'trke',\n",
       " 'united',\n",
       " 'kingdom',\n",
       " 'sterreich',\n",
       " 'esk',\n",
       " 'republika',\n",
       " 'asia',\n",
       " 'pacific',\n",
       " 'australia',\n",
       " 'hong',\n",
       " 'kong',\n",
       " 'english',\n",
       " 'india',\n",
       " 'indonesia',\n",
       " 'bahasa',\n",
       " 'indoseisa',\n",
       " 'english',\n",
       " 'malaysia',\n",
       " 'new',\n",
       " 'zealand',\n",
       " 'philippines',\n",
       " 'english',\n",
       " 'singapore',\n",
       " 'south',\n",
       " 'korea',\n",
       " 'thailand',\n",
       " 'english',\n",
       " 'north',\n",
       " 'america',\n",
       " 'canada',\n",
       " 'english',\n",
       " 'canada',\n",
       " 'franais',\n",
       " 'costa',\n",
       " 'rica',\n",
       " 'el',\n",
       " 'salvador',\n",
       " 'guatemala',\n",
       " 'honduras',\n",
       " 'mexico',\n",
       " 'usa',\n",
       " 'south',\n",
       " 'america',\n",
       " 'brazil',\n",
       " 'chile',\n",
       " 'colombia',\n",
       " 'panama',\n",
       " 'peru',\n",
       " 'middle',\n",
       " 'east',\n",
       " 'israel',\n",
       " 'english',\n",
       " 'lebanon',\n",
       " 'english',\n",
       " 'qatar',\n",
       " 'saudi',\n",
       " 'arabia',\n",
       " 'english',\n",
       " 'trke',\n",
       " 'uae',\n",
       " 'english',\n",
       " 'yisra',\n",
       " 'el',\n",
       " 'africa',\n",
       " 'morocco',\n",
       " 'south',\n",
       " 'africa',\n",
       " 'notify',\n",
       " 'sorry',\n",
       " 'something',\n",
       " 'went',\n",
       " 'wrong',\n",
       " 'please',\n",
       " 'try']"
      ]
     },
     "execution_count": 51,
     "metadata": {},
     "output_type": "execute_result"
    }
   ],
   "source": [
    "text_cleaned = removeStopWords(text_stripped_split)\n",
    "text_cleaned"
   ]
  },
  {
   "cell_type": "markdown",
   "metadata": {},
   "source": [
    "Wrapping this all up into a function..."
   ]
  },
  {
   "cell_type": "code",
   "execution_count": 52,
   "metadata": {},
   "outputs": [],
   "source": [
    "def cleantext(text):\n",
    "    text_r = str(text).replace('\\\\n','').replace('\\\\t','').replace('\\\\r','')\n",
    "    text_stripped = stripsymbols(text_r)\n",
    "    text_stripped_split = text_stripped.lower().strip().split()\n",
    "    text_cleaned = removeStopWords(text_stripped_split)\n",
    "    return ' '.join(text_cleaned) # returns a joined list of the remaining words "
   ]
  },
  {
   "cell_type": "code",
   "execution_count": 53,
   "metadata": {
    "collapsed": true
   },
   "outputs": [
    {
     "data": {
      "text/plain": [
       "'b skip navigation cookie settings dyson websites use cookies continuing use websites accept cookies may stored device outlined cookie policy thanks saved preferences update contact preferences time keep touch section dyson dyson account log manage contact options change contact preferences change contact preferences products cord free vacuums sticks handhelds latest offers corded vacuums uprights cylinders latest offers robot vacuums dyson eye robot hair care dyson supersonic hair dryer air treatment purifiers humidifiers fans heaters dyson cool fans dyson hot cool fan heaters lighting csys task lights cu beam suspended lights hand dryers dyson airblade v hand dryer dyson airblade db hand dryer dyson airblade tap hand dryer business dyson business overview lighting business hand dryers business air treatment business hair care business resource library case studies sectors offices hotels education hospitality support get machine support guides troubleshooting tools replacement parts repairs servicing information quick links find serial number find machine contact us activate guarantee common fixes dyson dyson co uk search dyson co uk search basket empty dyson sr basket items time shine shop mother day gift edition powerful lightweight floor ceiling cleaning dyson technology shop divider line dyson institute immersive engineering degrees next generation james dyson award idea solves problem dyson demo experience dyson technology particles small microns tested en gaseous capture rates vary talking us easy call us call us united kingdom vacuum cleaners hair dryers guarantee terms delivery details repairs servicing careers press compliance data company information safety recall corporate social responsibility uk modern slavery act statement privacy policy terms conditions terms website use cookies policy right cancel online dispute resolution sitemap james dyson foundation dyson dyson limited authorised regulated financial conduct authority act credit broker dyson limited lender operates credit broker exclusively paypal credit paypal credit trading name paypal europe sarl et cie sca boulevard royal l luxembourg paypal credit subject status terms conditions apply select location close country selector europe asia pacific north america south america middle east africa belgie nederlands belgique franaise cyprus english danmark deutschland espaa france hrvatska ireland italia latvija luxembourg deutsch luxembourg franais magyarorszg nederland norge polska portugal romnia schweiz deutsch slovenija slovenska republika suisse franaise suomi sverige svizzera italiano trke united kingdom sterreich esk republika australia hong kong english india indonesia bahasa indoseisa english malaysia new zealand philippines english singapore south korea thailand english canada english canada franais costa rica el salvador guatemala honduras mexico usa brazil chile colombia panama peru israel english lebanon english qatar saudi arabia english trke uae english yisra el morocco south africa europe belgie nederlands belgique franaise cyprus english danmark deutschland espaa france hrvatska ireland italia latvija luxembourg deutsch luxembourg franais magyarorszg nederland norge polska portugal romnia schweiz deutsch slovenija slovenska republika suisse franaise suomi sverige svizzera italiano trke united kingdom sterreich esk republika asia pacific australia hong kong english india indonesia bahasa indoseisa english malaysia new zealand philippines english singapore south korea thailand english north america canada english canada franais costa rica el salvador guatemala honduras mexico usa south america brazil chile colombia panama peru middle east israel english lebanon english qatar saudi arabia english trke uae english yisra el africa morocco south africa notify sorry something went wrong please try'"
      ]
     },
     "execution_count": 53,
     "metadata": {},
     "output_type": "execute_result"
    }
   ],
   "source": [
    "dyson_cleaned = cleantext(text) # example of a function\n",
    "dyson_cleaned"
   ]
  },
  {
   "cell_type": "markdown",
   "metadata": {},
   "source": [
    "### Using the Natural Language Toolkit to tokenise and tag words"
   ]
  },
  {
   "cell_type": "markdown",
   "metadata": {},
   "source": [
    "Another feature of the Natural Language Toolkit we can exploit is the ability to tag words and categorise them into their 'parts of speech' (i.e. nouns, verbs, adverbs). Perhaps this can be used to tag words from the scraped text, and retrieve nouns under the assumption that they provide the greatest explanatory power.\n",
    "\n",
    "Let's test this with the scraped text from the previous section."
   ]
  },
  {
   "cell_type": "code",
   "execution_count": 54,
   "metadata": {
    "collapsed": true
   },
   "outputs": [
    {
     "data": {
      "text/plain": [
       "'b skip navigation cookie settings dyson websites use cookies continuing use websites accept cookies may stored device outlined cookie policy thanks saved preferences update contact preferences time keep touch section dyson dyson account log manage contact options change contact preferences change contact preferences products cord free vacuums sticks handhelds latest offers corded vacuums uprights cylinders latest offers robot vacuums dyson eye robot hair care dyson supersonic hair dryer air treatment purifiers humidifiers fans heaters dyson cool fans dyson hot cool fan heaters lighting csys task lights cu beam suspended lights hand dryers dyson airblade v hand dryer dyson airblade db hand dryer dyson airblade tap hand dryer business dyson business overview lighting business hand dryers business air treatment business hair care business resource library case studies sectors offices hotels education hospitality support get machine support guides troubleshooting tools replacement parts repairs servicing information quick links find serial number find machine contact us activate guarantee common fixes dyson dyson co uk search dyson co uk search basket empty dyson sr basket items time shine shop mother day gift edition powerful lightweight floor ceiling cleaning dyson technology shop divider line dyson institute immersive engineering degrees next generation james dyson award idea solves problem dyson demo experience dyson technology particles small microns tested en gaseous capture rates vary talking us easy call us call us united kingdom vacuum cleaners hair dryers guarantee terms delivery details repairs servicing careers press compliance data company information safety recall corporate social responsibility uk modern slavery act statement privacy policy terms conditions terms website use cookies policy right cancel online dispute resolution sitemap james dyson foundation dyson dyson limited authorised regulated financial conduct authority act credit broker dyson limited lender operates credit broker exclusively paypal credit paypal credit trading name paypal europe sarl et cie sca boulevard royal l luxembourg paypal credit subject status terms conditions apply select location close country selector europe asia pacific north america south america middle east africa belgie nederlands belgique franaise cyprus english danmark deutschland espaa france hrvatska ireland italia latvija luxembourg deutsch luxembourg franais magyarorszg nederland norge polska portugal romnia schweiz deutsch slovenija slovenska republika suisse franaise suomi sverige svizzera italiano trke united kingdom sterreich esk republika australia hong kong english india indonesia bahasa indoseisa english malaysia new zealand philippines english singapore south korea thailand english canada english canada franais costa rica el salvador guatemala honduras mexico usa brazil chile colombia panama peru israel english lebanon english qatar saudi arabia english trke uae english yisra el morocco south africa europe belgie nederlands belgique franaise cyprus english danmark deutschland espaa france hrvatska ireland italia latvija luxembourg deutsch luxembourg franais magyarorszg nederland norge polska portugal romnia schweiz deutsch slovenija slovenska republika suisse franaise suomi sverige svizzera italiano trke united kingdom sterreich esk republika asia pacific australia hong kong english india indonesia bahasa indoseisa english malaysia new zealand philippines english singapore south korea thailand english north america canada english canada franais costa rica el salvador guatemala honduras mexico usa south america brazil chile colombia panama peru middle east israel english lebanon english qatar saudi arabia english trke uae english yisra el africa morocco south africa notify sorry something went wrong please try'"
      ]
     },
     "execution_count": 54,
     "metadata": {},
     "output_type": "execute_result"
    }
   ],
   "source": [
    "dyson_cleaned"
   ]
  },
  {
   "cell_type": "code",
   "execution_count": 55,
   "metadata": {
    "collapsed": true
   },
   "outputs": [
    {
     "name": "stdout",
     "output_type": "stream",
     "text": [
      "['b', 'skip', 'navigation', 'cookie', 'settings', 'dyson', 'websites', 'use', 'cookies', 'continuing', 'use', 'websites', 'accept', 'cookies', 'may', 'stored', 'device', 'outlined', 'cookie', 'policy', 'thanks', 'saved', 'preferences', 'update', 'contact', 'preferences', 'time', 'keep', 'touch', 'section', 'dyson', 'dyson', 'account', 'log', 'manage', 'contact', 'options', 'change', 'contact', 'preferences', 'change', 'contact', 'preferences', 'products', 'cord', 'free', 'vacuums', 'sticks', 'handhelds', 'latest', 'offers', 'corded', 'vacuums', 'uprights', 'cylinders', 'latest', 'offers', 'robot', 'vacuums', 'dyson', 'eye', 'robot', 'hair', 'care', 'dyson', 'supersonic', 'hair', 'dryer', 'air', 'treatment', 'purifiers', 'humidifiers', 'fans', 'heaters', 'dyson', 'cool', 'fans', 'dyson', 'hot', 'cool', 'fan', 'heaters', 'lighting', 'csys', 'task', 'lights', 'cu', 'beam', 'suspended', 'lights', 'hand', 'dryers', 'dyson', 'airblade', 'v', 'hand', 'dryer', 'dyson', 'airblade', 'db', 'hand', 'dryer', 'dyson', 'airblade', 'tap', 'hand', 'dryer', 'business', 'dyson', 'business', 'overview', 'lighting', 'business', 'hand', 'dryers', 'business', 'air', 'treatment', 'business', 'hair', 'care', 'business', 'resource', 'library', 'case', 'studies', 'sectors', 'offices', 'hotels', 'education', 'hospitality', 'support', 'get', 'machine', 'support', 'guides', 'troubleshooting', 'tools', 'replacement', 'parts', 'repairs', 'servicing', 'information', 'quick', 'links', 'find', 'serial', 'number', 'find', 'machine', 'contact', 'us', 'activate', 'guarantee', 'common', 'fixes', 'dyson', 'dyson', 'co', 'uk', 'search', 'dyson', 'co', 'uk', 'search', 'basket', 'empty', 'dyson', 'sr', 'basket', 'items', 'time', 'shine', 'shop', 'mother', 'day', 'gift', 'edition', 'powerful', 'lightweight', 'floor', 'ceiling', 'cleaning', 'dyson', 'technology', 'shop', 'divider', 'line', 'dyson', 'institute', 'immersive', 'engineering', 'degrees', 'next', 'generation', 'james', 'dyson', 'award', 'idea', 'solves', 'problem', 'dyson', 'demo', 'experience', 'dyson', 'technology', 'particles', 'small', 'microns', 'tested', 'en', 'gaseous', 'capture', 'rates', 'vary', 'talking', 'us', 'easy', 'call', 'us', 'call', 'us', 'united', 'kingdom', 'vacuum', 'cleaners', 'hair', 'dryers', 'guarantee', 'terms', 'delivery', 'details', 'repairs', 'servicing', 'careers', 'press', 'compliance', 'data', 'company', 'information', 'safety', 'recall', 'corporate', 'social', 'responsibility', 'uk', 'modern', 'slavery', 'act', 'statement', 'privacy', 'policy', 'terms', 'conditions', 'terms', 'website', 'use', 'cookies', 'policy', 'right', 'cancel', 'online', 'dispute', 'resolution', 'sitemap', 'james', 'dyson', 'foundation', 'dyson', 'dyson', 'limited', 'authorised', 'regulated', 'financial', 'conduct', 'authority', 'act', 'credit', 'broker', 'dyson', 'limited', 'lender', 'operates', 'credit', 'broker', 'exclusively', 'paypal', 'credit', 'paypal', 'credit', 'trading', 'name', 'paypal', 'europe', 'sarl', 'et', 'cie', 'sca', 'boulevard', 'royal', 'l', 'luxembourg', 'paypal', 'credit', 'subject', 'status', 'terms', 'conditions', 'apply', 'select', 'location', 'close', 'country', 'selector', 'europe', 'asia', 'pacific', 'north', 'america', 'south', 'america', 'middle', 'east', 'africa', 'belgie', 'nederlands', 'belgique', 'franaise', 'cyprus', 'english', 'danmark', 'deutschland', 'espaa', 'france', 'hrvatska', 'ireland', 'italia', 'latvija', 'luxembourg', 'deutsch', 'luxembourg', 'franais', 'magyarorszg', 'nederland', 'norge', 'polska', 'portugal', 'romnia', 'schweiz', 'deutsch', 'slovenija', 'slovenska', 'republika', 'suisse', 'franaise', 'suomi', 'sverige', 'svizzera', 'italiano', 'trke', 'united', 'kingdom', 'sterreich', 'esk', 'republika', 'australia', 'hong', 'kong', 'english', 'india', 'indonesia', 'bahasa', 'indoseisa', 'english', 'malaysia', 'new', 'zealand', 'philippines', 'english', 'singapore', 'south', 'korea', 'thailand', 'english', 'canada', 'english', 'canada', 'franais', 'costa', 'rica', 'el', 'salvador', 'guatemala', 'honduras', 'mexico', 'usa', 'brazil', 'chile', 'colombia', 'panama', 'peru', 'israel', 'english', 'lebanon', 'english', 'qatar', 'saudi', 'arabia', 'english', 'trke', 'uae', 'english', 'yisra', 'el', 'morocco', 'south', 'africa', 'europe', 'belgie', 'nederlands', 'belgique', 'franaise', 'cyprus', 'english', 'danmark', 'deutschland', 'espaa', 'france', 'hrvatska', 'ireland', 'italia', 'latvija', 'luxembourg', 'deutsch', 'luxembourg', 'franais', 'magyarorszg', 'nederland', 'norge', 'polska', 'portugal', 'romnia', 'schweiz', 'deutsch', 'slovenija', 'slovenska', 'republika', 'suisse', 'franaise', 'suomi', 'sverige', 'svizzera', 'italiano', 'trke', 'united', 'kingdom', 'sterreich', 'esk', 'republika', 'asia', 'pacific', 'australia', 'hong', 'kong', 'english', 'india', 'indonesia', 'bahasa', 'indoseisa', 'english', 'malaysia', 'new', 'zealand', 'philippines', 'english', 'singapore', 'south', 'korea', 'thailand', 'english', 'north', 'america', 'canada', 'english', 'canada', 'franais', 'costa', 'rica', 'el', 'salvador', 'guatemala', 'honduras', 'mexico', 'usa', 'south', 'america', 'brazil', 'chile', 'colombia', 'panama', 'peru', 'middle', 'east', 'israel', 'english', 'lebanon', 'english', 'qatar', 'saudi', 'arabia', 'english', 'trke', 'uae', 'english', 'yisra', 'el', 'africa', 'morocco', 'south', 'africa', 'notify', 'sorry', 'something', 'went', 'wrong', 'please', 'try']\n"
     ]
    }
   ],
   "source": [
    "tokens = nltk.word_tokenize(dyson_cleaned) # tokenize (split) the string\n",
    "print(tokens)"
   ]
  },
  {
   "cell_type": "markdown",
   "metadata": {},
   "source": [
    "The tags bellow are given according to the Penn Treebank Project here: https://www.ling.upenn.edu/courses/Fall_2003/ling001/penn_treebank_pos.html\n",
    "\n",
    "The results are quite interesting. Words like 'vacuums', 'cylinders', 'robot' and 'dryers' are correctly given as nouns. However, some words are double-tagged. For instance, 'dyson' is given as a verb as well as a noun. 'Airblade' is given as a past-tense verb. \n",
    "\n",
    "From this example alone, filtering on nouns would yield the best results."
   ]
  },
  {
   "cell_type": "code",
   "execution_count": 56,
   "metadata": {
    "collapsed": true
   },
   "outputs": [
    {
     "name": "stdout",
     "output_type": "stream",
     "text": [
      "[('b', 'NN'), ('skip', 'NN'), ('navigation', 'NN'), ('cookie', 'NN'), ('settings', 'NNS'), ('dyson', 'NN'), ('websites', 'NNS'), ('use', 'VBP'), ('cookies', 'NNS'), ('continuing', 'VBG'), ('use', 'NN'), ('websites', 'NNS'), ('accept', 'IN'), ('cookies', 'NNS'), ('may', 'MD'), ('stored', 'VB'), ('device', 'NN'), ('outlined', 'VBN'), ('cookie', 'NN'), ('policy', 'NN'), ('thanks', 'NNS'), ('saved', 'VBD'), ('preferences', 'NNS'), ('update', 'JJ'), ('contact', 'NN'), ('preferences', 'NNS'), ('time', 'NN'), ('keep', 'VB'), ('touch', 'JJ'), ('section', 'NN'), ('dyson', 'NN'), ('dyson', 'NN'), ('account', 'NN'), ('log', 'JJ'), ('manage', 'NN'), ('contact', 'NN'), ('options', 'NNS'), ('change', 'VBP'), ('contact', 'JJ'), ('preferences', 'NNS'), ('change', 'VBP'), ('contact', 'JJ'), ('preferences', 'NNS'), ('products', 'NNS'), ('cord', 'VBP'), ('free', 'JJ'), ('vacuums', 'NNS'), ('sticks', 'NNS'), ('handhelds', 'VBP'), ('latest', 'JJS'), ('offers', 'NNS'), ('corded', 'VBD'), ('vacuums', 'NNS'), ('uprights', 'JJ'), ('cylinders', 'NNS'), ('latest', 'JJS'), ('offers', 'NNS'), ('robot', 'VBP'), ('vacuums', 'NNS'), ('dyson', 'VBP'), ('eye', 'NN'), ('robot', 'NN'), ('hair', 'NN'), ('care', 'NN'), ('dyson', 'NN'), ('supersonic', 'JJ'), ('hair', 'NN'), ('dryer', 'NN'), ('air', 'NN'), ('treatment', 'NN'), ('purifiers', 'NNS'), ('humidifiers', 'NNS'), ('fans', 'NNS'), ('heaters', 'NNS'), ('dyson', 'VBP'), ('cool', 'JJ'), ('fans', 'NNS'), ('dyson', 'VBP'), ('hot', 'JJ'), ('cool', 'JJ'), ('fan', 'NN'), ('heaters', 'NNS'), ('lighting', 'VBG'), ('csys', 'NN'), ('task', 'NN'), ('lights', 'NNS'), ('cu', 'VBP'), ('beam', 'NN'), ('suspended', 'VBN'), ('lights', 'NNS'), ('hand', 'NN'), ('dryers', 'NNS'), ('dyson', 'VBP'), ('airblade', 'JJ'), ('v', 'NN'), ('hand', 'NN'), ('dryer', 'NN'), ('dyson', 'NN'), ('airblade', 'VBD'), ('db', 'JJ'), ('hand', 'NN'), ('dryer', 'NN'), ('dyson', 'NN'), ('airblade', 'VBD'), ('tap', 'JJ'), ('hand', 'NN'), ('dryer', 'NN'), ('business', 'NN'), ('dyson', 'NN'), ('business', 'NN'), ('overview', 'NN'), ('lighting', 'VBG'), ('business', 'NN'), ('hand', 'NN'), ('dryers', 'NNS'), ('business', 'NN'), ('air', 'NN'), ('treatment', 'NN'), ('business', 'NN'), ('hair', 'NN'), ('care', 'NN'), ('business', 'NN'), ('resource', 'NN'), ('library', 'JJ'), ('case', 'NN'), ('studies', 'NNS'), ('sectors', 'NNS'), ('offices', 'NNS'), ('hotels', 'NNS'), ('education', 'VBP'), ('hospitality', 'NN'), ('support', 'NN'), ('get', 'VBP'), ('machine', 'NN'), ('support', 'NN'), ('guides', 'NNS'), ('troubleshooting', 'VBG'), ('tools', 'NNS'), ('replacement', 'NN'), ('parts', 'NNS'), ('repairs', 'VBD'), ('servicing', 'VBG'), ('information', 'NN'), ('quick', 'JJ'), ('links', 'NNS'), ('find', 'VBP'), ('serial', 'JJ'), ('number', 'NN'), ('find', 'VBP'), ('machine', 'NN'), ('contact', 'NN'), ('us', 'PRP'), ('activate', 'VBP'), ('guarantee', 'NN'), ('common', 'JJ'), ('fixes', 'NNS'), ('dyson', 'VBP'), ('dyson', 'JJ'), ('co', 'NN'), ('uk', 'JJ'), ('search', 'NN'), ('dyson', 'NN'), ('co', 'NN'), ('uk', 'JJ'), ('search', 'NN'), ('basket', 'NN'), ('empty', 'JJ'), ('dyson', 'NN'), ('sr', 'NN'), ('basket', 'NN'), ('items', 'NNS'), ('time', 'NN'), ('shine', 'NN'), ('shop', 'NN'), ('mother', 'NN'), ('day', 'NN'), ('gift', 'VB'), ('edition', 'NN'), ('powerful', 'JJ'), ('lightweight', 'JJ'), ('floor', 'NN'), ('ceiling', 'NN'), ('cleaning', 'VBG'), ('dyson', 'NN'), ('technology', 'NN'), ('shop', 'NN'), ('divider', 'NN'), ('line', 'NN'), ('dyson', 'NN'), ('institute', 'NN'), ('immersive', 'JJ'), ('engineering', 'NN'), ('degrees', 'NNS'), ('next', 'IN'), ('generation', 'NN'), ('james', 'NNS'), ('dyson', 'VBP'), ('award', 'RB'), ('idea', 'NN'), ('solves', 'NNS'), ('problem', 'NN'), ('dyson', 'NN'), ('demo', 'NN'), ('experience', 'NN'), ('dyson', 'NN'), ('technology', 'NN'), ('particles', 'VBZ'), ('small', 'JJ'), ('microns', 'NNS'), ('tested', 'VBN'), ('en', 'RB'), ('gaseous', 'JJ'), ('capture', 'NN'), ('rates', 'NNS'), ('vary', 'VBP'), ('talking', 'VBG'), ('us', 'PRP'), ('easy', 'JJ'), ('call', 'VB'), ('us', 'PRP'), ('call', 'VB'), ('us', 'PRP'), ('united', 'JJ'), ('kingdom', 'NN'), ('vacuum', 'NN'), ('cleaners', 'NNS'), ('hair', 'VBP'), ('dryers', 'NNS'), ('guarantee', 'VBP'), ('terms', 'NNS'), ('delivery', 'NN'), ('details', 'NNS'), ('repairs', 'VBP'), ('servicing', 'VBG'), ('careers', 'NNS'), ('press', 'NN'), ('compliance', 'NN'), ('data', 'NNS'), ('company', 'NN'), ('information', 'NN'), ('safety', 'NN'), ('recall', 'NN'), ('corporate', 'JJ'), ('social', 'JJ'), ('responsibility', 'NN'), ('uk', 'JJ'), ('modern', 'JJ'), ('slavery', 'NN'), ('act', 'NN'), ('statement', 'NN'), ('privacy', 'NN'), ('policy', 'NN'), ('terms', 'NNS'), ('conditions', 'NNS'), ('terms', 'NNS'), ('website', 'VBP'), ('use', 'NN'), ('cookies', 'NNS'), ('policy', 'NN'), ('right', 'RB'), ('cancel', 'JJ'), ('online', 'JJ'), ('dispute', 'NN'), ('resolution', 'NN'), ('sitemap', 'NN'), ('james', 'NNS'), ('dyson', 'VBP'), ('foundation', 'NN'), ('dyson', 'NN'), ('dyson', 'NN'), ('limited', 'VBD'), ('authorised', 'JJ'), ('regulated', 'VBN'), ('financial', 'JJ'), ('conduct', 'NN'), ('authority', 'NN'), ('act', 'NN'), ('credit', 'NN'), ('broker', 'NN'), ('dyson', 'NN'), ('limited', 'VBD'), ('lender', 'JJR'), ('operates', 'NNS'), ('credit', 'NN'), ('broker', 'NN'), ('exclusively', 'RB'), ('paypal', 'JJ'), ('credit', 'NN'), ('paypal', 'JJ'), ('credit', 'NN'), ('trading', 'NN'), ('name', 'NN'), ('paypal', 'IN'), ('europe', 'NN'), ('sarl', 'NN'), ('et', 'NN'), ('cie', 'NN'), ('sca', 'JJ'), ('boulevard', 'NN'), ('royal', 'NN'), ('l', 'NN'), ('luxembourg', 'NN'), ('paypal', 'JJ'), ('credit', 'NN'), ('subject', 'JJ'), ('status', 'NN'), ('terms', 'NNS'), ('conditions', 'NNS'), ('apply', 'VBP'), ('select', 'JJ'), ('location', 'NN'), ('close', 'JJ'), ('country', 'NN'), ('selector', 'NN'), ('europe', 'VBP'), ('asia', 'IN'), ('pacific', 'JJ'), ('north', 'NN'), ('america', 'NN'), ('south', 'NN'), ('america', 'IN'), ('middle', 'JJ'), ('east', 'NN'), ('africa', 'NN'), ('belgie', 'NN'), ('nederlands', 'VBZ'), ('belgique', 'JJ'), ('franaise', 'NN'), ('cyprus', 'NN'), ('english', 'JJ'), ('danmark', 'NN'), ('deutschland', 'NN'), ('espaa', 'NN'), ('france', 'NN'), ('hrvatska', 'NN'), ('ireland', 'NN'), ('italia', 'NN'), ('latvija', 'NN'), ('luxembourg', 'NN'), ('deutsch', 'NN'), ('luxembourg', 'NN'), ('franais', 'NN'), ('magyarorszg', 'NN'), ('nederland', 'NN'), ('norge', 'NN'), ('polska', 'JJ'), ('portugal', 'JJ'), ('romnia', 'NN'), ('schweiz', 'NN'), ('deutsch', 'NN'), ('slovenija', 'NN'), ('slovenska', 'NN'), ('republika', 'FW'), ('suisse', 'NN'), ('franaise', 'NN'), ('suomi', 'NN'), ('sverige', 'NN'), ('svizzera', 'NN'), ('italiano', 'NN'), ('trke', 'NN'), ('united', 'JJ'), ('kingdom', 'NN'), ('sterreich', 'JJ'), ('esk', 'NN'), ('republika', 'FW'), ('australia', 'VB'), ('hong', 'RB'), ('kong', 'JJ'), ('english', 'JJ'), ('india', 'NN'), ('indonesia', 'NN'), ('bahasa', 'NN'), ('indoseisa', 'JJ'), ('english', 'JJ'), ('malaysia', 'NN'), ('new', 'JJ'), ('zealand', 'NNP'), ('philippines', 'NNS'), ('english', 'JJ'), ('singapore', 'RB'), ('south', 'JJ'), ('korea', 'JJ'), ('thailand', 'NN'), ('english', 'JJ'), ('canada', 'NN'), ('english', 'JJ'), ('canada', 'NN'), ('franais', 'NN'), ('costa', 'NN'), ('rica', 'NN'), ('el', 'VBZ'), ('salvador', 'JJ'), ('guatemala', 'NN'), ('honduras', 'NNS'), ('mexico', 'VBP'), ('usa', 'JJ'), ('brazil', 'NN'), ('chile', 'NN'), ('colombia', 'NN'), ('panama', 'NN'), ('peru', 'NN'), ('israel', 'NN'), ('english', 'JJ'), ('lebanon', 'NN'), ('english', 'JJ'), ('qatar', 'NN'), ('saudi', 'NN'), ('arabia', 'IN'), ('english', 'JJ'), ('trke', 'NN'), ('uae', 'JJ'), ('english', 'JJ'), ('yisra', 'NN'), ('el', 'NN'), ('morocco', 'NN'), ('south', 'NN'), ('africa', 'IN'), ('europe', 'NN'), ('belgie', 'NN'), ('nederlands', 'VBZ'), ('belgique', 'JJ'), ('franaise', 'NN'), ('cyprus', 'NN'), ('english', 'JJ'), ('danmark', 'NN'), ('deutschland', 'NN'), ('espaa', 'NN'), ('france', 'NN'), ('hrvatska', 'NN'), ('ireland', 'NN'), ('italia', 'NN'), ('latvija', 'NN'), ('luxembourg', 'NN'), ('deutsch', 'NN'), ('luxembourg', 'NN'), ('franais', 'NN'), ('magyarorszg', 'NN'), ('nederland', 'NN'), ('norge', 'NN'), ('polska', 'JJ'), ('portugal', 'JJ'), ('romnia', 'NN'), ('schweiz', 'NN'), ('deutsch', 'NN'), ('slovenija', 'NN'), ('slovenska', 'NN'), ('republika', 'FW'), ('suisse', 'NN'), ('franaise', 'NN'), ('suomi', 'NN'), ('sverige', 'NN'), ('svizzera', 'NN'), ('italiano', 'NN'), ('trke', 'NN'), ('united', 'JJ'), ('kingdom', 'NN'), ('sterreich', 'JJ'), ('esk', 'NN'), ('republika', 'FW'), ('asia', 'NN'), ('pacific', 'NN'), ('australia', 'IN'), ('hong', 'JJ'), ('kong', 'JJ'), ('english', 'JJ'), ('india', 'NN'), ('indonesia', 'NN'), ('bahasa', 'NN'), ('indoseisa', 'JJ'), ('english', 'JJ'), ('malaysia', 'NN'), ('new', 'JJ'), ('zealand', 'NNP'), ('philippines', 'NNS'), ('english', 'JJ'), ('singapore', 'RB'), ('south', 'JJ'), ('korea', 'JJ'), ('thailand', 'NN'), ('english', 'JJ'), ('north', 'NN'), ('america', 'IN'), ('canada', 'JJ'), ('english', 'JJ'), ('canada', 'NN'), ('franais', 'NN'), ('costa', 'NN'), ('rica', 'NN'), ('el', 'VBZ'), ('salvador', 'JJ'), ('guatemala', 'NN'), ('honduras', 'NNS'), ('mexico', 'VBP'), ('usa', 'JJ'), ('south', 'NN'), ('america', 'IN'), ('brazil', 'NN'), ('chile', 'NN'), ('colombia', 'NN'), ('panama', 'NN'), ('peru', 'NN'), ('middle', 'JJ'), ('east', 'JJ'), ('israel', 'NN'), ('english', 'JJ'), ('lebanon', 'NN'), ('english', 'JJ'), ('qatar', 'NN'), ('saudi', 'NN'), ('arabia', 'IN'), ('english', 'JJ'), ('trke', 'NN'), ('uae', 'JJ'), ('english', 'JJ'), ('yisra', 'NN'), ('el', 'NN'), ('africa', 'NN'), ('morocco', 'NN'), ('south', 'NN'), ('africa', 'JJ'), ('notify', 'NN'), ('sorry', 'NN'), ('something', 'NN'), ('went', 'VBD'), ('wrong', 'JJ'), ('please', 'NN'), ('try', 'VB')]\n"
     ]
    }
   ],
   "source": [
    "tagged = nltk.pos_tag(tokens) # categorise words according to their parts of speech\n",
    "print(tagged)"
   ]
  },
  {
   "cell_type": "code",
   "execution_count": 57,
   "metadata": {
    "collapsed": true
   },
   "outputs": [
    {
     "data": {
      "text/plain": [
       "'b skip navigation cookie settings dyson websites cookies use websites cookies device cookie policy thanks preferences contact preferences time section dyson dyson account manage contact options preferences preferences products vacuums sticks offers vacuums cylinders offers vacuums eye robot hair care dyson hair dryer air treatment purifiers humidifiers fans heaters fans fan heaters csys task lights beam lights hand dryers v hand dryer dyson hand dryer dyson hand dryer business dyson business overview business hand dryers business air treatment business hair care business resource case studies sectors offices hotels hospitality support machine support guides tools replacement parts information links number machine contact guarantee fixes co search dyson co search basket dyson sr basket items time shine shop mother day edition floor ceiling dyson technology shop divider line dyson institute engineering degrees generation james idea solves problem dyson demo experience dyson technology microns capture rates kingdom vacuum cleaners dryers terms delivery details careers press compliance data company information safety recall responsibility slavery act statement privacy policy terms conditions terms use cookies policy dispute resolution sitemap james foundation dyson dyson conduct authority act credit broker dyson operates credit broker credit credit trading name europe sarl et cie boulevard royal l luxembourg credit status terms conditions location country selector north america south east africa belgie franaise cyprus danmark deutschland espaa france hrvatska ireland italia latvija luxembourg deutsch luxembourg franais magyarorszg nederland norge romnia schweiz deutsch slovenija slovenska suisse franaise suomi sverige svizzera italiano trke kingdom esk india indonesia bahasa malaysia philippines thailand canada canada franais costa rica guatemala honduras brazil chile colombia panama peru israel lebanon qatar saudi trke yisra el morocco south europe belgie franaise cyprus danmark deutschland espaa france hrvatska ireland italia latvija luxembourg deutsch luxembourg franais magyarorszg nederland norge romnia schweiz deutsch slovenija slovenska suisse franaise suomi sverige svizzera italiano trke kingdom esk asia pacific india indonesia bahasa malaysia philippines thailand north canada franais costa rica guatemala honduras south brazil chile colombia panama peru israel lebanon qatar saudi trke yisra el africa morocco south notify sorry something please'"
      ]
     },
     "execution_count": 57,
     "metadata": {},
     "output_type": "execute_result"
    }
   ],
   "source": [
    "# Keep nouns only\n",
    "tagged_nouns = \" \".join([word[0] for word in tagged if word[1] in ['NNS','NN']])\n",
    "tagged_nouns"
   ]
  },
  {
   "cell_type": "code",
   "execution_count": 58,
   "metadata": {},
   "outputs": [
    {
     "data": {
      "text/plain": [
       "1352"
      ]
     },
     "execution_count": 58,
     "metadata": {},
     "output_type": "execute_result"
    }
   ],
   "source": [
    "# Difference in list sizes - 1,352 removed words (out of 3,767)\n",
    "len(dyson_cleaned) - len(tagged_nouns)"
   ]
  },
  {
   "cell_type": "markdown",
   "metadata": {},
   "source": [
    "### Master function and wordclouds"
   ]
  },
  {
   "cell_type": "markdown",
   "metadata": {},
   "source": [
    "Let's collect everything we've built in Section 2 and build our final master functions."
   ]
  },
  {
   "cell_type": "code",
   "execution_count": 59,
   "metadata": {},
   "outputs": [],
   "source": [
    "def key_words(list_of_urls):\n",
    "    '''\n",
    "    From the given list of urls, this function scrapes, cleans (removing symbols and non-nouns)\n",
    "    and gathers all text into a single string\n",
    "    '''\n",
    "    \n",
    "    words_cleaned = '' # Set up empty string\n",
    "    \n",
    "    for website in list_of_urls:\n",
    "        # try / except for troublesome websites\n",
    "        try:\n",
    "            html = requests.get(website)\n",
    "            soup = BeautifulSoup(html.content, 'html5lib')\n",
    "            [s.extract() for s in soup(['style', 'script', '[document]', 'head', 'title'])]\n",
    "            visibleText = soup.getText().encode('ascii','ignore')\n",
    "            words_cleaned += cleantext(visibleText) # Calling the function we built earlier \n",
    "        except:\n",
    "            continue\n",
    "            \n",
    "    # Tokenize and tag words\n",
    "    tokens = nltk.word_tokenize(words_cleaned)\n",
    "    tagged = nltk.pos_tag(tokens)\n",
    "\n",
    "    # Keep nouns only\n",
    "    keywords = \" \".join([word[0] for word in tagged if word[1] in ['NNS','NN']])\n",
    "    return keywords"
   ]
  },
  {
   "cell_type": "code",
   "execution_count": 60,
   "metadata": {
    "collapsed": true
   },
   "outputs": [
    {
     "data": {
      "text/plain": [
       "'b skip navigation cookie settings dyson websites cookies use websites cookies device cookie policy thanks preferences contact preferences time section dyson dyson account manage contact options preferences preferences products vacuums sticks offers vacuums cylinders offers vacuums eye robot hair care dyson hair dryer air treatment purifiers humidifiers fans heaters fans fan heaters csys task lights beam lights hand dryers v hand dryer dyson hand dryer dyson hand dryer business dyson business overview business hand dryers business air treatment business hair care business resource case studies sectors offices hotels hospitality support machine support guides tools replacement parts information links number machine contact guarantee fixes co search dyson co search basket dyson sr basket items time shine shop mother day edition floor ceiling dyson technology shop divider line dyson institute engineering degrees generation james idea solves problem dyson demo experience dyson technology microns capture rates kingdom vacuum cleaners dryers terms delivery details careers press compliance data company information safety recall responsibility slavery act statement privacy policy terms conditions terms use cookies policy dispute resolution sitemap james foundation dyson dyson conduct authority act credit broker dyson operates credit broker credit credit trading name europe sarl et cie boulevard royal l luxembourg credit status terms conditions location country selector north america south east africa belgie franaise cyprus danmark deutschland espaa france hrvatska ireland italia latvija luxembourg deutsch luxembourg franais magyarorszg nederland norge romnia schweiz deutsch slovenija slovenska suisse franaise suomi sverige svizzera italiano trke kingdom esk india indonesia bahasa malaysia philippines thailand canada canada franais costa rica guatemala honduras brazil chile colombia panama peru israel lebanon qatar saudi trke yisra el morocco south europe belgie franaise cyprus danmark deutschland espaa france hrvatska ireland italia latvija luxembourg deutsch luxembourg franais magyarorszg nederland norge romnia schweiz deutsch slovenija slovenska suisse franaise suomi sverige svizzera italiano trke kingdom esk asia pacific india indonesia bahasa malaysia philippines thailand north canada franais costa rica guatemala honduras south brazil chile colombia panama peru israel lebanon qatar saudi trke yisra el africa morocco south notify sorry something please navigation cookie settings dyson websites cookies use websites cookies device cookie policy thanks preferences contact preferences time section dyson dyson account manage contact options preferences preferences products vacuums sticks offers vacuums cylinders offers vacuums eye robot hair care dyson hair dryer air treatment purifiers humidifiers fans heaters fans fan heaters csys task lights beam lights hand dryers v hand dryer dyson hand dryer dyson hand dryer business dyson business overview business hand dryers business air treatment business hair care business resource case studies sectors offices hotels hospitality support machine support guides tools replacement parts information links number machine contact guarantee fixes co search dyson co search basket dyson sr basket items support guides tools replacement parts information home support machine help support machine dyson experts guarantee videos machine tips reminders machine owner benefits priority access dyson technology events advice days week chat pm monday pm saturday dyson parts replacement parts something guarantee period replacement cant repair machine guarantee stop machines guarantee service machine guarantee hand help home support machine kingdom vacuum cleaners dryers terms delivery details careers press compliance data company information safety recall responsibility slavery act statement privacy policy terms conditions terms use cookies policy dispute resolution sitemap james foundation dyson dyson conduct authority act credit broker dyson operates credit broker credit credit trading name europe sarl et cie boulevard royal l luxembourg credit status terms conditions location country selector north america south east africa belgie franaise cyprus danmark deutschland espaa france hrvatska ireland italia latvija luxembourg deutsch luxembourg franais magyarorszg nederland norge romnia schweiz deutsch slovenija slovenska suisse franaise suomi sverige svizzera italiano trke kingdom esk india indonesia bahasa malaysia philippines thailand canada canada franais costa rica guatemala honduras brazil chile colombia panama peru israel lebanon qatar saudi trke yisra el morocco south europe belgie franaise cyprus danmark deutschland espaa france hrvatska ireland italia latvija luxembourg deutsch luxembourg franais magyarorszg nederland norge romnia schweiz deutsch slovenija slovenska suisse franaise suomi sverige svizzera italiano trke kingdom esk asia pacific india indonesia bahasa malaysia philippines thailand north canada franais costa rica guatemala honduras south brazil chile colombia panama peru israel lebanon qatar saudi trke yisra el africa morocco south notify sorry something please navigation cookie settings dyson websites cookies use websites cookies device cookie policy thanks preferences contact preferences time section dyson dyson account manage contact options preferences preferences products vacuums sticks offers vacuums cylinders offers vacuums eye robot hair care dyson hair dryer air treatment purifiers humidifiers fans heaters fans fan heaters csys task lights beam lights hand dryers v hand dryer dyson hand dryer dyson hand dryer business dyson business overview business hand dryers business air treatment business hair care business resource case studies sectors offices hotels hospitality support machine support guides tools replacement parts information links number machine contact guarantee fixes co search dyson co search basket dyson sr basket items number machine contact guarantee home support links product stock please address email address let talk customer service days week helpline pm monday pm saturday home support links kingdom vacuum cleaners dryers terms delivery details careers press compliance data company information safety recall responsibility slavery act statement privacy policy terms conditions terms use cookies policy dispute resolution sitemap james foundation dyson dyson conduct authority act credit broker dyson operates credit broker credit credit trading name europe sarl et cie boulevard royal l luxembourg credit status terms conditions location country selector north america south east africa belgie franaise cyprus danmark deutschland espaa france hrvatska ireland italia latvija luxembourg deutsch luxembourg franais magyarorszg nederland norge romnia schweiz deutsch slovenija slovenska suisse franaise suomi sverige svizzera italiano trke kingdom esk india indonesia bahasa malaysia philippines thailand canada canada franais costa rica guatemala honduras brazil chile colombia panama peru israel lebanon qatar saudi trke yisra el morocco south europe belgie franaise cyprus danmark deutschland espaa france hrvatska ireland italia latvija luxembourg deutsch luxembourg franais magyarorszg nederland norge romnia schweiz deutsch slovenija slovenska suisse franaise suomi sverige svizzera italiano trke kingdom esk asia pacific india indonesia bahasa malaysia philippines thailand north canada franais costa rica guatemala honduras south brazil chile colombia panama peru israel lebanon qatar saudi trke yisra el africa morocco south notify sorry something please navigation cookie settings dyson websites cookies use websites cookies device cookie policy thanks preferences contact preferences time section dyson dyson account manage contact options preferences preferences products vacuums sticks offers vacuums cylinders offers vacuums eye robot hair care dyson hair dryer air treatment purifiers humidifiers fans heaters fans fan heaters csys task lights beam lights hand dryers v hand dryer dyson hand dryer dyson hand dryer business dyson business overview business hand dryers business air treatment business hair care business resource case studies sectors offices hotels hospitality support machine support guides tools replacement parts information links number machine contact guarantee fixes co search dyson co search basket dyson sr basket items responsibility press dyson institute james dyson demo dyson demo home dyson keep product stock please address email address dyson demo dyson technology problems way experience dyson demo place life science engineering heart machines experience dyson hair dryer book appointment dyson experience dyson hair dryer experts hand questions technology book appointment dyson help vacuum suit home choose range colours tools frustrations terms conditions colours blue fuchsia iron titanium offer purchase dyson vacuum dyson demo b customers dyson v vacuum dyson co dyson demo dyson demo redeem offer days date purchase proof purchase receipt cash stocks dyson offer time dyson demo street c times sunday owner guarantee tool part help machine home dyson kingdom vacuum cleaners dryers terms delivery details careers press compliance data company information safety recall responsibility slavery act statement privacy policy terms conditions terms use cookies policy dispute resolution sitemap james foundation dyson dyson conduct authority act credit broker dyson operates credit broker credit credit trading name europe sarl et cie boulevard royal l luxembourg credit status terms conditions location country selector north america south east africa belgie franaise cyprus danmark deutschland espaa france hrvatska ireland italia latvija luxembourg deutsch luxembourg franais magyarorszg nederland norge romnia schweiz deutsch slovenija slovenska suisse franaise suomi sverige svizzera italiano trke kingdom esk india indonesia bahasa malaysia philippines thailand canada canada franais costa rica guatemala honduras brazil chile colombia panama peru israel lebanon qatar saudi trke yisra el morocco south europe belgie franaise cyprus danmark deutschland espaa france hrvatska ireland italia latvija luxembourg deutsch luxembourg franais magyarorszg nederland norge romnia schweiz deutsch slovenija slovenska suisse franaise suomi sverige svizzera italiano trke kingdom esk asia pacific india indonesia bahasa malaysia philippines thailand north canada franais costa rica guatemala honduras south brazil chile colombia panama peru israel lebanon qatar saudi trke yisra el africa morocco south notify sorry something please navigation cookie settings dyson websites cookies use websites cookies device cookie policy thanks preferences contact preferences time section dyson dyson account manage contact options preferences preferences products vacuums sticks offers vacuums cylinders offers vacuums eye robot hair care dyson hair dryer air treatment purifiers humidifiers fans heaters fans fan heaters csys task lights beam lights hand dryers v hand dryer dyson hand dryer dyson hand dryer business dyson business overview business hand dryers business air treatment business hair care business resource case studies sectors offices hotels hospitality support machine support guides tools replacement parts information links number machine contact guarantee fixes co search dyson co search basket dyson sr basket items company information terms conditions sale dispute resolution delivery details guarantee terms terms use company information compliance data guarantee home dyson terms product stock please address email address company information trading company company purchases point contact kingdom dyson limitedtetbury number england wales emailaskdyson co ukyou informationwhen use apps products collect information privacy policy dyson information dyson technology company dyson products information address dyson technology dyson technology limitedtetbury hillmalmesburywiltshiresn rgif questions comments concerns information please mail privacy team time privacy home dyson terms kingdom vacuum cleaners dryers terms delivery details careers press compliance data company information safety recall responsibility slavery act statement privacy policy terms conditions terms use cookies policy dispute resolution sitemap james foundation dyson dyson conduct authority act credit broker dyson operates credit broker credit credit trading name europe sarl et cie boulevard royal l luxembourg credit status terms conditions location country selector north america south east africa belgie franaise cyprus danmark deutschland espaa france hrvatska ireland italia latvija luxembourg deutsch luxembourg franais magyarorszg nederland norge romnia schweiz deutsch slovenija slovenska suisse franaise suomi sverige svizzera italiano trke kingdom esk india indonesia bahasa malaysia philippines thailand canada canada franais costa rica guatemala honduras brazil chile colombia panama peru israel lebanon qatar saudi trke yisra el morocco south europe belgie franaise cyprus danmark deutschland espaa france hrvatska ireland italia latvija luxembourg deutsch luxembourg franais magyarorszg nederland norge romnia schweiz deutsch slovenija slovenska suisse franaise suomi sverige svizzera italiano trke kingdom esk asia pacific india indonesia bahasa malaysia philippines thailand north canada franais costa rica guatemala honduras south brazil chile colombia panama peru israel lebanon qatar saudi trke yisra el africa morocco south notify sorry something please navigation cookie settings dyson websites cookies use websites cookies device cookie policy thanks preferences contact preferences time section dyson dyson account manage contact options preferences preferences products vacuums sticks offers vacuums cylinders offers vacuums eye robot hair care dyson hair dryer air treatment purifiers humidifiers fans heaters fans fan heaters csys task lights beam lights hand dryers v hand dryer dyson hand dryer dyson hand dryer business dyson business overview business hand dryers business air treatment business hair care business resource case studies sectors offices hotels hospitality support machine support guides tools replacement parts information links number machine contact guarantee fixes co search dyson co search basket dyson sr basket items number machine contact guarantee home support links product stock please address email address let talk customer service days week helpline pm monday pm saturday home support links kingdom vacuum cleaners dryers terms delivery details careers press compliance data company information safety recall responsibility slavery act statement privacy policy terms conditions terms use cookies policy dispute resolution sitemap james foundation dyson dyson conduct authority act credit broker dyson operates credit broker credit credit trading name europe sarl et cie boulevard royal l luxembourg credit status terms conditions location country selector north america south east africa belgie franaise cyprus danmark deutschland espaa france hrvatska ireland italia latvija luxembourg deutsch luxembourg franais magyarorszg nederland norge romnia schweiz deutsch slovenija slovenska suisse franaise suomi sverige svizzera italiano trke kingdom esk india indonesia bahasa malaysia philippines thailand canada canada franais costa rica guatemala honduras brazil chile colombia panama peru israel lebanon qatar saudi trke yisra el morocco south europe belgie franaise cyprus danmark deutschland espaa france hrvatska ireland italia latvija luxembourg deutsch luxembourg franais magyarorszg nederland norge romnia schweiz deutsch slovenija slovenska suisse franaise suomi sverige svizzera italiano trke kingdom esk asia pacific india indonesia bahasa malaysia philippines thailand north canada franais costa rica guatemala honduras south brazil chile colombia panama peru israel lebanon qatar saudi trke yisra el africa morocco south notify sorry something please skip content companies house trial service feedback link window help sign register sign register search companies officers company officer search please press enter search dyson company number company file company company overview dyson history dyson people charges office address tetbury malmesbury wiltshire sn company status company type company july accounts accounts december accounts confirmation statement statement date july july statement nature business manufacture appliances company company period dyson appliances sep jan barleta jul sep anything page submission help companies house service submission please anything page page example information incorrect name email address policies cookies skip content companies house trial service feedback link window help sign register sign register search companies officers company officer search please press enter search company number company company overview james history james people james charges james office address company bank street leeds road huddersfield kingdom hd company status company type company accounts accounts return return business preparation spin textiles company company period feb apr anything page submission help companies house service submission please anything page page example information incorrect name email address policies cookies company encyclopediajump navigation w n article needs lawsuits products please article events information june dyson ltdtypeprivate years founderjames wiltshire k peoplejames engineer jim rowan ceo productsvacuum cleaners hand dryers fans dryers products revenue profit ownerjames employees comdyson dc vacuum cleanerdyson technology company james designs manufactures appliances vacuum cleaners hand dryers fans heaters dryers people contents history products research projects award james foundation separation technology production moves expansion hullavington controversies lawsuits vax samsung dryer lawsuit criticisms students issues espionage motor technology bosch energy requirements allegations suit commission see linkshistory edit dyson james way vacuum cleaners hoover junior bags dust bags maintenance cleaners suction power inspiration bagless vacuum visit sawmill air cyclones separators method dirt dust settings methods scale cost dyson principle scale vacuum vacuum cardboard cyclone vacuum models business design style solutions sources dyson sawmill cone spun dust air forceto expel waste vacuum cleaner dust action spin airstream need bag filter dyson prototype designs vacuum blue machine success machine uk companies hoover license design market threat profits company interest vacuum technology dyson employer rotork appliance maker zanussi mail order catalogue kleeneze rotork cyclon vacuum design units company interest dyson design march version cyclon g forcewas production japan awareness series force guardians space g force attachment space apartments design japan status symbol income licence james dyson appliances cyclone vacuum dyson name da company plastics facility wales quality control concerns phillips renegotiate terms contract vacuum dyson agreement months supply chain production facility chippenham wiltshire england facility july da vacuum dc dyson technology north fantom technologies market market research people transparent container dust dyson team container feature vacuum months vacuum market dyson company machine dc number editions models dc dc dc dc dc zorbster company name appliances ltd year vacuum root cyclone technology cyclone funnels cyclone design dyson technologies hand dryer air bladeless fan dyson bladeless fan heater products article list dyson productsresearch projects dyson robotics college london vision systems generation household robots robot vacuum james dyson production line dyson chair university cambridge dyson professor fluid mechanics science engineering air movement addition dyson hundreds thousands pounds research branch university generation dyson motor motor drive march dyson business stake start sakti state batteries stake dyson researchers battery technology dyson patents university michigan doubts technology september company founder james email employees company people battery vehicle years release information company news vehicles works part b project company investment state batteries sources volume end model generation battery technology james james foundation edit james student design award countries foundation james dysons part mission encourage generation design engineers james students university james foundation aims people engineering become engineers schools universities people creativity ingenuity schools ireland dysons ideas teachers pupils order design process james foundation bursaries scholarships engineers separation technology edit see collectora dyson vacuum separation dust particles air stream suction dirt dirty air enters container cyclone centrifugal force particles wall container fall bin vacuum stages cyclones states forces vacuum cleaners filters blockage cause performance cleaners motors performance speed e g rpm motors diameter fan tip airflow pressure rise requirements vacuum production moves dyson vacuum cleaners machines malmesbury wiltshire company vacuum production malaysia controversy reason plans dyson factory increase production trade unionists move economy loss jobs year machine production malaysia production costs loss jobs dyson laundry manufacturing plant johor malaysia plant venture dyson singapore group manufacturing facilities china dyson cost savings production malaysia investment research development malmesbury head office dyson partnership electronics manufacturer vs industry vsi role dyson supply chain material production distribution vsi production plan product dyson destination markets globe america japan etc dyson employees employees vs industry bhd vsi employees facility manufactures products vs industry revenue dyson plant tuas digital motors year dyson increase production output motors year expansion hullavington edit dyson expansion programme tech campus raf hullavington hullavington wiltshire malmesbury headquarters research focus battery technologies acquisition robotics house dyson institute technology college james combat shortage engineering skills controversies patent infringement lawsuits edit dyson infringement dyson cyclone prototype machine dyson prototype machines information part contract amway machine dyson design month company patent infringement qualtex edit dyson parts manufacturer design infringement imitations vacuum parts dyson sale spare parts match dyson vacuum cleaners parts question spares use vacuum cleaners manufacturer parts design dyson parts win college art help designers designs edit dyson action manufacturer vax design mach zen vacuum infringement design dyson cylinder vacuum dc dyson dyson design court decision dysons claims designs impression courts cleaners designs dyson vax cleaner samsung edit august dyson electronics claims technology product motion sync design mechanism cylinder cleaners dyson way vacuum direction spot path order prevent vacuum corners months lawsuit dyson litigation reasons counter suit compensation image excel dryer lawsuit edit lawsuit hand dryer manufacturer dryer dyson dyson advertising excel dryer dyson advertisements xlerator carbon dioxide environment cost operate dryer falsifying comparisons time materials systems institute technology dryer time energy consumption figures needs criticisms students section needs please article events information june march james interview sunday times universities nationals engineering spy departments technology studies interview britain number students universities competitors examples bugs computers information researchers home david government minister universities statement james dyson authorities patent infringements issues december executive tim collins bureau journalism cameron issue jiabao behalf dyson espionage motor technology edit pang engineer specialist motors motor technology part product development projects development years technology spin rpm order volumes appliance companies wife yali company machine design payments dyson dyson trade secrets motor manufacturer siemens energy requirements allegations dyson siemens vacuums sensor signals motor increase power machine remnants union efficiency tests tests labs dyson home environment machines power dyson brands loopholes regulations energy consumption rating use e f rating dyson proceedings netherlands france belgium hausgerte household appliances siemens brands machines sensor technology loss suction control vacuum motor weeks court proceeedings court battle bosch courts dyson accusations dyson suit commission union regulations vacuum cleaners ruling vacuum cleaners commission conditions james institute technologyreferences b dyson company number companies house asia sales power dyson profits times copy idea dyson july c james odds c earl peter wakeley tim business economics approach mcgraw hill education pp isbn business whirlwind bbc news bin policy rgc jenkins trade mark patent attorneys crewe louise gregson metcalfe alan form function failure home consumption design culture dyson vacuum cleaners fans heaters site dyson com sir james plans household robots colin smith dyson develop generation robots ac dyson vision lab bbc news britain dyson research cambridge cam ac dyson investment move batteries march b dyson rest state battery company march levine dyson patents battery car juggernaut tesla quartz pooler dyson bets cars industry times ballaban michael plan cars nuts february line dyson cars award james james foundation home james foundation james foundation dyson vacuum cleaners owners november dyson rekindles war words jobs dyson moves news business dyson move news england wiltshire blow dyson plant bbc co dyson production moves telegraph design news century design engineer appliancemagazine com dyson plant star vsi b sales dyson tie june ruddick graham september sir james brexit company expansion emis v industry star contracts industry vacuum maker dyson dyson injects tuas plant ruddick graham dyson shrugs fears expansion plan issn march b dyson increase base base satisfy expansion plans march coughlan inventor sir james sets college tackle skills news inventor claims idea v press technology correspondent dyson cleans battle hoover telegraph co lawdit solicitors design rights dyson case dyson sues vacuum design dyson court battle vac design blood carpet dyson court battle times case court appeal division appeal court justice chancery division information institute samsung technology vacuum patent september kelion dyson sues vacuum mechanism bbc technology samsung files suit dyson times v dyson docstoc com b students technology secrets sunday times newspaper allvoices march march inventions students ibtimes march july b kenneth march inventor sir james students secrets centre dyson espionage case telegraph robert watts jack grimston march students secrets james july melanie camera top influence pm politics london conservatives links firms december spy secrets ie vacuum manufacturer spy secrets business insider dyson spy files times dyson research spy vw scandal dyson vacuums cnbc vacuum firm sue dyson energy test claims dyson power groups finance times dyson battle bosch vacuum row telegraph dyson court regulation links commons media dyson official websitevtedysonpeoplejames dyson articlesjames appliance brandssmalvicbauknechtbarazzabedazzlerbekobraunbrevillebsh americacolston aristoncuisinartdanbyde remehade longhidongbu daewoo electronicsdustbotdysonedesaelectroluxeurekafrigidairelenhelparkinson cowanwhite electrichaierhotpointhamilton beach brandshisensehisense kelonikeaivleinsinkeratorirobotroombascoobakdkkenmorekhind mistralkleenmaidlehellg chefmagistermedionmidea groupmielemitsubishi electricmorphy richardsnewell brandscrock potholmesmr coffeesunbeamolympic groupoxopanasonicpars appliance companypensonicpicabotboschrowentarussell hobbssaecosamsung electronicssanyoservissharpsisilskyworthsmegsnowasub zerotiger bendwhirlpool corporationadmiralamanabauknechthotpointindesit companymaytaginglisjenn airkitchenaidswashzojirushizylissauthority controlworldcat identitiesviaf lccn isni bibsys james companies companies engineering companies productsvacuum brandscompanies companies businesses categories articles june wikipedia articles articles articles articles articles identifiersuse dmy dates navigation toolsnot accountlog innamespacesarticletalkvariantsviewsreadeditview historymoresearchnavigationmain eventsrandom articledonate wikipediawikipedia storeinteractionhelpabout wikipediacommunity portalrecent changescontact links pagespermanent linkpage informationwikidata pageprint exportcreate bookdownload versionin projectswikimedia commonslanguagesetinadeutscheuskarafranaisitalianosuomisvenskatrkeedit links page text commons attribution terms site agree terms privacy policy wikipedia foundation inc profit organization privacy wikipediadeveloperscookie statementmobile viewb dyson company encyclopediajump navigation w n article needs lawsuits products please article events information june dyson ltdtypeprivate years founderjames wiltshire k peoplejames engineer jim rowan ceo productsvacuum cleaners hand dryers fans dryers products revenue profit ownerjames employees comdyson dc vacuum cleanerdyson technology company james designs manufactures appliances vacuum cleaners hand dryers fans heaters dryers people contents history products research projects award james foundation separation technology production moves expansion hullavington controversies lawsuits vax samsung dryer lawsuit criticisms students issues espionage motor technology bosch energy requirements allegations suit commission see linkshistory edit dyson james way vacuum cleaners hoover junior bags dust bags maintenance cleaners suction power inspiration bagless vacuum visit sawmill air cyclones separators method dirt dust settings methods scale cost dyson principle scale vacuum vacuum cardboard cyclone vacuum models business design style solutions sources dyson sawmill cone spun dust air forceto expel waste vacuum cleaner dust action spin airstream need bag filter dyson prototype designs vacuum blue machine success machine uk companies hoover license design market threat profits company interest vacuum technology dyson employer rotork appliance maker zanussi mail order catalogue kleeneze rotork cyclon vacuum design units company interest dyson design march version cyclon g forcewas production japan awareness series force guardians space g force attachment space apartments design japan status symbol income licence james dyson appliances cyclone vacuum dyson name da company plastics facility wales quality control concerns phillips renegotiate terms contract vacuum dyson agreement months supply chain production facility chippenham wiltshire england facility july da vacuum dc dyson technology north fantom technologies market market research people transparent container dust dyson team container feature vacuum months vacuum market dyson company machine dc number editions models dc dc dc dc dc zorbster company name appliances ltd year vacuum root cyclone technology cyclone funnels cyclone design dyson technologies hand dryer air bladeless fan dyson bladeless fan heater products article list dyson productsresearch projects dyson robotics college london vision systems generation household robots robot vacuum james dyson production line dyson chair university cambridge dyson professor fluid mechanics science engineering air movement addition dyson hundreds thousands pounds research branch university generation dyson motor motor drive march dyson business stake start sakti state batteries stake dyson researchers battery technology dyson patents university michigan doubts technology september company founder james email employees company people battery vehicle years release information company news vehicles works part b project company investment state batteries sources volume end model generation battery technology james james foundation edit james student design award countries foundation james dysons part mission encourage generation design engineers james students university james foundation aims people engineering become engineers schools universities people creativity ingenuity schools ireland dysons ideas teachers pupils order design process james foundation bursaries scholarships engineers separation technology edit see collectora dyson vacuum separation dust particles air stream suction dirt dirty air enters container cyclone centrifugal force particles wall container fall bin vacuum stages cyclones states forces vacuum cleaners filters blockage cause performance cleaners motors performance speed e g rpm motors diameter fan tip airflow pressure rise requirements vacuum production moves dyson vacuum cleaners machines malmesbury wiltshire company vacuum production malaysia controversy reason plans dyson factory increase production trade unionists move economy loss jobs year machine production malaysia production costs loss jobs dyson laundry manufacturing plant johor malaysia plant venture dyson singapore group manufacturing facilities china dyson cost savings production malaysia investment research development malmesbury head office dyson partnership electronics manufacturer vs industry vsi role dyson supply chain material production distribution vsi production plan product dyson destination markets globe america japan etc dyson employees employees vs industry bhd vsi employees facility manufactures products vs industry revenue dyson plant tuas digital motors year dyson increase production output motors year expansion hullavington edit dyson expansion programme tech campus raf hullavington hullavington wiltshire malmesbury headquarters research focus battery technologies acquisition robotics house dyson institute technology college james combat shortage engineering skills controversies patent infringement lawsuits edit dyson infringement dyson cyclone prototype machine dyson prototype machines information part contract amway machine dyson design month company patent infringement qualtex edit dyson parts manufacturer design infringement imitations vacuum parts dyson sale spare parts match dyson vacuum cleaners parts question spares use vacuum cleaners manufacturer parts design dyson parts win college art help designers designs edit dyson action manufacturer vax design mach zen vacuum infringement design dyson cylinder vacuum dc dyson dyson design court decision dysons claims designs impression courts cleaners designs dyson vax cleaner samsung edit august dyson electronics claims technology product motion sync design mechanism cylinder cleaners dyson way vacuum direction spot path order prevent vacuum corners months lawsuit dyson litigation reasons counter suit compensation image excel dryer lawsuit edit lawsuit hand dryer manufacturer dryer dyson dyson advertising excel dryer dyson advertisements xlerator carbon dioxide environment cost operate dryer falsifying comparisons time materials systems institute technology dryer time energy consumption figures needs criticisms students section needs please article events information june march james interview sunday times universities nationals engineering spy departments technology studies interview britain number students universities competitors examples bugs computers information researchers home david government minister universities statement james dyson authorities patent infringements issues december executive tim collins bureau journalism cameron issue jiabao behalf dyson espionage motor technology edit pang engineer specialist motors motor technology part product development projects development years technology spin rpm order volumes appliance companies wife yali company machine design payments dyson dyson trade secrets motor manufacturer siemens energy requirements allegations dyson siemens vacuums sensor signals motor increase power machine remnants union efficiency tests tests labs dyson home environment machines power dyson brands loopholes regulations energy consumption rating use e f rating dyson proceedings netherlands france belgium hausgerte household appliances siemens brands machines sensor technology loss suction control vacuum motor weeks court proceeedings court battle bosch courts dyson accusations dyson suit commission union regulations vacuum cleaners ruling vacuum cleaners commission conditions james institute technologyreferences b dyson company number companies house asia sales power dyson profits times copy idea dyson july c james odds c earl peter wakeley tim business economics approach mcgraw hill education pp isbn business whirlwind bbc news bin policy rgc jenkins trade mark patent attorneys crewe louise gregson metcalfe alan form function failure home consumption design culture dyson vacuum cleaners fans heaters site dyson com sir james plans household robots colin smith dyson develop generation robots ac dyson vision lab bbc news britain dyson research cambridge cam ac dyson investment move batteries march b dyson rest state battery company march levine dyson patents battery car juggernaut tesla quartz pooler dyson bets cars industry times ballaban michael plan cars nuts february line dyson cars award james james foundation home james foundation james foundation dyson vacuum cleaners owners november dyson rekindles war words jobs dyson moves news business dyson move news england wiltshire blow dyson plant bbc co dyson production moves telegraph design news century design engineer appliancemagazine com dyson plant star vsi b sales dyson tie june ruddick graham september sir james brexit company expansion emis v industry star contracts industry vacuum maker dyson dyson injects tuas plant ruddick graham dyson shrugs fears expansion plan issn march b dyson increase base base satisfy expansion plans march coughlan inventor sir james sets college tackle skills news inventor claims idea v press technology correspondent dyson cleans battle hoover telegraph co lawdit solicitors design rights dyson case dyson sues vacuum design dyson court battle vac design blood carpet dyson court battle times case court appeal division appeal court justice chancery division information institute samsung technology vacuum patent september kelion dyson sues vacuum mechanism bbc technology samsung files suit dyson times v dyson docstoc com b students technology secrets sunday times newspaper allvoices march march inventions students ibtimes march july b kenneth march inventor sir james students secrets centre dyson espionage case telegraph robert watts jack grimston march students secrets james july melanie camera top influence pm politics london conservatives links firms december spy secrets ie vacuum manufacturer spy secrets business insider dyson spy files times dyson research spy vw scandal dyson vacuums cnbc vacuum firm sue dyson energy test claims dyson power groups finance times dyson battle bosch vacuum row telegraph dyson court regulation links commons media dyson official websitevtedysonpeoplejames dyson articlesjames appliance brandssmalvicbauknechtbarazzabedazzlerbekobraunbrevillebsh americacolston aristoncuisinartdanbyde remehade longhidongbu daewoo electronicsdustbotdysonedesaelectroluxeurekafrigidairelenhelparkinson cowanwhite electrichaierhotpointhamilton beach brandshisensehisense kelonikeaivleinsinkeratorirobotroombascoobakdkkenmorekhind mistralkleenmaidlehellg chefmagistermedionmidea groupmielemitsubishi electricmorphy richardsnewell brandscrock potholmesmr coffeesunbeamolympic groupoxopanasonicpars appliance companypensonicpicabotboschrowentarussell hobbssaecosamsung electronicssanyoservissharpsisilskyworthsmegsnowasub zerotiger bendwhirlpool corporationadmiralamanabauknechthotpointindesit companymaytaginglisjenn airkitchenaidswashzojirushizylissauthority controlworldcat identitiesviaf lccn isni bibsys james companies companies engineering companies productsvacuum brandscompanies companies businesses categories articles june wikipedia articles articles articles articles articles identifiersuse dmy dates navigation toolsnot accountlog innamespacesarticletalkvariantsviewsreadeditview historymoresearchnavigationmain eventsrandom articledonate wikipediawikipedia storeinteractionhelpabout wikipediacommunity portalrecent changescontact links pagespermanent linkpage informationwikidata pageprint exportcreate bookdownload versionin projectswikimedia commonslanguagesetinadeutscheuskarafranaisitalianosuomisvenskatrkeedit links page text commons attribution terms site agree terms privacy policy wikipedia foundation inc profit organization privacy wikipediadeveloperscookie statementmobile viewb dyson company encyclopediajump navigation w n article needs lawsuits products please article events information june dyson ltdtypeprivate years founderjames wiltshire k peoplejames engineer jim rowan ceo productsvacuum cleaners hand dryers fans dryers products revenue profit ownerjames employees comdyson dc vacuum cleanerdyson technology company james designs manufactures appliances vacuum cleaners hand dryers fans heaters dryers people contents history products research projects award james foundation separation technology production moves expansion hullavington controversies lawsuits vax samsung dryer lawsuit criticisms students issues espionage motor technology bosch energy requirements allegations suit commission see linkshistory edit dyson james way vacuum cleaners hoover junior bags dust bags maintenance cleaners suction power inspiration bagless vacuum visit sawmill air cyclones separators method dirt dust settings methods scale cost dyson principle scale vacuum vacuum cardboard cyclone vacuum models business design style solutions sources dyson sawmill cone spun dust air forceto expel waste vacuum cleaner dust action spin airstream need bag filter dyson prototype designs vacuum blue machine success machine uk companies hoover license design market threat profits company interest vacuum technology dyson employer rotork appliance maker zanussi mail order catalogue kleeneze rotork cyclon vacuum design units company interest dyson design march version cyclon g forcewas production japan awareness series force guardians space g force attachment space apartments design japan status symbol income licence james dyson appliances cyclone vacuum dyson name da company plastics facility wales quality control concerns phillips renegotiate terms contract vacuum dyson agreement months supply chain production facility chippenham wiltshire england facility july da vacuum dc dyson technology north fantom technologies market market research people transparent container dust dyson team container feature vacuum months vacuum market dyson company machine dc number editions models dc dc dc dc dc zorbster company name appliances ltd year vacuum root cyclone technology cyclone funnels cyclone design dyson technologies hand dryer air bladeless fan dyson bladeless fan heater products article list dyson productsresearch projects dyson robotics college london vision systems generation household robots robot vacuum james dyson production line dyson chair university cambridge dyson professor fluid mechanics science engineering air movement addition dyson hundreds thousands pounds research branch university generation dyson motor motor drive march dyson business stake start sakti state batteries stake dyson researchers battery technology dyson patents university michigan doubts technology september company founder james email employees company people battery vehicle years release information company news vehicles works part b project company investment state batteries sources volume end model generation battery technology james james foundation edit james student design award countries foundation james dysons part mission encourage generation design engineers james students university james foundation aims people engineering become engineers schools universities people creativity ingenuity schools ireland dysons ideas teachers pupils order design process james foundation bursaries scholarships engineers separation technology edit see collectora dyson vacuum separation dust particles air stream suction dirt dirty air enters container cyclone centrifugal force particles wall container fall bin vacuum stages cyclones states forces vacuum cleaners filters blockage cause performance cleaners motors performance speed e g rpm motors diameter fan tip airflow pressure rise requirements vacuum production moves dyson vacuum cleaners machines malmesbury wiltshire company vacuum production malaysia controversy reason plans dyson factory increase production trade unionists move economy loss jobs year machine production malaysia production costs loss jobs dyson laundry manufacturing plant johor malaysia plant venture dyson singapore group manufacturing facilities china dyson cost savings production malaysia investment research development malmesbury head office dyson partnership electronics manufacturer vs industry vsi role dyson supply chain material production distribution vsi production plan product dyson destination markets globe america japan etc dyson employees employees vs industry bhd vsi employees facility manufactures products vs industry revenue dyson plant tuas digital motors year dyson increase production output motors year expansion hullavington edit dyson expansion programme tech campus raf hullavington hullavington wiltshire malmesbury headquarters research focus battery technologies acquisition robotics house dyson institute technology college james combat shortage engineering skills controversies patent infringement lawsuits edit dyson infringement dyson cyclone prototype machine dyson prototype machines information part contract amway machine dyson design month company patent infringement qualtex edit dyson parts manufacturer design infringement imitations vacuum parts dyson sale spare parts match dyson vacuum cleaners parts question spares use vacuum cleaners manufacturer parts design dyson parts win college art help designers designs edit dyson action manufacturer vax design mach zen vacuum infringement design dyson cylinder vacuum dc dyson dyson design court decision dysons claims designs impression courts cleaners designs dyson vax cleaner samsung edit august dyson electronics claims technology product motion sync design mechanism cylinder cleaners dyson way vacuum direction spot path order prevent vacuum corners months lawsuit dyson litigation reasons counter suit compensation image excel dryer lawsuit edit lawsuit hand dryer manufacturer dryer dyson dyson advertising excel dryer dyson advertisements xlerator carbon dioxide environment cost operate dryer falsifying comparisons time materials systems institute technology dryer time energy consumption figures needs criticisms students section needs please article events information june march james interview sunday times universities nationals engineering spy departments technology studies interview britain number students universities competitors examples bugs computers information researchers home david government minister universities statement james dyson authorities patent infringements issues december executive tim collins bureau journalism cameron issue jiabao behalf dyson espionage motor technology edit pang engineer specialist motors motor technology part product development projects development years technology spin rpm order volumes appliance companies wife yali company machine design payments dyson dyson trade secrets motor manufacturer siemens energy requirements allegations dyson siemens vacuums sensor signals motor increase power machine remnants union efficiency tests tests labs dyson home environment machines power dyson brands loopholes regulations energy consumption rating use e f rating dyson proceedings netherlands france belgium hausgerte household appliances siemens brands machines sensor technology loss suction control vacuum motor weeks court proceeedings court battle bosch courts dyson accusations dyson suit commission union regulations vacuum cleaners ruling vacuum cleaners commission conditions james institute technologyreferences b dyson company number companies house asia sales power dyson profits times copy idea dyson july c james odds c earl peter wakeley tim business economics approach mcgraw hill education pp isbn business whirlwind bbc news bin policy rgc jenkins trade mark patent attorneys crewe louise gregson metcalfe alan form function failure home consumption design culture dyson vacuum cleaners fans heaters site dyson com sir james plans household robots colin smith dyson develop generation robots ac dyson vision lab bbc news britain dyson research cambridge cam ac dyson investment move batteries march b dyson rest state battery company march levine dyson patents battery car juggernaut tesla quartz pooler dyson bets cars industry times ballaban michael plan cars nuts february line dyson cars award james james foundation home james foundation james foundation dyson vacuum cleaners owners november dyson rekindles war words jobs dyson moves news business dyson move news england wiltshire blow dyson plant bbc co dyson production moves telegraph design news century design engineer appliancemagazine com dyson plant star vsi b sales dyson tie june ruddick graham september sir james brexit company expansion emis v industry star contracts industry vacuum maker dyson dyson injects tuas plant ruddick graham dyson shrugs fears expansion plan issn march b dyson increase base base satisfy expansion plans march coughlan inventor sir james sets college tackle skills news inventor claims idea v press technology correspondent dyson cleans battle hoover telegraph co lawdit solicitors design rights dyson case dyson sues vacuum design dyson court battle vac design blood carpet dyson court battle times case court appeal division appeal court justice chancery division information institute samsung technology vacuum patent september kelion dyson sues vacuum mechanism bbc technology samsung files suit dyson times v dyson docstoc com b students technology secrets sunday times newspaper allvoices march march inventions students ibtimes march july b kenneth march inventor sir james students secrets centre dyson espionage case telegraph robert watts jack grimston march students secrets james july melanie camera top influence pm politics london conservatives links firms december spy secrets ie vacuum manufacturer spy secrets business insider dyson spy files times dyson research spy vw scandal dyson vacuums cnbc vacuum firm sue dyson energy test claims dyson power groups finance times dyson battle bosch vacuum row telegraph dyson court regulation links commons media dyson official websitevtedysonpeoplejames dyson articlesjames appliance brandssmalvicbauknechtbarazzabedazzlerbekobraunbrevillebsh americacolston aristoncuisinartdanbyde remehade longhidongbu daewoo electronicsdustbotdysonedesaelectroluxeurekafrigidairelenhelparkinson cowanwhite electrichaierhotpointhamilton beach brandshisensehisense kelonikeaivleinsinkeratorirobotroombascoobakdkkenmorekhind mistralkleenmaidlehellg chefmagistermedionmidea groupmielemitsubishi electricmorphy richardsnewell brandscrock potholmesmr coffeesunbeamolympic groupoxopanasonicpars appliance companypensonicpicabotboschrowentarussell hobbssaecosamsung electronicssanyoservissharpsisilskyworthsmegsnowasub zerotiger bendwhirlpool corporationadmiralamanabauknechthotpointindesit companymaytaginglisjenn airkitchenaidswashzojirushizylissauthority controlworldcat identitiesviaf lccn isni bibsys james companies companies engineering companies productsvacuum brandscompanies companies businesses categories articles june wikipedia articles articles articles articles articles identifiersuse dmy dates navigation toolsnot accountlog innamespacesarticletalkvariantsviewsreadeditview historymoresearchnavigationmain eventsrandom articledonate wikipediawikipedia storeinteractionhelpabout wikipediacommunity portalrecent changescontact links pagespermanent linkpage informationwikidata pageprint exportcreate bookdownload versionin projectswikimedia commonslanguagesetinadeutscheuskarafranaisitalianosuomisvenskatrkeedit links page text commons attribution terms site agree terms privacy policy wikipedia foundation inc profit organization privacy wikipediadeveloperscookie statementmobile viewb dyson company encyclopediajump navigation w n article needs lawsuits products please article events information june dyson ltdtypeprivate years founderjames wiltshire k peoplejames engineer jim rowan ceo productsvacuum cleaners hand dryers fans dryers products revenue profit ownerjames employees comdyson dc vacuum cleanerdyson technology company james designs manufactures appliances vacuum cleaners hand dryers fans heaters dryers people contents history products research projects award james foundation separation technology production moves expansion hullavington controversies lawsuits vax samsung dryer lawsuit criticisms students issues espionage motor technology bosch energy requirements allegations suit commission see linkshistory edit dyson james way vacuum cleaners hoover junior bags dust bags maintenance cleaners suction power inspiration bagless vacuum visit sawmill air cyclones separators method dirt dust settings methods scale cost dyson principle scale vacuum vacuum cardboard cyclone vacuum models business design style solutions sources dyson sawmill cone spun dust air forceto expel waste vacuum cleaner dust action spin airstream need bag filter dyson prototype designs vacuum blue machine success machine uk companies hoover license design market threat profits company interest vacuum technology dyson employer rotork appliance maker zanussi mail order catalogue kleeneze rotork cyclon vacuum design units company interest dyson design march version cyclon g forcewas production japan awareness series force guardians space g force attachment space apartments design japan status symbol income licence james dyson appliances cyclone vacuum dyson name da company plastics facility wales quality control concerns phillips renegotiate terms contract vacuum dyson agreement months supply chain production facility chippenham wiltshire england facility july da vacuum dc dyson technology north fantom technologies market market research people transparent container dust dyson team container feature vacuum months vacuum market dyson company machine dc number editions models dc dc dc dc dc zorbster company name appliances ltd year vacuum root cyclone technology cyclone funnels cyclone design dyson technologies hand dryer air bladeless fan dyson bladeless fan heater products article list dyson productsresearch projects dyson robotics college london vision systems generation household robots robot vacuum james dyson production line dyson chair university cambridge dyson professor fluid mechanics science engineering air movement addition dyson hundreds thousands pounds research branch university generation dyson motor motor drive march dyson business stake start sakti state batteries stake dyson researchers battery technology dyson patents university michigan doubts technology september company founder james email employees company people battery vehicle years release information company news vehicles works part b project company investment state batteries sources volume end model generation battery technology james james foundation edit james student design award countries foundation james dysons part mission encourage generation design engineers james students university james foundation aims people engineering become engineers schools universities people creativity ingenuity schools ireland dysons ideas teachers pupils order design process james foundation bursaries scholarships engineers separation technology edit see collectora dyson vacuum separation dust particles air stream suction dirt dirty air enters container cyclone centrifugal force particles wall container fall bin vacuum stages cyclones states forces vacuum cleaners filters blockage cause performance cleaners motors performance speed e g rpm motors diameter fan tip airflow pressure rise requirements vacuum production moves dyson vacuum cleaners machines malmesbury wiltshire company vacuum production malaysia controversy reason plans dyson factory increase production trade unionists move economy loss jobs year machine production malaysia production costs loss jobs dyson laundry manufacturing plant johor malaysia plant venture dyson singapore group manufacturing facilities china dyson cost savings production malaysia investment research development malmesbury head office dyson partnership electronics manufacturer vs industry vsi role dyson supply chain material production distribution vsi production plan product dyson destination markets globe america japan etc dyson employees employees vs industry bhd vsi employees facility manufactures products vs industry revenue dyson plant tuas digital motors year dyson increase production output motors year expansion hullavington edit dyson expansion programme tech campus raf hullavington hullavington wiltshire malmesbury headquarters research focus battery technologies acquisition robotics house dyson institute technology college james combat shortage engineering skills controversies patent infringement lawsuits edit dyson infringement dyson cyclone prototype machine dyson prototype machines information part contract amway machine dyson design month company patent infringement qualtex edit dyson parts manufacturer design infringement imitations vacuum parts dyson sale spare parts match dyson vacuum cleaners parts question spares use vacuum cleaners manufacturer parts design dyson parts win college art help designers designs edit dyson action manufacturer vax design mach zen vacuum infringement design dyson cylinder vacuum dc dyson dyson design court decision dysons claims designs impression courts cleaners designs dyson vax cleaner samsung edit august dyson electronics claims technology product motion sync design mechanism cylinder cleaners dyson way vacuum direction spot path order prevent vacuum corners months lawsuit dyson litigation reasons counter suit compensation image excel dryer lawsuit edit lawsuit hand dryer manufacturer dryer dyson dyson advertising excel dryer dyson advertisements xlerator carbon dioxide environment cost operate dryer falsifying comparisons time materials systems institute technology dryer time energy consumption figures needs criticisms students section needs please article events information june march james interview sunday times universities nationals engineering spy departments technology studies interview britain number students universities competitors examples bugs computers information researchers home david government minister universities statement james dyson authorities patent infringements issues december executive tim collins bureau journalism cameron issue jiabao behalf dyson espionage motor technology edit pang engineer specialist motors motor technology part product development projects development years technology spin rpm order volumes appliance companies wife yali company machine design payments dyson dyson trade secrets motor manufacturer siemens energy requirements allegations dyson siemens vacuums sensor signals motor increase power machine remnants union efficiency tests tests labs dyson home environment machines power dyson brands loopholes regulations energy consumption rating use e f rating dyson proceedings netherlands france belgium hausgerte household appliances siemens brands machines sensor technology loss suction control vacuum motor weeks court proceeedings court battle bosch courts dyson accusations dyson suit commission union regulations vacuum cleaners ruling vacuum cleaners commission conditions james institute technologyreferences b dyson company number companies house asia sales power dyson profits times copy idea dyson july c james odds c earl peter wakeley tim business economics approach mcgraw hill education pp isbn business whirlwind bbc news bin policy rgc jenkins trade mark patent attorneys crewe louise gregson metcalfe alan form function failure home consumption design culture dyson vacuum cleaners fans heaters site dyson com sir james plans household robots colin smith dyson develop generation robots ac dyson vision lab bbc news britain dyson research cambridge cam ac dyson investment move batteries march b dyson rest state battery company march levine dyson patents battery car juggernaut tesla quartz pooler dyson bets cars industry times ballaban michael plan cars nuts february line dyson cars award james james foundation home james foundation james foundation dyson vacuum cleaners owners november dyson rekindles war words jobs dyson moves news business dyson move news england wiltshire blow dyson plant bbc co dyson production moves telegraph design news century design engineer appliancemagazine com dyson plant star vsi b sales dyson tie june ruddick graham september sir james brexit company expansion emis v industry star contracts industry vacuum maker dyson dyson injects tuas plant ruddick graham dyson shrugs fears expansion plan issn march b dyson increase base base satisfy expansion plans march coughlan inventor sir james sets college tackle skills news inventor claims idea v press technology correspondent dyson cleans battle hoover telegraph co lawdit solicitors design rights dyson case dyson sues vacuum design dyson court battle vac design blood carpet dyson court battle times case court appeal division appeal court justice chancery division information institute samsung technology vacuum patent september kelion dyson sues vacuum mechanism bbc technology samsung files suit dyson times v dyson docstoc com b students technology secrets sunday times newspaper allvoices march march inventions students ibtimes march july b kenneth march inventor sir james students secrets centre dyson espionage case telegraph robert watts jack grimston march students secrets james july melanie camera top influence pm politics london conservatives links firms december spy secrets ie vacuum manufacturer spy secrets business insider dyson spy files times dyson research spy vw scandal dyson vacuums cnbc vacuum firm sue dyson energy test claims dyson power groups finance times dyson battle bosch vacuum row telegraph dyson court regulation links commons media dyson official websitevtedysonpeoplejames dyson articlesjames appliance brandssmalvicbauknechtbarazzabedazzlerbekobraunbrevillebsh americacolston aristoncuisinartdanbyde remehade longhidongbu daewoo electronicsdustbotdysonedesaelectroluxeurekafrigidairelenhelparkinson cowanwhite electrichaierhotpointhamilton beach brandshisensehisense kelonikeaivleinsinkeratorirobotroombascoobakdkkenmorekhind mistralkleenmaidlehellg chefmagistermedionmidea groupmielemitsubishi electricmorphy richardsnewell brandscrock potholmesmr coffeesunbeamolympic groupoxopanasonicpars appliance companypensonicpicabotboschrowentarussell hobbssaecosamsung electronicssanyoservissharpsisilskyworthsmegsnowasub zerotiger bendwhirlpool corporationadmiralamanabauknechthotpointindesit companymaytaginglisjenn airkitchenaidswashzojirushizylissauthority controlworldcat identitiesviaf lccn isni bibsys james companies companies engineering companies productsvacuum brandscompanies companies businesses categories articles june wikipedia articles articles articles articles articles identifiersuse dmy dates navigation toolsnot accountlog innamespacesarticletalkvariantsviewsreadeditview historymoresearchnavigationmain eventsrandom articledonate wikipediawikipedia storeinteractionhelpabout wikipediacommunity portalrecent changescontact links pagespermanent linkpage informationwikidata pageprint exportcreate bookdownload versionin projectswikimedia commonslanguagesetinadeutscheuskarafranaisitalianosuomisvenskatrkeedit links page text commons attribution terms site agree terms privacy policy wikipedia foundation inc profit organization privacy wikipediadeveloperscookie statementmobile viewb dyson company encyclopediajump navigation w n article needs lawsuits products please article events information june dyson ltdtypeprivate years founderjames wiltshire k peoplejames engineer jim rowan ceo productsvacuum cleaners hand dryers fans dryers products revenue profit ownerjames employees comdyson dc vacuum cleanerdyson technology company james designs manufactures appliances vacuum cleaners hand dryers fans heaters dryers people contents history products research projects award james foundation separation technology production moves expansion hullavington controversies lawsuits vax samsung dryer lawsuit criticisms students issues espionage motor technology bosch energy requirements allegations suit commission see linkshistory edit dyson james way vacuum cleaners hoover junior bags dust bags maintenance cleaners suction power inspiration bagless vacuum visit sawmill air cyclones separators method dirt dust settings methods scale cost dyson principle scale vacuum vacuum cardboard cyclone vacuum models business design style solutions sources dyson sawmill cone spun dust air forceto expel waste vacuum cleaner dust action spin airstream need bag filter dyson prototype designs vacuum blue machine success machine uk companies hoover license design market threat profits company interest vacuum technology dyson employer rotork appliance maker zanussi mail order catalogue kleeneze rotork cyclon vacuum design units company interest dyson design march version cyclon g forcewas production japan awareness series force guardians space g force attachment space apartments design japan status symbol income licence james dyson appliances cyclone vacuum dyson name da company plastics facility wales quality control concerns phillips renegotiate terms contract vacuum dyson agreement months supply chain production facility chippenham wiltshire england facility july da vacuum dc dyson technology north fantom technologies market market research people transparent container dust dyson team container feature vacuum months vacuum market dyson company machine dc number editions models dc dc dc dc dc zorbster company name appliances ltd year vacuum root cyclone technology cyclone funnels cyclone design dyson technologies hand dryer air bladeless fan dyson bladeless fan heater products article list dyson productsresearch projects dyson robotics college london vision systems generation household robots robot vacuum james dyson production line dyson chair university cambridge dyson professor fluid mechanics science engineering air movement addition dyson hundreds thousands pounds research branch university generation dyson motor motor drive march dyson business stake start sakti state batteries stake dyson researchers battery technology dyson patents university michigan doubts technology september company founder james email employees company people battery vehicle years release information company news vehicles works part b project company investment state batteries sources volume end model generation battery technology james james foundation edit james student design award countries foundation james dysons part mission encourage generation design engineers james students university james foundation aims people engineering become engineers schools universities people creativity ingenuity schools ireland dysons ideas teachers pupils order design process james foundation bursaries scholarships engineers separation technology edit see collectora dyson vacuum separation dust particles air stream suction dirt dirty air enters container cyclone centrifugal force particles wall container fall bin vacuum stages cyclones states forces vacuum cleaners filters blockage cause performance cleaners motors performance speed e g rpm motors diameter fan tip airflow pressure rise requirements vacuum production moves dyson vacuum cleaners machines malmesbury wiltshire company vacuum production malaysia controversy reason plans dyson factory increase production trade unionists move economy loss jobs year machine production malaysia production costs loss jobs dyson laundry manufacturing plant johor malaysia plant venture dyson singapore group manufacturing facilities china dyson cost savings production malaysia investment research development malmesbury head office dyson partnership electronics manufacturer vs industry vsi role dyson supply chain material production distribution vsi production plan product dyson destination markets globe america japan etc dyson employees employees vs industry bhd vsi employees facility manufactures products vs industry revenue dyson plant tuas digital motors year dyson increase production output motors year expansion hullavington edit dyson expansion programme tech campus raf hullavington hullavington wiltshire malmesbury headquarters research focus battery technologies acquisition robotics house dyson institute technology college james combat shortage engineering skills controversies patent infringement lawsuits edit dyson infringement dyson cyclone prototype machine dyson prototype machines information part contract amway machine dyson design month company patent infringement qualtex edit dyson parts manufacturer design infringement imitations vacuum parts dyson sale spare parts match dyson vacuum cleaners parts question spares use vacuum cleaners manufacturer parts design dyson parts win college art help designers designs edit dyson action manufacturer vax design mach zen vacuum infringement design dyson cylinder vacuum dc dyson dyson design court decision dysons claims designs impression courts cleaners designs dyson vax cleaner samsung edit august dyson electronics claims technology product motion sync design mechanism cylinder cleaners dyson way vacuum direction spot path order prevent vacuum corners months lawsuit dyson litigation reasons counter suit compensation image excel dryer lawsuit edit lawsuit hand dryer manufacturer dryer dyson dyson advertising excel dryer dyson advertisements xlerator carbon dioxide environment cost operate dryer falsifying comparisons time materials systems institute technology dryer time energy consumption figures needs criticisms students section needs please article events information june march james interview sunday times universities nationals engineering spy departments technology studies interview britain number students universities competitors examples bugs computers information researchers home david government minister universities statement james dyson authorities patent infringements issues december executive tim collins bureau journalism cameron issue jiabao behalf dyson espionage motor technology edit pang engineer specialist motors motor technology part product development projects development years technology spin rpm order volumes appliance companies wife yali company machine design payments dyson dyson trade secrets motor manufacturer siemens energy requirements allegations dyson siemens vacuums sensor signals motor increase power machine remnants union efficiency tests tests labs dyson home environment machines power dyson brands loopholes regulations energy consumption rating use e f rating dyson proceedings netherlands france belgium hausgerte household appliances siemens brands machines sensor technology loss suction control vacuum motor weeks court proceeedings court battle bosch courts dyson accusations dyson suit commission union regulations vacuum cleaners ruling vacuum cleaners commission conditions james institute technologyreferences b dyson company number companies house asia sales power dyson profits times copy idea dyson july c james odds c earl peter wakeley tim business economics approach mcgraw hill education pp isbn business whirlwind bbc news bin policy rgc jenkins trade mark patent attorneys crewe louise gregson metcalfe alan form function failure home consumption design culture dyson vacuum cleaners fans heaters site dyson com sir james plans household robots colin smith dyson develop generation robots ac dyson vision lab bbc news britain dyson research cambridge cam ac dyson investment move batteries march b dyson rest state battery company march levine dyson patents battery car juggernaut tesla quartz pooler dyson bets cars industry times ballaban michael plan cars nuts february line dyson cars award james james foundation home james foundation james foundation dyson vacuum cleaners owners november dyson rekindles war words jobs dyson moves news business dyson move news england wiltshire blow dyson plant bbc co dyson production moves telegraph design news century design engineer appliancemagazine com dyson plant star vsi b sales dyson tie june ruddick graham september sir james brexit company expansion emis v industry star contracts industry vacuum maker dyson dyson injects tuas plant ruddick graham dyson shrugs fears expansion plan issn march b dyson increase base base satisfy expansion plans march coughlan inventor sir james sets college tackle skills news inventor claims idea v press technology correspondent dyson cleans battle hoover telegraph co lawdit solicitors design rights dyson case dyson sues vacuum design dyson court battle vac design blood carpet dyson court battle times case court appeal division appeal court justice chancery division information institute samsung technology vacuum patent september kelion dyson sues vacuum mechanism bbc technology samsung files suit dyson times v dyson docstoc com b students technology secrets sunday times newspaper allvoices march march inventions students ibtimes march july b kenneth march inventor sir james students secrets centre dyson espionage case telegraph robert watts jack grimston march students secrets james july melanie camera top influence pm politics london conservatives links firms december spy secrets ie vacuum manufacturer spy secrets business insider dyson spy files times dyson research spy vw scandal dyson vacuums cnbc vacuum firm sue dyson energy test claims dyson power groups finance times dyson battle bosch vacuum row telegraph dyson court regulation links commons media dyson official websitevtedysonpeoplejames dyson articlesjames appliance brandssmalvicbauknechtbarazzabedazzlerbekobraunbrevillebsh americacolston aristoncuisinartdanbyde remehade longhidongbu daewoo electronicsdustbotdysonedesaelectroluxeurekafrigidairelenhelparkinson cowanwhite electrichaierhotpointhamilton beach brandshisensehisense kelonikeaivleinsinkeratorirobotroombascoobakdkkenmorekhind mistralkleenmaidlehellg chefmagistermedionmidea groupmielemitsubishi electricmorphy richardsnewell brandscrock potholmesmr coffeesunbeamolympic groupoxopanasonicpars appliance companypensonicpicabotboschrowentarussell hobbssaecosamsung electronicssanyoservissharpsisilskyworthsmegsnowasub zerotiger bendwhirlpool corporationadmiralamanabauknechthotpointindesit companymaytaginglisjenn airkitchenaidswashzojirushizylissauthority controlworldcat identitiesviaf lccn isni bibsys james companies companies engineering companies productsvacuum brandscompanies companies businesses categories articles june wikipedia articles articles articles articles articles identifiersuse dmy dates navigation toolsnot accountlog innamespacesarticletalkvariantsviewsreadeditview historymoresearchnavigationmain eventsrandom articledonate wikipediawikipedia storeinteractionhelpabout wikipediacommunity portalrecent changescontact links pagespermanent linkpage informationwikidata pageprint exportcreate bookdownload versionin projectswikimedia commonslanguagesetinadeutscheuskarafranaisitalianosuomisvenskatrkeedit links page text commons attribution terms site agree terms privacy policy wikipedia foundation inc profit organization privacy wikipediadeveloperscookie statementmobile viewb log email password login details account sign sign password upgrade membership credit reports year credit reports year credit reports year credit reports year credit reports year credit reports year information membership plans advertisements sponsors support company data share members home help sign search log sign company updates email address company documents credit report address order send alerts time thank company email updates company information changes alerts time credit report vat access months report email alerts report changes company documents credit reports buy time credit reports accounts accounts exports time plan watch dyson tetbury hill malmesbury wiltshire sn accounts accounts age year directors company edit company report report companies house credit report financials documents companies house data directors secretaries mortgages charges financials credit report credit score credit limit county court judgements mortgages charges factors directors payment data shareholders ownership group structure event history financials financials financials accounts tables documents contact details company dyson credit report risk score credit limit ccjs mortgages charges director secretary timeline shareholders ownership group stucture updates documents company type share capital company status accounts nature business manufacture appliances sale service appliances dryers accounts accounts ads directors secretaries depth analysis directors links role date birth jorn peter jensen director jan sep mr martin william company secretary jun mr martin william bowen director mar mar mr james director oct mr james director oct mr john fortescue garnett director dec ms jacqueline alison company secretary aug jul mr david james director oct jan mr simeon edwards director jan dec ms tracy headon director ms kate peters director sep mar mr simeon charles director sep sep mr thomas ronald harris director jan jan mr nicholas director feb mr director jun jan mr company secretary feb aug jun mr allan director dec mr john francis shipsey director mar mr mark bickerstaffe director mar sep mr robert john director mar jun mr derek martin headon director jun mr meyer rinck director ms amanda louise bennett company secretary aug jul aug ms amanda louise bennett director aug mr peter roby richardson director jan jun mr martin mccourt director dec mar richard francis director jan oct jun sir james director jun mr walter conze director feb nov services director jul aug services company secretary jul aug nominees director jul aug ads mortgages charges total type persons status guarantee agreement feb mar lloyds bank plc guarantee agreement jul jul lloyds bank plc debenture jun jun bank plc remove ads financials today company accounts accounts cash net liabilities assets accounts ads cookies ads media features traffic share information site media analytics partners company credit reports countries company check uk online business data provider reports visitors services credit reports director reports documents accounts data exports links testimonials blog history advertise join community company ltd office point pierhead street cf dq kingdom terms conditions policy cookie policyb log email password login details account sign sign password upgrade membership credit reports year credit reports year credit reports year credit reports year credit reports year credit reports year information membership plans advertisements sponsors support company data share members home help sign search log sign company updates email address company documents credit report address order send alerts time thank company email updates company information changes alerts time credit report vat access months report email alerts report changes company documents credit reports buy time credit reports accounts accounts exports time plan watch roger dyson house bank berry estate droitwich worcestershire accounts accounts age year directors company edit company report report companies house credit report financials documents companies house data directors secretaries mortgages charges financials credit report credit score credit limit county court judgements mortgages charges factors directors payment data shareholders ownership group structure event history financials financials financials accounts tables documents contact details company dyson credit report risk score credit limit ccjs mortgages charges director secretary timeline shareholders ownership group stucture updates documents company type share capital company status accounts nature business manufacture machinery n e construction recovery vehicles hire vehicles accounts accounts ads directors secretaries depth analysis directors links role date birth roger dyson director jan mrs lorraine keeley company secretary jun ms julia company secretary mrs jacqueline scott director mr stephen john scott company secretary mar ads mortgages charges total type persons status jul jul bank plc bank plc chattel mortgage jan jan roger dyson debenture dyson debenture dyson executive pension scheme trustees ro ads financials today company accounts accounts cash net liabilities assets accounts ads cookies ads media features traffic share information site media analytics partners company credit reports countries company check uk online business data provider reports visitors services credit reports director reports documents accounts data exports links testimonials blog history advertise join community company ltd office point pierhead street cf dq kingdom terms conditions policy cookie search company director sign insign inproductteamscustomersplansaboutinternationalbloghelptalk sales product teams customers plans duedil dyson reportsalesforceadd informationactivitynews sociallocationsdirectorsownershipgroupdocumentspeps assets capital debt capital detailsnamedyson number company typeprivate share capitalincorporation date jul confirmation statement jul accounts entity identifiernot confirmation statement accounts manufacture appliances manufacture appliances names james james foundation tetbury hill information information locations locationsdescription dyson jul malmesbury company status directors people conduct authority status company enterprise users cash javascript view liabilities view assets view assets view graph presentwidgets jun jun widgets company name characteristicsindustry keywords appliances vacuum cleaners hand dryers technology company appliances engineering cleaning appliances home appliances size turnover age years location descriptionwikipedia descriptioncompanies house descriptionhelp company profile date descriptiondyson technology company james designs manufactures appliances vacuum cleaners hand dryers fans heaters dryers source article dyson company companies house sale service appliances dryers data apiblogpressevents resourcescareerslegalprivacy policyprivacy formreport data information security management system standard duedil use cookies founder pledge duedil ltd rights data companies company information help businesses opportunities risk business agile resilient today planslearn moresales closeskip content switch editionswitch edition editionthe homesupport guardiansubscribefind jobjobssign incomment activityedit profileemail preferenceschange passwordsign newsworld newsbusinessfootballuk developmentcitiesobituariesopinionthe viewcolumnistscartoonsopinion videosletterssportwinter olympicsfootballrugby golfboxingrugby leagueracingus radiobooksart designstagegamesclassicallifestylefashionfoodrecipestravelhealth gardenmoneycarswhat term search search googlebecome supportersubscribesign accountcomment activityedit profileemail preferenceschange passwordsign outuk editionswitch editionjobsdatingholidaysmasterclassesthe appvideopodcastspicturesnewsletterstoday masterclassesfacebooktwitterjobsdatingholidaysmasterclassesukworldbusinessfootballuk politicsenvironmenteducationsciencetechglobal developmentcitiesobituariesmore dyson consumer champions pricing farce models company dust jan dyson farce dyson sue executive max conze dyson sue executive max conze imho dyson hairdryer worth dyson hairdryer dyson industry experts doubt car project insiders ev scratch ask industry engineering hurdles dyson industry experts doubt car project bn car sep james bn car origami clothing range child wins sep origami clothing range child wins consumer champions name vain customer service dyson name march dyson brexit concerns company bn record sales tariffs success trading europe billionaire founder mar dyson brexit concerns company bn record sales dyson shrugs fears expansion plan technology group hectare part bn investment plans workforce dyson shrugs fears expansion plan self walking shoes body airblades tech deliver house time elon step iron man trimmings synthohol jan self walking shoes body airblades tech deliver phones tech products dec phones tech letdowns touch tech amazon touch tech top hairdryers hairdryers november sir james dismisses tariff fears brexit catastrophe britain deal market inventor pledges shortfall engineers college sir james dismisses tariff fears brexit robots house fed road robots robots house september sir james brexit company expansion billionaire inventor reach trade agreements countries europe sep sir james brexit company expansion august dyson pure link review fan air face sleekly air purifier bladeless fan pollutants surroundings hay fever allergies pure cool review fan air face dyson eye vacuum review robot sucks way cleaner makers vacuum costs lot stairs right dyson eye vacuum review robot sucks way july hughes beauty dysons hairdryer questions im jul beauty dysons hairdryer dyson apple style hub street companys store visitors range products vacuum cleaners dryers dyson apple style hub street results topics gadgets james beauty robots developmentcitiesobituariesback supportermake labsabout uswork helpterms newspaper archivecomplaints slavery actfacebooktwittersubscribe news media companies company productsbloomberg loginbloomberg terminal demo request bloomberg decision makers network information people delivers business information news insight world customer support europe middle east asia pacific company londoncareersdiversity inclusionsustainabilitytechnologyfacts communications press announcementspress contacts products terminalexecution order managementdata data managementintegration distributionbloomberg tradebook bloomberg customers loginsoftware center industry products law bnabloomberg lawbloomberg energy finance media politicsbloomberg viewbloomberg gadflybloomberg televisionbloomberg radiobloomberg briefsnews media services conferencesbloomberg media bloomberg decision makers network information people delivers business information news insight world customer support europe middle east asia pacific communications press announcementspress contacts company bloomberg londoncareersdiversity inclusionphilanthropy spaces media politicsbloomberg viewbloomberg gadflybloomberg televisionbloomberg radiobloomberg briefsnews media services media conferences products terminalexecution order managementdata data managementintegration distributionbloomberg tradebook industry products law bnabloomberg lawbloomberg energy finance bloomberg customers loginsoftware center menu company homepage markets stocks currencies income etfs commodities rates bonds economics magazine benchmark calendar tech startups bloomberg technology tv gadgets defense studio focus infrastructure cars bikes style spend watches gadgets food drinks estate art design ideas politics risk signs point wins credit hundreds regulations chinas leaders power populist opinion view businessweek issue debrief subscribe crypto climate graphics billionaires finance inspire rubenstein show send tips subscribe feedbackdyson companycompany profilesector consumer discretionaryindustry home office productssub industry home improvementdyson manufactures cleaners hand dryers fans motors company groom tools vacuum cleaners sufferers cleaners owners motors vacuum cleaners retails products tetbury hill malmesburywiltshire sn fax web www memberschairman appliances warren eastrolls holdings sues secrets carnov tesla dysons car plans years carsep dysons martin hire fuels speculation car pushaug dyson cordless vacuums sales billionmar key jim executive officerjames peter jensenchief officerlennard hoornikchief commentariesmore web terms service trademarks privacy policy bloomberg l p rights careers advertise ad choices feedback help headlinesmost popularexclusivelawentrepreneursleaderseconomyenvironmentsciencesportsmarkets databloomberg comments complaints news coverage click hereregionsu chinaeuropeasiau k zealandcanadaindia europelatin eastmarketscommoditiescurrenciesbondsstocksenergy financeindustriesenergytechnologyreal estatefinancehealth caretransportationinsuranceretailmediamanufacturingquickmarket datastocksstock futuresworld indexesamericaseurope africaasia pacificgainers losersearnings leaderscurrenciesamericaseurope africaasia pacificforeign exchange cross ratesfx fixingscurrency converterforex trading videoscommoditiesenergy pricesmetals pricesrates giltsgermany bundsjapan bond indexescorporate bondsconsumer debt crisissymbol searchthe market financetop adviserstaxesblog cost ofmoney gallerycalculatorswatchlist portfolio tracker headlinessocial mediamobile wirelesswebenterprise techtv games techslideshowsvideosu politicssustainabilitytop headlinesenergycorporate resourceshealth populationslideshowsvideosblog gridluxurytop headlinesautosbillionaireslivingpropertytravelwell spentloot blogpursuits tvchannel appscheduleu asiaeuropeshowssurveillancemarket moneystreet smartbloomberg westgame radioshowsschedulepersonalitiespodcastsbloomberg podcasts viewmasters advantagein stockbloomberg bestmore techthe gridlootthe market capitaltech savedregistrationsign inbloomberg comcompanyaboutblogcareersdiversity inclusionnews productsbloomberg servicebloomberg anywherebloomberg tradebookbloomberg briefsbloomberg indexesbloomberg sefservice centercustomer supportenterprise productsenterprise solutionsindustry productsbloomberg bnabloomberg governmentbloomberg lawbloomberg energy sportscontent licensingbloomberg datab skip navigation cookie settings dyson websites cookies use websites cookies device cookie policy thanks preferences contact preferences time section dyson dyson account manage contact options preferences preferences products vacuums sticks offers vacuums cylinders offers vacuums eye robot hair care dyson hair dryer air treatment purifiers humidifiers fans heaters fans fan heaters csys task lights beam lights hand dryers v hand dryer dyson hand dryer dyson hand dryer business dyson business overview business hand dryers business air treatment business hair care business resource case studies sectors offices hotels hospitality support machine support guides tools replacement parts information links number machine contact guarantee fixes co search dyson co search basket dyson sr basket items time shine shop mother day edition floor ceiling dyson technology shop divider line dyson institute engineering degrees generation james idea solves problem dyson demo experience dyson technology microns capture rates kingdom vacuum cleaners dryers terms delivery details careers press compliance data company information safety recall responsibility slavery act statement privacy policy terms conditions terms use cookies policy dispute resolution sitemap james foundation dyson dyson conduct authority act credit broker dyson operates credit broker credit credit trading name europe sarl et cie boulevard royal l luxembourg credit status terms conditions location country selector north america south east africa belgie franaise cyprus danmark deutschland espaa france hrvatska ireland italia latvija luxembourg deutsch luxembourg franais magyarorszg nederland norge romnia schweiz deutsch slovenija slovenska suisse franaise suomi sverige svizzera italiano trke kingdom esk india indonesia bahasa malaysia philippines thailand canada canada franais costa rica guatemala honduras brazil chile colombia panama peru israel lebanon qatar saudi trke yisra el morocco south europe belgie franaise cyprus danmark deutschland espaa france hrvatska ireland italia latvija luxembourg deutsch luxembourg franais magyarorszg nederland norge romnia schweiz deutsch slovenija slovenska suisse franaise suomi sverige svizzera italiano trke kingdom esk asia pacific india indonesia bahasa malaysia philippines thailand north canada franais costa rica guatemala honduras south brazil chile colombia panama peru israel lebanon qatar saudi trke yisra el africa morocco south notify sorry something please tryb company encyclopediajump navigation w n article needs lawsuits products please article events information june dyson ltdtypeprivate years founderjames wiltshire k peoplejames engineer jim rowan ceo productsvacuum cleaners hand dryers fans dryers products revenue profit ownerjames employees comdyson dc vacuum cleanerdyson technology company james designs manufactures appliances vacuum cleaners hand dryers fans heaters dryers people contents history products research projects award james foundation separation technology production moves expansion hullavington controversies lawsuits vax samsung dryer lawsuit criticisms students issues espionage motor technology bosch energy requirements allegations suit commission see linkshistory edit dyson james way vacuum cleaners hoover junior bags dust bags maintenance cleaners suction power inspiration bagless vacuum visit sawmill air cyclones separators method dirt dust settings methods scale cost dyson principle scale vacuum vacuum cardboard cyclone vacuum models business design style solutions sources dyson sawmill cone spun dust air forceto expel waste vacuum cleaner dust action spin airstream need bag filter dyson prototype designs vacuum blue machine success machine uk companies hoover license design market threat profits company interest vacuum technology dyson employer rotork appliance maker zanussi mail order catalogue kleeneze rotork cyclon vacuum design units company interest dyson design march version cyclon g forcewas production japan awareness series force guardians space g force attachment space apartments design japan status symbol income licence james dyson appliances cyclone vacuum dyson name da company plastics facility wales quality control concerns phillips renegotiate terms contract vacuum dyson agreement months supply chain production facility chippenham wiltshire england facility july da vacuum dc dyson technology north fantom technologies market market research people transparent container dust dyson team container feature vacuum months vacuum market dyson company machine dc number editions models dc dc dc dc dc zorbster company name appliances ltd year vacuum root cyclone technology cyclone funnels cyclone design dyson technologies hand dryer air bladeless fan dyson bladeless fan heater products article list dyson productsresearch projects dyson robotics college london vision systems generation household robots robot vacuum james dyson production line dyson chair university cambridge dyson professor fluid mechanics science engineering air movement addition dyson hundreds thousands pounds research branch university generation dyson motor motor drive march dyson business stake start sakti state batteries stake dyson researchers battery technology dyson patents university michigan doubts technology september company founder james email employees company people battery vehicle years release information company news vehicles works part b project company investment state batteries sources volume end model generation battery technology james james foundation edit james student design award countries foundation james dysons part mission encourage generation design engineers james students university james foundation aims people engineering become engineers schools universities people creativity ingenuity schools ireland dysons ideas teachers pupils order design process james foundation bursaries scholarships engineers separation technology edit see collectora dyson vacuum separation dust particles air stream suction dirt dirty air enters container cyclone centrifugal force particles wall container fall bin vacuum stages cyclones states forces vacuum cleaners filters blockage cause performance cleaners motors performance speed e g rpm motors diameter fan tip airflow pressure rise requirements vacuum production moves dyson vacuum cleaners machines malmesbury wiltshire company vacuum production malaysia controversy reason plans dyson factory increase production trade unionists move economy loss jobs year machine production malaysia production costs loss jobs dyson laundry manufacturing plant johor malaysia plant venture dyson singapore group manufacturing facilities china dyson cost savings production malaysia investment research development malmesbury head office dyson partnership electronics manufacturer vs industry vsi role dyson supply chain material production distribution vsi production plan product dyson destination markets globe america japan etc dyson employees employees vs industry bhd vsi employees facility manufactures products vs industry revenue dyson plant tuas digital motors year dyson increase production output motors year expansion hullavington edit dyson expansion programme tech campus raf hullavington hullavington wiltshire malmesbury headquarters research focus battery technologies acquisition robotics house dyson institute technology college james combat shortage engineering skills controversies patent infringement lawsuits edit dyson infringement dyson cyclone prototype machine dyson prototype machines information part contract amway machine dyson design month company patent infringement qualtex edit dyson parts manufacturer design infringement imitations vacuum parts dyson sale spare parts match dyson vacuum cleaners parts question spares use vacuum cleaners manufacturer parts design dyson parts win college art help designers designs edit dyson action manufacturer vax design mach zen vacuum infringement design dyson cylinder vacuum dc dyson dyson design court decision dysons claims designs impression courts cleaners designs dyson vax cleaner samsung edit august dyson electronics claims technology product motion sync design mechanism cylinder cleaners dyson way vacuum direction spot path order prevent vacuum corners months lawsuit dyson litigation reasons counter suit compensation image excel dryer lawsuit edit lawsuit hand dryer manufacturer dryer dyson dyson advertising excel dryer dyson advertisements xlerator carbon dioxide environment cost operate dryer falsifying comparisons time materials systems institute technology dryer time energy consumption figures needs criticisms students section needs please article events information june march james interview sunday times universities nationals engineering spy departments technology studies interview britain number students universities competitors examples bugs computers information researchers home david government minister universities statement james dyson authorities patent infringements issues december executive tim collins bureau journalism cameron issue jiabao behalf dyson espionage motor technology edit pang engineer specialist motors motor technology part product development projects development years technology spin rpm order volumes appliance companies wife yali company machine design payments dyson dyson trade secrets motor manufacturer siemens energy requirements allegations dyson siemens vacuums sensor signals motor increase power machine remnants union efficiency tests tests labs dyson home environment machines power dyson brands loopholes regulations energy consumption rating use e f rating dyson proceedings netherlands france belgium hausgerte household appliances siemens brands machines sensor technology loss suction control vacuum motor weeks court proceeedings court battle bosch courts dyson accusations dyson suit commission union regulations vacuum cleaners ruling vacuum cleaners commission conditions james institute technologyreferences b dyson company number companies house asia sales power dyson profits times copy idea dyson july c james odds c earl peter wakeley tim business economics approach mcgraw hill education pp isbn business whirlwind bbc news bin policy rgc jenkins trade mark patent attorneys crewe louise gregson metcalfe alan form function failure home consumption design culture dyson vacuum cleaners fans heaters site dyson com sir james plans household robots colin smith dyson develop generation robots ac dyson vision lab bbc news britain dyson research cambridge cam ac dyson investment move batteries march b dyson rest state battery company march levine dyson patents battery car juggernaut tesla quartz pooler dyson bets cars industry times ballaban michael plan cars nuts february line dyson cars award james james foundation home james foundation james foundation dyson vacuum cleaners owners november dyson rekindles war words jobs dyson moves news business dyson move news england wiltshire blow dyson plant bbc co dyson production moves telegraph design news century design engineer appliancemagazine com dyson plant star vsi b sales dyson tie june ruddick graham september sir james brexit company expansion emis v industry star contracts industry vacuum maker dyson dyson injects tuas plant ruddick graham dyson shrugs fears expansion plan issn march b dyson increase base base satisfy expansion plans march coughlan inventor sir james sets college tackle skills news inventor claims idea v press technology correspondent dyson cleans battle hoover telegraph co lawdit solicitors design rights dyson case dyson sues vacuum design dyson court battle vac design blood carpet dyson court battle times case court appeal division appeal court justice chancery division information institute samsung technology vacuum patent september kelion dyson sues vacuum mechanism bbc technology samsung files suit dyson times v dyson docstoc com b students technology secrets sunday times newspaper allvoices march march inventions students ibtimes march july b kenneth march inventor sir james students secrets centre dyson espionage case telegraph robert watts jack grimston march students secrets james july melanie camera top influence pm politics london conservatives links firms december spy secrets ie vacuum manufacturer spy secrets business insider dyson spy files times dyson research spy vw scandal dyson vacuums cnbc vacuum firm sue dyson energy test claims dyson power groups finance times dyson battle bosch vacuum row telegraph dyson court regulation links commons media dyson official websitevtedysonpeoplejames dyson articlesjames appliance brandssmalvicbauknechtbarazzabedazzlerbekobraunbrevillebsh americacolston aristoncuisinartdanbyde remehade longhidongbu daewoo electronicsdustbotdysonedesaelectroluxeurekafrigidairelenhelparkinson cowanwhite electrichaierhotpointhamilton beach brandshisensehisense kelonikeaivleinsinkeratorirobotroombascoobakdkkenmorekhind mistralkleenmaidlehellg chefmagistermedionmidea groupmielemitsubishi electricmorphy richardsnewell brandscrock potholmesmr coffeesunbeamolympic groupoxopanasonicpars appliance companypensonicpicabotboschrowentarussell hobbssaecosamsung electronicssanyoservissharpsisilskyworthsmegsnowasub zerotiger bendwhirlpool corporationadmiralamanabauknechthotpointindesit companymaytaginglisjenn airkitchenaidswashzojirushizylissauthority controlworldcat identitiesviaf lccn isni bibsys james companies companies engineering companies productsvacuum brandscompanies companies businesses categories articles june wikipedia articles articles articles articles articles identifiersuse dmy dates navigation toolsnot accountlog innamespacesarticletalkvariantsviewsreadeditview historymoresearchnavigationmain eventsrandom articledonate wikipediawikipedia storeinteractionhelpabout wikipediacommunity portalrecent changescontact links pagespermanent linkpage informationwikidata pageprint exportcreate bookdownload versionin projectswikimedia commonslanguagesetinadeutscheuskarafranaisitalianosuomisvenskatrkeedit links page text commons attribution terms site agree terms privacy policy wikipedia foundation inc profit organization privacy wikipediadeveloperscookie statementmobile view'"
      ]
     },
     "execution_count": 60,
     "metadata": {},
     "output_type": "execute_result"
    }
   ],
   "source": [
    "key_words(search_google('Dyson Limited')) # testing on an example - takes a few seconds to run"
   ]
  },
  {
   "cell_type": "markdown",
   "metadata": {},
   "source": [
    "This is best visualised in a word cloud..."
   ]
  },
  {
   "cell_type": "code",
   "execution_count": 61,
   "metadata": {},
   "outputs": [],
   "source": [
    "def cloud(words):\n",
    "    '''\n",
    "    Function that takes in a string and produces a word cloud\n",
    "    '''\n",
    "    wordcloud = WordCloud(stopwords=STOPWORDS,\n",
    "                          background_color='black',\n",
    "                          width=1800,\n",
    "                          height=1400\n",
    "                         ).generate(words)\n",
    "\n",
    "    plt.imshow(wordcloud)\n",
    "    plt.axis('off')\n",
    "    plt.show()\n",
    "    return wordcloud"
   ]
  },
  {
   "cell_type": "code",
   "execution_count": 62,
   "metadata": {},
   "outputs": [
    {
     "data": {
      "image/png": "[encoded data removed]",
      "text/plain": [
       "<matplotlib.figure.Figure at 0x119840630>"
      ]
     },
     "metadata": {},
     "output_type": "display_data"
    },
    {
     "data": {
      "text/plain": [
       "<wordcloud.wordcloud.WordCloud at 0x118a8b0f0>"
      ]
     },
     "execution_count": 62,
     "metadata": {},
     "output_type": "execute_result"
    }
   ],
   "source": [
    "cloud(key_words(search_google('Royal Dutch Shell'))) # can take upto a minute to run"
   ]
  },
  {
   "cell_type": "code",
   "execution_count": 63,
   "metadata": {},
   "outputs": [
    {
     "data": {
      "image/png": "[encoded data removed]",
      "text/plain": [
       "<matplotlib.figure.Figure at 0x11cb7c7f0>"
      ]
     },
     "metadata": {},
     "output_type": "display_data"
    },
    {
     "data": {
      "text/plain": [
       "<wordcloud.wordcloud.WordCloud at 0x11c819080>"
      ]
     },
     "execution_count": 63,
     "metadata": {},
     "output_type": "execute_result"
    }
   ],
   "source": [
    "cloud(key_words(search_google('BT Group PLC')))"
   ]
  },
  {
   "cell_type": "markdown",
   "metadata": {},
   "source": [
    "There is a lot of scope to improve this. Certain terms from websites that commonly re-occur can be filtered out by updating the stopwords set as follows."
   ]
  },
  {
   "cell_type": "code",
   "execution_count": null,
   "metadata": {
    "collapsed": true
   },
   "outputs": [],
   "source": [
    "# ways to improve this: list of common names, weights and quantities, months and dates,\n",
    "\n",
    "custom_words = ['sun','new','showbiz','tv','uk','john','lewis','partnership','offers','store',\n",
    "'business','company','stores','shop','department','partner','street','london','partners','peter',\n",
    "'jones','duration', 'views', 'minutes', 'month', 'version', 'system','tesco','september','privacy',\n",
    "'policy','customer','service','home', 'company', 'london', 'price', 'offer', 'customer',\n",
    "'service', 'home', 'year', 'london', 'day', 'march', 'business', 'shop','item','level','logo','menu',\n",
    "'account','co','road','centre']\n",
    "\n",
    "\n",
    "#STOPWORDS is a set, so need to use update method\n",
    "STOPWORDS.update(custom_words)"
   ]
  },
  {
   "cell_type": "markdown",
   "metadata": {},
   "source": [
    "## Connecting to Google Places API"
   ]
  },
  {
   "cell_type": "markdown",
   "metadata": {},
   "source": [
    "We've relied on Google Search results to hopefully get websites that relate to a company term. However, the Google Places API can be linked to with a company's name and postcode and used to retrieve the company website and other details. \n",
    "\n",
    "Information from Google Places is displayed for certain businesses and places of interest as shown below."
   ]
  },
  {
   "cell_type": "markdown",
   "metadata": {},
   "source": [
    "![title](Images/google_places_screenshot.png)"
   ]
  },
  {
   "cell_type": "code",
   "execution_count": null,
   "metadata": {
    "collapsed": true
   },
   "outputs": [],
   "source": []
  }
 ],
 "metadata": {
  "kernelspec": {
   "display_name": "Python 3",
   "language": "python",
   "name": "python3"
  },
  "language_info": {
   "codemirror_mode": {
    "name": "ipython",
    "version": 3
   },
   "file_extension": ".py",
   "mimetype": "text/x-python",
   "name": "python",
   "nbconvert_exporter": "python",
   "pygments_lexer": "ipython3",
   "version": "3.6.4"
  },
  "toc": {
   "nav_menu": {},
   "number_sections": true,
   "sideBar": false,
   "skip_h1_title": true,
   "title_cell": "Table of Contents",
   "title_sidebar": "Contents",
   "toc_cell": false,
   "toc_position": {
    "height": "830px",
    "left": "1185px",
    "top": "127px",
    "width": "233px"
   },
   "toc_section_display": true,
   "toc_window_display": true
  }
 },
 "nbformat": 4,
 "nbformat_minor": 2
}
