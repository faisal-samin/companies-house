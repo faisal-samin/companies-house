{
 "cells": [
  {
   "cell_type": "code",
   "execution_count": null,
   "metadata": {},
   "outputs": [],
   "source": [
    "import pandas as pd\n",
    "import numpy as np\n",
    "import requests\n",
    "import gmaps\n",
    "import re\n",
    "import json\n",
    "import geopy.distance\n",
    "gmaps.configure(api_key=\"\") #API key\n",
    "gplaces_api_key = ''"
   ]
  },
  {
   "cell_type": "code",
   "execution_count": null,
   "metadata": {},
   "outputs": [],
   "source": [
    "# allow collapsible json objects in jupyter notebook\n",
    "import uuid\n",
    "from IPython.display import display_javascript, display_html, display\n",
    "import json\n",
    "\n",
    "class RenderJSON(object):\n",
    "    def __init__(self, json_data):\n",
    "        if isinstance(json_data, dict):\n",
    "            self.json_str = json.dumps(json_data)\n",
    "        else:\n",
    "            self.json_str = json_data\n",
    "        self.uuid = str(uuid.uuid4())\n",
    "\n",
    "    def _ipython_display_(self):\n",
    "        display_html('<div id=\"{}\" style=\"height: 600px; width:100%;\"></div>'.format(self.uuid), raw=True)\n",
    "        display_javascript(\"\"\"\n",
    "        require([\"https://rawgit.com/caldwell/renderjson/master/renderjson.js\"], function() {\n",
    "        document.getElementById('%s').appendChild(renderjson(%s))\n",
    "        });\n",
    "        \"\"\" % (self.uuid, self.json_str), raw=True)"
   ]
  },
  {
   "cell_type": "code",
   "execution_count": null,
   "metadata": {},
   "outputs": [],
   "source": [
    "def latlng(postcode):\n",
    "    '''\n",
    "    convert postcode to a latitude and longitute tuple\n",
    "    '''\n",
    "    html = requests.get(\"http://api.postcodes.io/postcodes/\" + str(postcode))\n",
    "    lat = html.json()['result']['latitude']\n",
    "    lng = html.json()['result']['longitude']\n",
    "    return lat,lng"
   ]
  },
  {
   "cell_type": "code",
   "execution_count": null,
   "metadata": {},
   "outputs": [],
   "source": [
    "def distance(lat1, lon1, lat2, lon2):\n",
    "    '''\n",
    "    Calculate distance (in km) between two sets of latitude and longitude coordinates\n",
    "    Uses geopy package\n",
    "    '''\n",
    "    x = lat1, lon1\n",
    "    y = lat2, lon2\n",
    "    return geopy.distance.vincenty(x, y).km"
   ]
  },
  {
   "cell_type": "code",
   "execution_count": null,
   "metadata": {},
   "outputs": [],
   "source": [
    "def standardise(company_name):\n",
    "    stopwords = ['limited','ltd','ltd.','lp']\n",
    "    querywords = str(company_name).split()\n",
    "    resultwords  = [word for word in querywords if word.lower() not in stopwords]\n",
    "    result = ' '.join(resultwords)\n",
    "    result_no_symbols = re.sub(r'[^\\w]', '', result) # removes symbols\n",
    "    return result_no_symbols.lower()"
   ]
  },
  {
   "cell_type": "code",
   "execution_count": null,
   "metadata": {},
   "outputs": [],
   "source": [
    "def nearby_search(lat, lon, keyword):\n",
    "    '''\n",
    "    input: latitude and longitude (floats), api_key for Google Places (string)\n",
    "    output: location_id of place closest to co-ordinates and that matches the keyword\n",
    "    if the company is not found, then a message will be given\n",
    "    '''\n",
    "    \n",
    "    # HTML wrapped for arguments\n",
    "    html = requests.get('https://maps.googleapis.com/maps/api/place/nearbysearch/json?location=' + \\\n",
    "                        str(lat) + ',' + str(lon)  + '&' + 'keyword=' + keyword + '&' + \\\n",
    "                        'rankby=distance' + '&' + 'key=' + str(gplaces_api_key))\n",
    "        \n",
    "    # Error message if location not found\n",
    "    try: \n",
    "        place_id = html.json()['results'][0]['place_id']\n",
    "    except:\n",
    "        return 'Location not found'\n",
    "    \n",
    "    # Check how close the search result is, reject if more than 1km distance\n",
    "    \n",
    "    # Coordinates from Google Places\n",
    "    lat_g = html.json()['results'][0]['geometry']['location']['lat']\n",
    "    lon_g = html.json()['results'][0]['geometry']['location']['lng']\n",
    "\n",
    "    if distance(lat, lon, lat_g, lon_g) > 10: # more than 10km away\n",
    "        return 'Location too far'\n",
    "    \n",
    "    return html.json()\n",
    "    # return place_id"
   ]
  },
  {
   "cell_type": "code",
   "execution_count": null,
   "metadata": {},
   "outputs": [],
   "source": [
    "def place_search(place_id):\n",
    "    '''\n",
    "    input: place_id from Nearby Search API (string)\n",
    "    output: company website (if found)\n",
    "    If a website is not found, then an error message will be given\n",
    "    '''\n",
    "    \n",
    "    # exception in case place_id doesn't yield results in Place Search\n",
    "    try:\n",
    "        html = requests.get('https://maps.googleapis.com/maps/api/place/details/json?' + \\\n",
    "                    'placeid=' + place_id + '&' + 'key=' + str(gplaces_api_key))\n",
    "    except:\n",
    "        return 'No results in Place Search'\n",
    "    \n",
    "    # exception if website is not found\n",
    "    try:\n",
    "        website = html.json()['result']['website']\n",
    "    except:\n",
    "        return 'Website not found'\n",
    "    \n",
    "    return html.json()\n",
    "    # return website"
   ]
  },
  {
   "cell_type": "code",
   "execution_count": null,
   "metadata": {},
   "outputs": [],
   "source": [
    "def return_website(company_name,postcode):\n",
    "    '''\n",
    "    Input: company name and postcode (both strings)\n",
    "    Output: Company website\n",
    "    '''\n",
    "    \n",
    "    # Step 1: Convert postcodes to latitude and longitude using postcodes.io\n",
    "    # Some companies may give invalid postcodes in Companies House so build exception\n",
    "    \n",
    "    try: \n",
    "        html = requests.get(\"http://api.postcodes.io/postcodes/\" + postcode)\n",
    "        lat = html.json()['result']['latitude']\n",
    "        lon = html.json()['result']['longitude']\n",
    "    except:\n",
    "        return 'Postcode not found'\n",
    "    \n",
    "    # Step 2: Get place_id by calling upon a Nearby Search (see Section 3.2)\n",
    "    place_id = nearby_search(lat,lon,company_name,YOUR_API_KEY)\n",
    "    \n",
    "    # Step 3: Return website by feeding place_id into Place Search\n",
    "    website = place_search(place_id)\n",
    "    \n",
    "    return website    "
   ]
  },
  {
   "cell_type": "code",
   "execution_count": null,
   "metadata": {},
   "outputs": [],
   "source": [
    "# Layout settings for Google Maps\n",
    "figure_layout = {\n",
    "    'width': '800px',\n",
    "    'height': '800px',\n",
    "    'border': '1px solid black',\n",
    "    'padding': '1px'\n",
    "}"
   ]
  },
  {
   "cell_type": "markdown",
   "metadata": {
    "slideshow": {
     "slide_type": "slide"
    }
   },
   "source": [
    "The first step is to import the Free Company Data Product, a downloadable data snapshot containing basic company data of live companies on the companies house register."
   ]
  },
  {
   "cell_type": "code",
   "execution_count": null,
   "metadata": {
    "slideshow": {
     "slide_type": "fragment"
    }
   },
   "outputs": [],
   "source": [
    "# import companies house data, use crn as index\n",
    "ch = pd.read_csv('ch_2018-02.csv', index_col= 1)"
   ]
  },
  {
   "cell_type": "code",
   "execution_count": 264,
   "metadata": {
    "slideshow": {
     "slide_type": "fragment"
    }
   },
   "outputs": [
    {
     "data": {
      "text/html": [
       "<div>\n",
       "<style scoped>\n",
       "    .dataframe tbody tr th:only-of-type {\n",
       "        vertical-align: middle;\n",
       "    }\n",
       "\n",
       "    .dataframe tbody tr th {\n",
       "        vertical-align: top;\n",
       "    }\n",
       "\n",
       "    .dataframe thead th {\n",
       "        text-align: right;\n",
       "    }\n",
       "</style>\n",
       "<table border=\"1\" class=\"dataframe\">\n",
       "  <thead>\n",
       "    <tr style=\"text-align: right;\">\n",
       "      <th></th>\n",
       "      <th>name</th>\n",
       "      <th>address1</th>\n",
       "      <th>address2</th>\n",
       "      <th>postTown</th>\n",
       "      <th>county</th>\n",
       "      <th>country</th>\n",
       "      <th>postcode</th>\n",
       "      <th>category</th>\n",
       "      <th>status</th>\n",
       "      <th>origin</th>\n",
       "      <th>accounts_lastMadeUpDate</th>\n",
       "      <th>accountCategory</th>\n",
       "      <th>returns_lastMadeUpDate</th>\n",
       "      <th>sic1</th>\n",
       "      <th>sic2</th>\n",
       "      <th>sic3</th>\n",
       "      <th>sic4</th>\n",
       "    </tr>\n",
       "    <tr>\n",
       "      <th>crn</th>\n",
       "      <th></th>\n",
       "      <th></th>\n",
       "      <th></th>\n",
       "      <th></th>\n",
       "      <th></th>\n",
       "      <th></th>\n",
       "      <th></th>\n",
       "      <th></th>\n",
       "      <th></th>\n",
       "      <th></th>\n",
       "      <th></th>\n",
       "      <th></th>\n",
       "      <th></th>\n",
       "      <th></th>\n",
       "      <th></th>\n",
       "      <th></th>\n",
       "      <th></th>\n",
       "    </tr>\n",
       "  </thead>\n",
       "  <tbody>\n",
       "    <tr>\n",
       "      <th>10445271</th>\n",
       "      <td>ADVANCED ENVIRONMENTAL SOLUTIONS LIMITED</td>\n",
       "      <td>9 NURSERY LANE</td>\n",
       "      <td>NaN</td>\n",
       "      <td>DARLINGTON</td>\n",
       "      <td>NaN</td>\n",
       "      <td>UNITED KINGDOM</td>\n",
       "      <td>DL2 2JS</td>\n",
       "      <td>Private Limited Company</td>\n",
       "      <td>Active - Proposal to Strike off</td>\n",
       "      <td>United Kingdom</td>\n",
       "      <td>NaN</td>\n",
       "      <td>NO ACCOUNTS FILED</td>\n",
       "      <td>NaN</td>\n",
       "      <td>46770 - Wholesale of waste and scrap</td>\n",
       "      <td>NaN</td>\n",
       "      <td>NaN</td>\n",
       "      <td>NaN</td>\n",
       "    </tr>\n",
       "    <tr>\n",
       "      <th>09634578</th>\n",
       "      <td>VINCENT PROPERTIES MANAGEMENT CO LIMITED</td>\n",
       "      <td>14 BARRS AVENUE</td>\n",
       "      <td>NEW MILTON</td>\n",
       "      <td>HAMPSHIRE</td>\n",
       "      <td>NaN</td>\n",
       "      <td>UNITED KINGDOM</td>\n",
       "      <td>BH25 5HJ</td>\n",
       "      <td>Private Limited Company</td>\n",
       "      <td>Active</td>\n",
       "      <td>United Kingdom</td>\n",
       "      <td>30/06/2016</td>\n",
       "      <td>TOTAL EXEMPTION SMALL</td>\n",
       "      <td>11/06/2016</td>\n",
       "      <td>68209 - Other letting and operating of own or ...</td>\n",
       "      <td>NaN</td>\n",
       "      <td>NaN</td>\n",
       "      <td>NaN</td>\n",
       "    </tr>\n",
       "    <tr>\n",
       "      <th>IP23933R</th>\n",
       "      <td>W &amp; H INSULATION LIMITED</td>\n",
       "      <td>NaN</td>\n",
       "      <td>NaN</td>\n",
       "      <td>NaN</td>\n",
       "      <td>NaN</td>\n",
       "      <td>NaN</td>\n",
       "      <td>NaN</td>\n",
       "      <td>Industrial and Provident Society</td>\n",
       "      <td>Active</td>\n",
       "      <td>United Kingdom</td>\n",
       "      <td>NaN</td>\n",
       "      <td>NO ACCOUNTS FILED</td>\n",
       "      <td>NaN</td>\n",
       "      <td>NaN</td>\n",
       "      <td>NaN</td>\n",
       "      <td>NaN</td>\n",
       "      <td>NaN</td>\n",
       "    </tr>\n",
       "    <tr>\n",
       "      <th>03168466</th>\n",
       "      <td>BYFIELD HEATING LTD.</td>\n",
       "      <td>SPRINGFIELD FARM COMMON SIDE LANE</td>\n",
       "      <td>OLD SNYDALE</td>\n",
       "      <td>PONTEFRACT</td>\n",
       "      <td>WEST YORKSHIRE</td>\n",
       "      <td>NaN</td>\n",
       "      <td>WF7 6HF</td>\n",
       "      <td>Private Limited Company</td>\n",
       "      <td>Active</td>\n",
       "      <td>United Kingdom</td>\n",
       "      <td>30/09/2016</td>\n",
       "      <td>TOTAL EXEMPTION SMALL</td>\n",
       "      <td>06/03/2016</td>\n",
       "      <td>43220 - Plumbing, heat and air-conditioning in...</td>\n",
       "      <td>43999 - Other specialised construction activit...</td>\n",
       "      <td>NaN</td>\n",
       "      <td>NaN</td>\n",
       "    </tr>\n",
       "    <tr>\n",
       "      <th>09779172</th>\n",
       "      <td>BPM DERBY LIMITED</td>\n",
       "      <td>COMPTON OFFICES</td>\n",
       "      <td>KING EDWARD STREET</td>\n",
       "      <td>ASHBOURNE</td>\n",
       "      <td>NaN</td>\n",
       "      <td>UNITED KINGDOM</td>\n",
       "      <td>DE6 1BW</td>\n",
       "      <td>Private Limited Company</td>\n",
       "      <td>Active</td>\n",
       "      <td>United Kingdom</td>\n",
       "      <td>30/09/2016</td>\n",
       "      <td>DORMANT</td>\n",
       "      <td>NaN</td>\n",
       "      <td>47630 - Retail sale of music and video recordi...</td>\n",
       "      <td>NaN</td>\n",
       "      <td>NaN</td>\n",
       "      <td>NaN</td>\n",
       "    </tr>\n",
       "  </tbody>\n",
       "</table>\n",
       "</div>"
      ],
      "text/plain": [
       "                                              name  \\\n",
       "crn                                                  \n",
       "10445271  ADVANCED ENVIRONMENTAL SOLUTIONS LIMITED   \n",
       "09634578  VINCENT PROPERTIES MANAGEMENT CO LIMITED   \n",
       "IP23933R                  W & H INSULATION LIMITED   \n",
       "03168466                      BYFIELD HEATING LTD.   \n",
       "09779172                         BPM DERBY LIMITED   \n",
       "\n",
       "                                   address1            address2    postTown  \\\n",
       "crn                                                                           \n",
       "10445271                     9 NURSERY LANE                 NaN  DARLINGTON   \n",
       "09634578                    14 BARRS AVENUE          NEW MILTON   HAMPSHIRE   \n",
       "IP23933R                                NaN                 NaN         NaN   \n",
       "03168466  SPRINGFIELD FARM COMMON SIDE LANE         OLD SNYDALE  PONTEFRACT   \n",
       "09779172                    COMPTON OFFICES  KING EDWARD STREET   ASHBOURNE   \n",
       "\n",
       "                  county         country  postcode  \\\n",
       "crn                                                  \n",
       "10445271             NaN  UNITED KINGDOM   DL2 2JS   \n",
       "09634578             NaN  UNITED KINGDOM  BH25 5HJ   \n",
       "IP23933R             NaN             NaN       NaN   \n",
       "03168466  WEST YORKSHIRE             NaN   WF7 6HF   \n",
       "09779172             NaN  UNITED KINGDOM   DE6 1BW   \n",
       "\n",
       "                                  category                           status  \\\n",
       "crn                                                                           \n",
       "10445271           Private Limited Company  Active - Proposal to Strike off   \n",
       "09634578           Private Limited Company                           Active   \n",
       "IP23933R  Industrial and Provident Society                           Active   \n",
       "03168466           Private Limited Company                           Active   \n",
       "09779172           Private Limited Company                           Active   \n",
       "\n",
       "                  origin accounts_lastMadeUpDate        accountCategory  \\\n",
       "crn                                                                       \n",
       "10445271  United Kingdom                     NaN      NO ACCOUNTS FILED   \n",
       "09634578  United Kingdom              30/06/2016  TOTAL EXEMPTION SMALL   \n",
       "IP23933R  United Kingdom                     NaN      NO ACCOUNTS FILED   \n",
       "03168466  United Kingdom              30/09/2016  TOTAL EXEMPTION SMALL   \n",
       "09779172  United Kingdom              30/09/2016                DORMANT   \n",
       "\n",
       "         returns_lastMadeUpDate  \\\n",
       "crn                               \n",
       "10445271                    NaN   \n",
       "09634578             11/06/2016   \n",
       "IP23933R                    NaN   \n",
       "03168466             06/03/2016   \n",
       "09779172                    NaN   \n",
       "\n",
       "                                                       sic1  \\\n",
       "crn                                                           \n",
       "10445271               46770 - Wholesale of waste and scrap   \n",
       "09634578  68209 - Other letting and operating of own or ...   \n",
       "IP23933R                                                NaN   \n",
       "03168466  43220 - Plumbing, heat and air-conditioning in...   \n",
       "09779172  47630 - Retail sale of music and video recordi...   \n",
       "\n",
       "                                                       sic2 sic3 sic4  \n",
       "crn                                                                    \n",
       "10445271                                                NaN  NaN  NaN  \n",
       "09634578                                                NaN  NaN  NaN  \n",
       "IP23933R                                                NaN  NaN  NaN  \n",
       "03168466  43999 - Other specialised construction activit...  NaN  NaN  \n",
       "09779172                                                NaN  NaN  NaN  "
      ]
     },
     "execution_count": 264,
     "metadata": {},
     "output_type": "execute_result"
    }
   ],
   "source": [
    "# preview a sample of companies\n",
    "ch.sample(5)"
   ]
  },
  {
   "cell_type": "markdown",
   "metadata": {
    "slideshow": {
     "slide_type": "slide"
    }
   },
   "source": [
    "Let's walkthrough an example of a Google Places search on a popular department store..."
   ]
  },
  {
   "cell_type": "code",
   "execution_count": 265,
   "metadata": {
    "slideshow": {
     "slide_type": "fragment"
    }
   },
   "outputs": [
    {
     "data": {
      "text/plain": [
       "name                                          HARRODS LIMITED\n",
       "address1                                 87/135 BROMPTON ROAD\n",
       "address2                                               LONDON\n",
       "postcode                                             SW1X 7XL\n",
       "sic1        47190 - Other retail sale in non-specialised s...\n",
       "lat                                                   51.4994\n",
       "lng                                                 -0.163234\n",
       "Name: 00030209, dtype: object"
      ]
     },
     "execution_count": 265,
     "metadata": {},
     "output_type": "execute_result"
    }
   ],
   "source": [
    "# get the row of data relating to Harrods' CRN, pick out key columns, get coordinates from postcode\n",
    "harrods = ch.loc['00030209'][['name','address1','address2','postcode','sic1']]\n",
    "harrods['lat'] = latlng(harrods['postcode'])[0]\n",
    "harrods['lng'] = latlng(harrods['postcode'])[1]\n",
    "harrods"
   ]
  },
  {
   "cell_type": "code",
   "execution_count": 263,
   "metadata": {
    "scrolled": true,
    "slideshow": {
     "slide_type": "subslide"
    }
   },
   "outputs": [
    {
     "data": {
      "application/vnd.jupyter.widget-view+json": {
       "model_id": "b58d659314f74f6982b6c4b475dd2e20",
       "version_major": 2,
       "version_minor": 0
      },
      "text/html": [
       "<p>Failed to display Jupyter Widget of type <code>Figure</code>.</p>\n",
       "<p>\n",
       "  If you're reading this message in the Jupyter Notebook or JupyterLab Notebook, it may mean\n",
       "  that the widgets JavaScript is still loading. If this message persists, it\n",
       "  likely means that the widgets JavaScript library is either not installed or\n",
       "  not enabled. See the <a href=\"https://ipywidgets.readthedocs.io/en/stable/user_install.html\">Jupyter\n",
       "  Widgets Documentation</a> for setup instructions.\n",
       "</p>\n",
       "<p>\n",
       "  If you're reading this message in another frontend (for example, a static\n",
       "  rendering on GitHub or <a href=\"https://nbviewer.jupyter.org/\">NBViewer</a>),\n",
       "  it may mean that your frontend doesn't currently support widgets.\n",
       "</p>\n"
      ],
      "text/plain": [
       "Figure(layout=FigureLayout(border='1px solid black', height='800px', padding='1px', width='800px'))"
      ]
     },
     "metadata": {},
     "output_type": "display_data"
    }
   ],
   "source": [
    "# generate map of coordinates \n",
    "fig = gmaps.figure(\n",
    "    center = (harrods['lat'],harrods['lng']), # centred on coordinates for Harrods \n",
    "    zoom_level = 18, # set zoom level\n",
    "    layout = figure_layout)\n",
    "fig"
   ]
  },
  {
   "cell_type": "markdown",
   "metadata": {
    "slideshow": {
     "slide_type": "slide"
    }
   },
   "source": [
    "We now feed details for Harrods in the first of the APIs that are used: the **Nearby Search**. As the name implies, this lets you search for places within a specified area, but doesn't provide a lot of detail on the places themselves."
   ]
  },
  {
   "cell_type": "code",
   "execution_count": 272,
   "metadata": {
    "slideshow": {
     "slide_type": "fragment"
    }
   },
   "outputs": [
    {
     "data": {
      "text/html": [
       "<div id=\"79983b77-6fcc-497d-a80e-9ed950e733fa\" style=\"height: 600px; width:100%;\"></div>"
      ]
     },
     "metadata": {},
     "output_type": "display_data"
    },
    {
     "data": {
      "application/javascript": [
       "\n",
       "        require([\"https://rawgit.com/caldwell/renderjson/master/renderjson.js\"], function() {\n",
       "        document.getElementById('79983b77-6fcc-497d-a80e-9ed950e733fa').appendChild(renderjson({\"html_attributions\": [], \"results\": [{\"geometry\": {\"location\": {\"lat\": 51.49940549999999, \"lng\": -0.1632344}, \"viewport\": {\"northeast\": {\"lat\": 51.50071447989272, \"lng\": -0.1604734}, \"southwest\": {\"lat\": 51.49801482010728, \"lng\": -0.165157}}}, \"icon\": \"https://maps.gstatic.com/mapfiles/place_api/icons/shopping-71.png\", \"id\": \"964601b892eece32e33efe70167846716129025e\", \"name\": \"Harrods\", \"opening_hours\": {\"open_now\": false, \"weekday_text\": []}, \"photos\": [{\"height\": 2268, \"html_attributions\": [\"<a href=\\\"https://maps.google.com/maps/contrib/115909634523178105124/photos\\\">Remco Tjeerdsma</a>\"], \"photo_reference\": \"CmRaAAAArmUv-2NSgrrk2fpg3lysH3ctO5kRg4z8I3RuaFeFgWKkFC10uvVBWLajghn50bQgElIQ682aNOr0nPAlmOLo1lMSk-l0aNiDU_0LJOBG42iNu3Mxu_FIxN0DxDuer6l3EhCI9mREb4r2oQRpWMh0X1DIGhQj-jXKch0xq5eCQXW4HklCaHwCBA\", \"width\": 4032}], \"place_id\": \"ChIJ_zAq7TgFdkgRQg1OSw1j7hU\", \"rating\": 4.4, \"reference\": \"CmRbAAAA8F51j_gBi7J54e0H6bdN97BgMvRNVbRpt2prb0iUpO5F9GchEIwCTqeK3xdECCQTlljaEyUJPgmc4Xx4PZDzW3j6mkYBG8BwJA2oLkhipld90RyoUt0hbCA5Qdc_0-UHEhDVVAUZUV7yiq4Qwi84CehhGhTrrhsZzG5aT-bVudIsSXpLI2evDQ\", \"scope\": \"GOOGLE\", \"types\": [\"department_store\", \"store\", \"point_of_interest\", \"establishment\"], \"vicinity\": \"87-135 Brompton Rd, London\"}], \"status\": \"OK\"}))\n",
       "        });\n",
       "        "
      ]
     },
     "metadata": {},
     "output_type": "display_data"
    }
   ],
   "source": [
    "harrods_search = nearby_search(\n",
    "                     harrods['lat'], harrods['lng'],\n",
    "                     standardise('HARRODS LIMITED')) # reduces this to 'harrods'\n",
    "\n",
    "RenderJSON(harrods_search)"
   ]
  },
  {
   "cell_type": "markdown",
   "metadata": {
    "slideshow": {
     "slide_type": "slide"
    }
   },
   "source": [
    "Once we've established that Nearby Search yields the correct businesses, we can feed it's place id into the **Place Search** which has all the juicy details..."
   ]
  },
  {
   "cell_type": "code",
   "execution_count": 273,
   "metadata": {
    "slideshow": {
     "slide_type": "fragment"
    }
   },
   "outputs": [
    {
     "data": {
      "text/html": [
       "<div id=\"a5c79293-0242-4783-bd76-b98017dff268\" style=\"height: 600px; width:100%;\"></div>"
      ]
     },
     "metadata": {},
     "output_type": "display_data"
    },
    {
     "data": {
      "application/javascript": [
       "\n",
       "        require([\"https://rawgit.com/caldwell/renderjson/master/renderjson.js\"], function() {\n",
       "        document.getElementById('a5c79293-0242-4783-bd76-b98017dff268').appendChild(renderjson({\"html_attributions\": [], \"result\": {\"address_components\": [{\"long_name\": \"87-135\", \"short_name\": \"87-135\", \"types\": [\"street_number\"]}, {\"long_name\": \"Brompton Road\", \"short_name\": \"Brompton Rd\", \"types\": [\"route\"]}, {\"long_name\": \"Knightsbridge\", \"short_name\": \"Knightsbridge\", \"types\": [\"neighborhood\", \"political\"]}, {\"long_name\": \"London\", \"short_name\": \"London\", \"types\": [\"postal_town\"]}, {\"long_name\": \"Greater London\", \"short_name\": \"Greater London\", \"types\": [\"administrative_area_level_2\", \"political\"]}, {\"long_name\": \"England\", \"short_name\": \"England\", \"types\": [\"administrative_area_level_1\", \"political\"]}, {\"long_name\": \"United Kingdom\", \"short_name\": \"GB\", \"types\": [\"country\", \"political\"]}, {\"long_name\": \"SW1X 7XL\", \"short_name\": \"SW1X 7XL\", \"types\": [\"postal_code\"]}], \"adr_address\": \"<span class=\\\"street-address\\\">87-135 Brompton Rd</span>, <span class=\\\"locality\\\">London</span> <span class=\\\"postal-code\\\">SW1X 7XL</span>, <span class=\\\"country-name\\\">UK</span>\", \"formatted_address\": \"87-135 Brompton Rd, Knightsbridge, London SW1X 7XL, UK\", \"formatted_phone_number\": \"020 7730 1234\", \"geometry\": {\"location\": {\"lat\": 51.49940549999999, \"lng\": -0.1632344}, \"viewport\": {\"northeast\": {\"lat\": 51.5007136302915, \"lng\": -0.1604734}, \"southwest\": {\"lat\": 51.4980156697085, \"lng\": -0.165157}}}, \"icon\": \"https://maps.gstatic.com/mapfiles/place_api/icons/shopping-71.png\", \"id\": \"964601b892eece32e33efe70167846716129025e\", \"international_phone_number\": \"+44 20 7730 1234\", \"name\": \"Harrods\", \"opening_hours\": {\"open_now\": false, \"periods\": [{\"close\": {\"day\": 0, \"time\": \"1800\"}, \"open\": {\"day\": 0, \"time\": \"1130\"}}, {\"close\": {\"day\": 1, \"time\": \"2100\"}, \"open\": {\"day\": 1, \"time\": \"1000\"}}, {\"close\": {\"day\": 2, \"time\": \"2100\"}, \"open\": {\"day\": 2, \"time\": \"1000\"}}, {\"close\": {\"day\": 3, \"time\": \"2100\"}, \"open\": {\"day\": 3, \"time\": \"1000\"}}, {\"close\": {\"day\": 4, \"time\": \"2100\"}, \"open\": {\"day\": 4, \"time\": \"1000\"}}, {\"close\": {\"day\": 5, \"time\": \"2100\"}, \"open\": {\"day\": 5, \"time\": \"1000\"}}, {\"close\": {\"day\": 6, \"time\": \"2100\"}, \"open\": {\"day\": 6, \"time\": \"1000\"}}], \"weekday_text\": [\"Monday: 10:00 AM \\u2013 9:00 PM\", \"Tuesday: 10:00 AM \\u2013 9:00 PM\", \"Wednesday: 10:00 AM \\u2013 9:00 PM\", \"Thursday: 10:00 AM \\u2013 9:00 PM\", \"Friday: 10:00 AM \\u2013 9:00 PM\", \"Saturday: 10:00 AM \\u2013 9:00 PM\", \"Sunday: 11:30 AM \\u2013 6:00 PM\"]}, \"photos\": [{\"height\": 2268, \"html_attributions\": [\"<a href=\\\"https://maps.google.com/maps/contrib/115909634523178105124/photos\\\">Remco Tjeerdsma</a>\"], \"photo_reference\": \"CmRaAAAACFfjYvx88WDg2-0OCFTfauMqzK9q_c4kvONKyMzSXIEDW01jvQF_S_fu7AdP409egNdJX_EODL9MDihdeIEA00bXgRKVnhfsdGkdoi13jRV0XteL8IENcpCpmABZ7IFVEhAUM9hPTBDUlaWmEYYe6E9VGhQJk19obumsEHj5cty5mFKgw_xDUw\", \"width\": 4032}, {\"height\": 3000, \"html_attributions\": [\"<a href=\\\"https://maps.google.com/maps/contrib/107705947304214599017/photos\\\">Thomas B\\u00fcttner</a>\"], \"photo_reference\": \"CmRaAAAAksWYNv5a1d0JxgnMy3sJFTET7K310cBNy-nktlTvKQcfvoiNYpqMdRNDP7ib4ClVvUo0c_dV_1m8C2bnQL8lSAuTADqwgx9AJIHJtFrHL2ldzf5xarSPasnNT_H0q_IhEhDjKCRCUcL4HX4ZB8SV_InpGhT0c5H2VVMUFncbaEstMWOGoDJngQ\", \"width\": 4000}, {\"height\": 4032, \"html_attributions\": [\"<a href=\\\"https://maps.google.com/maps/contrib/101302934862084408708/photos\\\">Ahmad Bagasi</a>\"], \"photo_reference\": \"CmRaAAAA94bK-uGJ6zWtQAwZ-C1smCKmgYFyYV5k52WHyGitLR5uH03ubDlZ4hs1uvxlw7XAy6Zz65DgyRqjgvCZ7I0a8CQmnhJnW2Li0OHQiwGmPfnpdHuXkMBG4VrFeQkMlF2QEhBy3cwbSgp9rKSUpZ4UiNvPGhRmnqnaQkwqDsJwo83PhDYEqM-AuQ\", \"width\": 3024}, {\"height\": 2448, \"html_attributions\": [\"<a href=\\\"https://maps.google.com/maps/contrib/100326035528531802509/photos\\\">\\u0415\\u0432\\u0430 \\u041a\\u044a\\u0447\\u0435\\u0432\\u0430</a>\"], \"photo_reference\": \"CmRaAAAAwZ4k32ohT9piWAWfYbDgVhl2FMMqwYYi8DilblIIqfjoelJd4eij7bE8VvHlmyX3zSIacXukalLxVSqhieu8n09u4hSg-ePALLQRzng_m8rX5Xsv4MVE3IUFnEddwYWUEhDQGhPD7f5HQIuJm3CyAeO0GhTlN6Ax4q1onJBGAK-9g3mYiEnBcQ\", \"width\": 3264}, {\"height\": 3096, \"html_attributions\": [\"<a href=\\\"https://maps.google.com/maps/contrib/100284149691890855802/photos\\\">Valentina Russo</a>\"], \"photo_reference\": \"CmRaAAAAubPpjHe61or1zbFXcTAkncqMFm3HCCJV4VbTSsmGVbItqy52XZVx5aGEmInvm8FPq_zhbgrejMCR5-2PkZVvaAYCLho48yRKUQM6DFR44YMm9sCTFvRZVLFsSdt1Ug6DEhDcYJzG68CLJNmuv1-KAxc9GhTEVDAvq5_VBir9TCLE5EhKxyQAuA\", \"width\": 4128}, {\"height\": 3672, \"html_attributions\": [\"<a href=\\\"https://maps.google.com/maps/contrib/111579603785090931623/photos\\\">M K</a>\"], \"photo_reference\": \"CmRaAAAAFi79R--ElULzXM7RA9g__8FyD_U9-7a8-VLO40FAuXZn5EGktMNfGdXED2CZi3Faj6GxSHobAV2CUOss-yBzlAVK8AI9jsdildqBvsVmTVAWfTDi7qo1d5OnTlWBxPAxEhCAOX7UevUgTNhBbJEQmHQiGhT45h2DyfDZ9OvtFwM7YR7lovx8mQ\", \"width\": 4896}, {\"height\": 2160, \"html_attributions\": [\"<a href=\\\"https://maps.google.com/maps/contrib/113444237378525269342/photos\\\">Arturo Benjumeda</a>\"], \"photo_reference\": \"CmRaAAAAoD9jXsoiPN20FYn5BpzyHG_6CjcUXK3PlLGFgW4DTP1eA-9FqN44e6CdrXVzwODCrksHGJAW9cUU63KBmHrfdzg-adfbriBe2gXE0IIhCHbDfpfzO3kLVvkZE3kuP506EhC8ZjijkHMYKE_1zUvlI7OYGhTUm_2aOD-gwseZvX9PfY10c29RHA\", \"width\": 3840}, {\"height\": 2448, \"html_attributions\": [\"<a href=\\\"https://maps.google.com/maps/contrib/100326035528531802509/photos\\\">\\u0415\\u0432\\u0430 \\u041a\\u044a\\u0447\\u0435\\u0432\\u0430</a>\"], \"photo_reference\": \"CmRaAAAAsmfAfb6mTLXmUYwMj9cCw2gfIlwIUrNEff4Txc2C_uAaRS1QZPqvQObPs70wjKQwBloNeijfNI2ZSotogc_XMfeUyLnzmagrrj8xAJhhUzR3zKK84_09VuKYONJrH3UWEhDbsgL766sGM3TgAY0UqnSYGhTk6NlDy5mnfGZrjrUdLs3tuwtFuA\", \"width\": 3264}, {\"height\": 2853, \"html_attributions\": [\"<a href=\\\"https://maps.google.com/maps/contrib/110092641064983668667/photos\\\">Laurent Stig</a>\"], \"photo_reference\": \"CmRaAAAAGW9Ay-8OPnYf7097qqOmb9TQt_8eubxm0MsHJ83F78yTWIp_EJDHiZYWE9tK7xKw5dPz7B-wbJ73ZZMD0TGFI-Q56cU_lzhmUk6tnmrqsu1vCssfkzAHNDMRTfYdApAIEhDZs-ytdjl1O-g-yqiIqOIXGhTjV1KVm-Nwuh48MuXUMHvxmDBXnA\", \"width\": 4280}, {\"height\": 3024, \"html_attributions\": [\"<a href=\\\"https://maps.google.com/maps/contrib/113336540782142599059/photos\\\">francine delfieu</a>\"], \"photo_reference\": \"CmRaAAAAm5J00FEC7_fyH0Zy64787he6eU3LdravJWVPP0COc4t7Q9mOncRKMTXlxNc0XvQhRX4TGMKHH1-1JjsaTd_vtqyujJNwo9IO436oupEXGoQYOUqZeCwMmb25dRctyxKZEhDP1iu4yWhPtFIhRw3cUjWQGhRVw2R1j2Wtj0ZbA11qoilWKoobMA\", \"width\": 4032}], \"place_id\": \"ChIJ_zAq7TgFdkgRQg1OSw1j7hU\", \"rating\": 4.4, \"reference\": \"CmRRAAAAdmsHh56m10BtzQOQo-2xopEaOoy4mrD-TeIfL6BQML2Ey_LsGnTkh5DHjZ-6HnOLQXs0WASn5ZgLH22nVXGG7g3mfAbmdSgoUORFJ7iNICQABzv5FcnBBOL6_-Yao24LEhBp55ncWW5nPu9KgEjm7vRMGhSXVov6c8p-9ug3dSIySABcPnNftA\", \"reviews\": [{\"author_name\": \"Grace Nathan\", \"author_url\": \"https://www.google.com/maps/contrib/111501265171935067550/reviews\", \"language\": \"en\", \"profile_photo_url\": \"https://lh3.googleusercontent.com/-WKn-SHwgmfU/AAAAAAAAAAI/AAAAAAAAN8c/mjVUSVSdDBQ/s128-c0x00000000-cc-rp-mo-ba3/photo.jpg\", \"rating\": 4, \"relative_time_description\": \"a week ago\", \"text\": \"If you are comparing Harrows with Harvey Nicks...  Then Harrods wins hands down every time for several reasons :\\n1. Staff are polite and happy, 2: there is a sense of unity within the whole shop 3: the decor   like the Egyptian escalators and the boarding school trunk style lifts are impressive 4: the brand is inclusive,  but still maintains the luxury.  In the evening and at Christmas it is pretty with the lights!\", \"time\": 1521154330}, {\"author_name\": \"Deepak Jaisingh\", \"author_url\": \"https://www.google.com/maps/contrib/111772724745834466078/reviews\", \"language\": \"en\", \"profile_photo_url\": \"https://lh6.googleusercontent.com/-QnZJ0iU5bd4/AAAAAAAAAAI/AAAAAAAAAAA/AGi4gfw7KSy9MU7CLazEgamZ0yW4eN4Hvg/s128-c0x00000000-cc-rp-mo-ba6/photo.jpg\", \"rating\": 5, \"relative_time_description\": \"in the last week\", \"text\": \"Harrods is a luxurious and high end Mall in London UK. All the top brands of the world of apparels you will get here. The ambience is great, the quality of material is the best, so the pricing is also expensive. The staff here are well trained to help you, they do not disturb you, when you are looking around, but, when you want to ask something they appear immediately and help you. The food Mall is also good.\", \"time\": 1521542466}, {\"author_name\": \"Gustave Denham II\", \"author_url\": \"https://www.google.com/maps/contrib/102287541925632001979/reviews\", \"language\": \"en\", \"profile_photo_url\": \"https://lh6.googleusercontent.com/-QbfiZQD25pg/AAAAAAAAAAI/AAAAAAAAAH8/1e65cUVDuF8/s128-c0x00000000-cc-rp-mo/photo.jpg\", \"rating\": 5, \"relative_time_description\": \"in the last week\", \"text\": \"Harrods is like walking through a capitalistic dream world. The downstairs food section is best to see on a full stomach, everything looks so delicious. Went to the Tea Room for lunch. The Full Tea was delicious and a fun treat. The Shepard's Pie was equally as delicious. You could spend a massive amount of time in Harrods and a massive amount of money. If you have kids they have a toy department they will flip out over.\", \"time\": 1521915839}, {\"author_name\": \"Maria Gonzalez\", \"author_url\": \"https://www.google.com/maps/contrib/113801323435660851444/reviews\", \"language\": \"en\", \"profile_photo_url\": \"https://lh3.googleusercontent.com/-A8egjyxj1iM/AAAAAAAAAAI/AAAAAAAAERc/kUftWOA4iCA/s128-c0x00000000-cc-rp-mo-ba4/photo.jpg\", \"rating\": 5, \"relative_time_description\": \"a month ago\", \"text\": \"Of course the place is spectacular that's not discussed. The setting, the details, the art...everything in Harrods is ideal, not for nothing is an icon to visit in London.\\nHowever, human warmth is one of the most significant points in the population of London and in England in general.\\nIn my opinion, give this man a medal. I found him helping a woman with her luggage, as if he were her father, I asked him if we could take a picture together and he accept, joyful as a child. One of the first Londoners I met on my trip and I will never forget...\", \"time\": 1517356908}, {\"author_name\": \"Mariana De' Carli\", \"author_url\": \"https://www.google.com/maps/contrib/105922421564925490407/reviews\", \"language\": \"en\", \"profile_photo_url\": \"https://lh6.googleusercontent.com/-DwKUitesGOM/AAAAAAAAAAI/AAAAAAAA_YQ/zKMmghMKQ_E/s128-c0x00000000-cc-rp-mo-ba3/photo.jpg\", \"rating\": 4, \"relative_time_description\": \"2 weeks ago\", \"text\": \"Harrods was always a part of my trips to London. It has changed tremendously under the new leadership but remains a must-see for fashion and lifestyle shoppers. I miss 'classic' Harrods with the Egyptian escalators  and pizzeria in the ground floor. The new layout feels a bit cold, but nevertheless it has great dinning and retail. I'm partial to their Christmas menu, which is our family tradition.\", \"time\": 1520798254}], \"scope\": \"GOOGLE\", \"types\": [\"department_store\", \"store\", \"point_of_interest\", \"establishment\"], \"url\": \"https://maps.google.com/?cid=1580309428002753858\", \"utc_offset\": 60, \"vicinity\": \"87-135 Brompton Road, London\", \"website\": \"http://www.harrods.com/\"}, \"status\": \"OK\"}))\n",
       "        });\n",
       "        "
      ]
     },
     "metadata": {},
     "output_type": "display_data"
    }
   ],
   "source": [
    "harrods_detail = place_search(\"ChIJ_zAq7TgFdkgRQg1OSw1j7hU\")\n",
    "RenderJSON(harrods_detail)"
   ]
  },
  {
   "cell_type": "code",
   "execution_count": 274,
   "metadata": {
    "slideshow": {
     "slide_type": "fragment"
    }
   },
   "outputs": [
    {
     "data": {
      "text/plain": [
       "'http://www.harrods.com/'"
      ]
     },
     "execution_count": 274,
     "metadata": {},
     "output_type": "execute_result"
    }
   ],
   "source": [
    "# Capturing the website\n",
    "harrods_detail['result']['website']"
   ]
  }
 ],
 "metadata": {
  "celltoolbar": "Slideshow",
  "kernelspec": {
   "display_name": "Python 3",
   "language": "python",
   "name": "python3"
  },
  "language_info": {
   "codemirror_mode": {
    "name": "ipython",
    "version": 3
   },
   "file_extension": ".py",
   "mimetype": "text/x-python",
   "name": "python",
   "nbconvert_exporter": "python",
   "pygments_lexer": "ipython3",
   "version": "3.6.4"
  },
  "livereveal": {
   "backimage": "slide-background.jpg",
   "scroll": true,
   "theme": "serif",
   "transition": "zoom"
  },
  "toc": {
   "nav_menu": {},
   "number_sections": true,
   "sideBar": true,
   "skip_h1_title": false,
   "title_cell": "Table of Contents",
   "title_sidebar": "Contents",
   "toc_cell": false,
   "toc_position": {},
   "toc_section_display": true,
   "toc_window_display": false
  }
 },
 "nbformat": 4,
 "nbformat_minor": 2
}
